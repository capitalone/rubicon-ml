{
 "cells": [
  {
   "attachments": {},
   "cell_type": "markdown",
   "metadata": {},
   "source": [
    "# Rubicon Integration in AVAL pipeline"
   ]
  },
  {
   "attachments": {},
   "cell_type": "markdown",
   "metadata": {},
   "source": [
    "## Stage 1 - Callback reference\n",
    "- Inside each component (`RFE` and `Bayesian Search`), import the respective callback classes from `mltrain.callbacks.rubicon` module\n",
    "- Right before calling the `fit` function, as the Callback classes have currently been written inside of `mltrain`, we need to instantiate a `Rubicon` object\n",
    "- From the `Rubicon` object, either create or find a new project and assign the global varibale inside the Callback class: `RubiconCallbackClassName.project`\n",
    "- We repeat this for any `experiment` tags that need to be attached to the current run of the `Bayesian search` or the `RFE` \n",
    "- Note: This current implrenetation may not be the final as this is a workaround based on the way `mltrain` Callbacks are structured"
   ]
  },
  {
   "cell_type": "code",
   "execution_count": null,
   "metadata": {},
   "outputs": [],
   "source": [
    "from rubicon_ml import Rubicon\n",
    "from mltrain.callbacks.rubicon_ml.optuna import RubiconOptunaCallback\n",
    "from mltrain.callbacks.rubicon_ml.RFE import RubiconRFECallback\n",
    "import secrets\n",
    "\n",
    "\n",
    "rubicon = Rubicon(persistence=\"filesystem\")\n",
    "project =  rubicon.get_or_create_project(\"Pipeline-Run-Persistance\")\n",
    "RubiconOptunaCallback.project = project \n",
    "identifier = secrets.token_hex(15)\n",
    "RubiconOptunaCallback.experiment_tags = [identifier]\n"
   ]
  },
  {
   "attachments": {},
   "cell_type": "markdown",
   "metadata": {},
   "source": [
    "## Stage 2 - Rubicon Project and Tags\n",
    "- Inside the component function, after creating the `RFE` and the `mlOptunaCV` object, pass the imported callback function as a parameter of the `fit` function. The example uses the `Optuna` object"
   ]
  },
  {
   "cell_type": "code",
   "execution_count": null,
   "metadata": {},
   "outputs": [],
   "source": [
    "\n",
    "bgs = mlOptunaCV(\n",
    "        estimator=model_class,\n",
    "        param_space=config['grid_search'][\"bayesian_grid_search\"]['param_space'],\n",
    "        sampler=TPESampler(),\n",
    "        n_trials=config['grid_search'][\"bayesian_grid_search\"]['n_trials'],\n",
    "        scoring=scorer_mapper(config[\"scorer\"]),\n",
    "        callbacks=[BGSCallback,RubiconOptunaCallback],\n",
    "        cv=[(train_idx, test_idx)]\n",
    "    )\n"
   ]
  },
  {
   "attachments": {},
   "cell_type": "markdown",
   "metadata": {},
   "source": [
    "## Stage 3 - Local Data Retrieval in Components\n",
    "- At this stage, the Rubicon project has been populated with the current iteration of `experiments` \n",
    "- We can retrieve the project after the `fit` function has finished processing\n",
    "- We can test this out by listing `RubiconCallBackClass.project.experiments` or by launching the `Dashboard`\n"
   ]
  },
  {
   "cell_type": "code",
   "execution_count": null,
   "metadata": {},
   "outputs": [],
   "source": [
    "from rubicon_ml.viz.dashboard import Dashboard\n",
    "RubiconOptunaCallback.project.experiments()\n",
    "default_dashbaord = Dashboard(experiments=RubiconOptunaCallback.experiments())\n",
    "default_dashbaord.show()"
   ]
  },
  {
   "attachments": {},
   "cell_type": "markdown",
   "metadata": {},
   "source": [
    "## Stage 4 Retrieval in other components \n",
    "-  This stage of the process is extremely important as it is one of the main use for integrating `Rubicon` workflow. In order to retrieve projects for later use in different components, there are two potential options. \n",
    "- The first option is retrieval of the `Rubicon.project` object inside different components which contains an entry point to the project and all experiments that are tracked within the project. This would be local and we would be passing the project back and forth between components to add experiments to it in the next stage\n",
    "- The second method is to create a new `Rubicon` object in each component while leveraging the intermediary file system that would need to be set up in the first component that creates projects. Most likely this creation step would be done in the `Data Prep` component or something similar. This way, we can seamlessly access the file system in any component to retrieve `Rubicon` projects and their experiments. "
   ]
  },
  {
   "cell_type": "code",
   "execution_count": null,
   "metadata": {},
   "outputs": [],
   "source": [
    "#Method 1\n",
    "#Inside Bayesian Search Stage\n",
    "\n",
    "#For purposes of notebook return_tuple represents the ``return`` keyword\n",
    "return_tuple = (grid_search_result(config, metadata), RubiconOptunaCallback.project)\n",
    "\n",
    "#Inside Model Fit Stage\n",
    "project = RubiconOptunaCallback.project\n",
    "default_dashbaord = Dashboard(experiments=RubiconOptunaCallback.experiments())\n",
    "default_dashbaord.show()\n",
    "\n",
    "#Method 2\n",
    "#Inside Bayesian Search Stage\n",
    "\n",
    "rubicon = Rubicon(persistence=\"filesystem\")\n",
    "project =  rubicon.get_or_create_project(\"Pipeline-Run-Persistance\")\n",
    "for experiment in RubiconOptunaCallback.experiments():\n",
    "    project.log_experiment(experiment)\n",
    "\n",
    "#Inside Model Fit Stage\n",
    "project =  rubicon.get_or_create_project(\"Pipeline-Run-Persistance\")\n",
    "default_dashbaord = Dashboard(experiments=RubiconOptunaCallback.experiments())\n",
    "default_dashbaord.show()\n",
    "\n",
    "    "
   ]
  },
  {
   "attachments": {},
   "cell_type": "markdown",
   "metadata": {},
   "source": [
    "## Stage 5 - Data peristence and Next steps \n",
    "- This stage is the most important stage as it has the most nuance. We first need to determine what kind of persistence we want the `Rubicon` project / experiments to endure. \n",
    "- The two most common types that are currently being utilized within `Rubicon` are Fileystem petrsistence and `S3` persistence. Each comes with a slightly differnet approach.\n",
    "- The Filesystem approach needs a way to create a file system on the selected `PVC` to mount.\n",
    "- We can do this by leverageing `initContainer` inside the podspec and create a directory where `Rubicon` projects live inside using `mkdir -p`\n",
    "- The next way to persist data is via `S3`. This is more simple in a sense as we can potentially try to connect to the buckets directly via `Rubicon's` integration with S3 within the component itself. Although there is a room for adjustment as we have to take into consideration the use of this `Rubicon` data in other components, implying that sending data to `S3` from one component just to recieve it from the next component would be inefficient. "
   ]
  },
  {
   "cell_type": "code",
   "execution_count": null,
   "metadata": {},
   "outputs": [],
   "source": [
    "\n",
    "#Method 1\n",
    "#This method with the PVC mount needs more research with the kubernetes API\n",
    "\n",
    "\n",
    "#Method 2\n",
    "from rubicon_ml import publish\n",
    "\n",
    "catalog = publish(\n",
    "    project.experiments(tags=[RubiconOptunaCallback.experiment_tags]),\n",
    "    output_filepath=\"./pipeline_persisence_catalog.yml\",\n",
    ")\n",
    "\n",
    "#From here we can push catalog to S3 using standard methods"
   ]
  }
 ],
 "metadata": {
  "kernelspec": {
   "display_name": "Python 3",
   "language": "python",
   "name": "python3"
  },
  "language_info": {
   "name": "python",
   "version": "3.9.13 (main, Sep  7 2022, 14:01:48) \n[Clang 13.0.0 (clang-1300.0.29.30)]"
  },
  "orig_nbformat": 4,
  "vscode": {
   "interpreter": {
    "hash": "25b1e4c5b858c72efcaa777acfbbe2a6a9238d41ae968ff19668f7de97f00b4c"
   }
  }
 },
 "nbformat": 4,
 "nbformat_minor": 2
}
