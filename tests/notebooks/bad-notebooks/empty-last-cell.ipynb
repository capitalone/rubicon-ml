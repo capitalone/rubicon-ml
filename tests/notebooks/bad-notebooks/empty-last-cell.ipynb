{
 "cells": [
  {
   "cell_type": "markdown",
   "id": "fc188ad7-e6ab-4fc5-9f72-c4b1a6d7e0f9",
   "metadata": {},
   "source": [
    "# empty last cell"
   ]
  },
  {
   "cell_type": "code",
   "execution_count": 1,
   "id": "679a39b9-e5a9-43df-9735-a6f1a2c0042f",
   "metadata": {},
   "outputs": [],
   "source": [
    "x = 1"
   ]
  },
  {
   "cell_type": "code",
   "execution_count": 2,
   "id": "d6ae0ef9-e8df-4a69-ae0c-0cac437f838a",
   "metadata": {},
   "outputs": [],
   "source": [
    "y = 2"
   ]
  },
  {
   "cell_type": "code",
   "execution_count": 3,
   "id": "2a56b327-f9c6-44e1-b990-90834d8d3a42",
   "metadata": {},
   "outputs": [],
   "source": [
    "z = 3"
   ]
  },
  {
   "cell_type": "code",
   "execution_count": null,
   "id": "dd889bee-85a2-45c8-a229-7d87f281c0e9",
   "metadata": {},
   "outputs": [],
   "source": []
  }
 ],
 "metadata": {
  "kernelspec": {
   "display_name": "Python 3",
   "language": "python",
   "name": "python3"
  },
  "language_info": {
   "codemirror_mode": {
    "name": "ipython",
    "version": 3
   },
   "file_extension": ".py",
   "mimetype": "text/x-python",
   "name": "python",
   "nbconvert_exporter": "python",
   "pygments_lexer": "ipython3",
   "version": "3.9.2"
  }
 },
 "nbformat": 4,
 "nbformat_minor": 5
}
