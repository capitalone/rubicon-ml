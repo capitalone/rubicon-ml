{
 "cells": [
  {
   "cell_type": "markdown",
   "id": "be73970a-b840-415f-a6b2-a49bc5eb6b92",
   "metadata": {},
   "source": [
    "# not executed in order"
   ]
  },
  {
   "cell_type": "code",
   "execution_count": 1,
   "id": "e4057c31-d586-41b7-b93f-babdde7ae44d",
   "metadata": {},
   "outputs": [],
   "source": [
    "x = 1"
   ]
  },
  {
   "cell_type": "code",
   "execution_count": 3,
   "id": "f29706e7-5661-41f4-8e5c-2cc80f5556a0",
   "metadata": {},
   "outputs": [],
   "source": [
    "y = 2"
   ]
  },
  {
   "cell_type": "code",
   "execution_count": 2,
   "id": "aa041b4c-bc51-4af2-9edf-53d454e58c63",
   "metadata": {},
   "outputs": [],
   "source": [
    "z = 3"
   ]
  }
 ],
 "metadata": {
  "kernelspec": {
   "display_name": "Python 3",
   "language": "python",
   "name": "python3"
  },
  "language_info": {
   "codemirror_mode": {
    "name": "ipython",
    "version": 3
   },
   "file_extension": ".py",
   "mimetype": "text/x-python",
   "name": "python",
   "nbconvert_exporter": "python",
   "pygments_lexer": "ipython3",
   "version": "3.9.2"
  }
 },
 "nbformat": 4,
 "nbformat_minor": 5
}
