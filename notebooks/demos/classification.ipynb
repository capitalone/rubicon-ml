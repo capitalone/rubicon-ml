{
 "cells": [
  {
   "cell_type": "markdown",
   "id": "afee719a-8aef-45cd-9ede-d8afaaa2641e",
   "metadata": {},
   "source": [
    "# data prep"
   ]
  },
  {
   "cell_type": "code",
   "execution_count": null,
   "id": "0f601daf-09a3-43e3-a234-4bb90fe95974",
   "metadata": {},
   "outputs": [],
   "source": [
    "! pip install palmerpenguins"
   ]
  },
  {
   "cell_type": "code",
   "execution_count": null,
   "id": "b842175c-3949-48ef-b1e3-bb0cdd35fafc",
   "metadata": {},
   "outputs": [],
   "source": [
    "from palmerpenguins import load_penguins\n",
    "\n",
    "penguins_df = load_penguins()\n",
    "penguins_df.head()"
   ]
  },
  {
   "cell_type": "code",
   "execution_count": null,
   "id": "8d5841f3-add3-495d-a68f-2035df60335c",
   "metadata": {},
   "outputs": [],
   "source": [
    "import plotly.express as px\n",
    "\n",
    "px.scatter(penguins_df, x=\"flipper_length_mm\", y=\"bill_length_mm\", color=\"species\")"
   ]
  },
  {
   "cell_type": "code",
   "execution_count": null,
   "id": "83c9cae9-8746-43ab-80b4-70b625dd0340",
   "metadata": {},
   "outputs": [],
   "source": [
    "from sklearn.preprocessing import LabelEncoder\n",
    "\n",
    "penguin_encoder = LabelEncoder()\n",
    "\n",
    "for column in [\"species\", \"island\", \"sex\"]:\n",
    "    penguins_df[column] = penguin_encoder.fit_transform(penguins_df[column])\n",
    "\n",
    "penguins_df.head()"
   ]
  },
  {
   "cell_type": "markdown",
   "id": "d548ce66-41d6-41ab-9f04-a10c7e3a8a3e",
   "metadata": {},
   "source": [
    "# pipeline setup"
   ]
  },
  {
   "cell_type": "code",
   "execution_count": null,
   "id": "0559e9ec-bf60-43b0-9fd3-1ef2adea24e6",
   "metadata": {},
   "outputs": [],
   "source": [
    "from sklearn.model_selection import train_test_split\n",
    "\n",
    "train_penguins_df, test_penguins_df = train_test_split(penguins_df, test_size=.30)\n",
    "\n",
    "target_column = \"species\"\n",
    "feature_columns = [c for c in train_penguins_df.columns if c != target_column]\n",
    "\n",
    "X_train, y_train = train_penguins_df[feature_columns], train_penguins_df[target_column]\n",
    "X_test, y_test = test_penguins_df[feature_columns], test_penguins_df[target_column]\n",
    "\n",
    "X_train.shape, y_train.shape, X_test.shape, y_test.shape"
   ]
  },
  {
   "cell_type": "code",
   "execution_count": null,
   "id": "85ac590f-47f4-4f72-b323-a7edf7bfe0a3",
   "metadata": {},
   "outputs": [],
   "source": [
    "from sklearn.impute import SimpleImputer\n",
    "from sklearn.neighbors import KNeighborsClassifier\n",
    "from sklearn.pipeline import Pipeline\n",
    "\n",
    "steps = [\n",
    "    (\"si\", SimpleImputer(strategy=\"mean\")),\n",
    "    (\"kn\", KNeighborsClassifier(n_neighbors=5)),\n",
    "]\n",
    "\n",
    "penguin_pipeline = Pipeline(steps=steps)\n",
    "penguin_pipeline.fit(X_train, y_train)\n",
    "\n",
    "score = penguin_pipeline.score(X_test, y_test)\n",
    "score"
   ]
  },
  {
   "cell_type": "markdown",
   "id": "2baaca03-0d6b-45e7-8f07-1a310c8ba95e",
   "metadata": {},
   "source": [
    "# add rubicon-ml manually"
   ]
  },
  {
   "cell_type": "code",
   "execution_count": null,
   "id": "0b159dd1-598e-405c-9ea7-a5e8b36c07d4",
   "metadata": {},
   "outputs": [],
   "source": [
    "from rubicon_ml import Rubicon\n",
    "\n",
    "rubicon = Rubicon(\n",
    "    persistence=\"filesystem\",\n",
    "    root_dir=\"./rubicon-root\",\n",
    "    auto_git_enabled=True,\n",
    ")\n",
    "project = rubicon.get_or_create_project(name=\"demo\")\n",
    "\n",
    "experiment = project.log_experiment(name=\"classifying penguins\")\n",
    "parameter_strategy = experiment.log_parameter(name=\"strategy\", value=\"mean\")\n",
    "parameter_n_neighbors = experiment.log_parameter(name=\"n_neighbors\", value=5)\n",
    "metric_accuracy = experiment.log_metric(name=\"accuracy\", value=score)"
   ]
  },
  {
   "cell_type": "code",
   "execution_count": null,
   "id": "1026126c-f680-4610-914f-cdeff9f1f9f0",
   "metadata": {},
   "outputs": [],
   "source": [
    "print(experiment)\n",
    "print()\n",
    "print([(p.name, p.value) for p in experiment.parameters()])\n",
    "print([(m.name, m.value) for m in experiment.metrics()])"
   ]
  },
  {
   "cell_type": "markdown",
   "id": "196d5b3c-c603-4f37-8c4d-7148f333b0f9",
   "metadata": {},
   "source": [
    "# again with RubiconPipeline"
   ]
  },
  {
   "cell_type": "code",
   "execution_count": null,
   "id": "442e9ac4-b9c0-4c55-ae9e-8f58028670d4",
   "metadata": {},
   "outputs": [],
   "source": [
    "from rubicon_ml.sklearn import RubiconPipeline\n",
    "\n",
    "rubicon_penguin_pipeline = RubiconPipeline(\n",
    "    project=project,\n",
    "    experiment_kwargs={\"name\": \"KNeighborsClassifier\", \"tags\": [\"knn\"]},\n",
    "    steps=steps,\n",
    ")\n",
    "rubicon_penguin_pipeline.fit(X_train, y_train)\n",
    "\n",
    "pipeline_experiment = rubicon_penguin_pipeline.experiment\n",
    "\n",
    "rubicon_penguin_pipeline.score(X_test, y_test)"
   ]
  },
  {
   "cell_type": "code",
   "execution_count": null,
   "id": "17b1eee2-f7bc-498f-b751-4daf9baf48fe",
   "metadata": {},
   "outputs": [],
   "source": [
    "print(pipeline_experiment)\n",
    "print()\n",
    "print([(p.name, p.value) for p in pipeline_experiment.parameters()])\n",
    "print([(m.name, m.value) for m in pipeline_experiment.metrics()])"
   ]
  },
  {
   "cell_type": "markdown",
   "id": "e85ac407-5b30-4bd3-a43a-11c944383c46",
   "metadata": {},
   "source": [
    "# grid search"
   ]
  },
  {
   "cell_type": "code",
   "execution_count": null,
   "id": "173fad54-1e4f-4d2d-9b7a-3bd773610e9d",
   "metadata": {},
   "outputs": [],
   "source": [
    "from sklearn.model_selection import GridSearchCV\n",
    "\n",
    "parameters = {\n",
    "    \"si__strategy\": [\"mean\", \"median\", \"most_frequent\"],\n",
    "    \"kn__n_neighbors\": [2, 4, 8, 16, 32, 64],\n",
    "}\n",
    "\n",
    "grid_search_project = rubicon.get_or_create_project(name=\"grid search demo\")\n",
    "rubicon_penguin_pipeline.project = grid_search_project\n",
    "\n",
    "grid_search = GridSearchCV(\n",
    "    rubicon_penguin_pipeline,\n",
    "    cv=2,\n",
    "    param_grid=parameters,\n",
    "    refit=False,\n",
    "    verbose=True,\n",
    ")\n",
    "\n",
    "grid_search.fit(X_train, y_train)\n",
    "grid_search_project.experiments()"
   ]
  },
  {
   "cell_type": "markdown",
   "id": "a64a7b5d-e664-459e-ab52-3f94751aa30d",
   "metadata": {},
   "source": [
    "# visualizations"
   ]
  },
  {
   "cell_type": "code",
   "execution_count": null,
   "id": "e265634c-7b69-4c3e-9b97-1b0e75c7c9e9",
   "metadata": {},
   "outputs": [],
   "source": [
    "from rubicon_ml.viz import ExperimentsTable\n",
    "\n",
    "ExperimentsTable(experiments=grid_search_project.experiments()).show()"
   ]
  },
  {
   "cell_type": "markdown",
   "id": "37001890-5769-4733-b010-a1130fbaa24f",
   "metadata": {},
   "source": [
    "you can also publish programmatically...\n",
    "\n",
    "```python\n",
    "from rubicon_ml import publish\n",
    "\n",
    "publish(my_experiment, output_path)\n",
    "```"
   ]
  },
  {
   "cell_type": "markdown",
   "id": "fc1590b0-ae8f-4a97-8a96-50645eea99e0",
   "metadata": {},
   "source": [
    "# sharing"
   ]
  },
  {
   "cell_type": "code",
   "execution_count": null,
   "id": "db0170f6-fb28-4ea3-9e04-9fb0eada6c3b",
   "metadata": {},
   "outputs": [],
   "source": [
    "import intake\n",
    "\n",
    "catalog = intake.open_catalog(\"./rubicon-ml-catalog.yml\")\n",
    "\n",
    "for source in catalog:\n",
    "    catalog[source].discover()\n",
    "    \n",
    "shared_experiments = [catalog[source].read() for source in catalog]\n",
    "\n",
    "[(e.id, e.metric(name=\"score\").value) for e in shared_experiments]"
   ]
  },
  {
   "cell_type": "markdown",
   "id": "56fae9c9-6df0-4590-b3a6-7f28fb97620c",
   "metadata": {},
   "source": [
    "# trying a new model"
   ]
  },
  {
   "cell_type": "code",
   "execution_count": null,
   "id": "57898299-aaed-4a3b-9e94-ce8d6569fed1",
   "metadata": {},
   "outputs": [],
   "source": [
    "from sklearn.ensemble import RandomForestClassifier\n",
    "\n",
    "new_steps = [\n",
    "    (\"si\", SimpleImputer(strategy=\"mean\")),\n",
    "    (\"rf\", RandomForestClassifier(n_estimators=100)),\n",
    "]\n",
    "\n",
    "new_rubicon = Rubicon(\n",
    "    persistence=\"filesystem\",\n",
    "    root_dir=\"./new-rubicon-root\",\n",
    "    auto_git_enabled=True,\n",
    ")\n",
    "new_project = new_rubicon.get_or_create_project(name=\"demo\")\n",
    "\n",
    "new_pipeline = RubiconPipeline(\n",
    "    project=new_project,\n",
    "    experiment_kwargs={\"name\": \"RandomForestClassifier\", \"tags\": [\"rf\"]},\n",
    "    steps=new_steps,\n",
    ")\n",
    "\n",
    "new_parameters = {\n",
    "    \"si__strategy\": [\"mean\", \"median\", \"most_frequent\"],\n",
    "    \"rf__n_estimators\": [25, 50, 100, 200, 400],\n",
    "}\n",
    "\n",
    "new_grid_search = GridSearchCV(\n",
    "    new_pipeline,\n",
    "    cv=2,\n",
    "    param_grid=new_parameters,\n",
    "    refit=False,\n",
    ")\n",
    "\n",
    "new_grid_search.fit(X_train, y_train)"
   ]
  },
  {
   "cell_type": "code",
   "execution_count": null,
   "id": "46e9fe23-dbbd-43d1-ac16-781dfd9d96fa",
   "metadata": {},
   "outputs": [],
   "source": [
    "from rubicon_ml.viz import MetricCorrelationPlot\n",
    "\n",
    "MetricCorrelationPlot(\n",
    "    experiments=new_project.experiments(),\n",
    "    parameter_names=[\"si__strategy\", \"rf__n_estimators\"],\n",
    ").show()"
   ]
  },
  {
   "cell_type": "code",
   "execution_count": null,
   "id": "69e1919b-34bc-4559-9be0-d9071f37a4f4",
   "metadata": {},
   "outputs": [],
   "source": [
    "from rubicon_ml import publish\n",
    "\n",
    "combined_catalog = publish(\n",
    "    shared_experiments + new_project.experiments(),\n",
    "    \"./combined-catalog.yml\",\n",
    ")"
   ]
  },
  {
   "cell_type": "markdown",
   "id": "aae9dc80-593f-42b3-9fe2-a52e5529d7b2",
   "metadata": {},
   "source": [
    "# custom estimators and loggers"
   ]
  },
  {
   "cell_type": "code",
   "execution_count": null,
   "id": "47d3e50c-357f-441e-9725-989818defc88",
   "metadata": {},
   "outputs": [],
   "source": [
    "from sklearn.base import BaseEstimator\n",
    "\n",
    "class ComboEstimator(BaseEstimator):\n",
    "    def __init__(self, n_neighbors=2, n_estimators=25):\n",
    "        super().__init__()\n",
    "        \n",
    "        self.n_neighbors = n_neighbors\n",
    "        self.n_estimators = n_estimators\n",
    "        \n",
    "        self.knn = KNeighborsClassifier(n_neighbors)\n",
    "        self.rf = RandomForestClassifier(n_estimators)\n",
    "        \n",
    "    def fit(self, X, y):\n",
    "        self.knn.fit(X, y)\n",
    "        self.rf.fit(X, y)\n",
    "        \n",
    "    def score(self, X):\n",
    "        knn_score = self.knn.score(X)\n",
    "        rf_score = self.rf.score(X)\n",
    "        \n",
    "        return (knn_score + (rf_score * 2)) / 3"
   ]
  },
  {
   "cell_type": "code",
   "execution_count": null,
   "id": "209d9523-9ba1-4da4-af15-21b75f779f27",
   "metadata": {},
   "outputs": [],
   "source": [
    "import pickle\n",
    "\n",
    "from rubicon_ml.sklearn.estimator_logger import EstimatorLogger\n",
    "\n",
    "class ModelLogger(EstimatorLogger):\n",
    "    def log_parameters(self):\n",
    "        super().log_parameters()\n",
    "        \n",
    "        self.experiment.log_artifact(data_bytes=pickle.dumps(self.estimator.knn), name=\"knn\")\n",
    "        self.experiment.log_artifact(data_bytes=pickle.dumps(self.estimator.rf), name=\"rf\")"
   ]
  },
  {
   "cell_type": "code",
   "execution_count": null,
   "id": "b0e13c24-1d8c-434c-8e36-3bcacf1bb15a",
   "metadata": {},
   "outputs": [],
   "source": [
    "from rubicon_ml.sklearn import make_pipeline\n",
    "\n",
    "make_pipeline_steps = [\n",
    "    SimpleImputer(strategy=\"mean\"),\n",
    "    (ComboEstimator(n_neighbors=16, n_estimators=100), ModelLogger()),\n",
    "]\n",
    "\n",
    "another_pipeline = make_pipeline(new_project, *make_pipeline_steps)\n",
    "another_pipeline.fit(X_train, y_train)\n",
    "\n",
    "[(a.name, a) for a in another_pipeline.experiment.artifacts()]"
   ]
  },
  {
   "cell_type": "code",
   "execution_count": null,
   "id": "86828551-b034-4212-964c-86b2aedd6512",
   "metadata": {},
   "outputs": [],
   "source": [
    "pickle.loads(another_pipeline.experiment.artifacts()[0].data)"
   ]
  }
 ],
 "metadata": {
  "kernelspec": {
   "display_name": "Python 3 (ipykernel)",
   "language": "python",
   "name": "python3"
  },
  "language_info": {
   "codemirror_mode": {
    "name": "ipython",
    "version": 3
   },
   "file_extension": ".py",
   "mimetype": "text/x-python",
   "name": "python",
   "nbconvert_exporter": "python",
   "pygments_lexer": "ipython3",
   "version": "3.10.2"
  }
 },
 "nbformat": 4,
 "nbformat_minor": 5
}
