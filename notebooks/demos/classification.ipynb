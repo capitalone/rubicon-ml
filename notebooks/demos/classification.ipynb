{
 "cells": [
  {
   "cell_type": "markdown",
   "id": "afee719a-8aef-45cd-9ede-d8afaaa2641e",
   "metadata": {},
   "source": [
    "# data prep"
   ]
  },
  {
   "cell_type": "code",
   "execution_count": null,
   "id": "0f601daf-09a3-43e3-a234-4bb90fe95974",
   "metadata": {},
   "outputs": [],
   "source": [
    "! pip install palmerpenguins"
   ]
  },
  {
   "cell_type": "code",
   "execution_count": null,
   "id": "b842175c-3949-48ef-b1e3-bb0cdd35fafc",
   "metadata": {},
   "outputs": [],
   "source": [
    "from palmerpenguins import load_penguins\n",
    "\n",
    "penguins_df = load_penguins()\n",
    "penguins_df.head()"
   ]
  },
  {
   "cell_type": "code",
   "execution_count": null,
   "id": "8d5841f3-add3-495d-a68f-2035df60335c",
   "metadata": {},
   "outputs": [],
   "source": [
    "import plotly.express as px\n",
    "\n",
    "px.scatter(penguins_df, x=\"flipper_length_mm\", y=\"bill_length_mm\", color=\"species\")"
   ]
  },
  {
   "cell_type": "code",
   "execution_count": null,
   "id": "83c9cae9-8746-43ab-80b4-70b625dd0340",
   "metadata": {},
   "outputs": [],
   "source": [
    "from sklearn.preprocessing import LabelEncoder\n",
    "\n",
    "penguin_encoder = LabelEncoder()\n",
    "\n",
    "for column in [\"species\", \"island\", \"sex\"]:\n",
    "    penguins_df[column] = penguin_encoder.fit_transform(penguins_df[column])\n",
    "\n",
    "penguins_df.head()"
   ]
  },
  {
   "cell_type": "markdown",
   "id": "d548ce66-41d6-41ab-9f04-a10c7e3a8a3e",
   "metadata": {},
   "source": [
    "# pipeline setup"
   ]
  },
  {
   "cell_type": "code",
   "execution_count": null,
   "id": "0559e9ec-bf60-43b0-9fd3-1ef2adea24e6",
   "metadata": {},
   "outputs": [],
   "source": [
    "from sklearn.model_selection import train_test_split\n",
    "\n",
    "train_penguins_df, test_penguins_df = train_test_split(penguins_df, test_size=.30)\n",
    "\n",
    "target_column = \"species\"\n",
    "feature_columns = [c for c in train_penguins_df.columns if c != target_column]\n",
    "\n",
    "X_train, y_train = train_penguins_df[feature_columns], train_penguins_df[target_column]\n",
    "X_test, y_test = test_penguins_df[feature_columns], test_penguins_df[target_column]\n",
    "\n",
    "X_train.shape, y_train.shape, X_test.shape, y_test.shape"
   ]
  },
  {
   "cell_type": "code",
   "execution_count": null,
   "id": "85ac590f-47f4-4f72-b323-a7edf7bfe0a3",
   "metadata": {},
   "outputs": [],
   "source": [
    "from sklearn.impute import SimpleImputer\n",
    "from sklearn.neighbors import KNeighborsClassifier\n",
    "from sklearn.pipeline import Pipeline\n",
    "\n",
    "penguin_pipeline = Pipeline(\n",
    "    steps=[\n",
    "        (\"si\", SimpleImputer(strategy=\"mean\")),\n",
    "        (\"kn\", KNeighborsClassifier(n_neighbors=5)),\n",
    "    ],\n",
    ")\n",
    "\n",
    "penguin_pipeline.fit(X_train, y_train)\n",
    "score = penguin_pipeline.score(X_test, y_test)\n",
    "\n",
    "score"
   ]
  },
  {
   "cell_type": "markdown",
   "id": "2baaca03-0d6b-45e7-8f07-1a310c8ba95e",
   "metadata": {},
   "source": [
    "# add rubicon-ml manually"
   ]
  },
  {
   "cell_type": "code",
   "execution_count": null,
   "id": "0b159dd1-598e-405c-9ea7-a5e8b36c07d4",
   "metadata": {},
   "outputs": [],
   "source": [
    "from rubicon_ml import Rubicon\n",
    "\n",
    "rubicon = Rubicon(persistence=\"memory\")\n",
    "project = rubicon.get_or_create_project(name=\"demo\")\n",
    "\n",
    "experiment = project.log_experiment(name=\"classifying penguins\")\n",
    "parameter_strategy = experiment.log_parameter(name=\"strategy\", value=\"mean\")\n",
    "parameter_n_neighbors = experiment.log_parameter(name=\"n_neighbors\", value=5)\n",
    "metric_accuracy = experiment.log_metric(name=\"accuracy\", value=score)"
   ]
  },
  {
   "cell_type": "code",
   "execution_count": null,
   "id": "1026126c-f680-4610-914f-cdeff9f1f9f0",
   "metadata": {},
   "outputs": [],
   "source": [
    "print(experiment)\n",
    "print()\n",
    "print([(p.name, p.value) for p in experiment.parameters()])\n",
    "print([(m.name, m.value) for m in experiment.metrics()])"
   ]
  },
  {
   "cell_type": "markdown",
   "id": "196d5b3c-c603-4f37-8c4d-7148f333b0f9",
   "metadata": {},
   "source": [
    "# again with RubiconPipeline"
   ]
  },
  {
   "cell_type": "code",
   "execution_count": null,
   "id": "442e9ac4-b9c0-4c55-ae9e-8f58028670d4",
   "metadata": {},
   "outputs": [],
   "source": [
    "from rubicon_ml.sklearn import RubiconPipeline\n",
    "\n",
    "rubicon_penguin_pipeline = RubiconPipeline(\n",
    "    project=project,\n",
    "    steps=[\n",
    "        (\"si\", SimpleImputer(strategy=\"mean\")),\n",
    "        (\"kn\", KNeighborsClassifier(n_neighbors=5)),\n",
    "    ],\n",
    ")\n",
    "\n",
    "rubicon_penguin_pipeline.fit(X_train, y_train)\n",
    "pipeline_experiment = rubicon_penguin_pipeline.experiment\n",
    "\n",
    "rubicon_penguin_pipeline.score(X_test, y_test)"
   ]
  },
  {
   "cell_type": "code",
   "execution_count": null,
   "id": "17b1eee2-f7bc-498f-b751-4daf9baf48fe",
   "metadata": {},
   "outputs": [],
   "source": [
    "print(pipeline_experiment)\n",
    "print()\n",
    "print([(p.name, p.value) for p in pipeline_experiment.parameters()])\n",
    "print([(m.name, m.value) for m in pipeline_experiment.metrics()])"
   ]
  },
  {
   "cell_type": "markdown",
   "id": "e85ac407-5b30-4bd3-a43a-11c944383c46",
   "metadata": {},
   "source": [
    "# grid search"
   ]
  },
  {
   "cell_type": "code",
   "execution_count": null,
   "id": "173fad54-1e4f-4d2d-9b7a-3bd773610e9d",
   "metadata": {},
   "outputs": [],
   "source": [
    "from sklearn.model_selection import GridSearchCV\n",
    "\n",
    "parameters = {\n",
    "    \"si__strategy\": [\"mean\", \"median\", \"most_frequent\"],\n",
    "    \"kn__n_neighbors\": [2, 4, 8, 16, 32, 64],\n",
    "}\n",
    "\n",
    "grid_search_project = rubicon.get_or_create_project(name=\"grid search demo\")\n",
    "rubicon_penguin_pipeline.project = grid_search_project\n",
    "\n",
    "grid_search = GridSearchCV(\n",
    "    rubicon_penguin_pipeline,\n",
    "    cv=2,\n",
    "    param_grid=parameters,\n",
    "    refit=False,\n",
    "    verbose=True,\n",
    ")\n",
    "\n",
    "grid_search.fit(X_train, y_train)\n",
    "grid_search_project.experiments()"
   ]
  },
  {
   "cell_type": "markdown",
   "id": "a64a7b5d-e664-459e-ab52-3f94751aa30d",
   "metadata": {},
   "source": [
    "# visualizations"
   ]
  },
  {
   "cell_type": "code",
   "execution_count": null,
   "id": "e265634c-7b69-4c3e-9b97-1b0e75c7c9e9",
   "metadata": {},
   "outputs": [],
   "source": [
    "from rubicon_ml.viz import ExperimentsTable\n",
    "\n",
    "ExperimentsTable(experiments=grid_search_project.experiments()).show()"
   ]
  }
 ],
 "metadata": {
  "kernelspec": {
   "display_name": "Python 3 (ipykernel)",
   "language": "python",
   "name": "python3"
  },
  "language_info": {
   "codemirror_mode": {
    "name": "ipython",
    "version": 3
   },
   "file_extension": ".py",
   "mimetype": "text/x-python",
   "name": "python",
   "nbconvert_exporter": "python",
   "pygments_lexer": "ipython3",
   "version": "3.10.2"
  }
 },
 "nbformat": 4,
 "nbformat_minor": 5
}
