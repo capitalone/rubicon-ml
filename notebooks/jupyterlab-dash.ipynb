{
 "cells": [
  {
   "cell_type": "code",
   "execution_count": null,
   "id": "7ed8da63-6013-4f28-af60-6001be7c3132",
   "metadata": {},
   "outputs": [],
   "source": [
    "from rubicon.ui import Dashboard"
   ]
  },
  {
   "cell_type": "code",
   "execution_count": null,
   "id": "e6d22aaa-680c-4bb7-9673-bb2fbaf36c1f",
   "metadata": {},
   "outputs": [],
   "source": [
    "db = Dashboard(\n",
    "    \"filesystem\",\n",
    "    root_dir=\"./rubicon-root\",\n",
    "    mode=\"jupyterlab\",\n",
    ")"
   ]
  },
  {
   "cell_type": "code",
   "execution_count": null,
   "id": "f8bfac91-b2c0-4f45-875f-6c985e0336b2",
   "metadata": {},
   "outputs": [],
   "source": [
    "db.run_server()"
   ]
  }
 ],
 "metadata": {
  "kernelspec": {
   "display_name": "Python 3",
   "language": "python",
   "name": "python3"
  },
  "language_info": {
   "codemirror_mode": {
    "name": "ipython",
    "version": 3
   },
   "file_extension": ".py",
   "mimetype": "text/x-python",
   "name": "python",
   "nbconvert_exporter": "python",
   "pygments_lexer": "ipython3",
   "version": "3.8.8"
  }
 },
 "nbformat": 4,
 "nbformat_minor": 5
}
