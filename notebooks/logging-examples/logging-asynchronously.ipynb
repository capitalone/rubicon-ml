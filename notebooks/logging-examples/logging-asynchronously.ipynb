{
 "cells": [
  {
   "cell_type": "markdown",
   "metadata": {},
   "source": [
    "# Logging Asynchronously\n",
    "\n",
    "The asynchronous ``rubicon_ml`` client offers a way to read and write ``rubicon_ml`` objects using Python's\n",
    "built in ``asyncio`` module. ``rubicon_ml`` is lightweight computationally, but reading and writing to S3\n",
    "takes time over the network. We can use ``asyncio`` to asynchronously communicate with S3 while executing\n",
    "other work.\n",
    "\n",
    "There are two main differences between the standard and asynchronous ``rubicon_ml`` clients:\n",
    "\n",
    "* the asynchronous client is for **S3 logging only**\n",
    "* the asynchronous client's functions **return coroutines** rather than their standard return values"
   ]
  },
  {
   "cell_type": "code",
   "execution_count": 1,
   "metadata": {},
   "outputs": [
    {
     "data": {
      "text/plain": [
       "<rubicon_ml.client.asynchronous.project.Project at 0x160303c40>"
      ]
     },
     "execution_count": 1,
     "metadata": {},
     "output_type": "execute_result"
    }
   ],
   "source": [
    "from rubicon_ml.client.asynchronous import Rubicon\n",
    "\n",
    "\n",
    "s3_bucket = \"my-bucket\"\n",
    "root_dir = f\"s3://{s3_bucket}/rubicon-root\"\n",
    "\n",
    "rubicon = Rubicon(persistence=\"filesystem\", root_dir=root_dir)\n",
    "project = await rubicon.get_or_create_project(\n",
    "    \"Asynchronous Experiments\", description=\"training multiple models asynchronously\"\n",
    ")\n",
    "\n",
    "project"
   ]
  },
  {
   "cell_type": "markdown",
   "metadata": {},
   "source": [
    "We'll take another look at the wine dataset in this example."
   ]
  },
  {
   "cell_type": "code",
   "execution_count": 2,
   "metadata": {},
   "outputs": [],
   "source": [
    "from sklearn.datasets import load_wine\n",
    "from sklearn.model_selection import train_test_split\n",
    "\n",
    "\n",
    "wine = load_wine()\n",
    "wine_feature_names = wine.feature_names\n",
    "wine_datasets = train_test_split(\n",
    "    wine[\"data\"],\n",
    "    wine[\"target\"],\n",
    "    test_size=0.25,\n",
    ")"
   ]
  },
  {
   "cell_type": "markdown",
   "metadata": {},
   "source": [
    "We can define an asynchronous ``run_experiment`` function to log a new **experiment** to\n",
    "the provided **project** then train, run and log a model of type ``classifier_cls`` using\n",
    "the training and testing data in ``wine_datasets``."
   ]
  },
  {
   "cell_type": "code",
   "execution_count": 3,
   "metadata": {},
   "outputs": [],
   "source": [
    "import asyncio\n",
    "from collections import namedtuple\n",
    "\n",
    "import pandas as pd\n",
    "\n",
    "\n",
    "SklearnTrainingMetadata = namedtuple(\"SklearnTrainingMetadata\", \"module_name method\")\n",
    "\n",
    "async def run_experiment(\n",
    "    project, classifier_cls, wine_datasets, feature_names, **kwargs\n",
    "):\n",
    "    X_train, X_test, y_train, y_test = wine_datasets\n",
    "    \n",
    "    # await logging the experiment so we can log other things to it\n",
    "    experiment = await project.log_experiment(\n",
    "        training_metadata=[\n",
    "            SklearnTrainingMetadata(\"sklearn.datasets\", \"load_wine\"),\n",
    "        ],\n",
    "        model_name=classifier_cls.__name__,\n",
    "        tags=[classifier_cls.__name__],\n",
    "    )\n",
    "    \n",
    "    # gather a list of coroutines that will log objects to the experiment\n",
    "    rubicon_logging_coroutines = []\n",
    "    \n",
    "    for key, value in kwargs.items():\n",
    "        parameter_coroutine = experiment.log_parameter(key, value)\n",
    "        rubicon_logging_coroutines.append(parameter_coroutine)\n",
    "    \n",
    "    for name in feature_names:\n",
    "        feature_coroutine = experiment.log_feature(name)\n",
    "        rubicon_logging_coroutines.append(feature_coroutine)\n",
    "        \n",
    "    classifier = classifier_cls(**kwargs)\n",
    "    classifier.fit(X_train, y_train)\n",
    "    classifier.predict(X_test)\n",
    "    \n",
    "    accuracy = classifier.score(X_test, y_test)\n",
    "    \n",
    "    metric_coroutine = experiment.log_metric(\"accuracy\", accuracy)\n",
    "    rubicon_logging_coroutines.append(metric_coroutine)\n",
    "\n",
    "    if accuracy >= .94:\n",
    "        tag_coroutine = experiment.add_tags([\"success\"])\n",
    "    else:\n",
    "        tag_coroutine = experiment.add_tags([\"failure\"])\n",
    "    rubicon_logging_coroutines.append(tag_coroutine)\n",
    "    \n",
    "    # execute all logging coroutines asynchronously\n",
    "    await asyncio.gather(*rubicon_logging_coroutines)\n",
    "    \n",
    "    return experiment"
   ]
  },
  {
   "cell_type": "markdown",
   "metadata": {},
   "source": [
    "This time we'll take a look at three classifiers - ``RandomForestClassifier``, ``DecisionTreeClassifier``, and\n",
    "``KNeighborsClassifier`` - to see which performs best. Each classifier will be run across four sets of parameters\n",
    "(provided as ``kwargs`` to ``run_experiment``), for a total of 12 experiments. Here, we'll build up a list of\n",
    "coroutines that will run each experiment asynchronously."
   ]
  },
  {
   "cell_type": "code",
   "execution_count": 4,
   "metadata": {},
   "outputs": [],
   "source": [
    "from sklearn.ensemble import RandomForestClassifier\n",
    "from sklearn.neighbors import KNeighborsClassifier\n",
    "from sklearn.tree import DecisionTreeClassifier\n",
    "\n",
    "\n",
    "coroutines = []\n",
    "\n",
    "for n_estimators in [10, 20, 30, 40]:\n",
    "    coroutines.append(run_experiment(\n",
    "        project,\n",
    "        RandomForestClassifier,\n",
    "        wine_datasets,\n",
    "        wine_feature_names,\n",
    "        n_estimators=n_estimators,\n",
    "    ))\n",
    "\n",
    "for n_neighbors in [5, 10, 15, 20]:\n",
    "    coroutines.append(run_experiment(\n",
    "        project,\n",
    "        KNeighborsClassifier,\n",
    "        wine_datasets,\n",
    "        wine_feature_names,\n",
    "        n_neighbors=n_neighbors,\n",
    "    ))\n",
    "\n",
    "for criterion in [\"gini\", \"entropy\"]:\n",
    "    for splitter in [\"best\", \"random\"]:\n",
    "        coroutines.append(run_experiment(\n",
    "            project,\n",
    "            DecisionTreeClassifier,\n",
    "            wine_datasets,\n",
    "            wine_feature_names,\n",
    "            criterion=criterion,\n",
    "            splitter=splitter,\n",
    "        ))"
   ]
  },
  {
   "cell_type": "markdown",
   "metadata": {},
   "source": [
    "Let's run all our experiments asynchronously!"
   ]
  },
  {
   "cell_type": "code",
   "execution_count": 5,
   "metadata": {},
   "outputs": [
    {
     "data": {
      "text/plain": [
       "[<rubicon_ml.client.asynchronous.experiment.Experiment at 0x16032a0a0>,\n",
       " <rubicon_ml.client.asynchronous.experiment.Experiment at 0x160303e80>,\n",
       " <rubicon_ml.client.asynchronous.experiment.Experiment at 0x162ddcee0>,\n",
       " <rubicon_ml.client.asynchronous.experiment.Experiment at 0x16032a6d0>,\n",
       " <rubicon_ml.client.asynchronous.experiment.Experiment at 0x162ddcc70>,\n",
       " <rubicon_ml.client.asynchronous.experiment.Experiment at 0x162df0e50>,\n",
       " <rubicon_ml.client.asynchronous.experiment.Experiment at 0x15fe86e50>,\n",
       " <rubicon_ml.client.asynchronous.experiment.Experiment at 0x163182400>,\n",
       " <rubicon_ml.client.asynchronous.experiment.Experiment at 0x162dffd00>,\n",
       " <rubicon_ml.client.asynchronous.experiment.Experiment at 0x162df0ca0>,\n",
       " <rubicon_ml.client.asynchronous.experiment.Experiment at 0x162df01c0>,\n",
       " <rubicon_ml.client.asynchronous.experiment.Experiment at 0x162df0820>]"
      ]
     },
     "execution_count": 5,
     "metadata": {},
     "output_type": "execute_result"
    }
   ],
   "source": [
    "experiments = await asyncio.gather(*coroutines)\n",
    "experiments"
   ]
  },
  {
   "cell_type": "markdown",
   "metadata": {},
   "source": [
    "Now we can validate that we successfully logged all 12 experiments to our project in S3."
   ]
  },
  {
   "cell_type": "code",
   "execution_count": 6,
   "metadata": {},
   "outputs": [
    {
     "data": {
      "text/plain": [
       "12"
      ]
     },
     "execution_count": 6,
     "metadata": {},
     "output_type": "execute_result"
    }
   ],
   "source": [
    "len(await project.experiments())"
   ]
  },
  {
   "cell_type": "markdown",
   "metadata": {},
   "source": [
    "Let's see which experiments we tagged as successful and what type of model they used."
   ]
  },
  {
   "cell_type": "code",
   "execution_count": 7,
   "metadata": {},
   "outputs": [
    {
     "name": "stdout",
     "output_type": "stream",
     "text": [
      "experiment 1deffe63 was successful using a RandomForestClassifier\n",
      "experiment 301d0404 was successful using a RandomForestClassifier\n",
      "experiment 32b14108 was successful using a DecisionTreeClassifier\n",
      "experiment a9629c2c was successful using a RandomForestClassifier\n",
      "experiment c2ec1246 was successful using a RandomForestClassifier\n",
      "experiment e4372a68 was successful using a DecisionTreeClassifier\n"
     ]
    }
   ],
   "source": [
    "for e in await project.experiments(tags=[\"success\"]):    \n",
    "    print(f\"experiment {e.id[:8]} was successful using a {e.model_name}\")"
   ]
  },
  {
   "cell_type": "markdown",
   "metadata": {},
   "source": [
    "We can also take a deeper look at any of our experiments."
   ]
  },
  {
   "cell_type": "code",
   "execution_count": 8,
   "metadata": {},
   "outputs": [
    {
     "name": "stdout",
     "output_type": "stream",
     "text": [
      "experiment c2ec1246-a664-43b4-b76c-c34b9bdcb723\n",
      "training metadata: SklearnTrainingMetadata(module_name='sklearn.datasets', method='load_wine')\n",
      "tags: ['RandomForestClassifier', 'success']\n",
      "parameters: [('n_estimators', 10)]\n",
      "metrics: [('accuracy', 0.9777777777777777)]\n"
     ]
    }
   ],
   "source": [
    "first_experiment = experiments[0]\n",
    "\n",
    "training_metadata = SklearnTrainingMetadata(*first_experiment.training_metadata)\n",
    "tags = await first_experiment.tags\n",
    "\n",
    "parameters = [(p.name, p.value) for p in await first_experiment.parameters()]\n",
    "metrics = [(m.name, m.value) for m in await first_experiment.metrics()]\n",
    "    \n",
    "print(\n",
    "    f\"experiment {first_experiment.id}\\n\"\n",
    "    f\"training metadata: {training_metadata}\\ntags: {tags}\\n\"\n",
    "    f\"parameters: {parameters}\\nmetrics: {metrics}\"\n",
    ")"
   ]
  },
  {
   "cell_type": "markdown",
   "metadata": {},
   "source": [
    "Or we could grab the project's data as a dataframe!"
   ]
  },
  {
   "cell_type": "code",
   "execution_count": 9,
   "metadata": {},
   "outputs": [
    {
     "data": {
      "text/html": [
       "<div>\n",
       "<style scoped>\n",
       "    .dataframe tbody tr th:only-of-type {\n",
       "        vertical-align: middle;\n",
       "    }\n",
       "\n",
       "    .dataframe tbody tr th {\n",
       "        vertical-align: top;\n",
       "    }\n",
       "\n",
       "    .dataframe thead th {\n",
       "        text-align: right;\n",
       "    }\n",
       "</style>\n",
       "<table border=\"1\" class=\"dataframe\">\n",
       "  <thead>\n",
       "    <tr style=\"text-align: right;\">\n",
       "      <th></th>\n",
       "      <th>id</th>\n",
       "      <th>name</th>\n",
       "      <th>description</th>\n",
       "      <th>model_name</th>\n",
       "      <th>commit_hash</th>\n",
       "      <th>created_at</th>\n",
       "      <th>tags</th>\n",
       "      <th>n_estimators</th>\n",
       "      <th>accuracy</th>\n",
       "      <th>criterion</th>\n",
       "      <th>splitter</th>\n",
       "      <th>n_neighbors</th>\n",
       "    </tr>\n",
       "  </thead>\n",
       "  <tbody>\n",
       "    <tr>\n",
       "      <th>0</th>\n",
       "      <td>e4372a68-6094-42de-a3d6-cf7bca2cdafe</td>\n",
       "      <td>None</td>\n",
       "      <td>None</td>\n",
       "      <td>DecisionTreeClassifier</td>\n",
       "      <td>None</td>\n",
       "      <td>2021-04-16 13:18:21.029869</td>\n",
       "      <td>[DecisionTreeClassifier, success]</td>\n",
       "      <td>NaN</td>\n",
       "      <td>0.955556</td>\n",
       "      <td>entropy</td>\n",
       "      <td>random</td>\n",
       "      <td>NaN</td>\n",
       "    </tr>\n",
       "    <tr>\n",
       "      <th>1</th>\n",
       "      <td>9b88c307-7c20-48bc-8dca-ed0ea04efba9</td>\n",
       "      <td>None</td>\n",
       "      <td>None</td>\n",
       "      <td>DecisionTreeClassifier</td>\n",
       "      <td>None</td>\n",
       "      <td>2021-04-16 13:18:21.028594</td>\n",
       "      <td>[failure, DecisionTreeClassifier]</td>\n",
       "      <td>NaN</td>\n",
       "      <td>0.888889</td>\n",
       "      <td>entropy</td>\n",
       "      <td>best</td>\n",
       "      <td>NaN</td>\n",
       "    </tr>\n",
       "    <tr>\n",
       "      <th>2</th>\n",
       "      <td>32b14108-2fe1-4e75-9ba0-729193e8298f</td>\n",
       "      <td>None</td>\n",
       "      <td>None</td>\n",
       "      <td>DecisionTreeClassifier</td>\n",
       "      <td>None</td>\n",
       "      <td>2021-04-16 13:18:21.027189</td>\n",
       "      <td>[DecisionTreeClassifier, success]</td>\n",
       "      <td>NaN</td>\n",
       "      <td>0.955556</td>\n",
       "      <td>gini</td>\n",
       "      <td>random</td>\n",
       "      <td>NaN</td>\n",
       "    </tr>\n",
       "    <tr>\n",
       "      <th>3</th>\n",
       "      <td>974ed9b2-28dd-4a9f-b29c-4245daa70091</td>\n",
       "      <td>None</td>\n",
       "      <td>None</td>\n",
       "      <td>DecisionTreeClassifier</td>\n",
       "      <td>None</td>\n",
       "      <td>2021-04-16 13:18:21.025501</td>\n",
       "      <td>[failure, DecisionTreeClassifier]</td>\n",
       "      <td>NaN</td>\n",
       "      <td>0.911111</td>\n",
       "      <td>gini</td>\n",
       "      <td>best</td>\n",
       "      <td>NaN</td>\n",
       "    </tr>\n",
       "    <tr>\n",
       "      <th>4</th>\n",
       "      <td>6f15b3a2-8586-4cbc-8ac1-2a06ce9df6e9</td>\n",
       "      <td>None</td>\n",
       "      <td>None</td>\n",
       "      <td>KNeighborsClassifier</td>\n",
       "      <td>None</td>\n",
       "      <td>2021-04-16 13:18:21.023694</td>\n",
       "      <td>[failure, KNeighborsClassifier]</td>\n",
       "      <td>NaN</td>\n",
       "      <td>0.711111</td>\n",
       "      <td>NaN</td>\n",
       "      <td>NaN</td>\n",
       "      <td>20.0</td>\n",
       "    </tr>\n",
       "    <tr>\n",
       "      <th>5</th>\n",
       "      <td>89aff6fd-d66b-405c-a5b1-663568da75b6</td>\n",
       "      <td>None</td>\n",
       "      <td>None</td>\n",
       "      <td>KNeighborsClassifier</td>\n",
       "      <td>None</td>\n",
       "      <td>2021-04-16 13:18:21.021649</td>\n",
       "      <td>[failure, KNeighborsClassifier]</td>\n",
       "      <td>NaN</td>\n",
       "      <td>0.711111</td>\n",
       "      <td>NaN</td>\n",
       "      <td>NaN</td>\n",
       "      <td>15.0</td>\n",
       "    </tr>\n",
       "    <tr>\n",
       "      <th>6</th>\n",
       "      <td>56753d93-5f79-43b2-87a4-fbc1bbd5c1c0</td>\n",
       "      <td>None</td>\n",
       "      <td>None</td>\n",
       "      <td>KNeighborsClassifier</td>\n",
       "      <td>None</td>\n",
       "      <td>2021-04-16 13:18:21.020056</td>\n",
       "      <td>[failure, KNeighborsClassifier]</td>\n",
       "      <td>NaN</td>\n",
       "      <td>0.733333</td>\n",
       "      <td>NaN</td>\n",
       "      <td>NaN</td>\n",
       "      <td>10.0</td>\n",
       "    </tr>\n",
       "    <tr>\n",
       "      <th>7</th>\n",
       "      <td>7177b63b-370c-4877-bbb3-5fd15078fbfb</td>\n",
       "      <td>None</td>\n",
       "      <td>None</td>\n",
       "      <td>KNeighborsClassifier</td>\n",
       "      <td>None</td>\n",
       "      <td>2021-04-16 13:18:21.018690</td>\n",
       "      <td>[failure, KNeighborsClassifier]</td>\n",
       "      <td>NaN</td>\n",
       "      <td>0.755556</td>\n",
       "      <td>NaN</td>\n",
       "      <td>NaN</td>\n",
       "      <td>5.0</td>\n",
       "    </tr>\n",
       "    <tr>\n",
       "      <th>8</th>\n",
       "      <td>1deffe63-82ed-49cd-b75d-3aa67fc26911</td>\n",
       "      <td>None</td>\n",
       "      <td>None</td>\n",
       "      <td>RandomForestClassifier</td>\n",
       "      <td>None</td>\n",
       "      <td>2021-04-16 13:18:21.017173</td>\n",
       "      <td>[RandomForestClassifier, success]</td>\n",
       "      <td>40.0</td>\n",
       "      <td>0.955556</td>\n",
       "      <td>NaN</td>\n",
       "      <td>NaN</td>\n",
       "      <td>NaN</td>\n",
       "    </tr>\n",
       "    <tr>\n",
       "      <th>9</th>\n",
       "      <td>a9629c2c-20b5-44e7-84ab-f859e9060c6b</td>\n",
       "      <td>None</td>\n",
       "      <td>None</td>\n",
       "      <td>RandomForestClassifier</td>\n",
       "      <td>None</td>\n",
       "      <td>2021-04-16 13:18:21.015431</td>\n",
       "      <td>[RandomForestClassifier, success]</td>\n",
       "      <td>30.0</td>\n",
       "      <td>0.977778</td>\n",
       "      <td>NaN</td>\n",
       "      <td>NaN</td>\n",
       "      <td>NaN</td>\n",
       "    </tr>\n",
       "    <tr>\n",
       "      <th>10</th>\n",
       "      <td>301d0404-4617-4aa3-8ea4-4903aa94c5ff</td>\n",
       "      <td>None</td>\n",
       "      <td>None</td>\n",
       "      <td>RandomForestClassifier</td>\n",
       "      <td>None</td>\n",
       "      <td>2021-04-16 13:18:21.013503</td>\n",
       "      <td>[RandomForestClassifier, success]</td>\n",
       "      <td>20.0</td>\n",
       "      <td>0.955556</td>\n",
       "      <td>NaN</td>\n",
       "      <td>NaN</td>\n",
       "      <td>NaN</td>\n",
       "    </tr>\n",
       "    <tr>\n",
       "      <th>11</th>\n",
       "      <td>c2ec1246-a664-43b4-b76c-c34b9bdcb723</td>\n",
       "      <td>None</td>\n",
       "      <td>None</td>\n",
       "      <td>RandomForestClassifier</td>\n",
       "      <td>None</td>\n",
       "      <td>2021-04-16 13:18:21.011072</td>\n",
       "      <td>[RandomForestClassifier, success]</td>\n",
       "      <td>10.0</td>\n",
       "      <td>0.977778</td>\n",
       "      <td>NaN</td>\n",
       "      <td>NaN</td>\n",
       "      <td>NaN</td>\n",
       "    </tr>\n",
       "  </tbody>\n",
       "</table>\n",
       "</div>"
      ],
      "text/plain": [
       "                                      id  name description  \\\n",
       "0   e4372a68-6094-42de-a3d6-cf7bca2cdafe  None        None   \n",
       "1   9b88c307-7c20-48bc-8dca-ed0ea04efba9  None        None   \n",
       "2   32b14108-2fe1-4e75-9ba0-729193e8298f  None        None   \n",
       "3   974ed9b2-28dd-4a9f-b29c-4245daa70091  None        None   \n",
       "4   6f15b3a2-8586-4cbc-8ac1-2a06ce9df6e9  None        None   \n",
       "5   89aff6fd-d66b-405c-a5b1-663568da75b6  None        None   \n",
       "6   56753d93-5f79-43b2-87a4-fbc1bbd5c1c0  None        None   \n",
       "7   7177b63b-370c-4877-bbb3-5fd15078fbfb  None        None   \n",
       "8   1deffe63-82ed-49cd-b75d-3aa67fc26911  None        None   \n",
       "9   a9629c2c-20b5-44e7-84ab-f859e9060c6b  None        None   \n",
       "10  301d0404-4617-4aa3-8ea4-4903aa94c5ff  None        None   \n",
       "11  c2ec1246-a664-43b4-b76c-c34b9bdcb723  None        None   \n",
       "\n",
       "                model_name commit_hash                 created_at  \\\n",
       "0   DecisionTreeClassifier        None 2021-04-16 13:18:21.029869   \n",
       "1   DecisionTreeClassifier        None 2021-04-16 13:18:21.028594   \n",
       "2   DecisionTreeClassifier        None 2021-04-16 13:18:21.027189   \n",
       "3   DecisionTreeClassifier        None 2021-04-16 13:18:21.025501   \n",
       "4     KNeighborsClassifier        None 2021-04-16 13:18:21.023694   \n",
       "5     KNeighborsClassifier        None 2021-04-16 13:18:21.021649   \n",
       "6     KNeighborsClassifier        None 2021-04-16 13:18:21.020056   \n",
       "7     KNeighborsClassifier        None 2021-04-16 13:18:21.018690   \n",
       "8   RandomForestClassifier        None 2021-04-16 13:18:21.017173   \n",
       "9   RandomForestClassifier        None 2021-04-16 13:18:21.015431   \n",
       "10  RandomForestClassifier        None 2021-04-16 13:18:21.013503   \n",
       "11  RandomForestClassifier        None 2021-04-16 13:18:21.011072   \n",
       "\n",
       "                                 tags  n_estimators  accuracy criterion  \\\n",
       "0   [DecisionTreeClassifier, success]           NaN  0.955556   entropy   \n",
       "1   [failure, DecisionTreeClassifier]           NaN  0.888889   entropy   \n",
       "2   [DecisionTreeClassifier, success]           NaN  0.955556      gini   \n",
       "3   [failure, DecisionTreeClassifier]           NaN  0.911111      gini   \n",
       "4     [failure, KNeighborsClassifier]           NaN  0.711111       NaN   \n",
       "5     [failure, KNeighborsClassifier]           NaN  0.711111       NaN   \n",
       "6     [failure, KNeighborsClassifier]           NaN  0.733333       NaN   \n",
       "7     [failure, KNeighborsClassifier]           NaN  0.755556       NaN   \n",
       "8   [RandomForestClassifier, success]          40.0  0.955556       NaN   \n",
       "9   [RandomForestClassifier, success]          30.0  0.977778       NaN   \n",
       "10  [RandomForestClassifier, success]          20.0  0.955556       NaN   \n",
       "11  [RandomForestClassifier, success]          10.0  0.977778       NaN   \n",
       "\n",
       "   splitter  n_neighbors  \n",
       "0    random          NaN  \n",
       "1      best          NaN  \n",
       "2    random          NaN  \n",
       "3      best          NaN  \n",
       "4       NaN         20.0  \n",
       "5       NaN         15.0  \n",
       "6       NaN         10.0  \n",
       "7       NaN          5.0  \n",
       "8       NaN          NaN  \n",
       "9       NaN          NaN  \n",
       "10      NaN          NaN  \n",
       "11      NaN          NaN  "
      ]
     },
     "execution_count": 9,
     "metadata": {},
     "output_type": "execute_result"
    }
   ],
   "source": [
    "ddf = await rubicon.get_project_as_dask_df(\"Asynchronous Experiments\")\n",
    "ddf.compute()"
   ]
  }
 ],
 "metadata": {
  "kernelspec": {
   "display_name": "Python 3",
   "language": "python",
   "name": "python3"
  },
  "language_info": {
   "codemirror_mode": {
    "name": "ipython",
    "version": 3
   },
   "file_extension": ".py",
   "mimetype": "text/x-python",
   "name": "python",
   "nbconvert_exporter": "python",
   "pygments_lexer": "ipython3",
   "version": "3.9.4"
  }
 },
 "nbformat": 4,
 "nbformat_minor": 4
}
