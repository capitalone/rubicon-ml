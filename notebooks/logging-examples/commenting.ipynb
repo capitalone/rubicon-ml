{
 "cells": [
  {
   "cell_type": "markdown",
   "id": "4768d0d8",
   "metadata": {},
   "source": [
    "# Commenting\n",
    "\n",
    "Sometimes we might want to log ad-hoc thoughts on **experiments** and objects as we go through\n",
    "our model development process. Besides **experiments**, ``rubicon_ml`` can also be used to\n",
    "comment on artifacts, dataframes, features, metrics, and parameters. \n",
    "\n",
    "Below, we'll see examples of commenting functionality."
   ]
  },
  {
   "cell_type": "markdown",
   "id": "bfc54ec5",
   "metadata": {},
   "source": [
    "### Adding comments when logging\n",
    "By utilizing the comments parameter:"
   ]
  },
  {
   "cell_type": "code",
   "execution_count": 1,
   "id": "59a475f6",
   "metadata": {},
   "outputs": [],
   "source": [
    "from rubicon_ml import Rubicon\n",
    "import pandas as pd\n",
    "\n",
    "rubicon = Rubicon(persistence=\"memory\")\n",
    "project = rubicon.get_or_create_project(\"Commenting\")\n",
    "\n",
    "#logging experiments with commments\n",
    "experiment1 = project.log_experiment(name=\"experiment1\", comments=[\"odd number experiment\"])\n",
    "experiment2 = project.log_experiment(name=\"experiment2\", comments=[\"even number experiment\"])\n",
    "\n",
    "#logging artifacts, dataframes, features, metrics and parameters with comments\n",
    "first_artifact = experiment1.log_artifact(data_bytes=b\"bytes\", name=\"data_path\", comments=[\"data\"])\n",
    "\n",
    "confusion_matrix = pd.DataFrame([[5, 0, 0], [0, 5, 1], [0, 0, 4]], columns=[\"x\", \"y\", \"z\"])\n",
    "first_dataframe = experiment1.log_dataframe(confusion_matrix, comments=[\"three column\"])\n",
    "\n",
    "first_feature = experiment1.log_feature(\"year\", comments=[\"time\"])\n",
    "\n",
    "first_metric = experiment1.log_metric(\"accuracy\", .8, comments=[\"scalar\"])\n",
    "\n",
    "#can add multiple comments at logging (works for all objects)\n",
    "first_parameter = experiment1.log_parameter(\"n_estimators\", comments=[\"comment 1\", \"comment 2\"])"
   ]
  },
  {
   "cell_type": "markdown",
   "id": "61d0926a",
   "metadata": {},
   "source": [
    "### Viewing comments\n",
    "Use the .comments attribute to view comments associated with an object:"
   ]
  },
  {
   "cell_type": "code",
   "execution_count": 2,
   "id": "064edb9c",
   "metadata": {},
   "outputs": [
    {
     "name": "stdout",
     "output_type": "stream",
     "text": [
      "['odd number experiment']\n",
      "['even number experiment']\n",
      "['data']\n",
      "['three column']\n",
      "['time']\n",
      "['scalar']\n",
      "['comment 1', 'comment 2']\n"
     ]
    }
   ],
   "source": [
    "print(experiment1.comments)\n",
    "print(experiment2.comments)\n",
    "print(first_artifact.comments)\n",
    "print(first_dataframe.comments)\n",
    "print(first_feature.comments)\n",
    "print(first_metric.comments)\n",
    "print(first_parameter.comments)"
   ]
  },
  {
   "cell_type": "markdown",
   "id": "86bda4bf",
   "metadata": {},
   "source": [
    "### Adding comments to existing objects\n",
    "Use the object's add_comments() method. Works the same for all commentable objects:"
   ]
  },
  {
   "cell_type": "code",
   "execution_count": 3,
   "id": "2e5bc3eb",
   "metadata": {},
   "outputs": [
    {
     "name": "stdout",
     "output_type": "stream",
     "text": [
      "['odd number experiment', 'added comment']\n",
      "['even number experiment', 'added comment']\n",
      "['data', 'added comment']\n",
      "['three column', 'added comment']\n",
      "['time', 'added comment']\n",
      "['scalar', 'added comment']\n",
      "['comment 1', 'comment 2', 'added comment 1', 'added comment 2']\n"
     ]
    }
   ],
   "source": [
    "experiment1.add_comments([\"added comment\"])\n",
    "experiment2.add_comments([\"added comment\"])\n",
    "first_artifact.add_comments([\"added comment\"])\n",
    "first_dataframe.add_comments([\"added comment\"])\n",
    "first_feature.add_comments([\"added comment\"])\n",
    "first_metric.add_comments([\"added comment\"])\n",
    "\n",
    "#can add multiple comments (works for all objects)\n",
    "first_parameter.add_comments([\"added comment 1\", \"added comment 2\"])\n",
    "\n",
    "\n",
    "print(experiment1.comments)\n",
    "print(experiment2.comments)\n",
    "print(first_artifact.comments)\n",
    "print(first_dataframe.comments)\n",
    "print(first_feature.comments)\n",
    "print(first_metric.comments)\n",
    "print(first_parameter.comments)"
   ]
  },
  {
   "cell_type": "markdown",
   "id": "2527eb1a",
   "metadata": {},
   "source": [
    "### Removing comments from existing objects\n",
    "Use the object's remove_comments() method. Works the same for all commentable objects:"
   ]
  },
  {
   "cell_type": "code",
   "execution_count": 4,
   "id": "356a6089",
   "metadata": {},
   "outputs": [
    {
     "name": "stdout",
     "output_type": "stream",
     "text": [
      "['odd number experiment']\n",
      "['even number experiment']\n",
      "['data']\n",
      "['three column']\n",
      "['time']\n",
      "['scalar']\n",
      "['comment 1', 'comment 2']\n"
     ]
    }
   ],
   "source": [
    "experiment1.remove_comments([\"added comment\"])\n",
    "experiment2.remove_comments([\"added comment\"])\n",
    "first_artifact.remove_comments([\"added comment\"])\n",
    "first_dataframe.remove_comments([\"added comment\"])\n",
    "first_feature.remove_comments([\"added comment\"])\n",
    "first_metric.remove_comments([\"added comment\"])\n",
    "\n",
    "#can remove multiple comments (works for all objects)\n",
    "first_parameter.remove_comments([\"added comment 1\", \"added comment 2\"])\n",
    "\n",
    "print(experiment1.comments)\n",
    "print(experiment2.comments)\n",
    "print(first_artifact.comments)\n",
    "print(first_dataframe.comments)\n",
    "print(first_feature.comments)\n",
    "print(first_metric.comments)\n",
    "print(first_parameter.comments)"
   ]
  }
 ],
 "metadata": {
  "kernelspec": {
   "display_name": "Python 3 (ipykernel)",
   "language": "python",
   "name": "python3"
  },
  "language_info": {
   "codemirror_mode": {
    "name": "ipython",
    "version": 3
   },
   "file_extension": ".py",
   "mimetype": "text/x-python",
   "name": "python",
   "nbconvert_exporter": "python",
   "pygments_lexer": "ipython3",
   "version": "3.10.6"
  }
 },
 "nbformat": 4,
 "nbformat_minor": 5
}