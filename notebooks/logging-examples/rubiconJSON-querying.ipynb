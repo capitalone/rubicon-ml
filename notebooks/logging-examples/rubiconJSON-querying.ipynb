{
 "cells": [
  {
   "cell_type": "markdown",
   "id": "f02a8c8d",
   "metadata": {},
   "source": [
    "# Query ``rubcion-ml`` experiments with ``RubiconJSON``\n",
    "\n",
    "We can utilize the ``RubiconJSON`` class to query ``rubicon-ml`` logs in a JSONPath-like manner.\n",
    "``RubiconJSON`` takes in top-level ``Rubicon`` objects, ``Projects``, and/or ``Experiments`` and\n",
    "will generate a JSON representation of them. We can then leverage the `search` method for JSONPath-like\n",
    "querying [based on ``jsonpath_ng``](https://github.com/h2non/jsonpath-ng)."
   ]
  },
  {
   "cell_type": "markdown",
   "id": "346b64f7",
   "metadata": {},
   "source": [
    "### Run some experiments"
   ]
  },
  {
   "cell_type": "code",
   "execution_count": 1,
   "id": "8867f7a5",
   "metadata": {
    "tags": []
   },
   "outputs": [],
   "source": [
    "import random\n",
    "\n",
    "random.seed(21)"
   ]
  },
  {
   "cell_type": "code",
   "execution_count": 2,
   "id": "a811cb89",
   "metadata": {
    "tags": []
   },
   "outputs": [
    {
     "data": {
      "text/plain": [
       "<rubicon_ml.client.project.Project at 0x15d37c890>"
      ]
     },
     "execution_count": 2,
     "metadata": {},
     "output_type": "execute_result"
    }
   ],
   "source": [
    "import pandas as pd\n",
    "from rubicon_ml import Rubicon\n",
    "\n",
    "class MODEL: pass\n",
    "NUM_EXPERIMENTS = 4\n",
    "\n",
    "rubicon = Rubicon(persistence=\"memory\")\n",
    "project = rubicon.get_or_create_project(name=\"jsonpath\")\n",
    "\n",
    "for accuracy in [random.random() for _ in range(NUM_EXPERIMENTS)]:\n",
    "    tags = [random.choice([\"a\", \"b\", \"c\"])]\n",
    "    ex = project.log_experiment(tags=tags)\n",
    "\n",
    "    for feature in [\"var_001\", \"var_002\", \"var_003\", \"var_004\"]:\n",
    "        ex.log_feature(name=feature)\n",
    "\n",
    "    for parameter in [(\"alpha\", 1e-3), (\"gamma\", 1e-5), (\"n_iter\", 1000)]:\n",
    "        name, value = parameter\n",
    "        ex.log_parameter(name=name, value=value)\n",
    "\n",
    "    ex.log_metric(name=\"accuracy\", value=accuracy)\n",
    "    ex.log_artifact(name=\"model\", data_object=MODEL())\n",
    "    ex.log_dataframe(pd.DataFrame([[1.0, 0.0], [0.0, 1.0]]))\n",
    "\n",
    "project.log_artifact(name=\"best model\", data_object=MODEL())\n",
    "project.log_dataframe(pd.DataFrame([[1.0, 0.0], [0.0, 1.0]]))\n",
    "\n",
    "project"
   ]
  },
  {
   "cell_type": "markdown",
   "id": "e252fe50",
   "metadata": {},
   "source": [
    "### Load experiments into the ``RubiconJSON`` class\n",
    "\n",
    "Once instantiated, the ``RubiconJSON`` class has a ``json`` property detailing each project\n",
    "and experiment."
   ]
  },
  {
   "cell_type": "code",
   "execution_count": 3,
   "id": "ec13d530",
   "metadata": {},
   "outputs": [
    {
     "data": {
      "text/plain": [
       "{'project': [{'name': 'jsonpath',\n",
       "   'id': '3e7a35da-e84a-410c-aa6a-f732298570af',\n",
       "   'description': None,\n",
       "   'github_url': None,\n",
       "   'training_metadata': None,\n",
       "   'created_at': datetime.datetime(2023, 3, 16, 21, 36, 8, 170946),\n",
       "   'artifact': [{'name': 'best model',\n",
       "     'id': '629ed53e-2e0a-436c-b0f1-72d3ada3ad85',\n",
       "     'description': None,\n",
       "     'created_at': datetime.datetime(2023, 3, 16, 21, 36, 8, 179957),\n",
       "     'tags': [],\n",
       "     'parent_id': '3e7a35da-e84a-410c-aa6a-f732298570af'}],\n",
       "   'dataframe': [{'id': '8273b062-e2b2-4c3b-8aa8-45120f3a1245',\n",
       "     'name': None,\n",
       "     'description': None,\n",
       "     'tags': [],\n",
       "     'created_at': datetime.datetime(2023, 3, 16, 21, 36, 8, 180381),\n",
       "     'parent_id': '3e7a35da-e84a-410c-aa6a-f732298570af'}],\n",
       "   'experiment': [{'project_name': 'jsonpath',\n",
       "     'id': 'cdd3ff65-f366-4e49-90ca-5d17d78908d4',\n",
       "     'name': None,\n",
       "     'description': None,\n",
       "     'model_name': None,\n",
       "     'branch_name': None,\n",
       "     'commit_hash': None,\n",
       "     'training_metadata': None,\n",
       "     'tags': ['a'],\n",
       "     'created_at': datetime.datetime(2023, 3, 16, 21, 36, 8, 171442),\n",
       "     'feature': [{'name': 'var_001',\n",
       "       'id': '7ecdda62-80a5-4eea-8b5e-d26e9aa40a67',\n",
       "       'description': None,\n",
       "       'importance': None,\n",
       "       'tags': [],\n",
       "       'created_at': datetime.datetime(2023, 3, 16, 21, 36, 8, 171625)},\n",
       "      {'name': 'var_002',\n",
       "       'id': '53063e97-c5c8-4c15-9e97-20947be4f994',\n",
       "       'description': None,\n",
       "       'importance': None,\n",
       "       'tags': [],\n",
       "       'created_at': datetime.datetime(2023, 3, 16, 21, 36, 8, 171796)},\n",
       "      {'name': 'var_003',\n",
       "       'id': 'f067009e-92b2-4b7f-9a25-d17d5b48b745',\n",
       "       'description': None,\n",
       "       'importance': None,\n",
       "       'tags': [],\n",
       "       'created_at': datetime.datetime(2023, 3, 16, 21, 36, 8, 171943)},\n",
       "      {'name': 'var_004',\n",
       "       'id': 'ec8e9228-6a36-4c37-89ef-bc2f2e97c7a4',\n",
       "       'description': None,\n",
       "       'importance': None,\n",
       "       'tags': [],\n",
       "       'created_at': datetime.datetime(2023, 3, 16, 21, 36, 8, 172087)}],\n",
       "     'parameter': [{'name': 'alpha',\n",
       "       'id': '6cc58b99-f98d-4342-9f8d-fb5d0606dbdc',\n",
       "       'value': 0.001,\n",
       "       'description': None,\n",
       "       'tags': [],\n",
       "       'created_at': datetime.datetime(2023, 3, 16, 21, 36, 8, 172230)},\n",
       "      {'name': 'gamma',\n",
       "       'id': 'c9df4b0c-21d6-4c8f-92bd-4ef9cd2c105e',\n",
       "       'value': 1e-05,\n",
       "       'description': None,\n",
       "       'tags': [],\n",
       "       'created_at': datetime.datetime(2023, 3, 16, 21, 36, 8, 172390)},\n",
       "      {'name': 'n_iter',\n",
       "       'id': 'f41d1481-06de-4edd-aa4d-ed13ca75bd49',\n",
       "       'value': 1000,\n",
       "       'description': None,\n",
       "       'tags': [],\n",
       "       'created_at': datetime.datetime(2023, 3, 16, 21, 36, 8, 172535)}],\n",
       "     'metric': [{'name': 'accuracy',\n",
       "       'value': 0.16494947983319797,\n",
       "       'id': 'be4cef71-bd01-4357-9cad-3cb49c2e8f98',\n",
       "       'description': None,\n",
       "       'directionality': 'score',\n",
       "       'created_at': datetime.datetime(2023, 3, 16, 21, 36, 8, 172671),\n",
       "       'tags': []}],\n",
       "     'artifact': [{'name': 'model',\n",
       "       'id': '6c3e15e1-af0d-425e-9f92-f34df284698f',\n",
       "       'description': None,\n",
       "       'created_at': datetime.datetime(2023, 3, 16, 21, 36, 8, 172868),\n",
       "       'tags': [],\n",
       "       'parent_id': 'cdd3ff65-f366-4e49-90ca-5d17d78908d4'}],\n",
       "     'dataframe': [{'id': '3ce43add-1a64-4b97-adf0-f3019256fccb',\n",
       "       'name': None,\n",
       "       'description': None,\n",
       "       'tags': [],\n",
       "       'created_at': datetime.datetime(2023, 3, 16, 21, 36, 8, 173505),\n",
       "       'parent_id': 'cdd3ff65-f366-4e49-90ca-5d17d78908d4'}]},\n",
       "    {'project_name': 'jsonpath',\n",
       "     'id': '5d9a639c-ddd5-419a-81a6-90c3afe43cf1',\n",
       "     'name': None,\n",
       "     'description': None,\n",
       "     'model_name': None,\n",
       "     'branch_name': None,\n",
       "     'commit_hash': None,\n",
       "     'training_metadata': None,\n",
       "     'tags': ['b'],\n",
       "     'created_at': datetime.datetime(2023, 3, 16, 21, 36, 8, 173879),\n",
       "     'feature': [{'name': 'var_001',\n",
       "       'id': '5faeda4d-5770-4a9b-aaee-f84604d5e0f1',\n",
       "       'description': None,\n",
       "       'importance': None,\n",
       "       'tags': [],\n",
       "       'created_at': datetime.datetime(2023, 3, 16, 21, 36, 8, 174008)},\n",
       "      {'name': 'var_002',\n",
       "       'id': '49cfb6e6-1c6e-445a-9820-141484e74128',\n",
       "       'description': None,\n",
       "       'importance': None,\n",
       "       'tags': [],\n",
       "       'created_at': datetime.datetime(2023, 3, 16, 21, 36, 8, 174178)},\n",
       "      {'name': 'var_003',\n",
       "       'id': 'ec3be848-590d-44f7-9bc7-128cde25d1bf',\n",
       "       'description': None,\n",
       "       'importance': None,\n",
       "       'tags': [],\n",
       "       'created_at': datetime.datetime(2023, 3, 16, 21, 36, 8, 174311)},\n",
       "      {'name': 'var_004',\n",
       "       'id': '5dea22c7-cf36-4a77-825e-85d952711298',\n",
       "       'description': None,\n",
       "       'importance': None,\n",
       "       'tags': [],\n",
       "       'created_at': datetime.datetime(2023, 3, 16, 21, 36, 8, 174442)}],\n",
       "     'parameter': [{'name': 'alpha',\n",
       "       'id': '538709df-04fe-4616-a1e9-92a89ad3efbf',\n",
       "       'value': 0.001,\n",
       "       'description': None,\n",
       "       'tags': [],\n",
       "       'created_at': datetime.datetime(2023, 3, 16, 21, 36, 8, 174576)},\n",
       "      {'name': 'gamma',\n",
       "       'id': 'e9cb88ab-287d-488a-824a-e0f928ae8a48',\n",
       "       'value': 1e-05,\n",
       "       'description': None,\n",
       "       'tags': [],\n",
       "       'created_at': datetime.datetime(2023, 3, 16, 21, 36, 8, 174731)},\n",
       "      {'name': 'n_iter',\n",
       "       'id': '2a166327-2b09-462a-8adc-0451382984b1',\n",
       "       'value': 1000,\n",
       "       'description': None,\n",
       "       'tags': [],\n",
       "       'created_at': datetime.datetime(2023, 3, 16, 21, 36, 8, 174861)}],\n",
       "     'metric': [{'name': 'accuracy',\n",
       "       'value': 0.6897669242175674,\n",
       "       'id': 'a9a72180-b47c-435e-ae9b-1f92ccdb7155',\n",
       "       'description': None,\n",
       "       'directionality': 'score',\n",
       "       'created_at': datetime.datetime(2023, 3, 16, 21, 36, 8, 174990),\n",
       "       'tags': []}],\n",
       "     'artifact': [{'name': 'model',\n",
       "       'id': '0106c812-36ba-431f-a329-0c9e4b91ed07',\n",
       "       'description': None,\n",
       "       'created_at': datetime.datetime(2023, 3, 16, 21, 36, 8, 175160),\n",
       "       'tags': [],\n",
       "       'parent_id': '5d9a639c-ddd5-419a-81a6-90c3afe43cf1'}],\n",
       "     'dataframe': [{'id': 'b620d7cf-c1f5-4a98-8aa3-18b6c940f277',\n",
       "       'name': None,\n",
       "       'description': None,\n",
       "       'tags': [],\n",
       "       'created_at': datetime.datetime(2023, 3, 16, 21, 36, 8, 175529),\n",
       "       'parent_id': '5d9a639c-ddd5-419a-81a6-90c3afe43cf1'}]},\n",
       "    {'project_name': 'jsonpath',\n",
       "     'id': '895d866b-62c1-4c4a-aeea-098152361b96',\n",
       "     'name': None,\n",
       "     'description': None,\n",
       "     'model_name': None,\n",
       "     'branch_name': None,\n",
       "     'commit_hash': None,\n",
       "     'training_metadata': None,\n",
       "     'tags': ['c'],\n",
       "     'created_at': datetime.datetime(2023, 3, 16, 21, 36, 8, 175860),\n",
       "     'feature': [{'name': 'var_001',\n",
       "       'id': 'b637c186-c261-41ad-8dd1-ae35491578d9',\n",
       "       'description': None,\n",
       "       'importance': None,\n",
       "       'tags': [],\n",
       "       'created_at': datetime.datetime(2023, 3, 16, 21, 36, 8, 175991)},\n",
       "      {'name': 'var_002',\n",
       "       'id': '81d951bc-0778-4a16-92c9-9f91a932ec25',\n",
       "       'description': None,\n",
       "       'importance': None,\n",
       "       'tags': [],\n",
       "       'created_at': datetime.datetime(2023, 3, 16, 21, 36, 8, 176164)},\n",
       "      {'name': 'var_003',\n",
       "       'id': '9023f703-5afb-4418-8b45-7a72b16ee0b7',\n",
       "       'description': None,\n",
       "       'importance': None,\n",
       "       'tags': [],\n",
       "       'created_at': datetime.datetime(2023, 3, 16, 21, 36, 8, 176290)},\n",
       "      {'name': 'var_004',\n",
       "       'id': 'bd3b04d3-ca59-49ee-9283-6e74ae5bfa8f',\n",
       "       'description': None,\n",
       "       'importance': None,\n",
       "       'tags': [],\n",
       "       'created_at': datetime.datetime(2023, 3, 16, 21, 36, 8, 176412)}],\n",
       "     'parameter': [{'name': 'alpha',\n",
       "       'id': 'e5ceea8a-bc82-4701-ac36-009578cfcab1',\n",
       "       'value': 0.001,\n",
       "       'description': None,\n",
       "       'tags': [],\n",
       "       'created_at': datetime.datetime(2023, 3, 16, 21, 36, 8, 176536)},\n",
       "      {'name': 'gamma',\n",
       "       'id': 'fa488da7-7e9a-4495-9f89-9654db01589d',\n",
       "       'value': 1e-05,\n",
       "       'description': None,\n",
       "       'tags': [],\n",
       "       'created_at': datetime.datetime(2023, 3, 16, 21, 36, 8, 176693)},\n",
       "      {'name': 'n_iter',\n",
       "       'id': '17b68e63-b001-4c64-8b65-95da5702d67d',\n",
       "       'value': 1000,\n",
       "       'description': None,\n",
       "       'tags': [],\n",
       "       'created_at': datetime.datetime(2023, 3, 16, 21, 36, 8, 176824)}],\n",
       "     'metric': [{'name': 'accuracy',\n",
       "       'value': 0.6349999404047206,\n",
       "       'id': '712a7a11-3f44-4116-bd0f-e485ddc07bab',\n",
       "       'description': None,\n",
       "       'directionality': 'score',\n",
       "       'created_at': datetime.datetime(2023, 3, 16, 21, 36, 8, 176956),\n",
       "       'tags': []}],\n",
       "     'artifact': [{'name': 'model',\n",
       "       'id': '6162d4bf-d4a6-4ecb-8462-303961c93a63',\n",
       "       'description': None,\n",
       "       'created_at': datetime.datetime(2023, 3, 16, 21, 36, 8, 177128),\n",
       "       'tags': [],\n",
       "       'parent_id': '895d866b-62c1-4c4a-aeea-098152361b96'}],\n",
       "     'dataframe': [{'id': '0d1d8465-b3e0-476f-a757-5a841fe2599a',\n",
       "       'name': None,\n",
       "       'description': None,\n",
       "       'tags': [],\n",
       "       'created_at': datetime.datetime(2023, 3, 16, 21, 36, 8, 177496),\n",
       "       'parent_id': '895d866b-62c1-4c4a-aeea-098152361b96'}]},\n",
       "    {'project_name': 'jsonpath',\n",
       "     'id': '09357d68-59bd-4998-9ece-8bfd940ad664',\n",
       "     'name': None,\n",
       "     'description': None,\n",
       "     'model_name': None,\n",
       "     'branch_name': None,\n",
       "     'commit_hash': None,\n",
       "     'training_metadata': None,\n",
       "     'tags': ['a'],\n",
       "     'created_at': datetime.datetime(2023, 3, 16, 21, 36, 8, 177825),\n",
       "     'feature': [{'name': 'var_001',\n",
       "       'id': '5ebc289a-99e6-4e9e-bd05-d7ec134091f5',\n",
       "       'description': None,\n",
       "       'importance': None,\n",
       "       'tags': [],\n",
       "       'created_at': datetime.datetime(2023, 3, 16, 21, 36, 8, 177950)},\n",
       "      {'name': 'var_002',\n",
       "       'id': '8998454a-660c-47ed-acab-ef7e8aa861a6',\n",
       "       'description': None,\n",
       "       'importance': None,\n",
       "       'tags': [],\n",
       "       'created_at': datetime.datetime(2023, 3, 16, 21, 36, 8, 178114)},\n",
       "      {'name': 'var_003',\n",
       "       'id': '0ac30e9f-07da-4486-8ebb-f65696b4ee21',\n",
       "       'description': None,\n",
       "       'importance': None,\n",
       "       'tags': [],\n",
       "       'created_at': datetime.datetime(2023, 3, 16, 21, 36, 8, 178241)},\n",
       "      {'name': 'var_004',\n",
       "       'id': '2d97057f-2a71-44f4-bd16-2b63ed6816ea',\n",
       "       'description': None,\n",
       "       'importance': None,\n",
       "       'tags': [],\n",
       "       'created_at': datetime.datetime(2023, 3, 16, 21, 36, 8, 178365)}],\n",
       "     'parameter': [{'name': 'alpha',\n",
       "       'id': 'd3e66085-467c-4130-bc72-7fa26d2057ae',\n",
       "       'value': 0.001,\n",
       "       'description': None,\n",
       "       'tags': [],\n",
       "       'created_at': datetime.datetime(2023, 3, 16, 21, 36, 8, 178500)},\n",
       "      {'name': 'gamma',\n",
       "       'id': 'f87e43db-b336-4f4e-b7a5-39134a0b7685',\n",
       "       'value': 1e-05,\n",
       "       'description': None,\n",
       "       'tags': [],\n",
       "       'created_at': datetime.datetime(2023, 3, 16, 21, 36, 8, 178664)},\n",
       "      {'name': 'n_iter',\n",
       "       'id': '7359d3da-6398-43f2-a34f-eee63cd63e3b',\n",
       "       'value': 1000,\n",
       "       'description': None,\n",
       "       'tags': [],\n",
       "       'created_at': datetime.datetime(2023, 3, 16, 21, 36, 8, 178790)}],\n",
       "     'metric': [{'name': 'accuracy',\n",
       "       'value': 0.4791004720574512,\n",
       "       'id': 'cf1bd8e9-e0a3-43d4-a1fc-6d7c6c19d2e1',\n",
       "       'description': None,\n",
       "       'directionality': 'score',\n",
       "       'created_at': datetime.datetime(2023, 3, 16, 21, 36, 8, 178914),\n",
       "       'tags': []}],\n",
       "     'artifact': [{'name': 'model',\n",
       "       'id': '719f5c27-ed98-453f-a66f-cd6f8f4748f5',\n",
       "       'description': None,\n",
       "       'created_at': datetime.datetime(2023, 3, 16, 21, 36, 8, 179102),\n",
       "       'tags': [],\n",
       "       'parent_id': '09357d68-59bd-4998-9ece-8bfd940ad664'}],\n",
       "     'dataframe': [{'id': 'ee83ffce-ca2e-4c61-bc87-72c62fe47508',\n",
       "       'name': None,\n",
       "       'description': None,\n",
       "       'tags': [],\n",
       "       'created_at': datetime.datetime(2023, 3, 16, 21, 36, 8, 179513),\n",
       "       'parent_id': '09357d68-59bd-4998-9ece-8bfd940ad664'}]}]}]}"
      ]
     },
     "execution_count": 3,
     "metadata": {},
     "output_type": "execute_result"
    }
   ],
   "source": [
    "from rubicon_ml import RubiconJSON\n",
    "\n",
    "pr_json = RubiconJSON(projects=[project])\n",
    "pr_json.json"
   ]
  },
  {
   "cell_type": "markdown",
   "id": "9ae578ef",
   "metadata": {},
   "source": [
    "### Query experiments with ``RubiconJSON.search``\n",
    "\n",
    "We'll start by getting all the metrics from each experiment:"
   ]
  },
  {
   "cell_type": "code",
   "execution_count": 4,
   "id": "aabe1d29",
   "metadata": {},
   "outputs": [
    {
     "name": "stdout",
     "output_type": "stream",
     "text": [
      "4 experiments\n",
      "1 metric\n",
      "[{'name': 'accuracy', 'value': 0.16494947983319797, 'id': 'be4cef71-bd01-4357-9cad-3cb49c2e8f98', 'description': None, 'directionality': 'score', 'created_at': datetime.datetime(2023, 3, 16, 21, 36, 8, 172671), 'tags': []}]\n",
      "1 metric\n",
      "[{'name': 'accuracy', 'value': 0.6897669242175674, 'id': 'a9a72180-b47c-435e-ae9b-1f92ccdb7155', 'description': None, 'directionality': 'score', 'created_at': datetime.datetime(2023, 3, 16, 21, 36, 8, 174990), 'tags': []}]\n",
      "1 metric\n",
      "[{'name': 'accuracy', 'value': 0.6349999404047206, 'id': '712a7a11-3f44-4116-bd0f-e485ddc07bab', 'description': None, 'directionality': 'score', 'created_at': datetime.datetime(2023, 3, 16, 21, 36, 8, 176956), 'tags': []}]\n",
      "1 metric\n",
      "[{'name': 'accuracy', 'value': 0.4791004720574512, 'id': 'cf1bd8e9-e0a3-43d4-a1fc-6d7c6c19d2e1', 'description': None, 'directionality': 'score', 'created_at': datetime.datetime(2023, 3, 16, 21, 36, 8, 178914), 'tags': []}]\n"
     ]
    }
   ],
   "source": [
    "res = pr_json.search(\"$..experiment[*].metric\")\n",
    "\n",
    "print(f\"{len(res)} experiments\")\n",
    "for match in res:\n",
    "    print(f\"{len(match.value)} metric\")\n",
    "    print(match.value)"
   ]
  },
  {
   "cell_type": "markdown",
   "id": "af33d3c2",
   "metadata": {},
   "source": [
    "Now let's get each experiments with a tag \"b\"."
   ]
  },
  {
   "cell_type": "code",
   "execution_count": 5,
   "id": "7dfee977",
   "metadata": {},
   "outputs": [
    {
     "name": "stdout",
     "output_type": "stream",
     "text": [
      "1 experiment\n",
      "{'project_name': 'jsonpath', 'id': '5d9a639c-ddd5-419a-81a6-90c3afe43cf1', 'name': None, 'description': None, 'model_name': None, 'branch_name': None, 'commit_hash': None, 'training_metadata': None, 'tags': ['b'], 'created_at': datetime.datetime(2023, 3, 16, 21, 36, 8, 173879), 'feature': [{'name': 'var_001', 'id': '5faeda4d-5770-4a9b-aaee-f84604d5e0f1', 'description': None, 'importance': None, 'tags': [], 'created_at': datetime.datetime(2023, 3, 16, 21, 36, 8, 174008)}, {'name': 'var_002', 'id': '49cfb6e6-1c6e-445a-9820-141484e74128', 'description': None, 'importance': None, 'tags': [], 'created_at': datetime.datetime(2023, 3, 16, 21, 36, 8, 174178)}, {'name': 'var_003', 'id': 'ec3be848-590d-44f7-9bc7-128cde25d1bf', 'description': None, 'importance': None, 'tags': [], 'created_at': datetime.datetime(2023, 3, 16, 21, 36, 8, 174311)}, {'name': 'var_004', 'id': '5dea22c7-cf36-4a77-825e-85d952711298', 'description': None, 'importance': None, 'tags': [], 'created_at': datetime.datetime(2023, 3, 16, 21, 36, 8, 174442)}], 'parameter': [{'name': 'alpha', 'id': '538709df-04fe-4616-a1e9-92a89ad3efbf', 'value': 0.001, 'description': None, 'tags': [], 'created_at': datetime.datetime(2023, 3, 16, 21, 36, 8, 174576)}, {'name': 'gamma', 'id': 'e9cb88ab-287d-488a-824a-e0f928ae8a48', 'value': 1e-05, 'description': None, 'tags': [], 'created_at': datetime.datetime(2023, 3, 16, 21, 36, 8, 174731)}, {'name': 'n_iter', 'id': '2a166327-2b09-462a-8adc-0451382984b1', 'value': 1000, 'description': None, 'tags': [], 'created_at': datetime.datetime(2023, 3, 16, 21, 36, 8, 174861)}], 'metric': [{'name': 'accuracy', 'value': 0.6897669242175674, 'id': 'a9a72180-b47c-435e-ae9b-1f92ccdb7155', 'description': None, 'directionality': 'score', 'created_at': datetime.datetime(2023, 3, 16, 21, 36, 8, 174990), 'tags': []}], 'artifact': [{'name': 'model', 'id': '0106c812-36ba-431f-a329-0c9e4b91ed07', 'description': None, 'created_at': datetime.datetime(2023, 3, 16, 21, 36, 8, 175160), 'tags': [], 'parent_id': '5d9a639c-ddd5-419a-81a6-90c3afe43cf1'}], 'dataframe': [{'id': 'b620d7cf-c1f5-4a98-8aa3-18b6c940f277', 'name': None, 'description': None, 'tags': [], 'created_at': datetime.datetime(2023, 3, 16, 21, 36, 8, 175529), 'parent_id': '5d9a639c-ddd5-419a-81a6-90c3afe43cf1'}]}\n"
     ]
    }
   ],
   "source": [
    "res = pr_json.search(\"$..experiment[?(@.tags[*]=='b')]\")\n",
    "\n",
    "print(f\"{len(res)} experiment\")\n",
    "for match in res:\n",
    "    print(match.value)"
   ]
  },
  {
   "cell_type": "markdown",
   "id": "7ba47d49",
   "metadata": {},
   "source": [
    "Use the \"?\" operator to get metrics named \"accuracy\" with a value greater than 0.5 from\n",
    "each experiment:"
   ]
  },
  {
   "cell_type": "code",
   "execution_count": 6,
   "id": "2d043790",
   "metadata": {},
   "outputs": [
    {
     "name": "stdout",
     "output_type": "stream",
     "text": [
      "2 metrics\n",
      "{'name': 'accuracy', 'value': 0.6897669242175674, 'id': 'a9a72180-b47c-435e-ae9b-1f92ccdb7155', 'description': None, 'directionality': 'score', 'created_at': datetime.datetime(2023, 3, 16, 21, 36, 8, 174990), 'tags': []}\n",
      "{'name': 'accuracy', 'value': 0.6349999404047206, 'id': '712a7a11-3f44-4116-bd0f-e485ddc07bab', 'description': None, 'directionality': 'score', 'created_at': datetime.datetime(2023, 3, 16, 21, 36, 8, 176956), 'tags': []}\n"
     ]
    }
   ],
   "source": [
    "res = pr_json.search(\"$..experiment[*].metric[?(@.name=='accuracy' & @.value>=0.5)]\")\n",
    "\n",
    "print(f\"{len(res)} metrics\")\n",
    "for match in res:\n",
    "    print(match.value)"
   ]
  },
  {
   "cell_type": "markdown",
   "id": "0e6f4bfd",
   "metadata": {},
   "source": [
    "Let's retrieve the ID's of the experiments those metrics belog to for further exploration:"
   ]
  },
  {
   "cell_type": "code",
   "execution_count": 7,
   "id": "76f1f370",
   "metadata": {},
   "outputs": [
    {
     "name": "stdout",
     "output_type": "stream",
     "text": [
      "2 experiment IDs\n",
      "5d9a639c-ddd5-419a-81a6-90c3afe43cf1\n",
      "895d866b-62c1-4c4a-aeea-098152361b96\n"
     ]
    }
   ],
   "source": [
    "res = pr_json.search(\"$..experiment[?(@.metric[?(@.name=='accuracy')].value>=0.5)].id\")\n",
    "\n",
    "print(f\"{len(res)} experiment IDs\")\n",
    "for match in res:\n",
    "    print(match.value)"
   ]
  },
  {
   "cell_type": "markdown",
   "id": "66fe98e1-298c-4729-8c40-bf7d7fbb8725",
   "metadata": {},
   "source": [
    "We can use the IDs to retrieve ``rubicon-ml`` experiments and dig deeper into the metadata."
   ]
  },
  {
   "cell_type": "code",
   "execution_count": 8,
   "id": "a383158e-1a58-4e7e-9021-286db622d131",
   "metadata": {
    "tags": []
   },
   "outputs": [
    {
     "data": {
      "text/plain": [
       "<__main__.MODEL at 0x15ddbbc90>"
      ]
     },
     "execution_count": 8,
     "metadata": {},
     "output_type": "execute_result"
    }
   ],
   "source": [
    "experiment = project.experiment(id=\"5d9a639c-ddd5-419a-81a6-90c3afe43cf1\")\n",
    "experiment.artifact(name=\"model\").get_data(unpickle=True)"
   ]
  }
 ],
 "metadata": {
  "kernelspec": {
   "display_name": "Python 3 (ipykernel)",
   "language": "python",
   "name": "python3"
  },
  "language_info": {
   "codemirror_mode": {
    "name": "ipython",
    "version": 3
   },
   "file_extension": ".py",
   "mimetype": "text/x-python",
   "name": "python",
   "nbconvert_exporter": "python",
   "pygments_lexer": "ipython3",
   "version": "3.11.0"
  }
 },
 "nbformat": 4,
 "nbformat_minor": 5
}
