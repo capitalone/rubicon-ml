{
 "cells": [
  {
   "cell_type": "markdown",
   "id": "c85cc8b9",
   "metadata": {},
   "source": [
    "# Tagging\n",
    "\n",
    "Sometimes we might want to tag **experiments** and objects with distinct values to organize\n",
    "and filter them later on. For example, tags could be used to differentiate between\n",
    "the type of model or classifier used during the **experiment** (i.e. `linear regression`\n",
    "or `random forest`).Besides, **experiments**, ``rubicon_ml`` can tag artifacts, dataframes, \n",
    "features, metrics, and parameters. \n",
    "\n",
    "Below, we'll see examples of tagging functionality.\n",
    "\n",
    "### Adding tags when logging"
   ]
  },
  {
   "cell_type": "code",
   "execution_count": 15,
   "id": "958193a8",
   "metadata": {},
   "outputs": [
    {
     "name": "stdout",
     "output_type": "stream",
     "text": [
      "['odd_number_exp']\n",
      "['even_number_exp']\n",
      "['tag1', 'tag2']\n"
     ]
    }
   ],
   "source": [
    "from rubicon_ml import Rubicon\n",
    "\n",
    "rubicon = Rubicon(persistence=\"memory\")\n",
    "project = rubicon.get_or_create_project(\"Tagging\")\n",
    "\n",
    "#logging experiments with tags\n",
    "experiment1 = project.log_experiment(tags=[\"odd_number_exp\"])\n",
    "experiment2 = project.log_experiment(tags=[\"even_number_exp\"])\n",
    "\n",
    "#logging other objects with tags\n",
    "first_parameter = experiment1.log_parameter(\"n_estimators\", tags=[\"scalar\"])\n",
    "first_feature = experiment1.log_feature(\"year\", tags=[\"time\"])\n",
    "\n",
    "#can add multiple tags at logging\n",
    "first_metric = experiment1.log_metric(\"accuracy\", .8, tags=[\"tag1\", \"tag2\"])\n",
    "\n",
    "\n",
    "print(experiment1.tags)\n",
    "print(experiment2.tags)\n",
    "print(first_metric.tags)"
   ]
  },
  {
   "cell_type": "markdown",
   "id": "b746fff9",
   "metadata": {},
   "source": [
    "### Adding tags to existing objects\n",
    "Use the object's add_tags() method"
   ]
  },
  {
   "cell_type": "code",
   "execution_count": 17,
   "id": "a673ecd8",
   "metadata": {},
   "outputs": [
    {
     "name": "stdout",
     "output_type": "stream",
     "text": [
      "['linear regression', 'odd_number_exp']\n",
      "['even_number_exp', 'random forrest']\n",
      "['tag2', 'tag1', 'tag3']\n"
     ]
    }
   ],
   "source": [
    "experiment1.add_tags([\"linear regression\"])\n",
    "experiment2.add_tags([\"random forrest\"])\n",
    "first_metric.add_tags([\"tag3\"])\n",
    "\n",
    "print(experiment1.tags)\n",
    "print(experiment2.tags)\n",
    "print(first_metric.tags)"
   ]
  },
  {
   "cell_type": "markdown",
   "id": "30e06c51",
   "metadata": {},
   "source": [
    "### Removing tags from existing objects\n",
    "Use the object's remove_tags() method"
   ]
  },
  {
   "cell_type": "code",
   "execution_count": 20,
   "id": "655d10e7",
   "metadata": {},
   "outputs": [
    {
     "name": "stdout",
     "output_type": "stream",
     "text": [
      "['even_number_exp']\n",
      "['tag1', 'tag3']\n"
     ]
    }
   ],
   "source": [
    "experiment2.remove_tags([\"random forrest\"])\n",
    "\n",
    "#can remove multiple at once\n",
    "first_metric.remove_tags([\"tag2\",\"tag3\"])\n",
    "\n",
    "print(experiment2.tags)\n",
    "print(first_metric.tags)"
   ]
  },
  {
   "cell_type": "markdown",
   "id": "40558858",
   "metadata": {},
   "source": [
    "### Retreive objects by their tags\n",
    "If logged to an experiment use the experiment.objects() method where \"objects\" can be \n",
    "parameters, metrics, artifacts etc. Here we'll use project"
   ]
  },
  {
   "cell_type": "code",
   "execution_count": null,
   "id": "ff398133",
   "metadata": {},
   "outputs": [],
   "source": [
    "experiment1.add_tags([\"old_exp\"])\n",
    "experiment2.add_tags([\"old_exp\"])\n",
    "experiment3 = project.log_experiment(tags=[\"odd_exp\",\"new_exp\"])\n",
    "\n",
    "old_experiments = project.experiments(tags=[\"old_exp\"])\n",
    "new_experiments\n",
    "\n"
   ]
  }
 ],
 "metadata": {
  "kernelspec": {
   "display_name": "Python 3 (ipykernel)",
   "language": "python",
   "name": "python3"
  },
  "language_info": {
   "codemirror_mode": {
    "name": "ipython",
    "version": 3
   },
   "file_extension": ".py",
   "mimetype": "text/x-python",
   "name": "python",
   "nbconvert_exporter": "python",
   "pygments_lexer": "ipython3",
   "version": "3.10.6"
  }
 },
 "nbformat": 4,
 "nbformat_minor": 5
}
