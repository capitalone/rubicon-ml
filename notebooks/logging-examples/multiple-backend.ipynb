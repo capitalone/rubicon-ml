{
 "cells": [
  {
   "cell_type": "markdown",
   "id": "d39383f7",
   "metadata": {},
   "source": [
    "# Log with Multiple Backends\n",
    "`rubicon-ml` allows users to instantiate `Rubicon` objects with multiple backends to write to/read from. These backends include local, memory, and S3 repositories. Here's a walk through of how one might instantiate and use a `Rubicon` object with multiple backends."
   ]
  },
  {
   "cell_type": "code",
   "execution_count": 1,
   "id": "7e1d5aaa",
   "metadata": {},
   "outputs": [],
   "source": [
    "from rubicon_ml import Rubicon"
   ]
  },
  {
   "cell_type": "code",
   "execution_count": 2,
   "id": "e38b0be9",
   "metadata": {},
   "outputs": [],
   "source": [
    "#rb = Rubicon(persistence=\"memory\")\n",
    "#or\n",
    "#rb = Rubicon(persistence=\"filesystem\")"
   ]
  },
  {
   "cell_type": "markdown",
   "id": "e1936248",
   "metadata": {},
   "source": [
    "However, when we want multiple backends we utilize the `composite_config` kwarg:"
   ]
  },
  {
   "cell_type": "code",
   "execution_count": 3,
   "id": "095655e5",
   "metadata": {},
   "outputs": [],
   "source": [
    "#example multiple backend instantiaiton\n",
    "rb = Rubicon(composite_config=[\n",
    "    {\"persistence\": \"filesystem\", \"root_dir\": \"./rubicon-root/rootA\"},\n",
    "    {\"persistence\": \"filesystem\", \"root_dir\": \"./rubicon-root/rootB\"},\n",
    "])"
   ]
  },
  {
   "cell_type": "markdown",
   "id": "66644d33",
   "metadata": {},
   "source": [
    "### Write Commands\n",
    "The following commands write to all insantiated backend repositories:"
   ]
  },
  {
   "cell_type": "code",
   "execution_count": 4,
   "id": "b7ecf19d",
   "metadata": {},
   "outputs": [],
   "source": [
    "project = rb.create_project(\"example_project\")\n",
    "\n",
    "experiment = project.log_experiment(\"example_experiment\")\n",
    "\n",
    "artifact = experiment.log_artifact(data_bytes=b\"bytes\", name=\"example_artifact\")\n",
    "import pandas as pd\n",
    "dataframe = experiment.log_dataframe(pd.DataFrame([[5, 0, 0], [0, 5, 1], [0, 0, 4]], columns=[\"x\", \"y\", \"z\"]))\n",
    "feature = experiment.log_feature(\"year\")\n",
    "metric = experiment.log_metric(\"accuracy\", .8)\n",
    "parameter = experiment.log_parameter(\"n_estimators\")"
   ]
  },
  {
   "cell_type": "markdown",
   "id": "10db7e8b",
   "metadata": {},
   "source": [
    "Let's verify both of our backends have been written to:"
   ]
  },
  {
   "cell_type": "code",
   "execution_count": 5,
   "id": "c9e815cf",
   "metadata": {},
   "outputs": [
    {
     "name": "stdout",
     "output_type": "stream",
     "text": [
      "\u001b[1m\u001b[36mexampleproject\u001b[m\u001b[m\n",
      "\n",
      "\n",
      "\u001b[1m\u001b[36mexperiments\u001b[m\u001b[m   metadata.json\n",
      "\n",
      "\n",
      "\u001b[1m\u001b[36m8661b18a-afe3-4779-8ed4-e7d2a9aba244\u001b[m\u001b[m\n",
      "\n",
      "\n",
      "\u001b[1m\u001b[36martifacts\u001b[m\u001b[m     \u001b[1m\u001b[36mfeatures\u001b[m\u001b[m      \u001b[1m\u001b[36mmetrics\u001b[m\u001b[m\n",
      "\u001b[1m\u001b[36mdataframes\u001b[m\u001b[m    metadata.json \u001b[1m\u001b[36mparameters\u001b[m\u001b[m\n",
      "\n",
      "\n",
      "\u001b[1m\u001b[36me3b53858-ae06-4a11-996b-17b077821168\u001b[m\u001b[m\n",
      "\n",
      "\n",
      "\u001b[1m\u001b[36m8cd7f032-3206-480b-948b-44d878f6bb56\u001b[m\u001b[m\n",
      "\n",
      "\n",
      "\u001b[1m\u001b[36myear\u001b[m\u001b[m\n",
      "\n",
      "\n",
      "\u001b[1m\u001b[36maccuracy\u001b[m\u001b[m\n",
      "\n",
      "\n",
      "\u001b[1m\u001b[36mnestimators\u001b[m\u001b[m\n"
     ]
    }
   ],
   "source": [
    "!ls \"./rubicon-root/rootA\"\n",
    "print(\"\\n\")\n",
    "!ls \"./rubicon-root/rootA/exampleproject\"\n",
    "print(\"\\n\")\n",
    "!ls \"./rubicon-root/rootA/exampleproject/experiments\"\n",
    "print(\"\\n\")\n",
    "!ls \"./rubicon-root/rootA/exampleproject/experiments/{experiment.id}\" \n",
    "print(\"\\n\")\n",
    "!ls \"./rubicon-root/rootA/exampleproject/experiments/{experiment.id}/artifacts\"\n",
    "print(\"\\n\")\n",
    "!ls \"./rubicon-root/rootA/exampleproject/experiments/{experiment.id}/dataframes\"\n",
    "print(\"\\n\")\n",
    "!ls \"./rubicon-root/rootA/exampleproject/experiments/{experiment.id}/features\"\n",
    "print(\"\\n\")\n",
    "!ls \"./rubicon-root/rootA/exampleproject/experiments/{experiment.id}/metrics\"\n",
    "print(\"\\n\")\n",
    "!ls \"./rubicon-root/rootA/exampleproject/experiments/{experiment.id}/parameters\""
   ]
  },
  {
   "cell_type": "code",
   "execution_count": 6,
   "id": "d95347c9",
   "metadata": {},
   "outputs": [
    {
     "name": "stdout",
     "output_type": "stream",
     "text": [
      "\u001b[1m\u001b[36mexampleproject\u001b[m\u001b[m\n",
      "\n",
      "\n",
      "\u001b[1m\u001b[36mexperiments\u001b[m\u001b[m   metadata.json\n",
      "\n",
      "\n",
      "\u001b[1m\u001b[36m8661b18a-afe3-4779-8ed4-e7d2a9aba244\u001b[m\u001b[m\n",
      "\n",
      "\n",
      "\u001b[1m\u001b[36martifacts\u001b[m\u001b[m     \u001b[1m\u001b[36mfeatures\u001b[m\u001b[m      \u001b[1m\u001b[36mmetrics\u001b[m\u001b[m\n",
      "\u001b[1m\u001b[36mdataframes\u001b[m\u001b[m    metadata.json \u001b[1m\u001b[36mparameters\u001b[m\u001b[m\n",
      "\n",
      "\n",
      "\u001b[1m\u001b[36me3b53858-ae06-4a11-996b-17b077821168\u001b[m\u001b[m\n",
      "\n",
      "\n",
      "\u001b[1m\u001b[36m8cd7f032-3206-480b-948b-44d878f6bb56\u001b[m\u001b[m\n",
      "\n",
      "\n",
      "\u001b[1m\u001b[36myear\u001b[m\u001b[m\n",
      "\n",
      "\n",
      "\u001b[1m\u001b[36maccuracy\u001b[m\u001b[m\n",
      "\n",
      "\n",
      "\u001b[1m\u001b[36mnestimators\u001b[m\u001b[m\n"
     ]
    }
   ],
   "source": [
    "!ls \"./rubicon-root/rootB\"\n",
    "print(\"\\n\")\n",
    "!ls \"./rubicon-root/rootB/exampleproject\"\n",
    "print(\"\\n\")\n",
    "!ls \"./rubicon-root/rootB/exampleproject/experiments\"\n",
    "print(\"\\n\")\n",
    "!ls \"./rubicon-root/rootB/exampleproject/experiments/{experiment.id}\" \n",
    "print(\"\\n\")\n",
    "!ls \"./rubicon-root/rootB/exampleproject/experiments/{experiment.id}/artifacts\"\n",
    "print(\"\\n\")\n",
    "!ls \"./rubicon-root/rootB/exampleproject/experiments/{experiment.id}/dataframes\"\n",
    "print(\"\\n\")\n",
    "!ls \"./rubicon-root/rootB/exampleproject/experiments/{experiment.id}/features\"\n",
    "print(\"\\n\")\n",
    "!ls \"./rubicon-root/rootB/exampleproject/experiments/{experiment.id}/metrics\"\n",
    "print(\"\\n\")\n",
    "!ls \"./rubicon-root/rootB/exampleproject/experiments/{experiment.id}/parameters\""
   ]
  },
  {
   "cell_type": "markdown",
   "id": "12a5c1df",
   "metadata": {},
   "source": [
    "### Read Commands\n",
    "Now that we've seen both of our backends have been written to, let's see the read commands. Read commands will iterate over all backend repositories and return from the first one they are able to read from. A `RubiconException` will be raised if none of the backend repositories can be read the requested item(s)."
   ]
  },
  {
   "cell_type": "code",
   "execution_count": 7,
   "id": "0a2eda44",
   "metadata": {},
   "outputs": [
    {
     "name": "stdout",
     "output_type": "stream",
     "text": [
      "projects: [<rubicon_ml.client.project.Project object at 0x12782ba60>]\n",
      "\n",
      "\n",
      "experiments: [<rubicon_ml.client.experiment.Experiment object at 0x12792ae60>]\n",
      "\n",
      "\n",
      "artifacts: [<rubicon_ml.client.artifact.Artifact object at 0x12792ae90>]\n",
      "\n",
      "\n",
      "dataframes: [<rubicon_ml.client.dataframe.Dataframe object at 0x1278f1b40>]\n",
      "\n",
      "\n",
      "features: [<rubicon_ml.client.feature.Feature object at 0x127978130>]\n",
      "\n",
      "\n",
      "metrics: [<rubicon_ml.client.metric.Metric object at 0x1279780a0>]\n",
      "\n",
      "\n",
      "parameters: [<rubicon_ml.client.parameter.Parameter object at 0x127978310>]\n",
      "\n",
      "\n"
     ]
    }
   ],
   "source": [
    "projects = rb.projects()\n",
    "print(\"projects: \" + str(projects))\n",
    "print(\"\\n\")\n",
    "\n",
    "experiments = project.experiments()\n",
    "print(\"experiments: \" + str(experiments))\n",
    "print(\"\\n\")\n",
    "\n",
    "artifacts = experiment.artifacts()\n",
    "print(\"artifacts: \" + str(artifacts))\n",
    "print(\"\\n\")\n",
    "\n",
    "dataframes = experiment.dataframes()\n",
    "print(\"dataframes: \" + str(dataframes))\n",
    "print(\"\\n\")\n",
    "\n",
    "features = experiment.features()\n",
    "print(\"features: \" + str(features))\n",
    "print(\"\\n\")\n",
    "\n",
    "metrics = experiment.metrics()\n",
    "print(\"metrics: \" + str(metrics))\n",
    "print(\"\\n\")\n",
    "\n",
    "parameters = experiment.parameters()\n",
    "print(\"parameters: \" + str(parameters))\n",
    "print(\"\\n\")"
   ]
  },
  {
   "cell_type": "markdown",
   "id": "faf2bfcd",
   "metadata": {},
   "source": [
    "#### Additional Read Commands\n",
    "Along with the commands demonstrated above, all other \"read\" type rubicon commands work the same way in that they will iterate over backend repositories and return from the first one they are able to read from. These include commands which read a specific logged object like `get_project()`, `experiment()`, `artifact()`, `dataframe()`, `metric()`, and `parameter()`."
   ]
  },
  {
   "cell_type": "markdown",
   "id": "e4763de2",
   "metadata": {},
   "source": [
    "Cleaning up local repository folders"
   ]
  },
  {
   "cell_type": "code",
   "execution_count": 8,
   "id": "d0edd788",
   "metadata": {},
   "outputs": [],
   "source": [
    "rm -rf rubicon-root/rootA"
   ]
  },
  {
   "cell_type": "code",
   "execution_count": 9,
   "id": "9ff8be30",
   "metadata": {},
   "outputs": [],
   "source": [
    "rm -rf rubicon-root/rootB"
   ]
  }
 ],
 "metadata": {
  "kernelspec": {
   "display_name": "Python 3 (ipykernel)",
   "language": "python",
   "name": "python3"
  },
  "language_info": {
   "codemirror_mode": {
    "name": "ipython",
    "version": 3
   },
   "file_extension": ".py",
   "mimetype": "text/x-python",
   "name": "python",
   "nbconvert_exporter": "python",
   "pygments_lexer": "ipython3",
   "version": "3.10.8"
  }
 },
 "nbformat": 4,
 "nbformat_minor": 5
}
