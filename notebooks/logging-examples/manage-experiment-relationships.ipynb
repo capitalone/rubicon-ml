{
 "cells": [
  {
   "cell_type": "markdown",
   "id": "815af48c-67f4-4335-bf16-11068f7094bb",
   "metadata": {},
   "source": [
    "# Manage Experiment Relationships\n",
    "\n",
    "``rubicon-ml`` experiments can be tagged with special identifiers to denote a parent/child relationship.\n",
    "This can be used to track hierarchical or iterative experiments, among other things.\n",
    "\n",
    "First, let's create a project."
   ]
  },
  {
   "cell_type": "code",
   "execution_count": 1,
   "id": "c44f140a-0d40-4919-b058-8f986dd9bcb1",
   "metadata": {},
   "outputs": [
    {
     "data": {
      "text/plain": [
       "<rubicon_ml.client.project.Project at 0x11a983b10>"
      ]
     },
     "execution_count": 1,
     "metadata": {},
     "output_type": "execute_result"
    }
   ],
   "source": [
    "from rubicon_ml import Rubicon\n",
    "\n",
    "rubicon = Rubicon(persistence=\"memory\")\n",
    "project = rubicon.create_project(name=\"hierarchical experiments\")\n",
    "project"
   ]
  },
  {
   "cell_type": "markdown",
   "id": "d9aee6c2-8891-4a5b-98d6-37cce80bb40f",
   "metadata": {},
   "source": [
    "## Hierarchical experiments\n",
    "\n",
    "Now we can log some experiments in a nested loop. Imagine logging an experiment for each node of a\n",
    "gradient boosted tree, or something along those lines.\n",
    "\n",
    "We can use ``parent_experiment.add_child_experiment(child_experiment)`` to automatically add tags\n",
    "to both ``parent_experiment`` and ``child_experiment`` that represent their relationship."
   ]
  },
  {
   "cell_type": "code",
   "execution_count": 2,
   "id": "af1bd79b-dd77-4ccb-affb-8abea69f581b",
   "metadata": {},
   "outputs": [],
   "source": [
    "root_experiment = project.log_experiment(name=\"root\")\n",
    "\n",
    "for n in range(3):\n",
    "    node_experiment = project.log_experiment(name=f\"node_{n}\")\n",
    "    root_experiment.add_child_experiment(node_experiment)\n",
    "\n",
    "    for m in range(2):\n",
    "        nested_node_experiment = project.log_experiment(name=f\"node_{n}_{m}\")\n",
    "        node_experiment.add_child_experiment(nested_node_experiment)"
   ]
  },
  {
   "cell_type": "markdown",
   "id": "a2f6583c-081a-4afe-ba3a-5e6b8744f274",
   "metadata": {},
   "source": [
    "To retrieve experiments, start at the root experiment and call ``get_child_experiments`` to return a\n",
    "list of ``rubicon-ml`` objects representing each of the tagged child experiments."
   ]
  },
  {
   "cell_type": "code",
   "execution_count": 3,
   "id": "30068979-44ad-4fd5-9dab-6a2dbee66078",
   "metadata": {},
   "outputs": [
    {
     "name": "stdout",
     "output_type": "stream",
     "text": [
      "id: 12fac8d7-ce2a-4229-a545-286aa2539609\n",
      "tags: ['child:c2db7703-d7a8-4e50-bd88-445ca1cb1410', 'child:fff24ae1-fa82-4526-bac9-d8d27e58f1f7'] \n",
      "\n",
      "\tid: c2db7703-d7a8-4e50-bd88-445ca1cb1410\n",
      "\ttags: ['parent:12fac8d7-ce2a-4229-a545-286aa2539609'] \n",
      "\n",
      "\tid: fff24ae1-fa82-4526-bac9-d8d27e58f1f7\n",
      "\ttags: ['parent:12fac8d7-ce2a-4229-a545-286aa2539609'] \n",
      "\n",
      "id: 74c3c5f2-b201-4460-a250-d42c29fa799f\n",
      "tags: ['child:f1531c94-e626-4600-b018-cbb41d29e861', 'child:c729eb4c-7131-4339-8e91-ac6e786aafe6'] \n",
      "\n",
      "\tid: f1531c94-e626-4600-b018-cbb41d29e861\n",
      "\ttags: ['parent:74c3c5f2-b201-4460-a250-d42c29fa799f'] \n",
      "\n",
      "\tid: c729eb4c-7131-4339-8e91-ac6e786aafe6\n",
      "\ttags: ['parent:74c3c5f2-b201-4460-a250-d42c29fa799f'] \n",
      "\n",
      "id: 7ab02de9-a07b-4394-983a-e1cb17f16cb4\n",
      "tags: ['child:d54e32d8-c1ac-4182-9a74-d07da0b5980a', 'child:3b47be81-7a1e-49be-ad9c-d48070fa06ba'] \n",
      "\n",
      "\tid: d54e32d8-c1ac-4182-9a74-d07da0b5980a\n",
      "\ttags: ['parent:7ab02de9-a07b-4394-983a-e1cb17f16cb4'] \n",
      "\n",
      "\tid: 3b47be81-7a1e-49be-ad9c-d48070fa06ba\n",
      "\ttags: ['parent:7ab02de9-a07b-4394-983a-e1cb17f16cb4'] \n",
      "\n"
     ]
    }
   ],
   "source": [
    "for experiment in root_experiment.get_child_experiments():\n",
    "    print(\"id:\", experiment.id)\n",
    "    print(\"tags:\", [t for t in experiment.tags if \"child\" in t], \"\\n\")\n",
    "\n",
    "    for nested_experiment in experiment.get_child_experiments():\n",
    "        print(\"\\tid:\", nested_experiment.id)\n",
    "        print(\"\\ttags:\", nested_experiment.tags, \"\\n\")"
   ]
  },
  {
   "cell_type": "markdown",
   "id": "12bc18eb-0edd-4054-840b-c4b969a150fb",
   "metadata": {},
   "source": [
    "## Iterative experiments\n",
    "\n",
    "We can leverage ``add_child_experiment`` to maintain iterative relationships too. This could be\n",
    "used to log metadata about of each iteration of recursive feature elimination and preserve the\n",
    "linear history of the model training."
   ]
  },
  {
   "cell_type": "code",
   "execution_count": 4,
   "id": "0f104792-7cbf-4508-b37c-11dfb158b608",
   "metadata": {},
   "outputs": [],
   "source": [
    "current_experiment = project.log_experiment(name=\"experiment_0\")\n",
    "\n",
    "for n in range(3):\n",
    "    next_experiment = project.log_experiment(name=f\"experiment_{n+1}\")\n",
    "    current_experiment.add_child_experiment(next_experiment)\n",
    "\n",
    "    current_experiment = next_experiment\n",
    "\n",
    "last_experiment = current_experiment"
   ]
  },
  {
   "cell_type": "markdown",
   "id": "a0f42e74-8fc2-460a-9282-ed0492639d75",
   "metadata": {},
   "source": [
    "Similarly to ``get_child_experiments``, we can use ``get_parent_experiment`` to return a ``rubicon-ml``\n",
    "object representing the tagged parent experiment."
   ]
  },
  {
   "cell_type": "code",
   "execution_count": 5,
   "id": "35613e52-84f1-4d2e-8e3c-8c0f2b731d89",
   "metadata": {},
   "outputs": [
    {
     "name": "stdout",
     "output_type": "stream",
     "text": [
      "name: experiment_3\n",
      "\tid: 1d8d3f84-44bc-423b-9d41-27193e948732\n",
      "\ttags: ['parent:2ace6121-91b8-435b-a786-9b8bc8615430'] \n",
      "\n",
      "name: experiment_2\n",
      "\tid: 2ace6121-91b8-435b-a786-9b8bc8615430\n",
      "\ttags: ['parent:60bda2d6-5f7d-4c10-a2be-a09d00ce7a9c', 'child:1d8d3f84-44bc-423b-9d41-27193e948732'] \n",
      "\n",
      "name: experiment_1\n",
      "\tid: 60bda2d6-5f7d-4c10-a2be-a09d00ce7a9c\n",
      "\ttags: ['child:2ace6121-91b8-435b-a786-9b8bc8615430', 'parent:785a1d46-eddd-44a5-8be8-4d07662f2af2'] \n",
      "\n",
      "name: experiment_0\n",
      "\tid: 785a1d46-eddd-44a5-8be8-4d07662f2af2\n",
      "\ttags: ['child:60bda2d6-5f7d-4c10-a2be-a09d00ce7a9c'] \n",
      "\n"
     ]
    }
   ],
   "source": [
    "experiment = last_experiment\n",
    "\n",
    "while experiment is not None:\n",
    "    print(\"name:\", experiment.name)\n",
    "    print(\"\\tid:\", experiment.id)\n",
    "    print(\"\\ttags:\", experiment.tags, \"\\n\")\n",
    "\n",
    "    experiment = experiment.get_parent_experiment()"
   ]
  }
 ],
 "metadata": {
  "kernelspec": {
   "display_name": "Python 3 (ipykernel)",
   "language": "python",
   "name": "python3"
  },
  "language_info": {
   "codemirror_mode": {
    "name": "ipython",
    "version": 3
   },
   "file_extension": ".py",
   "mimetype": "text/x-python",
   "name": "python",
   "nbconvert_exporter": "python",
   "pygments_lexer": "ipython3",
   "version": "3.11.6"
  }
 },
 "nbformat": 4,
 "nbformat_minor": 5
}
