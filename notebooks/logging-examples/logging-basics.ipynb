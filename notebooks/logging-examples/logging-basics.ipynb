{
 "cells": [
  {
   "cell_type": "markdown",
   "metadata": {},
   "source": [
    "# Logging Basics\n",
    "\n",
    "`rubicon` can help us create an optimal machine learning model by logging the details of each\n",
    "experiment we run along the way. To illustrate, we'll train a classification model using `scikit-learn`'s\n",
    "[wine dataset](https://scikit-learn.org/stable/modules/generated/sklearn.datasets.load_wine.html).\n",
    "\n",
    "Let's load the dataset and take a quick look at it's contents."
   ]
  },
  {
   "cell_type": "code",
   "execution_count": 1,
   "metadata": {},
   "outputs": [
    {
     "name": "stdout",
     "output_type": "stream",
     "text": [
      "The data is the results of a chemical analysis of wines grown in the same\n",
      "region in Italy by three different cultivators. There are thirteen different\n",
      "measurements taken for different constituents found in the three types of\n",
      "wine.\n",
      "\n",
      "Original Owners: \n",
      "\n",
      "Forina, M. et al, PARVUS - \n",
      "An Extendible Package for Data Exploration, Classification and Correlation. \n",
      "Institute of Pharmaceutical and Food Analysis and Technologies,\n",
      "Via Brigata Salerno, 16147 Genoa, Italy.\n"
     ]
    }
   ],
   "source": [
    "from sklearn.datasets import load_wine\n",
    "\n",
    "\n",
    "wine = load_wine(as_frame=True)\n",
    "print(wine[\"DESCR\"][1952:2412])"
   ]
  },
  {
   "cell_type": "markdown",
   "metadata": {},
   "source": [
    "To see the full description of the dataset use ``print(wine[\"DESCR\"])``.\n",
    "\n",
    "Since we specified ``as_frame=True`` when loading the dataset, we've got the data as\n",
    "a ``pandas`` dataframe."
   ]
  },
  {
   "cell_type": "code",
   "execution_count": 2,
   "metadata": {},
   "outputs": [
    {
     "data": {
      "text/html": [
       "<div>\n",
       "<style scoped>\n",
       "    .dataframe tbody tr th:only-of-type {\n",
       "        vertical-align: middle;\n",
       "    }\n",
       "\n",
       "    .dataframe tbody tr th {\n",
       "        vertical-align: top;\n",
       "    }\n",
       "\n",
       "    .dataframe thead th {\n",
       "        text-align: right;\n",
       "    }\n",
       "</style>\n",
       "<table border=\"1\" class=\"dataframe\">\n",
       "  <thead>\n",
       "    <tr style=\"text-align: right;\">\n",
       "      <th></th>\n",
       "      <th>alcohol</th>\n",
       "      <th>malic_acid</th>\n",
       "      <th>ash</th>\n",
       "      <th>alcalinity_of_ash</th>\n",
       "      <th>magnesium</th>\n",
       "      <th>total_phenols</th>\n",
       "      <th>flavanoids</th>\n",
       "      <th>nonflavanoid_phenols</th>\n",
       "      <th>proanthocyanins</th>\n",
       "      <th>color_intensity</th>\n",
       "      <th>hue</th>\n",
       "      <th>od280/od315_of_diluted_wines</th>\n",
       "      <th>proline</th>\n",
       "    </tr>\n",
       "  </thead>\n",
       "  <tbody>\n",
       "    <tr>\n",
       "      <th>0</th>\n",
       "      <td>14.23</td>\n",
       "      <td>1.71</td>\n",
       "      <td>2.43</td>\n",
       "      <td>15.6</td>\n",
       "      <td>127.0</td>\n",
       "      <td>2.80</td>\n",
       "      <td>3.06</td>\n",
       "      <td>0.28</td>\n",
       "      <td>2.29</td>\n",
       "      <td>5.64</td>\n",
       "      <td>1.04</td>\n",
       "      <td>3.92</td>\n",
       "      <td>1065.0</td>\n",
       "    </tr>\n",
       "    <tr>\n",
       "      <th>1</th>\n",
       "      <td>13.20</td>\n",
       "      <td>1.78</td>\n",
       "      <td>2.14</td>\n",
       "      <td>11.2</td>\n",
       "      <td>100.0</td>\n",
       "      <td>2.65</td>\n",
       "      <td>2.76</td>\n",
       "      <td>0.26</td>\n",
       "      <td>1.28</td>\n",
       "      <td>4.38</td>\n",
       "      <td>1.05</td>\n",
       "      <td>3.40</td>\n",
       "      <td>1050.0</td>\n",
       "    </tr>\n",
       "    <tr>\n",
       "      <th>2</th>\n",
       "      <td>13.16</td>\n",
       "      <td>2.36</td>\n",
       "      <td>2.67</td>\n",
       "      <td>18.6</td>\n",
       "      <td>101.0</td>\n",
       "      <td>2.80</td>\n",
       "      <td>3.24</td>\n",
       "      <td>0.30</td>\n",
       "      <td>2.81</td>\n",
       "      <td>5.68</td>\n",
       "      <td>1.03</td>\n",
       "      <td>3.17</td>\n",
       "      <td>1185.0</td>\n",
       "    </tr>\n",
       "    <tr>\n",
       "      <th>3</th>\n",
       "      <td>14.37</td>\n",
       "      <td>1.95</td>\n",
       "      <td>2.50</td>\n",
       "      <td>16.8</td>\n",
       "      <td>113.0</td>\n",
       "      <td>3.85</td>\n",
       "      <td>3.49</td>\n",
       "      <td>0.24</td>\n",
       "      <td>2.18</td>\n",
       "      <td>7.80</td>\n",
       "      <td>0.86</td>\n",
       "      <td>3.45</td>\n",
       "      <td>1480.0</td>\n",
       "    </tr>\n",
       "    <tr>\n",
       "      <th>4</th>\n",
       "      <td>13.24</td>\n",
       "      <td>2.59</td>\n",
       "      <td>2.87</td>\n",
       "      <td>21.0</td>\n",
       "      <td>118.0</td>\n",
       "      <td>2.80</td>\n",
       "      <td>2.69</td>\n",
       "      <td>0.39</td>\n",
       "      <td>1.82</td>\n",
       "      <td>4.32</td>\n",
       "      <td>1.04</td>\n",
       "      <td>2.93</td>\n",
       "      <td>735.0</td>\n",
       "    </tr>\n",
       "  </tbody>\n",
       "</table>\n",
       "</div>"
      ],
      "text/plain": [
       "   alcohol  malic_acid   ash  alcalinity_of_ash  magnesium  total_phenols  \\\n",
       "0    14.23        1.71  2.43               15.6      127.0           2.80   \n",
       "1    13.20        1.78  2.14               11.2      100.0           2.65   \n",
       "2    13.16        2.36  2.67               18.6      101.0           2.80   \n",
       "3    14.37        1.95  2.50               16.8      113.0           3.85   \n",
       "4    13.24        2.59  2.87               21.0      118.0           2.80   \n",
       "\n",
       "   flavanoids  nonflavanoid_phenols  proanthocyanins  color_intensity   hue  \\\n",
       "0        3.06                  0.28             2.29             5.64  1.04   \n",
       "1        2.76                  0.26             1.28             4.38  1.05   \n",
       "2        3.24                  0.30             2.81             5.68  1.03   \n",
       "3        3.49                  0.24             2.18             7.80  0.86   \n",
       "4        2.69                  0.39             1.82             4.32  1.04   \n",
       "\n",
       "   od280/od315_of_diluted_wines  proline  \n",
       "0                          3.92   1065.0  \n",
       "1                          3.40   1050.0  \n",
       "2                          3.17   1185.0  \n",
       "3                          3.45   1480.0  \n",
       "4                          2.93    735.0  "
      ]
     },
     "execution_count": 2,
     "metadata": {},
     "output_type": "execute_result"
    }
   ],
   "source": [
    "wine_data = wine.data\n",
    "wine_data.head()"
   ]
  },
  {
   "cell_type": "markdown",
   "metadata": {},
   "source": [
    "Each sample holds measurements of different qualities of the wines observed. We'll train on 75%\n",
    "of the data and use the other 25% to make predictions using our model.\n",
    "\n",
    "First we'll split the data to define our training and testing subsets."
   ]
  },
  {
   "cell_type": "code",
   "execution_count": 3,
   "metadata": {},
   "outputs": [],
   "source": [
    "from sklearn.model_selection import train_test_split\n",
    "\n",
    "\n",
    "X_train, X_test, y_train, y_test = train_test_split(\n",
    "    wine[\"data\"],\n",
    "    wine[\"target\"],\n",
    "    test_size=0.25,\n",
    ")"
   ]
  },
  {
   "cell_type": "markdown",
   "metadata": {},
   "source": [
    "Let's try to train a model using ``scikit-learn``'s\n",
    "[random forest classifier](https://scikit-learn.org/stable/modules/generated/sklearn.ensemble.RandomForestClassifier.html)!\n",
    "\n",
    "\n",
    "**For this basic example, our goal will be to evaluate how the n_estimators parameter affects our results.**"
   ]
  },
  {
   "cell_type": "code",
   "execution_count": 4,
   "metadata": {},
   "outputs": [],
   "source": [
    "from sklearn.ensemble import RandomForestClassifier\n",
    "\n",
    "\n",
    "def fit_and_score_classifier(X_train, X_test, y_train, y_test, n_estimators):\n",
    "    rfc = RandomForestClassifier(n_estimators=n_estimators)\n",
    "    rfc.fit(X_train, y_train)\n",
    "    \n",
    "    accuracy = rfc.score(X_test, y_test)\n",
    "    \n",
    "    return accuracy"
   ]
  },
  {
   "cell_type": "markdown",
   "metadata": {},
   "source": [
    "With ``rubicon``, we can create a **project** to store as many **experiments** as we'd\n",
    "like to run. Each of these **experiments** can hold important metadata about your\n",
    "model run - like our varied values of ``n_estimators``."
   ]
  },
  {
   "cell_type": "code",
   "execution_count": 5,
   "metadata": {},
   "outputs": [
    {
     "data": {
      "text/plain": [
       "<rubicon.client.project.Project at 0x164189640>"
      ]
     },
     "execution_count": 5,
     "metadata": {},
     "output_type": "execute_result"
    }
   ],
   "source": [
    "import os\n",
    "\n",
    "from rubicon import Rubicon\n",
    "\n",
    "\n",
    "root_dir = f\"{os.path.dirname(os.getcwd())}/rubicon-root\"\n",
    "\n",
    "rubicon = Rubicon(persistence=\"filesystem\", root_dir=root_dir)\n",
    "project = rubicon.create_project(\n",
    "    \"Logging Basics\",\n",
    "    description=(\n",
    "        \"to determine what values of n_estimators create \",\n",
    "        \"the best random forest classifier using \",\n",
    "        \"scikit-learn's wine dataset\"\n",
    "    ),\n",
    ")\n",
    "project"
   ]
  },
  {
   "cell_type": "markdown",
   "metadata": {},
   "source": [
    "Let's get started with our first **experiment**! We can provide some basic info here like\n",
    "the name of the model we're using, some metadata around where our training data came from,\n",
    "and tags to easily filter our experiments later."
   ]
  },
  {
   "cell_type": "code",
   "execution_count": 6,
   "metadata": {},
   "outputs": [
    {
     "data": {
      "text/plain": [
       "<rubicon.client.experiment.Experiment at 0x119ab1670>"
      ]
     },
     "execution_count": 6,
     "metadata": {},
     "output_type": "execute_result"
    }
   ],
   "source": [
    "experiment = project.log_experiment(\n",
    "    model_name=RandomForestClassifier.__name__,\n",
    "    tags=[\"wine\"],\n",
    "    training_metadata=[(\"sklearn.datasets\", \"load_iris\")],\n",
    ")\n",
    "experiment"
   ]
  },
  {
   "cell_type": "markdown",
   "metadata": {},
   "source": [
    "We're mainly interested in how ``n_estimators`` affects our accuracy, so let's\n",
    "choose a starting value to test and log it as a **parameter**."
   ]
  },
  {
   "cell_type": "code",
   "execution_count": 7,
   "metadata": {},
   "outputs": [
    {
     "data": {
      "text/plain": [
       "<rubicon.client.parameter.Parameter at 0x111368ee0>"
      ]
     },
     "execution_count": 7,
     "metadata": {},
     "output_type": "execute_result"
    }
   ],
   "source": [
    "n_estimators = 1\n",
    "\n",
    "parameter = experiment.log_parameter(\"n_estimators\", n_estimators)\n",
    "parameter"
   ]
  },
  {
   "cell_type": "markdown",
   "metadata": {},
   "source": [
    "We can log the list of **features** in the training dataset to ``rubicon`` as well."
   ]
  },
  {
   "cell_type": "code",
   "execution_count": 8,
   "metadata": {},
   "outputs": [
    {
     "data": {
      "text/plain": [
       "[<rubicon.client.feature.Feature at 0x1649ce220>,\n",
       " <rubicon.client.feature.Feature at 0x1649ce280>,\n",
       " <rubicon.client.feature.Feature at 0x1649ce2e0>,\n",
       " <rubicon.client.feature.Feature at 0x1649ce340>,\n",
       " <rubicon.client.feature.Feature at 0x1649ce3a0>,\n",
       " <rubicon.client.feature.Feature at 0x1649ce400>,\n",
       " <rubicon.client.feature.Feature at 0x1649ce460>,\n",
       " <rubicon.client.feature.Feature at 0x1649ce4c0>,\n",
       " <rubicon.client.feature.Feature at 0x1649ce520>,\n",
       " <rubicon.client.feature.Feature at 0x1649ce580>,\n",
       " <rubicon.client.feature.Feature at 0x1649ce5e0>,\n",
       " <rubicon.client.feature.Feature at 0x1649ce640>,\n",
       " <rubicon.client.feature.Feature at 0x1649ce6a0>]"
      ]
     },
     "execution_count": 8,
     "metadata": {},
     "output_type": "execute_result"
    }
   ],
   "source": [
    "for feature_name in wine.feature_names:\n",
    "    experiment.log_feature(feature_name)\n",
    "    \n",
    "experiment.features()"
   ]
  },
  {
   "cell_type": "markdown",
   "metadata": {},
   "source": [
    "Now we're ready to train and score our classifier - let's see how it does with\n",
    "``n_estimators`` set to 1!"
   ]
  },
  {
   "cell_type": "code",
   "execution_count": 9,
   "metadata": {},
   "outputs": [
    {
     "data": {
      "text/plain": [
       "0.8888888888888888"
      ]
     },
     "execution_count": 9,
     "metadata": {},
     "output_type": "execute_result"
    }
   ],
   "source": [
    "accuracy = fit_and_score_classifier(X_train, X_test, y_train, y_test, n_estimators)\n",
    "accuracy"
   ]
  },
  {
   "cell_type": "markdown",
   "metadata": {},
   "source": [
    "Finally, we can log our accuracy to ``rubicon`` as a **metric**."
   ]
  },
  {
   "cell_type": "code",
   "execution_count": 10,
   "metadata": {},
   "outputs": [
    {
     "data": {
      "text/plain": [
       "<rubicon.client.metric.Metric at 0x111336070>"
      ]
     },
     "execution_count": 10,
     "metadata": {},
     "output_type": "execute_result"
    }
   ],
   "source": [
    "metric = experiment.log_metric(\"accuracy\", accuracy)\n",
    "metric"
   ]
  },
  {
   "cell_type": "markdown",
   "metadata": {},
   "source": [
    "**Experiments** can be tagged after the fact as well. We can define some kind of\n",
    "\"success\" criteria and tag accordingly."
   ]
  },
  {
   "cell_type": "code",
   "execution_count": 11,
   "metadata": {},
   "outputs": [],
   "source": [
    "if accuracy > 0.90:\n",
    "    experiment.add_tags([\"success\"])"
   ]
  },
  {
   "cell_type": "markdown",
   "metadata": {},
   "source": [
    "We can re-run the whole process above a few times for different values of ``n_estimators`` to\n",
    "really get an idea of how the **parameter** affects our accuracy **metric**."
   ]
  },
  {
   "cell_type": "code",
   "execution_count": 12,
   "metadata": {},
   "outputs": [],
   "source": [
    "for n_estimators in [5, 10, 15, 20]:\n",
    "    experiment = project.log_experiment(\n",
    "        model_name=RandomForestClassifier.__name__,\n",
    "        tags=[\"wine\"],\n",
    "        training_metadata=[(\"sklearn.datasets\", \"load_iris\")],\n",
    "    )\n",
    "    \n",
    "    experiment.log_parameter(\"n_estimators\", n_estimators)\n",
    "    \n",
    "    for feature_name in wine.feature_names:\n",
    "        experiment.log_feature(feature_name)\n",
    "        \n",
    "    accuracy = fit_and_score_classifier(X_train, X_test, y_train, y_test, n_estimators)\n",
    "    \n",
    "    experiment.log_metric(\"accuracy\", accuracy)\n",
    "    \n",
    "    if accuracy > 0.90:\n",
    "        experiment.add_tags([\"success\"])"
   ]
  },
  {
   "cell_type": "markdown",
   "metadata": {},
   "source": [
    "Now we can pull all our metadata back out of ``rubicon`` to inspect the results!"
   ]
  },
  {
   "cell_type": "code",
   "execution_count": 13,
   "metadata": {},
   "outputs": [
    {
     "name": "stdout",
     "output_type": "stream",
     "text": [
      "n_estimators: 10\taccuracy: 0.9555555555555556\n",
      "n_estimators: 20\taccuracy: 0.9777777777777777\n",
      "n_estimators: 15\taccuracy: 0.9555555555555556\n",
      "n_estimators: 01\taccuracy: 0.8888888888888888\n",
      "n_estimators: 05\taccuracy: 0.9333333333333333\n"
     ]
    }
   ],
   "source": [
    "for experiment in project.experiments():\n",
    "    print((\n",
    "        f\"{experiment.parameters()[0].name}: {experiment.parameters()[0].value:02}\\t\"\n",
    "        f\"{experiment.metrics()[0].name}: {experiment.metrics()[0].value}\"\n",
    "    ))"
   ]
  },
  {
   "cell_type": "markdown",
   "metadata": {},
   "source": [
    "A quick look at our logged data shows that all the values of ``n_estimators`` above 1\n",
    "meet our success criteria! While this is a simple example, it shows how we can use `rubicon`\n",
    "to track our model's performance over time as we try different **parameters** to optimize\n",
    "our **metrics**.\n",
    "\n",
    "`rubicon` supports even more logging capabilities, like logging \n",
    "[**artifacts**](https://capitalone.github.io/rubicon/glossary.html#artifact-rubicon-artifact)\n",
    "and [**dataframes**](https://capitalone.github.io/rubicon/glossary.html#dataframe-rubicon-dataframe),\n",
    "to ensure complete reproducibility. We can also use ``rubicon``'s\n",
    "[dashboard](https://capitalone.github.io/rubicon/dashboard.html)\n",
    "for better visual representation of your logged data."
   ]
  }
 ],
 "metadata": {
  "kernelspec": {
   "display_name": "Python 3",
   "language": "python",
   "name": "python3"
  },
  "language_info": {
   "codemirror_mode": {
    "name": "ipython",
    "version": 3
   },
   "file_extension": ".py",
   "mimetype": "text/x-python",
   "name": "python",
   "nbconvert_exporter": "python",
   "pygments_lexer": "ipython3",
   "version": "3.9.2"
  }
 },
 "nbformat": 4,
 "nbformat_minor": 4
}
