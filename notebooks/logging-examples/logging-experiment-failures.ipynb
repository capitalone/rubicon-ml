{
 "cells": [
  {
   "cell_type": "markdown",
   "id": "3b466d92",
   "metadata": {},
   "source": [
    "## Distinguishing Failed Experiments with Rubicon \n",
    "Modeling runs can fail for a number of reasons. When logging with rubicon_ml, a failed run may result in an empty or incomplete experiment. In this example, we'll walk through how to handle such experiments."
   ]
  },
  {
   "cell_type": "markdown",
   "id": "d4f58990",
   "metadata": {},
   "source": [
    "First lets simulate the problem. To do this we'll create an estimator that will fail on it's `fit()` 30% of the time.  We will consider any experiment that has a `none` value for `self.state`."
   ]
  },
  {
   "cell_type": "code",
   "execution_count": 1,
   "id": "f9a506c3",
   "metadata": {},
   "outputs": [],
   "source": [
    "from sklearn.base import BaseEstimator\n",
    "import random\n",
    "\n",
    "class BadEstimator(BaseEstimator):\n",
    "    def __init__(self, state=None):\n",
    "        super().__init__()\n",
    "        self.state=None\n",
    "        self.knn = KNeighborsClassifier(n_neighbors=2)\n",
    "    def fit(self, X, y):\n",
    "        self.knn.fit(X, y)\n",
    "        output=random.random()\n",
    "        if output<.3:\n",
    "            output=None\n",
    "        self.state=output\n",
    "    def score(self, X):\n",
    "        knn_score = self.knn.score(X)\n",
    "        return knn_score"
   ]
  },
  {
   "cell_type": "markdown",
   "id": "2d62eaa1",
   "metadata": {},
   "source": [
    "Now let's attempt to create a `rubicon_ml.sklearn` pipeline with this failing estimator and attempt to `fit` the pipeline twenty times. "
   ]
  },
  {
   "cell_type": "code",
   "execution_count": 2,
   "id": "7ccb023c",
   "metadata": {
    "scrolled": true
   },
   "outputs": [],
   "source": [
    "from rubicon_ml.sklearn import make_pipeline\n",
    "from sklearn.neighbors import KNeighborsClassifier\n",
    "from sklearn.impute import SimpleImputer\n",
    "from rubicon_ml import Rubicon\n",
    "\n",
    "random.seed(18)\n",
    "\n",
    "rubicon = Rubicon(\n",
    "    persistence=\"memory\",\n",
    ")\n",
    "project = rubicon.get_or_create_project(name=\"Failed Experiments\")\n",
    "\n",
    "X = [[1], [1], [1], [1]]\n",
    "y = [1, 1, 1, 1]\n",
    "pipe=make_pipeline(project, SimpleImputer(strategy=\"mean\"),BadEstimator())\n",
    "for _ in range(20):\n",
    "    pipe.fit(X,y)"
   ]
  },
  {
   "cell_type": "markdown",
   "id": "852bd664",
   "metadata": {},
   "source": [
    "Now, tag any experiment that doesn't have a valid `badestimator__state` parameter for failures with `exp.add_tags([\"failed\"])`."
   ]
  },
  {
   "cell_type": "code",
   "execution_count": 3,
   "id": "379dc1be",
   "metadata": {},
   "outputs": [],
   "source": [
    "for exp in project.experiments():\n",
    "    for p in exp.parameters():\n",
    "        if (p.name==\"badestimator__state\" and p.value==None):\n",
    "            exp.add_tags([\"failed\"])"
   ]
  },
  {
   "cell_type": "markdown",
   "id": "3e03bd0a",
   "metadata": {},
   "source": [
    "Finally, we can now retrieve all our failed experiments by passing the `tags=[\"failed\"]` to `project.experiments()`."
   ]
  },
  {
   "cell_type": "code",
   "execution_count": 4,
   "id": "1ef73ac0",
   "metadata": {},
   "outputs": [
    {
     "name": "stdout",
     "output_type": "stream",
     "text": [
      "Experiment(project_name='Failed Experiment', id='55f2bac0-a0c8-473b-a5f0-59219071b248', name='RubiconPipeline experiment', description=None, model_name=None, branch_name=None, commit_hash=None, training_metadata=None, tags=['failed'], created_at=datetime.datetime(2022, 5, 9, 18, 54, 12, 512110))\n",
      "Experiment(project_name='Failed Experiment', id='cbf281bd-f110-4a46-a4e0-1bcf4ed7d383', name='RubiconPipeline experiment', description=None, model_name=None, branch_name=None, commit_hash=None, training_metadata=None, tags=['failed'], created_at=datetime.datetime(2022, 5, 9, 18, 54, 12, 516871))\n",
      "Experiment(project_name='Failed Experiment', id='766df32f-6b1e-4f5e-b22e-868e7f5e4baf', name='RubiconPipeline experiment', description=None, model_name=None, branch_name=None, commit_hash=None, training_metadata=None, tags=['failed'], created_at=datetime.datetime(2022, 5, 9, 18, 54, 12, 525243))\n",
      "Experiment(project_name='Failed Experiment', id='a8d2bbef-ab06-450b-b73c-acdfaaaf6e9e', name='RubiconPipeline experiment', description=None, model_name=None, branch_name=None, commit_hash=None, training_metadata=None, tags=['failed'], created_at=datetime.datetime(2022, 5, 9, 18, 54, 12, 526703))\n",
      "Experiment(project_name='Failed Experiment', id='301c11a4-cfc9-4f5c-900e-35f55d38c539', name='RubiconPipeline experiment', description=None, model_name=None, branch_name=None, commit_hash=None, training_metadata=None, tags=['failed'], created_at=datetime.datetime(2022, 5, 9, 18, 54, 12, 539486))\n",
      "Experiment(project_name='Failed Experiment', id='a228c707-39b8-4bf0-9813-64cf51e7036e', name='RubiconPipeline experiment', description=None, model_name=None, branch_name=None, commit_hash=None, training_metadata=None, tags=['failed'], created_at=datetime.datetime(2022, 5, 9, 18, 54, 12, 541330))\n"
     ]
    }
   ],
   "source": [
    "for exp in project.experiments(tags=[\"failed\"]):\n",
    "    print(exp)"
   ]
  }
 ],
 "metadata": {
  "kernelspec": {
   "display_name": "Python 3 (ipykernel)",
   "language": "python",
   "name": "python3"
  },
  "language_info": {
   "codemirror_mode": {
    "name": "ipython",
    "version": 3
   },
   "file_extension": ".py",
   "mimetype": "text/x-python",
   "name": "python",
   "nbconvert_exporter": "python",
   "pygments_lexer": "ipython3",
   "version": "3.10.2"
  }
 },
 "nbformat": 4,
 "nbformat_minor": 5
}
