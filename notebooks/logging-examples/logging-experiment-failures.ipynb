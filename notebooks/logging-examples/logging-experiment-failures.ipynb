{
 "cells": [
  {
   "cell_type": "markdown",
   "id": "3b466d92",
   "metadata": {},
   "source": [
    "## Distinguishing Failed Experiments with Rubicon \n",
    "When logging with `rubicon_ml` , if an experiment fails, it will result in an empty experiment. In this example, we'll walk through how to handle these experiments. "
   ]
  },
  {
   "cell_type": "markdown",
   "id": "d4f58990",
   "metadata": {},
   "source": [
    "First lets simulate the problem. To do this we'll create an estimator that will fail on it's `fit()` by throwing a `RuntimeError`."
   ]
  },
  {
   "cell_type": "code",
   "execution_count": 1,
   "id": "f9a506c3",
   "metadata": {},
   "outputs": [],
   "source": [
    "from sklearn.base import BaseEstimator\n",
    "\n",
    "class BadEstimator(BaseEstimator):\n",
    "    def __init__(self, n_neighbors=2):\n",
    "        super().__init__()\n",
    "        \n",
    "        self.n_neighbors = n_neighbors\n",
    "        \n",
    "        self.knn = KNeighborsClassifier(n_neighbors=n_neighbors)\n",
    "    def fit(self, X, y):\n",
    "        self.knn.fit(X, y)\n",
    "        self.knn.result=\"fit\"\n",
    "        try:\n",
    "            raise RuntimeError(\"Bad Estimator\")\n",
    "        except RuntimeError:\n",
    "            pass\n",
    "        \n",
    "    def score(self, X):\n",
    "        knn_score = self.knn.score(X)\n",
    "        return knn_score"
   ]
  },
  {
   "cell_type": "markdown",
   "id": "2d62eaa1",
   "metadata": {},
   "source": [
    "Now let's attempt to create a `rubicon_ml.sklearn` pipeline with this failing estimator and attempt to `fit` the pipeline. "
   ]
  },
  {
   "cell_type": "code",
   "execution_count": 2,
   "id": "7ccb023c",
   "metadata": {
    "scrolled": true
   },
   "outputs": [
    {
     "name": "stdout",
     "output_type": "stream",
     "text": [
      "2\n",
      " parameters are :\n",
      "{'_config': <rubicon_ml.client.config.Config object at 0x169a86ec0>, '_domain': Parameter(name='simpleimputer__add_indicator', id='695c2c10-e630-43ab-896d-ee2aabead479', value=False, description=None, created_at=datetime.datetime(2022, 5, 6, 19, 40, 20, 569328))}\n",
      "{'_config': <rubicon_ml.client.config.Config object at 0x169a86ec0>, '_domain': Parameter(name='simpleimputer__copy', id='e7fce379-01af-4610-ae2a-dd2b6f8b3f23', value=True, description=None, created_at=datetime.datetime(2022, 5, 6, 19, 40, 20, 569488))}\n",
      "{'_config': <rubicon_ml.client.config.Config object at 0x169a86ec0>, '_domain': Parameter(name='simpleimputer__fill_value', id='79c24baa-6bd3-458e-91a0-ecf21e2f8137', value=None, description=None, created_at=datetime.datetime(2022, 5, 6, 19, 40, 20, 569584))}\n",
      "{'_config': <rubicon_ml.client.config.Config object at 0x169a86ec0>, '_domain': Parameter(name='simpleimputer__missing_values', id='4e7668c5-8c68-415e-863d-8c9be891cee0', value=nan, description=None, created_at=datetime.datetime(2022, 5, 6, 19, 40, 20, 569675))}\n",
      "{'_config': <rubicon_ml.client.config.Config object at 0x169a86ec0>, '_domain': Parameter(name='simpleimputer__strategy', id='304ae394-8113-4b74-a3d3-c1792cbce029', value='mean', description=None, created_at=datetime.datetime(2022, 5, 6, 19, 40, 20, 569764))}\n",
      "{'_config': <rubicon_ml.client.config.Config object at 0x169a86ec0>, '_domain': Parameter(name='simpleimputer__verbose', id='ab99ce7a-8f8d-41d9-bbea-c0a3ff9359b1', value=0, description=None, created_at=datetime.datetime(2022, 5, 6, 19, 40, 20, 569850))}\n",
      "{'_config': <rubicon_ml.client.config.Config object at 0x169a86ec0>, '_domain': Parameter(name='badestimator__n_neighbors', id='f39b1769-5313-4d2a-ac9b-cf6536f059e1', value=2, description=None, created_at=datetime.datetime(2022, 5, 6, 19, 40, 20, 569966))}\n",
      " parameters are :\n",
      "{'_config': <rubicon_ml.client.config.Config object at 0x169a86ec0>, '_domain': Parameter(name='simpleimputer__add_indicator', id='adcd502e-c44b-477c-88f9-e1cf9f62fa29', value=False, description=None, created_at=datetime.datetime(2022, 5, 6, 19, 40, 20, 570832))}\n",
      "{'_config': <rubicon_ml.client.config.Config object at 0x169a86ec0>, '_domain': Parameter(name='simpleimputer__copy', id='3164f789-a0fd-4f31-810f-e5843090859d', value=True, description=None, created_at=datetime.datetime(2022, 5, 6, 19, 40, 20, 570949))}\n",
      "{'_config': <rubicon_ml.client.config.Config object at 0x169a86ec0>, '_domain': Parameter(name='simpleimputer__fill_value', id='808f5a80-2cd2-4a45-834f-8e91c65321a5', value=None, description=None, created_at=datetime.datetime(2022, 5, 6, 19, 40, 20, 571040))}\n",
      "{'_config': <rubicon_ml.client.config.Config object at 0x169a86ec0>, '_domain': Parameter(name='simpleimputer__missing_values', id='97a306d4-4c9f-4cc2-a0d5-71c6e7659615', value=nan, description=None, created_at=datetime.datetime(2022, 5, 6, 19, 40, 20, 571125))}\n",
      "{'_config': <rubicon_ml.client.config.Config object at 0x169a86ec0>, '_domain': Parameter(name='simpleimputer__strategy', id='887d2bda-66a1-48fa-b05e-4598ca4b4895', value='mean', description=None, created_at=datetime.datetime(2022, 5, 6, 19, 40, 20, 571209))}\n",
      "{'_config': <rubicon_ml.client.config.Config object at 0x169a86ec0>, '_domain': Parameter(name='simpleimputer__verbose', id='2bf1828c-8081-4b6b-bf88-8f0d7dbf8ca1', value=0, description=None, created_at=datetime.datetime(2022, 5, 6, 19, 40, 20, 571293))}\n",
      "{'_config': <rubicon_ml.client.config.Config object at 0x169a86ec0>, '_domain': Parameter(name='badestimator__n_neighbors', id='7e8e5c15-80dd-4eef-ae77-2e82dd95ef85', value=2, description=None, created_at=datetime.datetime(2022, 5, 6, 19, 40, 20, 571403))}\n"
     ]
    }
   ],
   "source": [
    "from rubicon_ml.sklearn import make_pipeline\n",
    "from sklearn.neighbors import KNeighborsClassifier\n",
    "from sklearn.model_selection import train_test_split\n",
    "from sklearn.ensemble import RandomForestClassifier\n",
    "from sklearn.impute import SimpleImputer\n",
    "\n",
    "\n",
    "\n",
    "from rubicon_ml import Rubicon\n",
    "\n",
    "rubicon = Rubicon(\n",
    "    persistence=\"memory\",\n",
    ")\n",
    "project = rubicon.get_or_create_project(name=\"Failed Experiment\")\n",
    "\n",
    "X = [[1], [1], [1], [1]]\n",
    "y = [1, 1, 1, 1]\n",
    "rf=RandomForestClassifier(n_estimators=50)\n",
    "pipe=make_pipeline(project, SimpleImputer(strategy=\"mean\"),BadEstimator())\n",
    "pipe.fit(X,y)\n",
    "pipe.fit(X,y)\n",
    "print(len(project.experiments()))\n",
    "for exp in project.experiments():\n",
    "    print(\" parameters are :\")\n",
    "    for p in exp.parameters():\n",
    "        print(p.__dict__)"
   ]
  },
  {
   "cell_type": "markdown",
   "id": "29d57176",
   "metadata": {},
   "source": [
    "When an experiment is create we can check its contents for length. Here we can see nothing has been logged."
   ]
  },
  {
   "cell_type": "code",
   "execution_count": 3,
   "id": "59ec4c33",
   "metadata": {},
   "outputs": [
    {
     "name": "stdout",
     "output_type": "stream",
     "text": [
      "{'_config': <rubicon_ml.client.config.Config object at 0x169a86ec0>, '_domain': Experiment(project_name='Failed Experiment', id='309f708f-8ed3-4a11-bebd-65c5591f5fbe', name='RubiconPipeline experiment', description=None, model_name=None, branch_name=None, commit_hash=None, training_metadata=None, tags=[], created_at=datetime.datetime(2022, 5, 6, 19, 40, 20, 569147)), '_parent': <rubicon_ml.client.project.Project object at 0x169a86e30>, '_artifacts': [], '_dataframes': [], '_metrics': [], '_features': [], '_parameters': []}\n"
     ]
    }
   ],
   "source": [
    "exp=project.experiments()[0]\n",
    "print(exp.__dict__)\n",
    "assert len(exp.artifacts())==0\n",
    "assert len(exp.dataframes())==0\n",
    "assert len(exp.metrics())==0\n",
    "assert len(exp.features())==0"
   ]
  },
  {
   "cell_type": "markdown",
   "id": "2fb4ac2c",
   "metadata": {},
   "source": [
    "Since we have observed an empty experiment, we need to identify it as a failed experiment. We can do this by leveraging the `tags` attribute for the experiment with `add_tags()`"
   ]
  },
  {
   "cell_type": "code",
   "execution_count": 4,
   "id": "d3dd9b51",
   "metadata": {},
   "outputs": [],
   "source": [
    "exp.add_tags([\"failed\"])"
   ]
  },
  {
   "cell_type": "markdown",
   "id": "3e03bd0a",
   "metadata": {},
   "source": [
    "Finally, we can no retrieve all our failed experiments by passing the `tags=[\"failed\"]` to `project.experiments()`."
   ]
  },
  {
   "cell_type": "code",
   "execution_count": 5,
   "id": "1ef73ac0",
   "metadata": {},
   "outputs": [
    {
     "data": {
      "text/plain": [
       "[<rubicon_ml.client.experiment.Experiment at 0x169a87160>]"
      ]
     },
     "execution_count": 5,
     "metadata": {},
     "output_type": "execute_result"
    }
   ],
   "source": [
    "project.experiments(tags=[\"failed\"])"
   ]
  }
 ],
 "metadata": {
  "kernelspec": {
   "display_name": "Python 3 (ipykernel)",
   "language": "python",
   "name": "python3"
  },
  "language_info": {
   "codemirror_mode": {
    "name": "ipython",
    "version": 3
   },
   "file_extension": ".py",
   "mimetype": "text/x-python",
   "name": "python",
   "nbconvert_exporter": "python",
   "pygments_lexer": "ipython3",
   "version": "3.10.2"
  }
 },
 "nbformat": 4,
 "nbformat_minor": 5
}
