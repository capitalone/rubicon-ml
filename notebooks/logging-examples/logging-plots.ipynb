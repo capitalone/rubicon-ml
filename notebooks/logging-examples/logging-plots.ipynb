{
 "cells": [
  {
   "cell_type": "markdown",
   "id": "b076a2a5",
   "metadata": {},
   "source": [
    "# Logging Plots\n",
    "Rubicon_ml makes it easy to store your plots"
   ]
  },
  {
   "cell_type": "markdown",
   "id": "649bde19",
   "metadata": {},
   "source": [
    "## Set up\n",
    "Let's create a project and save a sample scarter plot to later artifact. In this example we'll be using plotly to generate plots. "
   ]
  },
  {
   "cell_type": "code",
   "execution_count": 1,
   "id": "22a40144",
   "metadata": {},
   "outputs": [],
   "source": [
    "import os\n",
    "\n",
    "from rubicon_ml import Rubicon\n",
    "\n",
    "\n",
    "rubicon = Rubicon(persistence=\"memory\")\n",
    "project = rubicon.get_or_create_project(\"Logging Plots\")\n",
    "\n"
   ]
  },
  {
   "cell_type": "code",
   "execution_count": 2,
   "id": "03437ff6",
   "metadata": {},
   "outputs": [],
   "source": [
    "import plotly.express as px\n",
    "from plotly import data"
   ]
  },
  {
   "cell_type": "code",
   "execution_count": 8,
   "id": "4ccb7530",
   "metadata": {},
   "outputs": [
    {
     "data": {
      "text/html": [
       "<div>\n",
       "<style scoped>\n",
       "    .dataframe tbody tr th:only-of-type {\n",
       "        vertical-align: middle;\n",
       "    }\n",
       "\n",
       "    .dataframe tbody tr th {\n",
       "        vertical-align: top;\n",
       "    }\n",
       "\n",
       "    .dataframe thead th {\n",
       "        text-align: right;\n",
       "    }\n",
       "</style>\n",
       "<table border=\"1\" class=\"dataframe\">\n",
       "  <thead>\n",
       "    <tr style=\"text-align: right;\">\n",
       "      <th></th>\n",
       "      <th>direction</th>\n",
       "      <th>strength</th>\n",
       "      <th>frequency</th>\n",
       "    </tr>\n",
       "  </thead>\n",
       "  <tbody>\n",
       "    <tr>\n",
       "      <th>0</th>\n",
       "      <td>N</td>\n",
       "      <td>0-1</td>\n",
       "      <td>0.5</td>\n",
       "    </tr>\n",
       "    <tr>\n",
       "      <th>1</th>\n",
       "      <td>NNE</td>\n",
       "      <td>0-1</td>\n",
       "      <td>0.6</td>\n",
       "    </tr>\n",
       "    <tr>\n",
       "      <th>2</th>\n",
       "      <td>NE</td>\n",
       "      <td>0-1</td>\n",
       "      <td>0.5</td>\n",
       "    </tr>\n",
       "    <tr>\n",
       "      <th>3</th>\n",
       "      <td>ENE</td>\n",
       "      <td>0-1</td>\n",
       "      <td>0.4</td>\n",
       "    </tr>\n",
       "    <tr>\n",
       "      <th>4</th>\n",
       "      <td>E</td>\n",
       "      <td>0-1</td>\n",
       "      <td>0.4</td>\n",
       "    </tr>\n",
       "  </tbody>\n",
       "</table>\n",
       "</div>"
      ],
      "text/plain": [
       "  direction strength  frequency\n",
       "0         N      0-1        0.5\n",
       "1       NNE      0-1        0.6\n",
       "2        NE      0-1        0.5\n",
       "3       ENE      0-1        0.4\n",
       "4         E      0-1        0.4"
      ]
     },
     "execution_count": 8,
     "metadata": {},
     "output_type": "execute_result"
    }
   ],
   "source": [
    "df = data.wind()\n",
    "df.head()"
   ]
  },
  {
   "cell_type": "code",
   "execution_count": null,
   "id": "71f00976",
   "metadata": {},
   "outputs": [],
   "source": [
    "fig=px.scatter(df, x=\"direction\", y=\"frequency\", color=\"strength\")\n",
    "fig.show()\n",
    "fig.write_image(\"saved-plot-for-logging.png\")"
   ]
  },
  {
   "cell_type": "markdown",
   "id": "aaef220e",
   "metadata": {},
   "source": [
    "# Logging your plot\n",
    "Plots can be logged just by passicing its location in the `data_path` argument to `log_artifact()`."
   ]
  },
  {
   "cell_type": "code",
   "execution_count": 11,
   "id": "750214bc",
   "metadata": {},
   "outputs": [
    {
     "data": {
      "text/plain": [
       "{'_config': <rubicon_ml.client.config.Config at 0x110d76aa0>,\n",
       " '_domain': Artifact(name='saved-plot-for-logging.png', id='8b550859-4e86-4769-9650-2cb1982308de', description='bar plot logged with path', created_at=datetime.datetime(2022, 4, 11, 20, 2, 48, 19948), parent_id='704f41cd-8f4f-4bde-aa69-12642b19ef30'),\n",
       " '_data': None,\n",
       " '_parent': <rubicon_ml.client.project.Project at 0x110da4bb0>}"
      ]
     },
     "execution_count": 11,
     "metadata": {},
     "output_type": "execute_result"
    }
   ],
   "source": [
    "project.log_artifact(data_path=\"saved-plot-for-logging.png\", description=\"bar plot logged with path\").__dict__"
   ]
  }
 ],
 "metadata": {
  "kernelspec": {
   "display_name": "Python 3 (ipykernel)",
   "language": "python",
   "name": "python3"
  },
  "language_info": {
   "codemirror_mode": {
    "name": "ipython",
    "version": 3
   },
   "file_extension": ".py",
   "mimetype": "text/x-python",
   "name": "python",
   "nbconvert_exporter": "python",
   "pygments_lexer": "ipython3",
   "version": "3.10.2"
  }
 },
 "nbformat": 4,
 "nbformat_minor": 5
}
