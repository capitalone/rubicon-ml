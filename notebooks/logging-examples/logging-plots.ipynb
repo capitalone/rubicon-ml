{
 "cells": [
  {
   "cell_type": "markdown",
   "id": "1797a8c4",
   "metadata": {},
   "source": [
    "# Logging Plots\n",
    "`Rubicon_ml` makes ite aasy to log mlplots and images with `artifacts`. In this example we'll walk through creating a plot using `plotly.express` and saving it to an `artifact`."
   ]
  },
  {
   "cell_type": "markdown",
   "id": "24c9f6dc",
   "metadata": {},
   "source": [
    "## Set up\n",
    "Let's create a project to log our plots too. In this example we'll be using plotly to generate a sample plot which we will log as an artifact. "
   ]
  },
  {
   "cell_type": "code",
   "execution_count": 1,
   "id": "22a40144",
   "metadata": {},
   "outputs": [],
   "source": [
    "import os\n",
    "from rubicon_ml import Rubicon\n",
    "\n",
    "rubicon = Rubicon(persistence=\"memory\")\n",
    "project = rubicon.get_or_create_project(\"Artifact Plots\")"
   ]
  },
  {
   "cell_type": "code",
   "execution_count": 2,
   "id": "4ccb7530",
   "metadata": {},
   "outputs": [
    {
     "data": {
      "text/html": [
       "<div>\n",
       "<style scoped>\n",
       "    .dataframe tbody tr th:only-of-type {\n",
       "        vertical-align: middle;\n",
       "    }\n",
       "\n",
       "    .dataframe tbody tr th {\n",
       "        vertical-align: top;\n",
       "    }\n",
       "\n",
       "    .dataframe thead th {\n",
       "        text-align: right;\n",
       "    }\n",
       "</style>\n",
       "<table border=\"1\" class=\"dataframe\">\n",
       "  <thead>\n",
       "    <tr style=\"text-align: right;\">\n",
       "      <th></th>\n",
       "      <th>direction</th>\n",
       "      <th>strength</th>\n",
       "      <th>frequency</th>\n",
       "    </tr>\n",
       "  </thead>\n",
       "  <tbody>\n",
       "    <tr>\n",
       "      <th>0</th>\n",
       "      <td>N</td>\n",
       "      <td>0-1</td>\n",
       "      <td>0.5</td>\n",
       "    </tr>\n",
       "    <tr>\n",
       "      <th>1</th>\n",
       "      <td>NNE</td>\n",
       "      <td>0-1</td>\n",
       "      <td>0.6</td>\n",
       "    </tr>\n",
       "    <tr>\n",
       "      <th>2</th>\n",
       "      <td>NE</td>\n",
       "      <td>0-1</td>\n",
       "      <td>0.5</td>\n",
       "    </tr>\n",
       "    <tr>\n",
       "      <th>3</th>\n",
       "      <td>ENE</td>\n",
       "      <td>0-1</td>\n",
       "      <td>0.4</td>\n",
       "    </tr>\n",
       "    <tr>\n",
       "      <th>4</th>\n",
       "      <td>E</td>\n",
       "      <td>0-1</td>\n",
       "      <td>0.4</td>\n",
       "    </tr>\n",
       "  </tbody>\n",
       "</table>\n",
       "</div>"
      ],
      "text/plain": [
       "  direction strength  frequency\n",
       "0         N      0-1        0.5\n",
       "1       NNE      0-1        0.6\n",
       "2        NE      0-1        0.5\n",
       "3       ENE      0-1        0.4\n",
       "4         E      0-1        0.4"
      ]
     },
     "execution_count": 2,
     "metadata": {},
     "output_type": "execute_result"
    }
   ],
   "source": [
    "import plotly.express as px\n",
    "from plotly import data\n",
    "\n",
    "df = data.wind()\n",
    "df.head()"
   ]
  },
  {
   "cell_type": "code",
   "execution_count": 3,
   "id": "31e007bc",
   "metadata": {},
   "outputs": [],
   "source": [
    "scatter_plot=px.scatter(df, x=\"direction\", y=\"frequency\", color=\"strength\")\n",
    "#save our image for plotting\n",
    "scatter_plot.write_image(\"saved-scatter-plot-for-logging.png\")"
   ]
  },
  {
   "cell_type": "markdown",
   "id": "10688243",
   "metadata": {},
   "source": [
    "![figure](saved-scatter-plot-for-logging.png)"
   ]
  },
  {
   "cell_type": "code",
   "execution_count": 4,
   "id": "8544305b",
   "metadata": {},
   "outputs": [],
   "source": [
    "bar_plot=px.bar(df, x=\"direction\", y=\"frequency\", color=\"strength\")\n",
    "bar_plot_bytes=bar_plot.to_image(format=\"png\")"
   ]
  },
  {
   "cell_type": "markdown",
   "id": "83347314",
   "metadata": {},
   "source": [
    "![bar figure](saved-bar-plot-for-logging.png)"
   ]
  },
  {
   "cell_type": "markdown",
   "id": "4a41ac4b",
   "metadata": {},
   "source": [
    "## Logging your plot\n",
    "In `rubicon_ml` `artifacts`are a catch-all for any other type of data that can be logged to a file. We can use artifacts to capture information that doesn't fall into the `experiment`, `dataframe`, `feature`, and  `parameter` category. \n",
    "\n",
    "Leveraging `artifacts`, plots can be logged just by passing its location in the `data_path` argument to `project.log_artifact()`. We can also log plots by passing its byte representation to the `data_bytes` argument to `project.log_artifact()` as well."
   ]
  },
  {
   "cell_type": "code",
   "execution_count": 5,
   "id": "d0823f93",
   "metadata": {},
   "outputs": [
    {
     "data": {
      "text/plain": [
       "<rubicon_ml.client.artifact.Artifact at 0x19f5dd330>"
      ]
     },
     "execution_count": 5,
     "metadata": {},
     "output_type": "execute_result"
    }
   ],
   "source": [
    "project.log_artifact(data_path=\"saved-scatter-plot-for-logging.png\", description=\"bar plot logged with path\")\n",
    "artifact_plot_from_file=project.artifacts()[0]\n",
    "artifact_plot_from_file"
   ]
  },
  {
   "cell_type": "code",
   "execution_count": 6,
   "id": "b064e579",
   "metadata": {},
   "outputs": [
    {
     "data": {
      "text/plain": [
       "<rubicon_ml.client.artifact.Artifact at 0x19f5dd480>"
      ]
     },
     "execution_count": 6,
     "metadata": {},
     "output_type": "execute_result"
    }
   ],
   "source": [
    "project.log_artifact(name=\"image\", data_bytes=bar_plot_bytes)\n",
    "artifact_plot_bytes=project.artifacts()[1]\n",
    "artifact_plot_bytes"
   ]
  },
  {
   "cell_type": "markdown",
   "id": "a9eb5364",
   "metadata": {},
   "source": [
    "## Retrieving your logged plot programattically \n",
    "\n"
   ]
  },
  {
   "cell_type": "code",
   "execution_count": 7,
   "id": "b73061e9",
   "metadata": {},
   "outputs": [
    {
     "ename": "NameError",
     "evalue": "name 'artifactPlotFromFile' is not defined",
     "output_type": "error",
     "traceback": [
      "\u001b[0;31m---------------------------------------------------------------------------\u001b[0m",
      "\u001b[0;31mNameError\u001b[0m                                 Traceback (most recent call last)",
      "Input \u001b[0;32mIn [7]\u001b[0m, in \u001b[0;36m<module>\u001b[0;34m\u001b[0m\n\u001b[1;32m      1\u001b[0m \u001b[38;5;28;01mimport\u001b[39;00m \u001b[38;5;21;01mio\u001b[39;00m\n\u001b[1;32m      2\u001b[0m \u001b[38;5;28;01mfrom\u001b[39;00m \u001b[38;5;21;01mPIL\u001b[39;00m \u001b[38;5;28;01mimport\u001b[39;00m Image\n\u001b[0;32m----> 4\u001b[0m imageStream \u001b[38;5;241m=\u001b[39m io\u001b[38;5;241m.\u001b[39mBytesIO(\u001b[43martifactPlotFromFile\u001b[49m\u001b[38;5;241m.\u001b[39mdata)\n\u001b[1;32m      5\u001b[0m scatter_plot_image \u001b[38;5;241m=\u001b[39m Image\u001b[38;5;241m.\u001b[39mopen(imageStream)\n",
      "\u001b[0;31mNameError\u001b[0m: name 'artifactPlotFromFile' is not defined"
     ]
    }
   ],
   "source": [
    "import io\n",
    "from PIL import Image\n",
    "\n",
    "imageStream = io.BytesIO(artifactPlotFromFile.data)\n",
    "scatter_plot_image = Image.open(imageStream)"
   ]
  },
  {
   "cell_type": "code",
   "execution_count": null,
   "id": "be9a1cdb",
   "metadata": {},
   "outputs": [],
   "source": [
    "display(scatter_plot_image)"
   ]
  },
  {
   "cell_type": "code",
   "execution_count": null,
   "id": "9831e97a",
   "metadata": {},
   "outputs": [],
   "source": [
    "imageStream = io.BytesIO(artifact_plot_bytes.data)\n",
    "bar_plot_image = Image.open(imageStream)"
   ]
  },
  {
   "cell_type": "code",
   "execution_count": null,
   "id": "1262d8ed",
   "metadata": {},
   "outputs": [],
   "source": [
    "display(bar_plot_image)"
   ]
  }
 ],
 "metadata": {
  "kernelspec": {
   "display_name": "Python 3 (ipykernel)",
   "language": "python",
   "name": "python3"
  },
  "language_info": {
   "codemirror_mode": {
    "name": "ipython",
    "version": 3
   },
   "file_extension": ".py",
   "mimetype": "text/x-python",
   "name": "python",
   "nbconvert_exporter": "python",
   "pygments_lexer": "ipython3",
   "version": "3.10.2"
  }
 },
 "nbformat": 4,
 "nbformat_minor": 5
}
