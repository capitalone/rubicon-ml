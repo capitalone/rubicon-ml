{
 "cells": [
  {
   "cell_type": "markdown",
   "metadata": {},
   "source": [
    "# Git Integration\n",
    "\n",
    "`rubicon` offers a way to automatically log relevant `git` information if you're running from within a `git` repo. We can use this information to pinpoint exactly what point in a repo's history an experiment was run at. To enable this feature, instantiate the `Rubicon` object with `auto_git_enabled=True`."
   ]
  },
  {
   "cell_type": "code",
   "execution_count": null,
   "metadata": {},
   "outputs": [],
   "source": [
    "from rubicon import Rubicon\n",
    "\n",
    "rubicon = Rubicon(persistence=\"memory\", auto_git_enabled=True)"
   ]
  },
  {
   "cell_type": "markdown",
   "metadata": {},
   "source": [
    "Any project created with this client will have the URL of the GitHub repo's origin automatically populated in the `github_url` property."
   ]
  },
  {
   "cell_type": "code",
   "execution_count": null,
   "metadata": {},
   "outputs": [],
   "source": [
    "project = rubicon.create_project(\"Automatic Git Integration\")\n",
    "\n",
    "project.github_url"
   ]
  },
  {
   "cell_type": "markdown",
   "metadata": {},
   "source": [
    "Experiments will have the current active branch name and last commit hash populated in the `branch_name` and `commit_hash` fields, respectively."
   ]
  },
  {
   "cell_type": "code",
   "execution_count": null,
   "metadata": {},
   "outputs": [],
   "source": [
    "experiment = project.log_experiment(model_name=\"GitHub Model\")\n",
    "\n",
    "experiment.branch_name, experiment.commit_hash"
   ]
  },
  {
   "cell_type": "markdown",
   "metadata": {},
   "source": [
    "These properties can help easily associate projects and experiments with the exact branches and commits they were run against so we can go back and reference the code later. On the dashboard, experiments can be sorted and filtered by their commit hash."
   ]
  },
  {
   "cell_type": "code",
   "execution_count": null,
   "metadata": {},
   "outputs": [],
   "source": [
    "from rubicon.ui import Dashboard\n",
    "\n",
    "Dashboard(\"memory\").run_server()"
   ]
  }
 ],
 "metadata": {
  "kernelspec": {
   "display_name": "Python 3",
   "language": "python",
   "name": "python3"
  },
  "language_info": {
   "codemirror_mode": {
    "name": "ipython",
    "version": 3
   },
   "file_extension": ".py",
   "mimetype": "text/x-python",
   "name": "python",
   "nbconvert_exporter": "python",
   "pygments_lexer": "ipython3",
   "version": "3.7.6"
  }
 },
 "nbformat": 4,
 "nbformat_minor": 4
}
