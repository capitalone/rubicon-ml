{
 "cells": [
  {
   "cell_type": "code",
   "execution_count": 1,
   "id": "abad9ba4-9ea0-4750-9c8b-69865dc4ed57",
   "metadata": {},
   "outputs": [],
   "source": [
    "import rubicon_ml\n",
    "from rubicon_ml import Rubicon"
   ]
  },
  {
   "cell_type": "code",
   "execution_count": 2,
   "id": "b71474f9-cdfc-45aa-ab17-9db5b13c7bda",
   "metadata": {},
   "outputs": [],
   "source": [
    "from rubicon_ml.repository.v2 import (\n",
    "    BaseRepository,\n",
    "    LocalRepository,\n",
    "    LoggerRepository,\n",
    "    MemoryRepository,\n",
    "    S3Repository,\n",
    ")\n",
    "from rubicon_ml.repository.v2.fsspec import FsspecRepository"
   ]
  },
  {
   "cell_type": "code",
   "execution_count": null,
   "id": "4f93d634-e6d9-4eb6-8ae5-c123838b6002",
   "metadata": {},
   "outputs": [],
   "source": []
  },
  {
   "cell_type": "code",
   "execution_count": 3,
   "id": "be9e495f-4a09-4b87-bd6d-f555214d67f1",
   "metadata": {},
   "outputs": [
    {
     "data": {
      "text/plain": [
       "<rubicon_ml.repository.v2.LocalRepositoryV2 at 0x12fe82db0>"
      ]
     },
     "execution_count": 3,
     "metadata": {},
     "output_type": "execute_result"
    }
   ],
   "source": [
    "rubicon_local_v2 = Rubicon(persistence=\"filesystem:v2\", root_dir=\"./rubicon-root\")\n",
    "rubicon_local_v2.repository"
   ]
  },
  {
   "cell_type": "code",
   "execution_count": 4,
   "id": "4343d573-61c9-4d4d-80a1-49634fc8a9a8",
   "metadata": {},
   "outputs": [
    {
     "data": {
      "text/plain": [
       "<fsspec.implementations.local.LocalFileSystem at 0x10695c2f0>"
      ]
     },
     "execution_count": 4,
     "metadata": {},
     "output_type": "execute_result"
    }
   ],
   "source": [
    "rubicon_local_v2.repository._get_filesystem()"
   ]
  },
  {
   "cell_type": "code",
   "execution_count": 5,
   "id": "00652254-9416-4c5e-8f66-0738107f4da0",
   "metadata": {},
   "outputs": [
    {
     "name": "stderr",
     "output_type": "stream",
     "text": [
      "rubicon-root/repo-refactor/metadata.json\n"
     ]
    }
   ],
   "source": [
    "project = rubicon_local_v2.create_project(name=\"repo refactor\")"
   ]
  },
  {
   "cell_type": "code",
   "execution_count": 6,
   "id": "7b208d12-9b03-4bae-a56c-5d01857b7320",
   "metadata": {},
   "outputs": [
    {
     "name": "stderr",
     "output_type": "stream",
     "text": [
      "rubicon-root/repo-refactor/experiments/5738baad-9284-4852-b144-7c83532a5434/metadata.json\n"
     ]
    }
   ],
   "source": [
    "experiment = project.log_experiment()"
   ]
  },
  {
   "cell_type": "code",
   "execution_count": 7,
   "id": "f1859127-dedb-4f0f-aa18-46b3452eef50",
   "metadata": {},
   "outputs": [
    {
     "name": "stderr",
     "output_type": "stream",
     "text": [
      "rubicon-root/repo-refactor/dataframes/006341aa-4d12-4908-a3e1-f6e9d4156631/metadata.json\n"
     ]
    },
    {
     "data": {
      "text/plain": [
       "<rubicon_ml.client.dataframe.Dataframe at 0x138124800>"
      ]
     },
     "execution_count": 7,
     "metadata": {},
     "output_type": "execute_result"
    }
   ],
   "source": [
    "import pandas as pd\n",
    "\n",
    "project.log_dataframe(name=\"x\", df=pd.DataFrame([0]))"
   ]
  },
  {
   "cell_type": "code",
   "execution_count": 8,
   "id": "39f091ac-21e8-4302-842a-3b8c0251f5da",
   "metadata": {},
   "outputs": [
    {
     "name": "stderr",
     "output_type": "stream",
     "text": [
      "rubicon-root/repo-refactor/experiments/5738baad-9284-4852-b144-7c83532a5434/dataframes/775e7638-5dd6-4868-a1c5-b7b2766bdbf4/metadata.json\n"
     ]
    },
    {
     "data": {
      "text/plain": [
       "<rubicon_ml.client.dataframe.Dataframe at 0x10690fb00>"
      ]
     },
     "execution_count": 8,
     "metadata": {},
     "output_type": "execute_result"
    }
   ],
   "source": [
    "experiment.log_dataframe(name=\"y\", df=pd.DataFrame([0]))"
   ]
  },
  {
   "cell_type": "code",
   "execution_count": 9,
   "id": "5147ea42-d7b8-4f0b-b3e8-b66544d6b4f5",
   "metadata": {},
   "outputs": [
    {
     "name": "stderr",
     "output_type": "stream",
     "text": [
      "rubicon-root/repo-refactor/artifacts/db3c0316-5ac2-4407-b944-a6d62258f28d/metadata.json\n"
     ]
    },
    {
     "data": {
      "text/plain": [
       "<rubicon_ml.client.artifact.Artifact at 0x12fc099d0>"
      ]
     },
     "execution_count": 9,
     "metadata": {},
     "output_type": "execute_result"
    }
   ],
   "source": [
    "project.log_artifact(name=\"x\", data_bytes=b\"data\")"
   ]
  },
  {
   "cell_type": "code",
   "execution_count": 10,
   "id": "8be4a80e-a22f-4428-9f4d-c1dfac4ab664",
   "metadata": {},
   "outputs": [
    {
     "name": "stderr",
     "output_type": "stream",
     "text": [
      "rubicon-root/repo-refactor/experiments/5738baad-9284-4852-b144-7c83532a5434/artifacts/e5554d80-3ffb-4856-adfc-53b3de09aabb/metadata.json\n"
     ]
    },
    {
     "data": {
      "text/plain": [
       "<rubicon_ml.client.artifact.Artifact at 0x138facf50>"
      ]
     },
     "execution_count": 10,
     "metadata": {},
     "output_type": "execute_result"
    }
   ],
   "source": [
    "experiment.log_artifact(name=\"y\", data_bytes=b\"data\")"
   ]
  },
  {
   "cell_type": "code",
   "execution_count": 11,
   "id": "b0639b5a-e589-47b2-98ff-3ef09d11e9e2",
   "metadata": {},
   "outputs": [
    {
     "name": "stderr",
     "output_type": "stream",
     "text": [
      "rubicon-root/repo-refactor/experiments/5738baad-9284-4852-b144-7c83532a5434/features/a/metadata.json\n"
     ]
    },
    {
     "data": {
      "text/plain": [
       "<rubicon_ml.client.feature.Feature at 0x128626930>"
      ]
     },
     "execution_count": 11,
     "metadata": {},
     "output_type": "execute_result"
    }
   ],
   "source": [
    "experiment.log_feature(name=\"a\")"
   ]
  },
  {
   "cell_type": "code",
   "execution_count": 12,
   "id": "608e8c23-2844-468b-9d04-41905911105a",
   "metadata": {},
   "outputs": [
    {
     "name": "stderr",
     "output_type": "stream",
     "text": [
      "rubicon-root/repo-refactor/experiments/5738baad-9284-4852-b144-7c83532a5434/metrics/b/metadata.json\n"
     ]
    },
    {
     "data": {
      "text/plain": [
       "<rubicon_ml.client.metric.Metric at 0x1286b5670>"
      ]
     },
     "execution_count": 12,
     "metadata": {},
     "output_type": "execute_result"
    }
   ],
   "source": [
    "experiment.log_metric(name=\"b\", value=0.0)"
   ]
  },
  {
   "cell_type": "code",
   "execution_count": 13,
   "id": "4f79895f-df28-47ca-b106-4339f4ce4f85",
   "metadata": {},
   "outputs": [
    {
     "name": "stderr",
     "output_type": "stream",
     "text": [
      "rubicon-root/repo-refactor/experiments/5738baad-9284-4852-b144-7c83532a5434/parameters/c/metadata.json\n"
     ]
    },
    {
     "data": {
      "text/plain": [
       "<rubicon_ml.client.parameter.Parameter at 0x118cd50d0>"
      ]
     },
     "execution_count": 13,
     "metadata": {},
     "output_type": "execute_result"
    }
   ],
   "source": [
    "experiment.log_parameter(name=\"c\", value=1.0)"
   ]
  },
  {
   "cell_type": "code",
   "execution_count": null,
   "id": "ae237ed3-2297-4874-bcbb-a7be15f83b85",
   "metadata": {},
   "outputs": [],
   "source": []
  },
  {
   "cell_type": "code",
   "execution_count": null,
   "id": "a67c7d00-55e1-4665-b8f4-db49c7a87976",
   "metadata": {},
   "outputs": [],
   "source": []
  },
  {
   "cell_type": "code",
   "execution_count": null,
   "id": "2b4d714b-11f4-4ad4-a185-dd47262cc828",
   "metadata": {},
   "outputs": [],
   "source": []
  },
  {
   "cell_type": "code",
   "execution_count": null,
   "id": "59dc8204-f83a-484e-ae8d-b1f27eb6801c",
   "metadata": {},
   "outputs": [],
   "source": []
  },
  {
   "cell_type": "code",
   "execution_count": null,
   "id": "94f634c2-2c0b-43b3-9dd4-83ddefeeef88",
   "metadata": {},
   "outputs": [],
   "source": []
  },
  {
   "cell_type": "code",
   "execution_count": null,
   "id": "708402d9-796a-4d9a-b17d-f89cae0244f8",
   "metadata": {},
   "outputs": [],
   "source": []
  },
  {
   "cell_type": "code",
   "execution_count": null,
   "id": "0a5ba555-106d-44bb-bb6d-ab7ada6c23de",
   "metadata": {},
   "outputs": [],
   "source": [
    "# rubicon_ml.set_failure_mode(\"warn\")"
   ]
  },
  {
   "cell_type": "code",
   "execution_count": null,
   "id": "8527c3f8-c571-43bf-a630-66006882b9a0",
   "metadata": {},
   "outputs": [],
   "source": [
    "rubicon_memory_v2 = Rubicon(persistence=\"memory:v2\", root_dir=\".\")\n",
    "rubicon_memory_v2.repository"
   ]
  },
  {
   "cell_type": "code",
   "execution_count": null,
   "id": "dcc3ba7f-a20f-4362-8527-206a042234e4",
   "metadata": {},
   "outputs": [],
   "source": [
    "rubicon_memory_v2.repository._get_filesystem()"
   ]
  },
  {
   "cell_type": "code",
   "execution_count": null,
   "id": "0a25cfca-6087-4070-b5f4-d9800c38a2c4",
   "metadata": {},
   "outputs": [],
   "source": [
    "rubicon_s3_v2 = Rubicon(persistence=\"filesystem:v2\", root_dir=\"s3://.\")\n",
    "rubicon_s3_v2.repository"
   ]
  },
  {
   "cell_type": "code",
   "execution_count": null,
   "id": "019f75e1-863a-4b88-b205-aa19e73b94c0",
   "metadata": {},
   "outputs": [],
   "source": [
    "rubicon_s3_v2.repository._get_filesystem()"
   ]
  },
  {
   "cell_type": "code",
   "execution_count": null,
   "id": "8df544b2-0e29-4734-bdcb-00f3894571bc",
   "metadata": {},
   "outputs": [],
   "source": []
  },
  {
   "cell_type": "code",
   "execution_count": 14,
   "id": "a8a07a22-fbd3-45fa-add1-51d1678a2312",
   "metadata": {},
   "outputs": [
    {
     "data": {
      "text/plain": [
       "<rubicon_ml.repository.v2.LoggerRepositoryV2 at 0x13fc1d8e0>"
      ]
     },
     "execution_count": 14,
     "metadata": {},
     "output_type": "execute_result"
    }
   ],
   "source": [
    "rubicon_logger_v2 = Rubicon(persistence=\"logger:v2\")\n",
    "rubicon_logger_v2.repository"
   ]
  },
  {
   "cell_type": "code",
   "execution_count": 15,
   "id": "aee10ee3-8c4a-4924-bc3f-8d091c2ca920",
   "metadata": {},
   "outputs": [
    {
     "data": {
      "text/plain": [
       "<Logger rubicon-ml (WARNING)>"
      ]
     },
     "execution_count": 15,
     "metadata": {},
     "output_type": "execute_result"
    }
   ],
   "source": [
    "rubicon_logger_v2.repository.logger"
   ]
  },
  {
   "cell_type": "code",
   "execution_count": 16,
   "id": "79407991-b1f4-4fac-9f52-0f397595b84d",
   "metadata": {},
   "outputs": [
    {
     "name": "stderr",
     "output_type": "stream",
     "text": [
      "rubicon-ml::project::{\"name\": \"repo refactor\", \"created_at\": {\"_type\": \"datetime\", \"value\": \"2025-04-14 19:08:42.720134\"}, \"description\": null, \"github_url\": null, \"id\": \"6a516037-e422-4010-903c-c367763d15a8\", \"training_metadata\": null}\n"
     ]
    }
   ],
   "source": [
    "project = rubicon_logger_v2.create_project(name=\"repo refactor\")"
   ]
  },
  {
   "cell_type": "code",
   "execution_count": 17,
   "id": "a486f539-3ea3-45f7-b687-02863b4b38cc",
   "metadata": {},
   "outputs": [
    {
     "name": "stderr",
     "output_type": "stream",
     "text": [
      "rubicon-ml::artifact::{\"name\": \"x\", \"comments\": [], \"created_at\": {\"_type\": \"datetime\", \"value\": \"2025-04-14 19:08:43.951395\"}, \"description\": null, \"id\": \"54e12fb1-c6f9-488e-8531-ba00f7a95a3b\", \"parent_id\": \"6a516037-e422-4010-903c-c367763d15a8\", \"tags\": []}\n"
     ]
    },
    {
     "ename": "RubiconNotImplementedError",
     "evalue": "`LoggerRepositoryV2` does not support logging of binary data.",
     "output_type": "error",
     "traceback": [
      "\u001b[31m---------------------------------------------------------------------------\u001b[39m",
      "\u001b[31mRubiconNotImplementedError\u001b[39m                Traceback (most recent call last)",
      "\u001b[36mCell\u001b[39m\u001b[36m \u001b[39m\u001b[32mIn[17]\u001b[39m\u001b[32m, line 1\u001b[39m\n\u001b[32m----> \u001b[39m\u001b[32m1\u001b[39m \u001b[43mproject\u001b[49m\u001b[43m.\u001b[49m\u001b[43mlog_artifact\u001b[49m\u001b[43m(\u001b[49m\u001b[43mname\u001b[49m\u001b[43m=\u001b[49m\u001b[33;43m\"\u001b[39;49m\u001b[33;43mx\u001b[39;49m\u001b[33;43m\"\u001b[39;49m\u001b[43m,\u001b[49m\u001b[43m \u001b[49m\u001b[43mdata_bytes\u001b[49m\u001b[43m=\u001b[49m\u001b[33;43mb\u001b[39;49m\u001b[33;43m\"\u001b[39;49m\u001b[33;43mdata\u001b[39;49m\u001b[33;43m\"\u001b[39;49m\u001b[43m)\u001b[49m\n",
      "\u001b[36mFile \u001b[39m\u001b[32m~/github/capitalone/rubicon-ml/rubicon_ml/client/utils/exception_handling.py:51\u001b[39m, in \u001b[36mfailsafe.<locals>.wrapper\u001b[39m\u001b[34m(*args, **kwargs)\u001b[39m\n\u001b[32m     49\u001b[39m \u001b[38;5;28;01mexcept\u001b[39;00m \u001b[38;5;167;01mException\u001b[39;00m \u001b[38;5;28;01mas\u001b[39;00m e:\n\u001b[32m     50\u001b[39m     \u001b[38;5;28;01mif\u001b[39;00m FAILURE_MODE == \u001b[33m\"\u001b[39m\u001b[33mraise\u001b[39m\u001b[33m\"\u001b[39m:\n\u001b[32m---> \u001b[39m\u001b[32m51\u001b[39m         \u001b[38;5;28;01mraise\u001b[39;00m e\n\u001b[32m     52\u001b[39m     \u001b[38;5;28;01melif\u001b[39;00m FAILURE_MODE == \u001b[33m\"\u001b[39m\u001b[33mwarn\u001b[39m\u001b[33m\"\u001b[39m:\n\u001b[32m     53\u001b[39m         warnings.warn(traceback.format_exc(limit=TRACEBACK_LIMIT, chain=TRACEBACK_CHAIN))\n",
      "\u001b[36mFile \u001b[39m\u001b[32m~/github/capitalone/rubicon-ml/rubicon_ml/client/utils/exception_handling.py:48\u001b[39m, in \u001b[36mfailsafe.<locals>.wrapper\u001b[39m\u001b[34m(*args, **kwargs)\u001b[39m\n\u001b[32m     45\u001b[39m \u001b[38;5;129m@functools\u001b[39m.wraps(func)\n\u001b[32m     46\u001b[39m \u001b[38;5;28;01mdef\u001b[39;00m\u001b[38;5;250m \u001b[39m\u001b[34mwrapper\u001b[39m(*args, **kwargs):\n\u001b[32m     47\u001b[39m     \u001b[38;5;28;01mtry\u001b[39;00m:\n\u001b[32m---> \u001b[39m\u001b[32m48\u001b[39m         \u001b[38;5;28;01mreturn\u001b[39;00m \u001b[43mfunc\u001b[49m\u001b[43m(\u001b[49m\u001b[43m*\u001b[49m\u001b[43margs\u001b[49m\u001b[43m,\u001b[49m\u001b[43m \u001b[49m\u001b[43m*\u001b[49m\u001b[43m*\u001b[49m\u001b[43mkwargs\u001b[49m\u001b[43m)\u001b[49m\n\u001b[32m     49\u001b[39m     \u001b[38;5;28;01mexcept\u001b[39;00m \u001b[38;5;167;01mException\u001b[39;00m \u001b[38;5;28;01mas\u001b[39;00m e:\n\u001b[32m     50\u001b[39m         \u001b[38;5;28;01mif\u001b[39;00m FAILURE_MODE == \u001b[33m\"\u001b[39m\u001b[33mraise\u001b[39m\u001b[33m\"\u001b[39m:\n",
      "\u001b[36mFile \u001b[39m\u001b[32m~/github/capitalone/rubicon-ml/rubicon_ml/client/mixin.py:190\u001b[39m, in \u001b[36mArtifactMixin.log_artifact\u001b[39m\u001b[34m(self, data_bytes, data_directory, data_file, data_object, data_path, name, description, tags, comments)\u001b[39m\n\u001b[32m    188\u001b[39m project_name, experiment_id = \u001b[38;5;28mself\u001b[39m._get_identifiers()\n\u001b[32m    189\u001b[39m \u001b[38;5;28;01mfor\u001b[39;00m repo \u001b[38;5;129;01min\u001b[39;00m \u001b[38;5;28mself\u001b[39m.repositories:\n\u001b[32m--> \u001b[39m\u001b[32m190\u001b[39m     \u001b[43mrepo\u001b[49m\u001b[43m.\u001b[49m\u001b[43mcreate_artifact\u001b[49m\u001b[43m(\u001b[49m\u001b[43martifact\u001b[49m\u001b[43m,\u001b[49m\u001b[43m \u001b[49m\u001b[43mdata_bytes\u001b[49m\u001b[43m,\u001b[49m\u001b[43m \u001b[49m\u001b[43mproject_name\u001b[49m\u001b[43m,\u001b[49m\u001b[43m \u001b[49m\u001b[43mexperiment_id\u001b[49m\u001b[43m=\u001b[49m\u001b[43mexperiment_id\u001b[49m\u001b[43m)\u001b[49m\n\u001b[32m    192\u001b[39m \u001b[38;5;28;01mreturn\u001b[39;00m client.Artifact(artifact, \u001b[38;5;28mself\u001b[39m)\n",
      "\u001b[36mFile \u001b[39m\u001b[32m~/github/capitalone/rubicon-ml/rubicon_ml/repository/v2/__init__.py:51\u001b[39m, in \u001b[36mV1CompatibilityMixin.create_artifact\u001b[39m\u001b[34m(self, artifact, data, project_name, experiment_id)\u001b[39m\n\u001b[32m     43\u001b[39m \u001b[38;5;28;01mdef\u001b[39;00m\u001b[38;5;250m \u001b[39m\u001b[34mcreate_artifact\u001b[39m(\n\u001b[32m     44\u001b[39m     \u001b[38;5;28mself\u001b[39m,\n\u001b[32m     45\u001b[39m     artifact: \u001b[33m\"\u001b[39m\u001b[33mdomain.Artifact\u001b[39m\u001b[33m\"\u001b[39m,\n\u001b[32m   (...)\u001b[39m\u001b[32m     48\u001b[39m     experiment_id: Optional[\u001b[38;5;28mstr\u001b[39m] = \u001b[38;5;28;01mNone\u001b[39;00m,\n\u001b[32m     49\u001b[39m ):\n\u001b[32m     50\u001b[39m     \u001b[38;5;28mself\u001b[39m.write_artifact_metadata(artifact, project_name, experiment_id)\n\u001b[32m---> \u001b[39m\u001b[32m51\u001b[39m     \u001b[38;5;28;43mself\u001b[39;49m\u001b[43m.\u001b[49m\u001b[43mwrite_artifact_data\u001b[49m\u001b[43m(\u001b[49m\u001b[43mdata\u001b[49m\u001b[43m,\u001b[49m\u001b[43m \u001b[49m\u001b[43martifact\u001b[49m\u001b[43m.\u001b[49m\u001b[43mid\u001b[49m\u001b[43m,\u001b[49m\u001b[43m \u001b[49m\u001b[43mproject_name\u001b[49m\u001b[43m,\u001b[49m\u001b[43m \u001b[49m\u001b[43mexperiment_id\u001b[49m\u001b[43m)\u001b[49m\n",
      "\u001b[36mFile \u001b[39m\u001b[32m~/github/capitalone/rubicon-ml/rubicon_ml/repository/v2/exceptions.py:63\u001b[39m, in \u001b[36mDomainOnlyMixin.write_artifact_data\u001b[39m\u001b[34m(self, *args, **kwargs)\u001b[39m\n\u001b[32m     62\u001b[39m \u001b[38;5;28;01mdef\u001b[39;00m\u001b[38;5;250m \u001b[39m\u001b[34mwrite_artifact_data\u001b[39m(\u001b[38;5;28mself\u001b[39m, *args: Any, **kwargs: Any):\n\u001b[32m---> \u001b[39m\u001b[32m63\u001b[39m     \u001b[38;5;28;43mself\u001b[39;49m\u001b[43m.\u001b[49m\u001b[43m_raise_domain_only_exception\u001b[49m\u001b[43m(\u001b[49m\u001b[43m)\u001b[49m\n",
      "\u001b[36mFile \u001b[39m\u001b[32m~/github/capitalone/rubicon-ml/rubicon_ml/repository/v2/exceptions.py:50\u001b[39m, in \u001b[36mDomainOnlyMixin._raise_domain_only_exception\u001b[39m\u001b[34m(self)\u001b[39m\n\u001b[32m     49\u001b[39m \u001b[38;5;28;01mdef\u001b[39;00m\u001b[38;5;250m \u001b[39m\u001b[34m_raise_domain_only_exception\u001b[39m(\u001b[38;5;28mself\u001b[39m):\n\u001b[32m---> \u001b[39m\u001b[32m50\u001b[39m     \u001b[38;5;28;01mraise\u001b[39;00m RubiconNotImplementedError(\n\u001b[32m     51\u001b[39m         \u001b[33mf\u001b[39m\u001b[33m\"\u001b[39m\u001b[33m`\u001b[39m\u001b[38;5;132;01m{\u001b[39;00m\u001b[38;5;28mself\u001b[39m.\u001b[34m__class__\u001b[39m.\u001b[34m__name__\u001b[39m\u001b[38;5;132;01m}\u001b[39;00m\u001b[33m` does not support logging of binary data.\u001b[39m\u001b[33m\"\u001b[39m\n\u001b[32m     52\u001b[39m     )\n",
      "\u001b[31mRubiconNotImplementedError\u001b[39m: `LoggerRepositoryV2` does not support logging of binary data."
     ]
    }
   ],
   "source": [
    "project.log_artifact(name=\"x\", data_bytes=b\"data\")"
   ]
  },
  {
   "cell_type": "code",
   "execution_count": 18,
   "id": "88b14bda-ee0e-4c7e-8341-abe0d2c5b4f7",
   "metadata": {},
   "outputs": [
    {
     "name": "stderr",
     "output_type": "stream",
     "text": [
      "rubicon-ml::dataframe::{\"comments\": [], \"created_at\": {\"_type\": \"datetime\", \"value\": \"2025-04-14 19:08:46.107670\"}, \"description\": null, \"id\": \"47d4a966-a045-4c59-b2eb-d31ce18694af\", \"name\": \"y\", \"parent_id\": \"6a516037-e422-4010-903c-c367763d15a8\", \"tags\": []}\n"
     ]
    },
    {
     "ename": "RubiconNotImplementedError",
     "evalue": "`LoggerRepositoryV2` does not support logging of binary data.",
     "output_type": "error",
     "traceback": [
      "\u001b[31m---------------------------------------------------------------------------\u001b[39m",
      "\u001b[31mRubiconNotImplementedError\u001b[39m                Traceback (most recent call last)",
      "\u001b[36mCell\u001b[39m\u001b[36m \u001b[39m\u001b[32mIn[18]\u001b[39m\u001b[32m, line 3\u001b[39m\n\u001b[32m      1\u001b[39m \u001b[38;5;28;01mimport\u001b[39;00m\u001b[38;5;250m \u001b[39m\u001b[34;01mpandas\u001b[39;00m\u001b[38;5;250m \u001b[39m\u001b[38;5;28;01mas\u001b[39;00m\u001b[38;5;250m \u001b[39m\u001b[34;01mpd\u001b[39;00m\n\u001b[32m----> \u001b[39m\u001b[32m3\u001b[39m \u001b[43mproject\u001b[49m\u001b[43m.\u001b[49m\u001b[43mlog_dataframe\u001b[49m\u001b[43m(\u001b[49m\u001b[43mname\u001b[49m\u001b[43m=\u001b[49m\u001b[33;43m\"\u001b[39;49m\u001b[33;43my\u001b[39;49m\u001b[33;43m\"\u001b[39;49m\u001b[43m,\u001b[49m\u001b[43m \u001b[49m\u001b[43mdf\u001b[49m\u001b[43m=\u001b[49m\u001b[43mpd\u001b[49m\u001b[43m.\u001b[49m\u001b[43mDataFrame\u001b[49m\u001b[43m(\u001b[49m\u001b[43m[\u001b[49m\u001b[32;43m0\u001b[39;49m\u001b[43m]\u001b[49m\u001b[43m)\u001b[49m\u001b[43m)\u001b[49m\n",
      "\u001b[36mFile \u001b[39m\u001b[32m~/github/capitalone/rubicon-ml/rubicon_ml/client/utils/exception_handling.py:51\u001b[39m, in \u001b[36mfailsafe.<locals>.wrapper\u001b[39m\u001b[34m(*args, **kwargs)\u001b[39m\n\u001b[32m     49\u001b[39m \u001b[38;5;28;01mexcept\u001b[39;00m \u001b[38;5;167;01mException\u001b[39;00m \u001b[38;5;28;01mas\u001b[39;00m e:\n\u001b[32m     50\u001b[39m     \u001b[38;5;28;01mif\u001b[39;00m FAILURE_MODE == \u001b[33m\"\u001b[39m\u001b[33mraise\u001b[39m\u001b[33m\"\u001b[39m:\n\u001b[32m---> \u001b[39m\u001b[32m51\u001b[39m         \u001b[38;5;28;01mraise\u001b[39;00m e\n\u001b[32m     52\u001b[39m     \u001b[38;5;28;01melif\u001b[39;00m FAILURE_MODE == \u001b[33m\"\u001b[39m\u001b[33mwarn\u001b[39m\u001b[33m\"\u001b[39m:\n\u001b[32m     53\u001b[39m         warnings.warn(traceback.format_exc(limit=TRACEBACK_LIMIT, chain=TRACEBACK_CHAIN))\n",
      "\u001b[36mFile \u001b[39m\u001b[32m~/github/capitalone/rubicon-ml/rubicon_ml/client/utils/exception_handling.py:48\u001b[39m, in \u001b[36mfailsafe.<locals>.wrapper\u001b[39m\u001b[34m(*args, **kwargs)\u001b[39m\n\u001b[32m     45\u001b[39m \u001b[38;5;129m@functools\u001b[39m.wraps(func)\n\u001b[32m     46\u001b[39m \u001b[38;5;28;01mdef\u001b[39;00m\u001b[38;5;250m \u001b[39m\u001b[34mwrapper\u001b[39m(*args, **kwargs):\n\u001b[32m     47\u001b[39m     \u001b[38;5;28;01mtry\u001b[39;00m:\n\u001b[32m---> \u001b[39m\u001b[32m48\u001b[39m         \u001b[38;5;28;01mreturn\u001b[39;00m \u001b[43mfunc\u001b[49m\u001b[43m(\u001b[49m\u001b[43m*\u001b[49m\u001b[43margs\u001b[49m\u001b[43m,\u001b[49m\u001b[43m \u001b[49m\u001b[43m*\u001b[49m\u001b[43m*\u001b[49m\u001b[43mkwargs\u001b[49m\u001b[43m)\u001b[49m\n\u001b[32m     49\u001b[39m     \u001b[38;5;28;01mexcept\u001b[39;00m \u001b[38;5;167;01mException\u001b[39;00m \u001b[38;5;28;01mas\u001b[39;00m e:\n\u001b[32m     50\u001b[39m         \u001b[38;5;28;01mif\u001b[39;00m FAILURE_MODE == \u001b[33m\"\u001b[39m\u001b[33mraise\u001b[39m\u001b[33m\"\u001b[39m:\n",
      "\u001b[36mFile \u001b[39m\u001b[32m~/github/capitalone/rubicon-ml/rubicon_ml/client/mixin.py:562\u001b[39m, in \u001b[36mDataframeMixin.log_dataframe\u001b[39m\u001b[34m(self, df, description, name, tags, comments)\u001b[39m\n\u001b[32m    560\u001b[39m project_name, experiment_id = \u001b[38;5;28mself\u001b[39m._get_identifiers()\n\u001b[32m    561\u001b[39m \u001b[38;5;28;01mfor\u001b[39;00m repo \u001b[38;5;129;01min\u001b[39;00m \u001b[38;5;28mself\u001b[39m.repositories:\n\u001b[32m--> \u001b[39m\u001b[32m562\u001b[39m     \u001b[43mrepo\u001b[49m\u001b[43m.\u001b[49m\u001b[43mcreate_dataframe\u001b[49m\u001b[43m(\u001b[49m\u001b[43mdataframe\u001b[49m\u001b[43m,\u001b[49m\u001b[43m \u001b[49m\u001b[43mdf\u001b[49m\u001b[43m,\u001b[49m\u001b[43m \u001b[49m\u001b[43mproject_name\u001b[49m\u001b[43m,\u001b[49m\u001b[43m \u001b[49m\u001b[43mexperiment_id\u001b[49m\u001b[43m=\u001b[49m\u001b[43mexperiment_id\u001b[49m\u001b[43m)\u001b[49m\n\u001b[32m    564\u001b[39m \u001b[38;5;28;01mreturn\u001b[39;00m client.Dataframe(dataframe, \u001b[38;5;28mself\u001b[39m)\n",
      "\u001b[36mFile \u001b[39m\u001b[32m~/github/capitalone/rubicon-ml/rubicon_ml/repository/v2/__init__.py:71\u001b[39m, in \u001b[36mV1CompatibilityMixin.create_dataframe\u001b[39m\u001b[34m(self, dataframe, data, project_name, experiment_id)\u001b[39m\n\u001b[32m     63\u001b[39m \u001b[38;5;28;01mdef\u001b[39;00m\u001b[38;5;250m \u001b[39m\u001b[34mcreate_dataframe\u001b[39m(\n\u001b[32m     64\u001b[39m     \u001b[38;5;28mself\u001b[39m,\n\u001b[32m     65\u001b[39m     dataframe: \u001b[33m\"\u001b[39m\u001b[33mdomain.Dataframe\u001b[39m\u001b[33m\"\u001b[39m,\n\u001b[32m   (...)\u001b[39m\u001b[32m     68\u001b[39m     experiment_id: Optional[\u001b[38;5;28mstr\u001b[39m] = \u001b[38;5;28;01mNone\u001b[39;00m,\n\u001b[32m     69\u001b[39m ):\n\u001b[32m     70\u001b[39m     \u001b[38;5;28mself\u001b[39m.write_dataframe_metadata(dataframe, project_name, experiment_id)\n\u001b[32m---> \u001b[39m\u001b[32m71\u001b[39m     \u001b[38;5;28;43mself\u001b[39;49m\u001b[43m.\u001b[49m\u001b[43mwrite_dataframe_data\u001b[49m\u001b[43m(\u001b[49m\u001b[43mdata\u001b[49m\u001b[43m,\u001b[49m\u001b[43m \u001b[49m\u001b[43mdataframe\u001b[49m\u001b[43m.\u001b[49m\u001b[43mid\u001b[49m\u001b[43m,\u001b[49m\u001b[43m \u001b[49m\u001b[43mproject_name\u001b[49m\u001b[43m,\u001b[49m\u001b[43m \u001b[49m\u001b[43mexperiment_id\u001b[49m\u001b[43m)\u001b[49m\n",
      "\u001b[36mFile \u001b[39m\u001b[32m~/github/capitalone/rubicon-ml/rubicon_ml/repository/v2/exceptions.py:69\u001b[39m, in \u001b[36mDomainOnlyMixin.write_dataframe_data\u001b[39m\u001b[34m(self, *args, **kwargs)\u001b[39m\n\u001b[32m     68\u001b[39m \u001b[38;5;28;01mdef\u001b[39;00m\u001b[38;5;250m \u001b[39m\u001b[34mwrite_dataframe_data\u001b[39m(\u001b[38;5;28mself\u001b[39m, *args: Any, **kwargs: Any):\n\u001b[32m---> \u001b[39m\u001b[32m69\u001b[39m     \u001b[38;5;28;43mself\u001b[39;49m\u001b[43m.\u001b[49m\u001b[43m_raise_domain_only_exception\u001b[49m\u001b[43m(\u001b[49m\u001b[43m)\u001b[49m\n",
      "\u001b[36mFile \u001b[39m\u001b[32m~/github/capitalone/rubicon-ml/rubicon_ml/repository/v2/exceptions.py:50\u001b[39m, in \u001b[36mDomainOnlyMixin._raise_domain_only_exception\u001b[39m\u001b[34m(self)\u001b[39m\n\u001b[32m     49\u001b[39m \u001b[38;5;28;01mdef\u001b[39;00m\u001b[38;5;250m \u001b[39m\u001b[34m_raise_domain_only_exception\u001b[39m(\u001b[38;5;28mself\u001b[39m):\n\u001b[32m---> \u001b[39m\u001b[32m50\u001b[39m     \u001b[38;5;28;01mraise\u001b[39;00m RubiconNotImplementedError(\n\u001b[32m     51\u001b[39m         \u001b[33mf\u001b[39m\u001b[33m\"\u001b[39m\u001b[33m`\u001b[39m\u001b[38;5;132;01m{\u001b[39;00m\u001b[38;5;28mself\u001b[39m.\u001b[34m__class__\u001b[39m.\u001b[34m__name__\u001b[39m\u001b[38;5;132;01m}\u001b[39;00m\u001b[33m` does not support logging of binary data.\u001b[39m\u001b[33m\"\u001b[39m\n\u001b[32m     52\u001b[39m     )\n",
      "\u001b[31mRubiconNotImplementedError\u001b[39m: `LoggerRepositoryV2` does not support logging of binary data."
     ]
    }
   ],
   "source": [
    "import pandas as pd\n",
    "\n",
    "project.log_dataframe(name=\"y\", df=pd.DataFrame([0]))"
   ]
  },
  {
   "cell_type": "code",
   "execution_count": 19,
   "id": "c753bc9a-208a-4681-803b-5f0782dc4ffd",
   "metadata": {},
   "outputs": [
    {
     "name": "stderr",
     "output_type": "stream",
     "text": [
      "rubicon-ml::experiment::{\"project_name\": \"repo refactor\", \"branch_name\": null, \"comments\": [], \"commit_hash\": null, \"created_at\": {\"_type\": \"datetime\", \"value\": \"2025-04-14 19:08:49.336855\"}, \"description\": null, \"id\": \"18a7de82-d1d2-4b31-8427-4b4c1b341f7a\", \"model_name\": null, \"name\": null, \"tags\": [], \"training_metadata\": null}\n"
     ]
    }
   ],
   "source": [
    "experiment = project.log_experiment()"
   ]
  },
  {
   "cell_type": "code",
   "execution_count": 20,
   "id": "041e3285-77ae-4ffc-9d72-309dd31a8054",
   "metadata": {},
   "outputs": [
    {
     "name": "stderr",
     "output_type": "stream",
     "text": [
      "rubicon-ml::artifact::{\"name\": \"x\", \"comments\": [], \"created_at\": {\"_type\": \"datetime\", \"value\": \"2025-04-14 19:08:50.995603\"}, \"description\": null, \"id\": \"b584aed2-76e2-45ec-a5a0-5f059fe3d803\", \"parent_id\": \"18a7de82-d1d2-4b31-8427-4b4c1b341f7a\", \"tags\": []}\n"
     ]
    },
    {
     "ename": "RubiconNotImplementedError",
     "evalue": "`LoggerRepositoryV2` does not support logging of binary data.",
     "output_type": "error",
     "traceback": [
      "\u001b[31m---------------------------------------------------------------------------\u001b[39m",
      "\u001b[31mRubiconNotImplementedError\u001b[39m                Traceback (most recent call last)",
      "\u001b[36mCell\u001b[39m\u001b[36m \u001b[39m\u001b[32mIn[20]\u001b[39m\u001b[32m, line 1\u001b[39m\n\u001b[32m----> \u001b[39m\u001b[32m1\u001b[39m \u001b[43mexperiment\u001b[49m\u001b[43m.\u001b[49m\u001b[43mlog_artifact\u001b[49m\u001b[43m(\u001b[49m\u001b[43mname\u001b[49m\u001b[43m=\u001b[49m\u001b[33;43m\"\u001b[39;49m\u001b[33;43mx\u001b[39;49m\u001b[33;43m\"\u001b[39;49m\u001b[43m,\u001b[49m\u001b[43m \u001b[49m\u001b[43mdata_bytes\u001b[49m\u001b[43m=\u001b[49m\u001b[33;43mb\u001b[39;49m\u001b[33;43m\"\u001b[39;49m\u001b[33;43mdata\u001b[39;49m\u001b[33;43m\"\u001b[39;49m\u001b[43m)\u001b[49m\n",
      "\u001b[36mFile \u001b[39m\u001b[32m~/github/capitalone/rubicon-ml/rubicon_ml/client/utils/exception_handling.py:51\u001b[39m, in \u001b[36mfailsafe.<locals>.wrapper\u001b[39m\u001b[34m(*args, **kwargs)\u001b[39m\n\u001b[32m     49\u001b[39m \u001b[38;5;28;01mexcept\u001b[39;00m \u001b[38;5;167;01mException\u001b[39;00m \u001b[38;5;28;01mas\u001b[39;00m e:\n\u001b[32m     50\u001b[39m     \u001b[38;5;28;01mif\u001b[39;00m FAILURE_MODE == \u001b[33m\"\u001b[39m\u001b[33mraise\u001b[39m\u001b[33m\"\u001b[39m:\n\u001b[32m---> \u001b[39m\u001b[32m51\u001b[39m         \u001b[38;5;28;01mraise\u001b[39;00m e\n\u001b[32m     52\u001b[39m     \u001b[38;5;28;01melif\u001b[39;00m FAILURE_MODE == \u001b[33m\"\u001b[39m\u001b[33mwarn\u001b[39m\u001b[33m\"\u001b[39m:\n\u001b[32m     53\u001b[39m         warnings.warn(traceback.format_exc(limit=TRACEBACK_LIMIT, chain=TRACEBACK_CHAIN))\n",
      "\u001b[36mFile \u001b[39m\u001b[32m~/github/capitalone/rubicon-ml/rubicon_ml/client/utils/exception_handling.py:48\u001b[39m, in \u001b[36mfailsafe.<locals>.wrapper\u001b[39m\u001b[34m(*args, **kwargs)\u001b[39m\n\u001b[32m     45\u001b[39m \u001b[38;5;129m@functools\u001b[39m.wraps(func)\n\u001b[32m     46\u001b[39m \u001b[38;5;28;01mdef\u001b[39;00m\u001b[38;5;250m \u001b[39m\u001b[34mwrapper\u001b[39m(*args, **kwargs):\n\u001b[32m     47\u001b[39m     \u001b[38;5;28;01mtry\u001b[39;00m:\n\u001b[32m---> \u001b[39m\u001b[32m48\u001b[39m         \u001b[38;5;28;01mreturn\u001b[39;00m \u001b[43mfunc\u001b[49m\u001b[43m(\u001b[49m\u001b[43m*\u001b[49m\u001b[43margs\u001b[49m\u001b[43m,\u001b[49m\u001b[43m \u001b[49m\u001b[43m*\u001b[49m\u001b[43m*\u001b[49m\u001b[43mkwargs\u001b[49m\u001b[43m)\u001b[49m\n\u001b[32m     49\u001b[39m     \u001b[38;5;28;01mexcept\u001b[39;00m \u001b[38;5;167;01mException\u001b[39;00m \u001b[38;5;28;01mas\u001b[39;00m e:\n\u001b[32m     50\u001b[39m         \u001b[38;5;28;01mif\u001b[39;00m FAILURE_MODE == \u001b[33m\"\u001b[39m\u001b[33mraise\u001b[39m\u001b[33m\"\u001b[39m:\n",
      "\u001b[36mFile \u001b[39m\u001b[32m~/github/capitalone/rubicon-ml/rubicon_ml/client/mixin.py:190\u001b[39m, in \u001b[36mArtifactMixin.log_artifact\u001b[39m\u001b[34m(self, data_bytes, data_directory, data_file, data_object, data_path, name, description, tags, comments)\u001b[39m\n\u001b[32m    188\u001b[39m project_name, experiment_id = \u001b[38;5;28mself\u001b[39m._get_identifiers()\n\u001b[32m    189\u001b[39m \u001b[38;5;28;01mfor\u001b[39;00m repo \u001b[38;5;129;01min\u001b[39;00m \u001b[38;5;28mself\u001b[39m.repositories:\n\u001b[32m--> \u001b[39m\u001b[32m190\u001b[39m     \u001b[43mrepo\u001b[49m\u001b[43m.\u001b[49m\u001b[43mcreate_artifact\u001b[49m\u001b[43m(\u001b[49m\u001b[43martifact\u001b[49m\u001b[43m,\u001b[49m\u001b[43m \u001b[49m\u001b[43mdata_bytes\u001b[49m\u001b[43m,\u001b[49m\u001b[43m \u001b[49m\u001b[43mproject_name\u001b[49m\u001b[43m,\u001b[49m\u001b[43m \u001b[49m\u001b[43mexperiment_id\u001b[49m\u001b[43m=\u001b[49m\u001b[43mexperiment_id\u001b[49m\u001b[43m)\u001b[49m\n\u001b[32m    192\u001b[39m \u001b[38;5;28;01mreturn\u001b[39;00m client.Artifact(artifact, \u001b[38;5;28mself\u001b[39m)\n",
      "\u001b[36mFile \u001b[39m\u001b[32m~/github/capitalone/rubicon-ml/rubicon_ml/repository/v2/__init__.py:51\u001b[39m, in \u001b[36mV1CompatibilityMixin.create_artifact\u001b[39m\u001b[34m(self, artifact, data, project_name, experiment_id)\u001b[39m\n\u001b[32m     43\u001b[39m \u001b[38;5;28;01mdef\u001b[39;00m\u001b[38;5;250m \u001b[39m\u001b[34mcreate_artifact\u001b[39m(\n\u001b[32m     44\u001b[39m     \u001b[38;5;28mself\u001b[39m,\n\u001b[32m     45\u001b[39m     artifact: \u001b[33m\"\u001b[39m\u001b[33mdomain.Artifact\u001b[39m\u001b[33m\"\u001b[39m,\n\u001b[32m   (...)\u001b[39m\u001b[32m     48\u001b[39m     experiment_id: Optional[\u001b[38;5;28mstr\u001b[39m] = \u001b[38;5;28;01mNone\u001b[39;00m,\n\u001b[32m     49\u001b[39m ):\n\u001b[32m     50\u001b[39m     \u001b[38;5;28mself\u001b[39m.write_artifact_metadata(artifact, project_name, experiment_id)\n\u001b[32m---> \u001b[39m\u001b[32m51\u001b[39m     \u001b[38;5;28;43mself\u001b[39;49m\u001b[43m.\u001b[49m\u001b[43mwrite_artifact_data\u001b[49m\u001b[43m(\u001b[49m\u001b[43mdata\u001b[49m\u001b[43m,\u001b[49m\u001b[43m \u001b[49m\u001b[43martifact\u001b[49m\u001b[43m.\u001b[49m\u001b[43mid\u001b[49m\u001b[43m,\u001b[49m\u001b[43m \u001b[49m\u001b[43mproject_name\u001b[49m\u001b[43m,\u001b[49m\u001b[43m \u001b[49m\u001b[43mexperiment_id\u001b[49m\u001b[43m)\u001b[49m\n",
      "\u001b[36mFile \u001b[39m\u001b[32m~/github/capitalone/rubicon-ml/rubicon_ml/repository/v2/exceptions.py:63\u001b[39m, in \u001b[36mDomainOnlyMixin.write_artifact_data\u001b[39m\u001b[34m(self, *args, **kwargs)\u001b[39m\n\u001b[32m     62\u001b[39m \u001b[38;5;28;01mdef\u001b[39;00m\u001b[38;5;250m \u001b[39m\u001b[34mwrite_artifact_data\u001b[39m(\u001b[38;5;28mself\u001b[39m, *args: Any, **kwargs: Any):\n\u001b[32m---> \u001b[39m\u001b[32m63\u001b[39m     \u001b[38;5;28;43mself\u001b[39;49m\u001b[43m.\u001b[49m\u001b[43m_raise_domain_only_exception\u001b[49m\u001b[43m(\u001b[49m\u001b[43m)\u001b[49m\n",
      "\u001b[36mFile \u001b[39m\u001b[32m~/github/capitalone/rubicon-ml/rubicon_ml/repository/v2/exceptions.py:50\u001b[39m, in \u001b[36mDomainOnlyMixin._raise_domain_only_exception\u001b[39m\u001b[34m(self)\u001b[39m\n\u001b[32m     49\u001b[39m \u001b[38;5;28;01mdef\u001b[39;00m\u001b[38;5;250m \u001b[39m\u001b[34m_raise_domain_only_exception\u001b[39m(\u001b[38;5;28mself\u001b[39m):\n\u001b[32m---> \u001b[39m\u001b[32m50\u001b[39m     \u001b[38;5;28;01mraise\u001b[39;00m RubiconNotImplementedError(\n\u001b[32m     51\u001b[39m         \u001b[33mf\u001b[39m\u001b[33m\"\u001b[39m\u001b[33m`\u001b[39m\u001b[38;5;132;01m{\u001b[39;00m\u001b[38;5;28mself\u001b[39m.\u001b[34m__class__\u001b[39m.\u001b[34m__name__\u001b[39m\u001b[38;5;132;01m}\u001b[39;00m\u001b[33m` does not support logging of binary data.\u001b[39m\u001b[33m\"\u001b[39m\n\u001b[32m     52\u001b[39m     )\n",
      "\u001b[31mRubiconNotImplementedError\u001b[39m: `LoggerRepositoryV2` does not support logging of binary data."
     ]
    }
   ],
   "source": [
    "experiment.log_artifact(name=\"x\", data_bytes=b\"data\")"
   ]
  },
  {
   "cell_type": "code",
   "execution_count": 21,
   "id": "44e3b159-5be0-457d-9cb3-5bcaa941e635",
   "metadata": {},
   "outputs": [
    {
     "name": "stderr",
     "output_type": "stream",
     "text": [
      "rubicon-ml::dataframe::{\"comments\": [], \"created_at\": {\"_type\": \"datetime\", \"value\": \"2025-04-14 19:08:52.418655\"}, \"description\": null, \"id\": \"f836f3ca-7ada-422e-b555-56280bc03a6c\", \"name\": \"y\", \"parent_id\": \"18a7de82-d1d2-4b31-8427-4b4c1b341f7a\", \"tags\": []}\n"
     ]
    },
    {
     "ename": "RubiconNotImplementedError",
     "evalue": "`LoggerRepositoryV2` does not support logging of binary data.",
     "output_type": "error",
     "traceback": [
      "\u001b[31m---------------------------------------------------------------------------\u001b[39m",
      "\u001b[31mRubiconNotImplementedError\u001b[39m                Traceback (most recent call last)",
      "\u001b[36mCell\u001b[39m\u001b[36m \u001b[39m\u001b[32mIn[21]\u001b[39m\u001b[32m, line 1\u001b[39m\n\u001b[32m----> \u001b[39m\u001b[32m1\u001b[39m \u001b[43mexperiment\u001b[49m\u001b[43m.\u001b[49m\u001b[43mlog_dataframe\u001b[49m\u001b[43m(\u001b[49m\u001b[43mname\u001b[49m\u001b[43m=\u001b[49m\u001b[33;43m\"\u001b[39;49m\u001b[33;43my\u001b[39;49m\u001b[33;43m\"\u001b[39;49m\u001b[43m,\u001b[49m\u001b[43m \u001b[49m\u001b[43mdf\u001b[49m\u001b[43m=\u001b[49m\u001b[43mpd\u001b[49m\u001b[43m.\u001b[49m\u001b[43mDataFrame\u001b[49m\u001b[43m(\u001b[49m\u001b[43m[\u001b[49m\u001b[32;43m0\u001b[39;49m\u001b[43m]\u001b[49m\u001b[43m)\u001b[49m\u001b[43m)\u001b[49m\n",
      "\u001b[36mFile \u001b[39m\u001b[32m~/github/capitalone/rubicon-ml/rubicon_ml/client/utils/exception_handling.py:51\u001b[39m, in \u001b[36mfailsafe.<locals>.wrapper\u001b[39m\u001b[34m(*args, **kwargs)\u001b[39m\n\u001b[32m     49\u001b[39m \u001b[38;5;28;01mexcept\u001b[39;00m \u001b[38;5;167;01mException\u001b[39;00m \u001b[38;5;28;01mas\u001b[39;00m e:\n\u001b[32m     50\u001b[39m     \u001b[38;5;28;01mif\u001b[39;00m FAILURE_MODE == \u001b[33m\"\u001b[39m\u001b[33mraise\u001b[39m\u001b[33m\"\u001b[39m:\n\u001b[32m---> \u001b[39m\u001b[32m51\u001b[39m         \u001b[38;5;28;01mraise\u001b[39;00m e\n\u001b[32m     52\u001b[39m     \u001b[38;5;28;01melif\u001b[39;00m FAILURE_MODE == \u001b[33m\"\u001b[39m\u001b[33mwarn\u001b[39m\u001b[33m\"\u001b[39m:\n\u001b[32m     53\u001b[39m         warnings.warn(traceback.format_exc(limit=TRACEBACK_LIMIT, chain=TRACEBACK_CHAIN))\n",
      "\u001b[36mFile \u001b[39m\u001b[32m~/github/capitalone/rubicon-ml/rubicon_ml/client/utils/exception_handling.py:48\u001b[39m, in \u001b[36mfailsafe.<locals>.wrapper\u001b[39m\u001b[34m(*args, **kwargs)\u001b[39m\n\u001b[32m     45\u001b[39m \u001b[38;5;129m@functools\u001b[39m.wraps(func)\n\u001b[32m     46\u001b[39m \u001b[38;5;28;01mdef\u001b[39;00m\u001b[38;5;250m \u001b[39m\u001b[34mwrapper\u001b[39m(*args, **kwargs):\n\u001b[32m     47\u001b[39m     \u001b[38;5;28;01mtry\u001b[39;00m:\n\u001b[32m---> \u001b[39m\u001b[32m48\u001b[39m         \u001b[38;5;28;01mreturn\u001b[39;00m \u001b[43mfunc\u001b[49m\u001b[43m(\u001b[49m\u001b[43m*\u001b[49m\u001b[43margs\u001b[49m\u001b[43m,\u001b[49m\u001b[43m \u001b[49m\u001b[43m*\u001b[49m\u001b[43m*\u001b[49m\u001b[43mkwargs\u001b[49m\u001b[43m)\u001b[49m\n\u001b[32m     49\u001b[39m     \u001b[38;5;28;01mexcept\u001b[39;00m \u001b[38;5;167;01mException\u001b[39;00m \u001b[38;5;28;01mas\u001b[39;00m e:\n\u001b[32m     50\u001b[39m         \u001b[38;5;28;01mif\u001b[39;00m FAILURE_MODE == \u001b[33m\"\u001b[39m\u001b[33mraise\u001b[39m\u001b[33m\"\u001b[39m:\n",
      "\u001b[36mFile \u001b[39m\u001b[32m~/github/capitalone/rubicon-ml/rubicon_ml/client/mixin.py:562\u001b[39m, in \u001b[36mDataframeMixin.log_dataframe\u001b[39m\u001b[34m(self, df, description, name, tags, comments)\u001b[39m\n\u001b[32m    560\u001b[39m project_name, experiment_id = \u001b[38;5;28mself\u001b[39m._get_identifiers()\n\u001b[32m    561\u001b[39m \u001b[38;5;28;01mfor\u001b[39;00m repo \u001b[38;5;129;01min\u001b[39;00m \u001b[38;5;28mself\u001b[39m.repositories:\n\u001b[32m--> \u001b[39m\u001b[32m562\u001b[39m     \u001b[43mrepo\u001b[49m\u001b[43m.\u001b[49m\u001b[43mcreate_dataframe\u001b[49m\u001b[43m(\u001b[49m\u001b[43mdataframe\u001b[49m\u001b[43m,\u001b[49m\u001b[43m \u001b[49m\u001b[43mdf\u001b[49m\u001b[43m,\u001b[49m\u001b[43m \u001b[49m\u001b[43mproject_name\u001b[49m\u001b[43m,\u001b[49m\u001b[43m \u001b[49m\u001b[43mexperiment_id\u001b[49m\u001b[43m=\u001b[49m\u001b[43mexperiment_id\u001b[49m\u001b[43m)\u001b[49m\n\u001b[32m    564\u001b[39m \u001b[38;5;28;01mreturn\u001b[39;00m client.Dataframe(dataframe, \u001b[38;5;28mself\u001b[39m)\n",
      "\u001b[36mFile \u001b[39m\u001b[32m~/github/capitalone/rubicon-ml/rubicon_ml/repository/v2/__init__.py:71\u001b[39m, in \u001b[36mV1CompatibilityMixin.create_dataframe\u001b[39m\u001b[34m(self, dataframe, data, project_name, experiment_id)\u001b[39m\n\u001b[32m     63\u001b[39m \u001b[38;5;28;01mdef\u001b[39;00m\u001b[38;5;250m \u001b[39m\u001b[34mcreate_dataframe\u001b[39m(\n\u001b[32m     64\u001b[39m     \u001b[38;5;28mself\u001b[39m,\n\u001b[32m     65\u001b[39m     dataframe: \u001b[33m\"\u001b[39m\u001b[33mdomain.Dataframe\u001b[39m\u001b[33m\"\u001b[39m,\n\u001b[32m   (...)\u001b[39m\u001b[32m     68\u001b[39m     experiment_id: Optional[\u001b[38;5;28mstr\u001b[39m] = \u001b[38;5;28;01mNone\u001b[39;00m,\n\u001b[32m     69\u001b[39m ):\n\u001b[32m     70\u001b[39m     \u001b[38;5;28mself\u001b[39m.write_dataframe_metadata(dataframe, project_name, experiment_id)\n\u001b[32m---> \u001b[39m\u001b[32m71\u001b[39m     \u001b[38;5;28;43mself\u001b[39;49m\u001b[43m.\u001b[49m\u001b[43mwrite_dataframe_data\u001b[49m\u001b[43m(\u001b[49m\u001b[43mdata\u001b[49m\u001b[43m,\u001b[49m\u001b[43m \u001b[49m\u001b[43mdataframe\u001b[49m\u001b[43m.\u001b[49m\u001b[43mid\u001b[49m\u001b[43m,\u001b[49m\u001b[43m \u001b[49m\u001b[43mproject_name\u001b[49m\u001b[43m,\u001b[49m\u001b[43m \u001b[49m\u001b[43mexperiment_id\u001b[49m\u001b[43m)\u001b[49m\n",
      "\u001b[36mFile \u001b[39m\u001b[32m~/github/capitalone/rubicon-ml/rubicon_ml/repository/v2/exceptions.py:69\u001b[39m, in \u001b[36mDomainOnlyMixin.write_dataframe_data\u001b[39m\u001b[34m(self, *args, **kwargs)\u001b[39m\n\u001b[32m     68\u001b[39m \u001b[38;5;28;01mdef\u001b[39;00m\u001b[38;5;250m \u001b[39m\u001b[34mwrite_dataframe_data\u001b[39m(\u001b[38;5;28mself\u001b[39m, *args: Any, **kwargs: Any):\n\u001b[32m---> \u001b[39m\u001b[32m69\u001b[39m     \u001b[38;5;28;43mself\u001b[39;49m\u001b[43m.\u001b[49m\u001b[43m_raise_domain_only_exception\u001b[49m\u001b[43m(\u001b[49m\u001b[43m)\u001b[49m\n",
      "\u001b[36mFile \u001b[39m\u001b[32m~/github/capitalone/rubicon-ml/rubicon_ml/repository/v2/exceptions.py:50\u001b[39m, in \u001b[36mDomainOnlyMixin._raise_domain_only_exception\u001b[39m\u001b[34m(self)\u001b[39m\n\u001b[32m     49\u001b[39m \u001b[38;5;28;01mdef\u001b[39;00m\u001b[38;5;250m \u001b[39m\u001b[34m_raise_domain_only_exception\u001b[39m(\u001b[38;5;28mself\u001b[39m):\n\u001b[32m---> \u001b[39m\u001b[32m50\u001b[39m     \u001b[38;5;28;01mraise\u001b[39;00m RubiconNotImplementedError(\n\u001b[32m     51\u001b[39m         \u001b[33mf\u001b[39m\u001b[33m\"\u001b[39m\u001b[33m`\u001b[39m\u001b[38;5;132;01m{\u001b[39;00m\u001b[38;5;28mself\u001b[39m.\u001b[34m__class__\u001b[39m.\u001b[34m__name__\u001b[39m\u001b[38;5;132;01m}\u001b[39;00m\u001b[33m` does not support logging of binary data.\u001b[39m\u001b[33m\"\u001b[39m\n\u001b[32m     52\u001b[39m     )\n",
      "\u001b[31mRubiconNotImplementedError\u001b[39m: `LoggerRepositoryV2` does not support logging of binary data."
     ]
    }
   ],
   "source": [
    "experiment.log_dataframe(name=\"y\", df=pd.DataFrame([0]))"
   ]
  },
  {
   "cell_type": "code",
   "execution_count": 22,
   "id": "4309dc69-f868-4ae9-98ad-b28824821916",
   "metadata": {},
   "outputs": [
    {
     "name": "stderr",
     "output_type": "stream",
     "text": [
      "rubicon-ml::feature::{\"name\": \"a\", \"comments\": [], \"created_at\": {\"_type\": \"datetime\", \"value\": \"2025-04-14 19:08:56.553861\"}, \"description\": null, \"id\": \"21d04799-38b7-4c44-887d-4c1145a88afb\", \"importance\": null, \"tags\": []}\n"
     ]
    },
    {
     "data": {
      "text/plain": [
       "<rubicon_ml.client.feature.Feature at 0x13fd60080>"
      ]
     },
     "execution_count": 22,
     "metadata": {},
     "output_type": "execute_result"
    }
   ],
   "source": [
    "experiment.log_feature(name=\"a\")"
   ]
  },
  {
   "cell_type": "code",
   "execution_count": 23,
   "id": "ba2167ec-6914-4350-9717-3840256ef5cb",
   "metadata": {},
   "outputs": [
    {
     "name": "stderr",
     "output_type": "stream",
     "text": [
      "rubicon-ml::metric::{\"name\": \"b\", \"value\": 0, \"comments\": [], \"created_at\": {\"_type\": \"datetime\", \"value\": \"2025-04-14 19:08:57.637839\"}, \"description\": null, \"directionality\": \"score\", \"id\": \"b73a0dc4-362e-4c21-9452-35b948fa8f04\", \"tags\": []}\n"
     ]
    },
    {
     "data": {
      "text/plain": [
       "<rubicon_ml.client.metric.Metric at 0x1389b7890>"
      ]
     },
     "execution_count": 23,
     "metadata": {},
     "output_type": "execute_result"
    }
   ],
   "source": [
    "experiment.log_metric(name=\"b\", value=0)"
   ]
  },
  {
   "cell_type": "code",
   "execution_count": 24,
   "id": "67133086-4d7e-4e2e-bc11-358f52ec87aa",
   "metadata": {},
   "outputs": [
    {
     "name": "stderr",
     "output_type": "stream",
     "text": [
      "rubicon-ml::parameter::{\"name\": \"c\", \"value\": 1, \"comments\": [], \"created_at\": {\"_type\": \"datetime\", \"value\": \"2025-04-14 19:08:58.056556\"}, \"description\": null, \"id\": \"936d0311-1ded-49db-8708-68b0eb3e4afc\", \"tags\": []}\n"
     ]
    },
    {
     "data": {
      "text/plain": [
       "<rubicon_ml.client.parameter.Parameter at 0x13f925e80>"
      ]
     },
     "execution_count": 24,
     "metadata": {},
     "output_type": "execute_result"
    }
   ],
   "source": [
    "experiment.log_parameter(name=\"c\", value=1)"
   ]
  },
  {
   "cell_type": "code",
   "execution_count": null,
   "id": "8639ad11-4c39-4cb7-b034-b2aa35354952",
   "metadata": {},
   "outputs": [],
   "source": []
  }
 ],
 "metadata": {
  "kernelspec": {
   "display_name": "Python 3 (ipykernel)",
   "language": "python",
   "name": "python3"
  },
  "language_info": {
   "codemirror_mode": {
    "name": "ipython",
    "version": 3
   },
   "file_extension": ".py",
   "mimetype": "text/x-python",
   "name": "python",
   "nbconvert_exporter": "python",
   "pygments_lexer": "ipython3",
   "version": "3.12.9"
  }
 },
 "nbformat": 4,
 "nbformat_minor": 5
}
