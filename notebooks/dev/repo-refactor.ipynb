{
 "cells": [
  {
   "cell_type": "code",
   "execution_count": 1,
   "id": "abad9ba4-9ea0-4750-9c8b-69865dc4ed57",
   "metadata": {},
   "outputs": [],
   "source": [
    "from rubicon_ml import Rubicon"
   ]
  },
  {
   "cell_type": "code",
   "execution_count": 2,
   "id": "b71474f9-cdfc-45aa-ab17-9db5b13c7bda",
   "metadata": {},
   "outputs": [],
   "source": [
    "from rubicon_ml.repository.v2 import (\n",
    "    BaseRepository,\n",
    "    LocalRepository,\n",
    "    LoggerRepository,\n",
    "    MemoryRepository,\n",
    "    S3Repository,\n",
    ")\n",
    "from rubicon_ml.repository.v2.fsspec import FsspecRepository"
   ]
  },
  {
   "cell_type": "code",
   "execution_count": 3,
   "id": "8527c3f8-c571-43bf-a630-66006882b9a0",
   "metadata": {},
   "outputs": [
    {
     "data": {
      "text/plain": [
       "<rubicon_ml.repository.v2.MemoryRepositoryV2 at 0x136f9a840>"
      ]
     },
     "execution_count": 3,
     "metadata": {},
     "output_type": "execute_result"
    }
   ],
   "source": [
    "rubicon_memory_v2 = Rubicon(persistence=\"memory:v2\", root_dir=\".\")\n",
    "rubicon_memory_v2.repository"
   ]
  },
  {
   "cell_type": "code",
   "execution_count": 4,
   "id": "dcc3ba7f-a20f-4362-8527-206a042234e4",
   "metadata": {},
   "outputs": [
    {
     "data": {
      "text/plain": [
       "'memory'"
      ]
     },
     "execution_count": 4,
     "metadata": {},
     "output_type": "execute_result"
    }
   ],
   "source": [
    "rubicon_memory_v2.repository._get_filesystem()"
   ]
  },
  {
   "cell_type": "code",
   "execution_count": 5,
   "id": "be9e495f-4a09-4b87-bd6d-f555214d67f1",
   "metadata": {},
   "outputs": [
    {
     "data": {
      "text/plain": [
       "<rubicon_ml.repository.v2.LocalRepositoryV2 at 0x136d02180>"
      ]
     },
     "execution_count": 5,
     "metadata": {},
     "output_type": "execute_result"
    }
   ],
   "source": [
    "rubicon_local_v2 = Rubicon(persistence=\"filesystem:v2\", root_dir=\".\")\n",
    "rubicon_local_v2.repository"
   ]
  },
  {
   "cell_type": "code",
   "execution_count": 6,
   "id": "4343d573-61c9-4d4d-80a1-49634fc8a9a8",
   "metadata": {},
   "outputs": [
    {
     "data": {
      "text/plain": [
       "'file'"
      ]
     },
     "execution_count": 6,
     "metadata": {},
     "output_type": "execute_result"
    }
   ],
   "source": [
    "rubicon_local_v2.repository._get_filesystem()"
   ]
  },
  {
   "cell_type": "code",
   "execution_count": 7,
   "id": "0a25cfca-6087-4070-b5f4-d9800c38a2c4",
   "metadata": {},
   "outputs": [
    {
     "data": {
      "text/plain": [
       "<rubicon_ml.repository.v2.S3RepositoryV2 at 0x14451a3f0>"
      ]
     },
     "execution_count": 7,
     "metadata": {},
     "output_type": "execute_result"
    }
   ],
   "source": [
    "rubicon_s3_v2 = Rubicon(persistence=\"filesystem:v2\", root_dir=\"s3://.\")\n",
    "rubicon_s3_v2.repository"
   ]
  },
  {
   "cell_type": "code",
   "execution_count": 8,
   "id": "019f75e1-863a-4b88-b205-aa19e73b94c0",
   "metadata": {},
   "outputs": [
    {
     "data": {
      "text/plain": [
       "'s3'"
      ]
     },
     "execution_count": 8,
     "metadata": {},
     "output_type": "execute_result"
    }
   ],
   "source": [
    "rubicon_s3_v2.repository._get_filesystem()"
   ]
  },
  {
   "cell_type": "code",
   "execution_count": 9,
   "id": "a8a07a22-fbd3-45fa-add1-51d1678a2312",
   "metadata": {},
   "outputs": [
    {
     "data": {
      "text/plain": [
       "<rubicon_ml.repository.v2.LoggerRepositoryV2 at 0x14451afc0>"
      ]
     },
     "execution_count": 9,
     "metadata": {},
     "output_type": "execute_result"
    }
   ],
   "source": [
    "rubicon_logger_v2 = Rubicon(persistence=\"logger:v2\")\n",
    "rubicon_logger_v2.repository"
   ]
  },
  {
   "cell_type": "code",
   "execution_count": 10,
   "id": "aee10ee3-8c4a-4924-bc3f-8d091c2ca920",
   "metadata": {},
   "outputs": [
    {
     "data": {
      "text/plain": [
       "<Logger rubicon-ml (NOTSET)>"
      ]
     },
     "execution_count": 10,
     "metadata": {},
     "output_type": "execute_result"
    }
   ],
   "source": [
    "rubicon_logger_v2.repository.logger"
   ]
  }
 ],
 "metadata": {
  "kernelspec": {
   "display_name": "Python 3 (ipykernel)",
   "language": "python",
   "name": "python3"
  },
  "language_info": {
   "codemirror_mode": {
    "name": "ipython",
    "version": 3
   },
   "file_extension": ".py",
   "mimetype": "text/x-python",
   "name": "python",
   "nbconvert_exporter": "python",
   "pygments_lexer": "ipython3",
   "version": "3.12.9"
  }
 },
 "nbformat": 4,
 "nbformat_minor": 5
}
