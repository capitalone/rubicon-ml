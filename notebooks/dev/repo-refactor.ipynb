{
 "cells": [
  {
   "cell_type": "code",
   "execution_count": 1,
   "id": "327a00ac-3632-4b48-b820-4553dc3ea45f",
   "metadata": {},
   "outputs": [],
   "source": [
    "import logging\n",
    "\n",
    "logging.basicConfig(level=logging.INFO)"
   ]
  },
  {
   "cell_type": "code",
   "execution_count": 2,
   "id": "abad9ba4-9ea0-4750-9c8b-69865dc4ed57",
   "metadata": {},
   "outputs": [],
   "source": [
    "from rubicon_ml import Rubicon"
   ]
  },
  {
   "cell_type": "code",
   "execution_count": 3,
   "id": "b71474f9-cdfc-45aa-ab17-9db5b13c7bda",
   "metadata": {},
   "outputs": [],
   "source": [
    "from rubicon_ml.repository.v2 import (\n",
    "    BaseRepository,\n",
    "    LocalRepository,\n",
    "    LoggerRepository,\n",
    "    MemoryRepository,\n",
    "    S3Repository,\n",
    ")\n",
    "from rubicon_ml.repository.v2.fsspec import FsspecRepository"
   ]
  },
  {
   "cell_type": "code",
   "execution_count": 4,
   "id": "8527c3f8-c571-43bf-a630-66006882b9a0",
   "metadata": {},
   "outputs": [
    {
     "data": {
      "text/plain": [
       "<rubicon_ml.repository.v2.MemoryRepositoryV2 at 0x1070f2cf0>"
      ]
     },
     "execution_count": 4,
     "metadata": {},
     "output_type": "execute_result"
    }
   ],
   "source": [
    "rubicon_memory_v2 = Rubicon(persistence=\"memory:v2\", root_dir=\".\")\n",
    "rubicon_memory_v2.repository"
   ]
  },
  {
   "cell_type": "code",
   "execution_count": 5,
   "id": "dcc3ba7f-a20f-4362-8527-206a042234e4",
   "metadata": {},
   "outputs": [
    {
     "data": {
      "text/plain": [
       "'memory'"
      ]
     },
     "execution_count": 5,
     "metadata": {},
     "output_type": "execute_result"
    }
   ],
   "source": [
    "rubicon_memory_v2.repository._get_filesystem()"
   ]
  },
  {
   "cell_type": "code",
   "execution_count": 6,
   "id": "be9e495f-4a09-4b87-bd6d-f555214d67f1",
   "metadata": {},
   "outputs": [
    {
     "data": {
      "text/plain": [
       "<rubicon_ml.repository.v2.LocalRepositoryV2 at 0x12691e1e0>"
      ]
     },
     "execution_count": 6,
     "metadata": {},
     "output_type": "execute_result"
    }
   ],
   "source": [
    "rubicon_local_v2 = Rubicon(persistence=\"filesystem:v2\", root_dir=\".\")\n",
    "rubicon_local_v2.repository"
   ]
  },
  {
   "cell_type": "code",
   "execution_count": 7,
   "id": "4343d573-61c9-4d4d-80a1-49634fc8a9a8",
   "metadata": {},
   "outputs": [
    {
     "data": {
      "text/plain": [
       "'file'"
      ]
     },
     "execution_count": 7,
     "metadata": {},
     "output_type": "execute_result"
    }
   ],
   "source": [
    "rubicon_local_v2.repository._get_filesystem()"
   ]
  },
  {
   "cell_type": "code",
   "execution_count": 8,
   "id": "0a25cfca-6087-4070-b5f4-d9800c38a2c4",
   "metadata": {},
   "outputs": [
    {
     "data": {
      "text/plain": [
       "<rubicon_ml.repository.v2.S3RepositoryV2 at 0x12691e6f0>"
      ]
     },
     "execution_count": 8,
     "metadata": {},
     "output_type": "execute_result"
    }
   ],
   "source": [
    "rubicon_s3_v2 = Rubicon(persistence=\"filesystem:v2\", root_dir=\"s3://.\")\n",
    "rubicon_s3_v2.repository"
   ]
  },
  {
   "cell_type": "code",
   "execution_count": 9,
   "id": "019f75e1-863a-4b88-b205-aa19e73b94c0",
   "metadata": {},
   "outputs": [
    {
     "data": {
      "text/plain": [
       "'s3'"
      ]
     },
     "execution_count": 9,
     "metadata": {},
     "output_type": "execute_result"
    }
   ],
   "source": [
    "rubicon_s3_v2.repository._get_filesystem()"
   ]
  },
  {
   "cell_type": "code",
   "execution_count": 10,
   "id": "a8a07a22-fbd3-45fa-add1-51d1678a2312",
   "metadata": {},
   "outputs": [
    {
     "data": {
      "text/plain": [
       "<rubicon_ml.repository.v2.LoggerRepositoryV2 at 0x12691fbf0>"
      ]
     },
     "execution_count": 10,
     "metadata": {},
     "output_type": "execute_result"
    }
   ],
   "source": [
    "import logging\n",
    "\n",
    "logger = logging.Logger(name=\"notebook\")\n",
    "logger.setLevel(logging.WARN)\n",
    "\n",
    "rubicon_logger_v2 = Rubicon(persistence=\"logger:v2\", logger=logger)\n",
    "rubicon_logger_v2.repository"
   ]
  },
  {
   "cell_type": "code",
   "execution_count": 11,
   "id": "aee10ee3-8c4a-4924-bc3f-8d091c2ca920",
   "metadata": {},
   "outputs": [
    {
     "data": {
      "text/plain": [
       "<Logger notebook (WARNING)>"
      ]
     },
     "execution_count": 11,
     "metadata": {},
     "output_type": "execute_result"
    }
   ],
   "source": [
    "rubicon_logger_v2.repository.logger"
   ]
  },
  {
   "cell_type": "code",
   "execution_count": 12,
   "id": "79407991-b1f4-4fac-9f52-0f397595b84d",
   "metadata": {},
   "outputs": [
    {
     "name": "stderr",
     "output_type": "stream",
     "text": [
      "rubicon-ml::project::{\"name\": \"repo refactor\", \"created_at\": {\"_type\": \"datetime\", \"value\": \"2025-04-13 04:54:09.384898\"}, \"description\": null, \"github_url\": null, \"id\": \"dd5945cc-600b-40a0-bbc5-d52fe0490f0d\", \"training_metadata\": null}\n"
     ]
    },
    {
     "data": {
      "text/plain": [
       "<rubicon_ml.client.project.Project at 0x115dac9e0>"
      ]
     },
     "execution_count": 12,
     "metadata": {},
     "output_type": "execute_result"
    }
   ],
   "source": [
    "rubicon_logger_v2.create_project(name=\"repo refactor\")"
   ]
  }
 ],
 "metadata": {
  "kernelspec": {
   "display_name": "Python 3 (ipykernel)",
   "language": "python",
   "name": "python3"
  },
  "language_info": {
   "codemirror_mode": {
    "name": "ipython",
    "version": 3
   },
   "file_extension": ".py",
   "mimetype": "text/x-python",
   "name": "python",
   "nbconvert_exporter": "python",
   "pygments_lexer": "ipython3",
   "version": "3.12.9"
  }
 },
 "nbformat": 4,
 "nbformat_minor": 5
}
