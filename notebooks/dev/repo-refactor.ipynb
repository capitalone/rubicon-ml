{
 "cells": [
  {
   "cell_type": "code",
   "execution_count": 1,
   "id": "abad9ba4-9ea0-4750-9c8b-69865dc4ed57",
   "metadata": {},
   "outputs": [],
   "source": [
    "import rubicon_ml\n",
    "from rubicon_ml import Rubicon"
   ]
  },
  {
   "cell_type": "code",
   "execution_count": 2,
   "id": "b71474f9-cdfc-45aa-ab17-9db5b13c7bda",
   "metadata": {},
   "outputs": [],
   "source": [
    "from rubicon_ml.repository.v2 import (\n",
    "    BaseRepository,\n",
    "    LocalRepository,\n",
    "    LoggerRepository,\n",
    "    MemoryRepository,\n",
    "    S3Repository,\n",
    ")\n",
    "from rubicon_ml.repository.v2.fsspec import FsspecRepository"
   ]
  },
  {
   "cell_type": "code",
   "execution_count": null,
   "id": "4f93d634-e6d9-4eb6-8ae5-c123838b6002",
   "metadata": {},
   "outputs": [],
   "source": []
  },
  {
   "cell_type": "code",
   "execution_count": 3,
   "id": "be9e495f-4a09-4b87-bd6d-f555214d67f1",
   "metadata": {},
   "outputs": [
    {
     "data": {
      "text/plain": [
       "<rubicon_ml.repository.v2.LocalRepositoryV2 at 0x10a73e4a0>"
      ]
     },
     "execution_count": 3,
     "metadata": {},
     "output_type": "execute_result"
    }
   ],
   "source": [
    "rubicon_local_v2 = Rubicon(persistence=\"filesystem:v2\", root_dir=\"./rubicon-root\")\n",
    "rubicon_local_v2.repository"
   ]
  },
  {
   "cell_type": "code",
   "execution_count": 4,
   "id": "4343d573-61c9-4d4d-80a1-49634fc8a9a8",
   "metadata": {},
   "outputs": [
    {
     "data": {
      "text/plain": [
       "<fsspec.implementations.local.LocalFileSystem at 0x10a73f190>"
      ]
     },
     "execution_count": 4,
     "metadata": {},
     "output_type": "execute_result"
    }
   ],
   "source": [
    "rubicon_local_v2.repository.filesystem"
   ]
  },
  {
   "cell_type": "code",
   "execution_count": null,
   "id": "982327cd-ffbb-4a82-9fe7-2bda88962fb0",
   "metadata": {},
   "outputs": [],
   "source": []
  },
  {
   "cell_type": "code",
   "execution_count": 5,
   "id": "b21968db-9b5b-4b2b-b585-11775c2c4e42",
   "metadata": {},
   "outputs": [
    {
     "data": {
      "text/plain": [
       "<rubicon_ml.client.project.Project at 0x1056c0520>"
      ]
     },
     "execution_count": 5,
     "metadata": {},
     "output_type": "execute_result"
    }
   ],
   "source": [
    "project = rubicon_local_v2.get_project(name=\"repo refactor\")\n",
    "project"
   ]
  },
  {
   "cell_type": "code",
   "execution_count": null,
   "id": "00652254-9416-4c5e-8f66-0738107f4da0",
   "metadata": {},
   "outputs": [],
   "source": [
    "project = rubicon_local_v2.create_project(name=\"repo refactor\")\n",
    "project"
   ]
  },
  {
   "cell_type": "code",
   "execution_count": null,
   "id": "7d852733-0e7c-4540-9e77-b52c76295749",
   "metadata": {},
   "outputs": [],
   "source": [
    "rubicon_local_v2.create_project(name=\"repo refactor\")"
   ]
  },
  {
   "cell_type": "code",
   "execution_count": null,
   "id": "e286f2c6-22e0-40aa-8af6-9e26f2de264e",
   "metadata": {},
   "outputs": [],
   "source": [
    "rubicon_local_v2.get_or_create_project(name=\"repo refactor\")"
   ]
  },
  {
   "cell_type": "code",
   "execution_count": null,
   "id": "8d3f7946-5d32-4cdb-9281-5293048ccb8b",
   "metadata": {},
   "outputs": [],
   "source": [
    "rubicon_local_v2.get_project(name=\"repo refactor\")"
   ]
  },
  {
   "cell_type": "code",
   "execution_count": null,
   "id": "beaf74af-9b02-4812-87f2-c45ce5393b76",
   "metadata": {},
   "outputs": [],
   "source": [
    "rubicon_local_v2.projects()"
   ]
  },
  {
   "cell_type": "code",
   "execution_count": null,
   "id": "8788418e-273f-4d59-8c9a-697e2d092f02",
   "metadata": {},
   "outputs": [],
   "source": [
    "project._domain"
   ]
  },
  {
   "cell_type": "code",
   "execution_count": null,
   "id": "8f4a4329-c556-4679-b2cf-907c73fa37c9",
   "metadata": {},
   "outputs": [],
   "source": []
  },
  {
   "cell_type": "code",
   "execution_count": null,
   "id": "7b208d12-9b03-4bae-a56c-5d01857b7320",
   "metadata": {},
   "outputs": [],
   "source": [
    "import uuid\n",
    "\n",
    "project.experiment(id=str(uuid.uuid4()))"
   ]
  },
  {
   "cell_type": "code",
   "execution_count": 6,
   "id": "955b4a00-d61a-4b4e-8a97-d874cf4ad67d",
   "metadata": {},
   "outputs": [
    {
     "data": {
      "text/plain": [
       "<rubicon_ml.client.experiment.Experiment at 0x1056f4190>"
      ]
     },
     "execution_count": 6,
     "metadata": {},
     "output_type": "execute_result"
    }
   ],
   "source": [
    "experiment = project.log_experiment(comments=[\"wow\"], tags=[\"a\", \"b\"])\n",
    "experiment"
   ]
  },
  {
   "cell_type": "code",
   "execution_count": 7,
   "id": "c193422b-4701-45e7-abf5-811ce901cb22",
   "metadata": {},
   "outputs": [
    {
     "data": {
      "text/plain": [
       "Experiment(project_name='repo refactor', branch_name=None, comments=['wow'], commit_hash=None, created_at=datetime.datetime(2025, 4, 21, 16, 40, 50, 874637), description=None, id='e76a2c74-7f8d-4918-a367-954c6b3f51b9', model_name=None, name=None, tags=['a', 'b'], training_metadata=None)"
      ]
     },
     "execution_count": 7,
     "metadata": {},
     "output_type": "execute_result"
    }
   ],
   "source": [
    "experiment._domain"
   ]
  },
  {
   "cell_type": "code",
   "execution_count": 8,
   "id": "edad6616-ac6b-4099-8a0e-9fb320f418e6",
   "metadata": {},
   "outputs": [
    {
     "data": {
      "text/plain": [
       "['wow']"
      ]
     },
     "execution_count": 8,
     "metadata": {},
     "output_type": "execute_result"
    }
   ],
   "source": [
    "experiment.comments"
   ]
  },
  {
   "cell_type": "code",
   "execution_count": 9,
   "id": "6c2ee121-aad8-4ea3-9d04-f2b52dd3e29f",
   "metadata": {},
   "outputs": [
    {
     "data": {
      "text/plain": [
       "['a', 'b']"
      ]
     },
     "execution_count": 9,
     "metadata": {},
     "output_type": "execute_result"
    }
   ],
   "source": [
    "experiment.tags"
   ]
  },
  {
   "cell_type": "code",
   "execution_count": 10,
   "id": "3cba2b8b-540c-494d-b322-ee3ec13dba9d",
   "metadata": {},
   "outputs": [],
   "source": [
    "experiment.add_comments([\"cool\"])"
   ]
  },
  {
   "cell_type": "code",
   "execution_count": 11,
   "id": "99e0e5b3-8d2e-4b3a-a0da-6bba8c0d3069",
   "metadata": {},
   "outputs": [],
   "source": [
    "experiment.add_tags([\"c\"])"
   ]
  },
  {
   "cell_type": "code",
   "execution_count": 12,
   "id": "94f22472-a0e6-475a-9442-cb7a8c189316",
   "metadata": {},
   "outputs": [
    {
     "data": {
      "text/plain": [
       "['cool', 'wow']"
      ]
     },
     "execution_count": 12,
     "metadata": {},
     "output_type": "execute_result"
    }
   ],
   "source": [
    "experiment.comments"
   ]
  },
  {
   "cell_type": "code",
   "execution_count": 13,
   "id": "01629c3b-de76-4a31-95d3-3e1c2921f995",
   "metadata": {},
   "outputs": [
    {
     "data": {
      "text/plain": [
       "['a', 'c', 'b']"
      ]
     },
     "execution_count": 13,
     "metadata": {},
     "output_type": "execute_result"
    }
   ],
   "source": [
    "experiment.tags"
   ]
  },
  {
   "cell_type": "code",
   "execution_count": 14,
   "id": "d0211975-3b8a-4b20-a052-69817fa12068",
   "metadata": {},
   "outputs": [],
   "source": [
    "experiment.remove_comments([\"wow\"])"
   ]
  },
  {
   "cell_type": "code",
   "execution_count": 15,
   "id": "b80f8370-4fd2-42d7-9d0c-506a0f19f33c",
   "metadata": {},
   "outputs": [],
   "source": [
    "experiment.remove_tags([\"b\"])"
   ]
  },
  {
   "cell_type": "code",
   "execution_count": 16,
   "id": "2e383477-039f-46d4-98e0-caa5bc8d78e7",
   "metadata": {},
   "outputs": [
    {
     "data": {
      "text/plain": [
       "['cool']"
      ]
     },
     "execution_count": 16,
     "metadata": {},
     "output_type": "execute_result"
    }
   ],
   "source": [
    "experiment.comments"
   ]
  },
  {
   "cell_type": "code",
   "execution_count": 17,
   "id": "cc1f3b7f-0b14-43de-96f9-4db8fb8c526b",
   "metadata": {},
   "outputs": [
    {
     "data": {
      "text/plain": [
       "['c', 'a']"
      ]
     },
     "execution_count": 17,
     "metadata": {},
     "output_type": "execute_result"
    }
   ],
   "source": [
    "experiment.tags"
   ]
  },
  {
   "cell_type": "code",
   "execution_count": null,
   "id": "601b2c86-23ad-43fb-bf29-0b13543381e5",
   "metadata": {},
   "outputs": [],
   "source": []
  },
  {
   "cell_type": "code",
   "execution_count": null,
   "id": "edceb120-ded6-4f55-a512-b5e15b8f6f52",
   "metadata": {},
   "outputs": [],
   "source": []
  },
  {
   "cell_type": "code",
   "execution_count": null,
   "id": "26d58e9a-914f-4118-8dcb-b162ad909a32",
   "metadata": {},
   "outputs": [],
   "source": [
    "project.experiment(id=experiment.id)"
   ]
  },
  {
   "cell_type": "code",
   "execution_count": null,
   "id": "0bd8c625-c080-429e-ad8a-ce875ba4f4d4",
   "metadata": {},
   "outputs": [],
   "source": [
    "project.log_experiment()\n",
    "project.log_experiment()\n",
    "\n",
    "project.experiments()"
   ]
  },
  {
   "cell_type": "code",
   "execution_count": null,
   "id": "037af919-2a49-420a-82dc-f536bd6a3358",
   "metadata": {},
   "outputs": [],
   "source": []
  },
  {
   "cell_type": "code",
   "execution_count": null,
   "id": "5147ea42-d7b8-4f0b-b3e8-b66544d6b4f5",
   "metadata": {},
   "outputs": [],
   "source": [
    "artifact = project.log_artifact(name=\"x\", data_bytes=b\"project data\")\n",
    "artifact"
   ]
  },
  {
   "cell_type": "code",
   "execution_count": null,
   "id": "076bf28d-20aa-43e8-a89a-b362871694af",
   "metadata": {},
   "outputs": [],
   "source": [
    "project.artifact(id=artifact.id)"
   ]
  },
  {
   "cell_type": "code",
   "execution_count": null,
   "id": "a7102978-be25-4d6d-b376-b3f0adc017ae",
   "metadata": {},
   "outputs": [],
   "source": [
    "project.artifacts()"
   ]
  },
  {
   "cell_type": "code",
   "execution_count": null,
   "id": "5abc81c3-68fb-426d-8a7c-e0590201aa71",
   "metadata": {},
   "outputs": [],
   "source": [
    "artifact.get_data()"
   ]
  },
  {
   "cell_type": "code",
   "execution_count": null,
   "id": "8be4a80e-a22f-4428-9f4d-c1dfac4ab664",
   "metadata": {},
   "outputs": [],
   "source": [
    "artifact = experiment.log_artifact(name=\"y\", data_bytes=b\"experiment data\")\n",
    "artifact"
   ]
  },
  {
   "cell_type": "code",
   "execution_count": null,
   "id": "32442b05-55b0-48f9-b9dd-d677d2219ad8",
   "metadata": {},
   "outputs": [],
   "source": [
    "experiment.artifact(id=artifact.id)"
   ]
  },
  {
   "cell_type": "code",
   "execution_count": null,
   "id": "d1d37382-5182-40c5-87d7-0e045bcb664e",
   "metadata": {},
   "outputs": [],
   "source": [
    "experiment.artifacts()"
   ]
  },
  {
   "cell_type": "code",
   "execution_count": null,
   "id": "0d41f407-74f9-44d1-b340-a9459db44b06",
   "metadata": {},
   "outputs": [],
   "source": [
    "artifact.get_data()"
   ]
  },
  {
   "cell_type": "code",
   "execution_count": null,
   "id": "ee338f05-e5b3-4e27-b832-b8d03273a2c6",
   "metadata": {},
   "outputs": [],
   "source": []
  },
  {
   "cell_type": "code",
   "execution_count": null,
   "id": "76dc5bf8-05ff-4a3f-a9f3-fa75f21e9b3a",
   "metadata": {},
   "outputs": [],
   "source": [
    "import dask.dataframe as dd\n",
    "import pandas as pd\n",
    "import polars as pl"
   ]
  },
  {
   "cell_type": "code",
   "execution_count": null,
   "id": "822479d1-eb38-4c12-85a5-becb3e6633a8",
   "metadata": {},
   "outputs": [],
   "source": [
    "dataframe = project.log_dataframe(name=\"x\", df=pd.DataFrame([0, 0]))\n",
    "dataframe"
   ]
  },
  {
   "cell_type": "code",
   "execution_count": null,
   "id": "46edeeb2-106a-437c-bd8f-bf731d2d6f41",
   "metadata": {},
   "outputs": [],
   "source": [
    "dataframe.get_data(df_type=\"pandas\")"
   ]
  },
  {
   "cell_type": "code",
   "execution_count": null,
   "id": "a69ebdb9-9423-4d16-b219-1b9d98c08c6d",
   "metadata": {},
   "outputs": [],
   "source": [
    "dataframe = project.log_dataframe(name=\"x\", df=dd.from_pandas(pd.DataFrame([0, 0], columns=[\"a\"])))\n",
    "dataframe"
   ]
  },
  {
   "cell_type": "code",
   "execution_count": null,
   "id": "b32846c1-0b2a-4f66-ba4a-641c00d1dcf5",
   "metadata": {},
   "outputs": [],
   "source": [
    "dataframe.get_data(df_type=\"dask\")"
   ]
  },
  {
   "cell_type": "code",
   "execution_count": null,
   "id": "9fd25f8c-cc98-4a4a-9261-ba3b63853988",
   "metadata": {},
   "outputs": [],
   "source": [
    "dataframe = project.log_dataframe(name=\"x\", df=pl.DataFrame([0, 0]))\n",
    "dataframe"
   ]
  },
  {
   "cell_type": "code",
   "execution_count": null,
   "id": "1153f80b-6e4a-4a4e-88f6-a0608601c468",
   "metadata": {},
   "outputs": [],
   "source": [
    "dataframe.get_data(df_type=\"polars\")"
   ]
  },
  {
   "cell_type": "code",
   "execution_count": null,
   "id": "4cc8602b-2092-4ac8-b8dd-52adf4576026",
   "metadata": {},
   "outputs": [],
   "source": [
    "project.dataframe(id=dataframe.id)"
   ]
  },
  {
   "cell_type": "code",
   "execution_count": null,
   "id": "e115afd6-28af-4780-a198-610c1017835b",
   "metadata": {},
   "outputs": [],
   "source": [
    "project.dataframes()"
   ]
  },
  {
   "cell_type": "code",
   "execution_count": null,
   "id": "2430510f-561f-4602-aeb9-35263ee96566",
   "metadata": {},
   "outputs": [],
   "source": [
    "dataframe = experiment.log_dataframe(name=\"x\", df=pd.DataFrame([0, 0]))\n",
    "dataframe"
   ]
  },
  {
   "cell_type": "code",
   "execution_count": null,
   "id": "cdea0413-fca1-4718-99d8-b502d4fbe3b2",
   "metadata": {},
   "outputs": [],
   "source": [
    "dataframe.get_data(df_type=\"pandas\")"
   ]
  },
  {
   "cell_type": "code",
   "execution_count": null,
   "id": "2943ea4a-6c26-4574-9ed0-5b643b7c16e3",
   "metadata": {},
   "outputs": [],
   "source": [
    "dataframe = experiment.log_dataframe(name=\"x\", df=dd.from_pandas(pd.DataFrame([0, 0], columns=[\"a\"])))\n",
    "dataframe"
   ]
  },
  {
   "cell_type": "code",
   "execution_count": null,
   "id": "5e0d0f41-b039-41d5-940c-94ca20fb5fbd",
   "metadata": {},
   "outputs": [],
   "source": [
    "dataframe.get_data(df_type=\"dask\")"
   ]
  },
  {
   "cell_type": "code",
   "execution_count": null,
   "id": "968b6777-95a5-4296-a974-e10a0e71b02c",
   "metadata": {},
   "outputs": [],
   "source": [
    "dataframe = experiment.log_dataframe(name=\"x\", df=pl.DataFrame([0, 0]))\n",
    "dataframe"
   ]
  },
  {
   "cell_type": "code",
   "execution_count": null,
   "id": "cb769f37-776a-4613-b7c1-8aefcd24a026",
   "metadata": {},
   "outputs": [],
   "source": [
    "dataframe.get_data(df_type=\"polars\")"
   ]
  },
  {
   "cell_type": "code",
   "execution_count": null,
   "id": "fa3ea5ba-bebc-4fb9-b33d-419e113ba01a",
   "metadata": {},
   "outputs": [],
   "source": [
    "experiment.dataframe(id=dataframe.id)"
   ]
  },
  {
   "cell_type": "code",
   "execution_count": null,
   "id": "ef6f9ba2-684c-42df-931a-c5e99dca648d",
   "metadata": {},
   "outputs": [],
   "source": [
    "experiment.dataframes()"
   ]
  },
  {
   "cell_type": "code",
   "execution_count": null,
   "id": "974fa227-bc88-455e-9748-b9ce0541f266",
   "metadata": {},
   "outputs": [],
   "source": []
  },
  {
   "cell_type": "code",
   "execution_count": null,
   "id": "b0639b5a-e589-47b2-98ff-3ef09d11e9e2",
   "metadata": {},
   "outputs": [],
   "source": [
    "experiment.log_feature(name=\"a\")"
   ]
  },
  {
   "cell_type": "code",
   "execution_count": null,
   "id": "83b90f27-db1c-4db8-8da4-fccbccc0f666",
   "metadata": {},
   "outputs": [],
   "source": [
    "experiment.feature(name=\"a\")"
   ]
  },
  {
   "cell_type": "code",
   "execution_count": null,
   "id": "92c62bef-fcf2-45b6-af31-c0a405262e6d",
   "metadata": {},
   "outputs": [],
   "source": [
    "experiment.features()"
   ]
  },
  {
   "cell_type": "code",
   "execution_count": null,
   "id": "608e8c23-2844-468b-9d04-41905911105a",
   "metadata": {},
   "outputs": [],
   "source": [
    "experiment.log_metric(name=\"b\", value=0.0)"
   ]
  },
  {
   "cell_type": "code",
   "execution_count": null,
   "id": "9c4965f5-d264-440b-9066-dc60523b4604",
   "metadata": {},
   "outputs": [],
   "source": [
    "experiment.metric(name=\"b\")"
   ]
  },
  {
   "cell_type": "code",
   "execution_count": null,
   "id": "9cef23a8-acb4-42dc-9c8a-5acb364e35fc",
   "metadata": {},
   "outputs": [],
   "source": [
    "experiment.metrics()"
   ]
  },
  {
   "cell_type": "code",
   "execution_count": null,
   "id": "4f79895f-df28-47ca-b106-4339f4ce4f85",
   "metadata": {},
   "outputs": [],
   "source": [
    "experiment.log_parameter(name=\"c\", value=1.0)"
   ]
  },
  {
   "cell_type": "code",
   "execution_count": null,
   "id": "88697b31-f3a5-4041-9ebc-d7d4ef93d1df",
   "metadata": {},
   "outputs": [],
   "source": [
    "experiment.parameter(name=\"c\")"
   ]
  },
  {
   "cell_type": "code",
   "execution_count": null,
   "id": "67f5a53f-6a36-490f-9451-412b81448c28",
   "metadata": {},
   "outputs": [],
   "source": [
    "experiment.parameters()"
   ]
  },
  {
   "cell_type": "code",
   "execution_count": null,
   "id": "ae237ed3-2297-4874-bcbb-a7be15f83b85",
   "metadata": {},
   "outputs": [],
   "source": []
  },
  {
   "cell_type": "code",
   "execution_count": null,
   "id": "8527c3f8-c571-43bf-a630-66006882b9a0",
   "metadata": {},
   "outputs": [],
   "source": [
    "rubicon_memory_v2 = Rubicon(persistence=\"memory:v2\", root_dir=\".\")\n",
    "rubicon_memory_v2.repository"
   ]
  },
  {
   "cell_type": "code",
   "execution_count": null,
   "id": "dcc3ba7f-a20f-4362-8527-206a042234e4",
   "metadata": {},
   "outputs": [],
   "source": [
    "rubicon_memory_v2.repository.filesystem"
   ]
  },
  {
   "cell_type": "code",
   "execution_count": null,
   "id": "0a25cfca-6087-4070-b5f4-d9800c38a2c4",
   "metadata": {},
   "outputs": [],
   "source": [
    "rubicon_s3_v2 = Rubicon(persistence=\"filesystem:v2\", root_dir=\"s3://.\")\n",
    "rubicon_s3_v2.repository"
   ]
  },
  {
   "cell_type": "code",
   "execution_count": null,
   "id": "019f75e1-863a-4b88-b205-aa19e73b94c0",
   "metadata": {},
   "outputs": [],
   "source": [
    "rubicon_s3_v2.repository.filesystem"
   ]
  },
  {
   "cell_type": "code",
   "execution_count": null,
   "id": "8df544b2-0e29-4734-bdcb-00f3894571bc",
   "metadata": {},
   "outputs": [],
   "source": []
  },
  {
   "cell_type": "code",
   "execution_count": null,
   "id": "a8a07a22-fbd3-45fa-add1-51d1678a2312",
   "metadata": {},
   "outputs": [],
   "source": [
    "rubicon_logger_v2 = Rubicon(persistence=\"logger:v2\")\n",
    "rubicon_logger_v2.repository"
   ]
  },
  {
   "cell_type": "code",
   "execution_count": null,
   "id": "aee10ee3-8c4a-4924-bc3f-8d091c2ca920",
   "metadata": {},
   "outputs": [],
   "source": [
    "rubicon_logger_v2.repository.logger"
   ]
  },
  {
   "cell_type": "code",
   "execution_count": null,
   "id": "79407991-b1f4-4fac-9f52-0f397595b84d",
   "metadata": {},
   "outputs": [],
   "source": [
    "project = rubicon_logger_v2.create_project(name=\"repo refactor\")"
   ]
  },
  {
   "cell_type": "code",
   "execution_count": null,
   "id": "a486f539-3ea3-45f7-b687-02863b4b38cc",
   "metadata": {},
   "outputs": [],
   "source": [
    "project.log_artifact(name=\"x\", data_bytes=b\"data\")"
   ]
  },
  {
   "cell_type": "code",
   "execution_count": null,
   "id": "88b14bda-ee0e-4c7e-8341-abe0d2c5b4f7",
   "metadata": {},
   "outputs": [],
   "source": [
    "import pandas as pd\n",
    "\n",
    "project.log_dataframe(name=\"y\", df=pd.DataFrame([0]))"
   ]
  },
  {
   "cell_type": "code",
   "execution_count": null,
   "id": "c753bc9a-208a-4681-803b-5f0782dc4ffd",
   "metadata": {},
   "outputs": [],
   "source": [
    "experiment = project.log_experiment()"
   ]
  },
  {
   "cell_type": "code",
   "execution_count": null,
   "id": "041e3285-77ae-4ffc-9d72-309dd31a8054",
   "metadata": {},
   "outputs": [],
   "source": [
    "experiment.log_artifact(name=\"x\", data_bytes=b\"data\")"
   ]
  },
  {
   "cell_type": "code",
   "execution_count": null,
   "id": "44e3b159-5be0-457d-9cb3-5bcaa941e635",
   "metadata": {},
   "outputs": [],
   "source": [
    "experiment.log_dataframe(name=\"y\", df=pd.DataFrame([0]))"
   ]
  },
  {
   "cell_type": "code",
   "execution_count": null,
   "id": "4309dc69-f868-4ae9-98ad-b28824821916",
   "metadata": {},
   "outputs": [],
   "source": [
    "experiment.log_feature(name=\"a\")"
   ]
  },
  {
   "cell_type": "code",
   "execution_count": null,
   "id": "ba2167ec-6914-4350-9717-3840256ef5cb",
   "metadata": {},
   "outputs": [],
   "source": [
    "experiment.log_metric(name=\"b\", value=0)"
   ]
  },
  {
   "cell_type": "code",
   "execution_count": null,
   "id": "67133086-4d7e-4e2e-bc11-358f52ec87aa",
   "metadata": {},
   "outputs": [],
   "source": [
    "experiment.log_parameter(name=\"c\", value=1)"
   ]
  },
  {
   "cell_type": "code",
   "execution_count": null,
   "id": "8639ad11-4c39-4cb7-b034-b2aa35354952",
   "metadata": {},
   "outputs": [],
   "source": []
  }
 ],
 "metadata": {
  "kernelspec": {
   "display_name": "Python 3 (ipykernel)",
   "language": "python",
   "name": "python3"
  },
  "language_info": {
   "codemirror_mode": {
    "name": "ipython",
    "version": 3
   },
   "file_extension": ".py",
   "mimetype": "text/x-python",
   "name": "python",
   "nbconvert_exporter": "python",
   "pygments_lexer": "ipython3",
   "version": "3.10.17"
  }
 },
 "nbformat": 4,
 "nbformat_minor": 5
}
