{
 "cells": [
  {
   "cell_type": "code",
   "execution_count": 1,
   "id": "abad9ba4-9ea0-4750-9c8b-69865dc4ed57",
   "metadata": {},
   "outputs": [],
   "source": [
    "import rubicon_ml\n",
    "from rubicon_ml import Rubicon"
   ]
  },
  {
   "cell_type": "code",
   "execution_count": 2,
   "id": "b71474f9-cdfc-45aa-ab17-9db5b13c7bda",
   "metadata": {},
   "outputs": [],
   "source": [
    "from rubicon_ml.repository.v2 import (\n",
    "    BaseRepository,\n",
    "    LocalRepository,\n",
    "    LoggerRepository,\n",
    "    MemoryRepository,\n",
    "    S3Repository,\n",
    ")\n",
    "from rubicon_ml.repository.v2.fsspec import FsspecRepository"
   ]
  },
  {
   "cell_type": "code",
   "execution_count": null,
   "id": "4f93d634-e6d9-4eb6-8ae5-c123838b6002",
   "metadata": {},
   "outputs": [],
   "source": []
  },
  {
   "cell_type": "code",
   "execution_count": 3,
   "id": "be9e495f-4a09-4b87-bd6d-f555214d67f1",
   "metadata": {},
   "outputs": [
    {
     "data": {
      "text/plain": [
       "<rubicon_ml.repository.v2.LocalRepositoryV2 at 0x177257470>"
      ]
     },
     "execution_count": 3,
     "metadata": {},
     "output_type": "execute_result"
    }
   ],
   "source": [
    "rubicon_local_v2 = Rubicon(persistence=\"filesystem:v2\", root_dir=\"./rubicon-root\")\n",
    "rubicon_local_v2.repository"
   ]
  },
  {
   "cell_type": "code",
   "execution_count": 4,
   "id": "4343d573-61c9-4d4d-80a1-49634fc8a9a8",
   "metadata": {},
   "outputs": [
    {
     "data": {
      "text/plain": [
       "<fsspec.implementations.local.LocalFileSystem at 0x11e9198e0>"
      ]
     },
     "execution_count": 4,
     "metadata": {},
     "output_type": "execute_result"
    }
   ],
   "source": [
    "rubicon_local_v2.repository.filesystem"
   ]
  },
  {
   "cell_type": "code",
   "execution_count": null,
   "id": "982327cd-ffbb-4a82-9fe7-2bda88962fb0",
   "metadata": {},
   "outputs": [],
   "source": []
  },
  {
   "cell_type": "code",
   "execution_count": 5,
   "id": "b21968db-9b5b-4b2b-b585-11775c2c4e42",
   "metadata": {},
   "outputs": [
    {
     "ename": "RubiconException",
     "evalue": "Project 'repo refactor' was not found.",
     "output_type": "error",
     "traceback": [
      "\u001b[31m---------------------------------------------------------------------------\u001b[39m",
      "\u001b[31mFileNotFoundError\u001b[39m                         Traceback (most recent call last)",
      "\u001b[36mFile \u001b[39m\u001b[32m~/github/capitalone/rubicon-ml/rubicon_ml/repository/v2/fsspec.py:96\u001b[39m, in \u001b[36mFsspecRepository.read_domain\u001b[39m\u001b[34m(self, domain_cls, project_name, artifact_id, dataframe_id, experiment_id, feature_name, metric_name, parameter_name)\u001b[39m\n\u001b[32m     95\u001b[39m \u001b[38;5;28;01mtry\u001b[39;00m:\n\u001b[32m---> \u001b[39m\u001b[32m96\u001b[39m     domain_file = \u001b[38;5;28;43mself\u001b[39;49m\u001b[43m.\u001b[49m\u001b[43mfilesystem\u001b[49m\u001b[43m.\u001b[49m\u001b[43mopen\u001b[49m\u001b[43m(\u001b[49m\u001b[43mpath\u001b[49m\u001b[43m)\u001b[49m\n\u001b[32m     97\u001b[39m \u001b[38;5;28;01mexcept\u001b[39;00m \u001b[38;5;167;01mFileNotFoundError\u001b[39;00m:\n",
      "\u001b[36mFile \u001b[39m\u001b[32m~/miniforge3/envs/rubicon-ml-dev/lib/python3.12/site-packages/fsspec/spec.py:1303\u001b[39m, in \u001b[36mAbstractFileSystem.open\u001b[39m\u001b[34m(self, path, mode, block_size, cache_options, compression, **kwargs)\u001b[39m\n\u001b[32m   1302\u001b[39m ac = kwargs.pop(\u001b[33m\"\u001b[39m\u001b[33mautocommit\u001b[39m\u001b[33m\"\u001b[39m, \u001b[38;5;129;01mnot\u001b[39;00m \u001b[38;5;28mself\u001b[39m._intrans)\n\u001b[32m-> \u001b[39m\u001b[32m1303\u001b[39m f = \u001b[38;5;28;43mself\u001b[39;49m\u001b[43m.\u001b[49m\u001b[43m_open\u001b[49m\u001b[43m(\u001b[49m\n\u001b[32m   1304\u001b[39m \u001b[43m    \u001b[49m\u001b[43mpath\u001b[49m\u001b[43m,\u001b[49m\n\u001b[32m   1305\u001b[39m \u001b[43m    \u001b[49m\u001b[43mmode\u001b[49m\u001b[43m=\u001b[49m\u001b[43mmode\u001b[49m\u001b[43m,\u001b[49m\n\u001b[32m   1306\u001b[39m \u001b[43m    \u001b[49m\u001b[43mblock_size\u001b[49m\u001b[43m=\u001b[49m\u001b[43mblock_size\u001b[49m\u001b[43m,\u001b[49m\n\u001b[32m   1307\u001b[39m \u001b[43m    \u001b[49m\u001b[43mautocommit\u001b[49m\u001b[43m=\u001b[49m\u001b[43mac\u001b[49m\u001b[43m,\u001b[49m\n\u001b[32m   1308\u001b[39m \u001b[43m    \u001b[49m\u001b[43mcache_options\u001b[49m\u001b[43m=\u001b[49m\u001b[43mcache_options\u001b[49m\u001b[43m,\u001b[49m\n\u001b[32m   1309\u001b[39m \u001b[43m    \u001b[49m\u001b[43m*\u001b[49m\u001b[43m*\u001b[49m\u001b[43mkwargs\u001b[49m\u001b[43m,\u001b[49m\n\u001b[32m   1310\u001b[39m \u001b[43m\u001b[49m\u001b[43m)\u001b[49m\n\u001b[32m   1311\u001b[39m \u001b[38;5;28;01mif\u001b[39;00m compression \u001b[38;5;129;01mis\u001b[39;00m \u001b[38;5;129;01mnot\u001b[39;00m \u001b[38;5;28;01mNone\u001b[39;00m:\n",
      "\u001b[36mFile \u001b[39m\u001b[32m~/miniforge3/envs/rubicon-ml-dev/lib/python3.12/site-packages/fsspec/implementations/local.py:195\u001b[39m, in \u001b[36mLocalFileSystem._open\u001b[39m\u001b[34m(self, path, mode, block_size, **kwargs)\u001b[39m\n\u001b[32m    194\u001b[39m     \u001b[38;5;28mself\u001b[39m.makedirs(\u001b[38;5;28mself\u001b[39m._parent(path), exist_ok=\u001b[38;5;28;01mTrue\u001b[39;00m)\n\u001b[32m--> \u001b[39m\u001b[32m195\u001b[39m \u001b[38;5;28;01mreturn\u001b[39;00m \u001b[43mLocalFileOpener\u001b[49m\u001b[43m(\u001b[49m\u001b[43mpath\u001b[49m\u001b[43m,\u001b[49m\u001b[43m \u001b[49m\u001b[43mmode\u001b[49m\u001b[43m,\u001b[49m\u001b[43m \u001b[49m\u001b[43mfs\u001b[49m\u001b[43m=\u001b[49m\u001b[38;5;28;43mself\u001b[39;49m\u001b[43m,\u001b[49m\u001b[43m \u001b[49m\u001b[43m*\u001b[49m\u001b[43m*\u001b[49m\u001b[43mkwargs\u001b[49m\u001b[43m)\u001b[49m\n",
      "\u001b[36mFile \u001b[39m\u001b[32m~/miniforge3/envs/rubicon-ml-dev/lib/python3.12/site-packages/fsspec/implementations/local.py:359\u001b[39m, in \u001b[36mLocalFileOpener.__init__\u001b[39m\u001b[34m(self, path, mode, autocommit, fs, compression, **kwargs)\u001b[39m\n\u001b[32m    358\u001b[39m \u001b[38;5;28mself\u001b[39m.blocksize = io.DEFAULT_BUFFER_SIZE\n\u001b[32m--> \u001b[39m\u001b[32m359\u001b[39m \u001b[38;5;28;43mself\u001b[39;49m\u001b[43m.\u001b[49m\u001b[43m_open\u001b[49m\u001b[43m(\u001b[49m\u001b[43m)\u001b[49m\n",
      "\u001b[36mFile \u001b[39m\u001b[32m~/miniforge3/envs/rubicon-ml-dev/lib/python3.12/site-packages/fsspec/implementations/local.py:364\u001b[39m, in \u001b[36mLocalFileOpener._open\u001b[39m\u001b[34m(self)\u001b[39m\n\u001b[32m    363\u001b[39m \u001b[38;5;28;01mif\u001b[39;00m \u001b[38;5;28mself\u001b[39m.autocommit \u001b[38;5;129;01mor\u001b[39;00m \u001b[33m\"\u001b[39m\u001b[33mw\u001b[39m\u001b[33m\"\u001b[39m \u001b[38;5;129;01mnot\u001b[39;00m \u001b[38;5;129;01min\u001b[39;00m \u001b[38;5;28mself\u001b[39m.mode:\n\u001b[32m--> \u001b[39m\u001b[32m364\u001b[39m     \u001b[38;5;28mself\u001b[39m.f = \u001b[38;5;28;43mopen\u001b[39;49m\u001b[43m(\u001b[49m\u001b[38;5;28;43mself\u001b[39;49m\u001b[43m.\u001b[49m\u001b[43mpath\u001b[49m\u001b[43m,\u001b[49m\u001b[43m \u001b[49m\u001b[43mmode\u001b[49m\u001b[43m=\u001b[49m\u001b[38;5;28;43mself\u001b[39;49m\u001b[43m.\u001b[49m\u001b[43mmode\u001b[49m\u001b[43m)\u001b[49m\n\u001b[32m    365\u001b[39m     \u001b[38;5;28;01mif\u001b[39;00m \u001b[38;5;28mself\u001b[39m.compression:\n",
      "\u001b[31mFileNotFoundError\u001b[39m: [Errno 2] No such file or directory: '/Users/nvd215/github/capitalone/rubicon-ml/notebooks/dev/rubicon-root/repo-refactor/metadata.json'",
      "\nDuring handling of the above exception, another exception occurred:\n",
      "\u001b[31mRubiconException\u001b[39m                          Traceback (most recent call last)",
      "\u001b[36mCell\u001b[39m\u001b[36m \u001b[39m\u001b[32mIn[5]\u001b[39m\u001b[32m, line 1\u001b[39m\n\u001b[32m----> \u001b[39m\u001b[32m1\u001b[39m \u001b[43mrubicon_local_v2\u001b[49m\u001b[43m.\u001b[49m\u001b[43mget_project\u001b[49m\u001b[43m(\u001b[49m\u001b[43mname\u001b[49m\u001b[43m=\u001b[49m\u001b[33;43m\"\u001b[39;49m\u001b[33;43mrepo refactor\u001b[39;49m\u001b[33;43m\"\u001b[39;49m\u001b[43m)\u001b[49m\n",
      "\u001b[36mFile \u001b[39m\u001b[32m~/github/capitalone/rubicon-ml/rubicon_ml/client/utils/exception_handling.py:51\u001b[39m, in \u001b[36mfailsafe.<locals>.wrapper\u001b[39m\u001b[34m(*args, **kwargs)\u001b[39m\n\u001b[32m     49\u001b[39m \u001b[38;5;28;01mexcept\u001b[39;00m \u001b[38;5;167;01mException\u001b[39;00m \u001b[38;5;28;01mas\u001b[39;00m e:\n\u001b[32m     50\u001b[39m     \u001b[38;5;28;01mif\u001b[39;00m FAILURE_MODE == \u001b[33m\"\u001b[39m\u001b[33mraise\u001b[39m\u001b[33m\"\u001b[39m:\n\u001b[32m---> \u001b[39m\u001b[32m51\u001b[39m         \u001b[38;5;28;01mraise\u001b[39;00m e\n\u001b[32m     52\u001b[39m     \u001b[38;5;28;01melif\u001b[39;00m FAILURE_MODE == \u001b[33m\"\u001b[39m\u001b[33mwarn\u001b[39m\u001b[33m\"\u001b[39m:\n\u001b[32m     53\u001b[39m         warnings.warn(traceback.format_exc(limit=TRACEBACK_LIMIT, chain=TRACEBACK_CHAIN))\n",
      "\u001b[36mFile \u001b[39m\u001b[32m~/github/capitalone/rubicon-ml/rubicon_ml/client/utils/exception_handling.py:48\u001b[39m, in \u001b[36mfailsafe.<locals>.wrapper\u001b[39m\u001b[34m(*args, **kwargs)\u001b[39m\n\u001b[32m     45\u001b[39m \u001b[38;5;129m@functools\u001b[39m.wraps(func)\n\u001b[32m     46\u001b[39m \u001b[38;5;28;01mdef\u001b[39;00m\u001b[38;5;250m \u001b[39m\u001b[34mwrapper\u001b[39m(*args, **kwargs):\n\u001b[32m     47\u001b[39m     \u001b[38;5;28;01mtry\u001b[39;00m:\n\u001b[32m---> \u001b[39m\u001b[32m48\u001b[39m         \u001b[38;5;28;01mreturn\u001b[39;00m \u001b[43mfunc\u001b[49m\u001b[43m(\u001b[49m\u001b[43m*\u001b[49m\u001b[43margs\u001b[49m\u001b[43m,\u001b[49m\u001b[43m \u001b[49m\u001b[43m*\u001b[49m\u001b[43m*\u001b[49m\u001b[43mkwargs\u001b[49m\u001b[43m)\u001b[49m\n\u001b[32m     49\u001b[39m     \u001b[38;5;28;01mexcept\u001b[39;00m \u001b[38;5;167;01mException\u001b[39;00m \u001b[38;5;28;01mas\u001b[39;00m e:\n\u001b[32m     50\u001b[39m         \u001b[38;5;28;01mif\u001b[39;00m FAILURE_MODE == \u001b[33m\"\u001b[39m\u001b[33mraise\u001b[39m\u001b[33m\"\u001b[39m:\n",
      "\u001b[36mFile \u001b[39m\u001b[32m~/github/capitalone/rubicon-ml/rubicon_ml/client/rubicon.py:210\u001b[39m, in \u001b[36mRubicon.get_project\u001b[39m\u001b[34m(self, name, id)\u001b[39m\n\u001b[32m    208\u001b[39m         \u001b[38;5;28;01mraise\u001b[39;00m RubiconException(\u001b[33m\"\u001b[39m\u001b[33mall configured storage backends failed\u001b[39m\u001b[33m\"\u001b[39m) \u001b[38;5;28;01mfrom\u001b[39;00m\u001b[38;5;250m \u001b[39m\u001b[34;01mreturn_err\u001b[39;00m\n\u001b[32m    209\u001b[39m     \u001b[38;5;28;01melse\u001b[39;00m:\n\u001b[32m--> \u001b[39m\u001b[32m210\u001b[39m         \u001b[38;5;28;01mraise\u001b[39;00m return_err\n\u001b[32m    211\u001b[39m \u001b[38;5;28;01melse\u001b[39;00m:\n\u001b[32m    212\u001b[39m     \u001b[38;5;28;01mreturn\u001b[39;00m [p \u001b[38;5;28;01mfor\u001b[39;00m p \u001b[38;5;129;01min\u001b[39;00m \u001b[38;5;28mself\u001b[39m.projects() \u001b[38;5;28;01mif\u001b[39;00m p.id == \u001b[38;5;28mid\u001b[39m][\u001b[32m0\u001b[39m]\n",
      "\u001b[36mFile \u001b[39m\u001b[32m~/github/capitalone/rubicon-ml/rubicon_ml/client/rubicon.py:201\u001b[39m, in \u001b[36mRubicon.get_project\u001b[39m\u001b[34m(self, name, id)\u001b[39m\n\u001b[32m    199\u001b[39m \u001b[38;5;28;01mfor\u001b[39;00m repo \u001b[38;5;129;01min\u001b[39;00m \u001b[38;5;28mself\u001b[39m.repositories:\n\u001b[32m    200\u001b[39m     \u001b[38;5;28;01mtry\u001b[39;00m:\n\u001b[32m--> \u001b[39m\u001b[32m201\u001b[39m         project = \u001b[43mrepo\u001b[49m\u001b[43m.\u001b[49m\u001b[43mget_project\u001b[49m\u001b[43m(\u001b[49m\u001b[43mname\u001b[49m\u001b[43m)\u001b[49m\n\u001b[32m    202\u001b[39m     \u001b[38;5;28;01mexcept\u001b[39;00m \u001b[38;5;167;01mException\u001b[39;00m \u001b[38;5;28;01mas\u001b[39;00m err:\n\u001b[32m    203\u001b[39m         return_err = err\n",
      "\u001b[36mFile \u001b[39m\u001b[32m~/github/capitalone/rubicon-ml/rubicon_ml/repository/v2/__init__.py:26\u001b[39m, in \u001b[36mV1CompatibilityMixin.get_project\u001b[39m\u001b[34m(self, project_name)\u001b[39m\n\u001b[32m     25\u001b[39m \u001b[38;5;28;01mdef\u001b[39;00m\u001b[38;5;250m \u001b[39m\u001b[34mget_project\u001b[39m(\u001b[38;5;28mself\u001b[39m, project_name: \u001b[38;5;28mstr\u001b[39m) -> \u001b[33m\"\u001b[39m\u001b[33mdomain.Project\u001b[39m\u001b[33m\"\u001b[39m:\n\u001b[32m---> \u001b[39m\u001b[32m26\u001b[39m     \u001b[38;5;28;01mreturn\u001b[39;00m \u001b[38;5;28;43mself\u001b[39;49m\u001b[43m.\u001b[49m\u001b[43mread_project_metadata\u001b[49m\u001b[43m(\u001b[49m\u001b[43mproject_name\u001b[49m\u001b[43m)\u001b[49m\n",
      "\u001b[36mFile \u001b[39m\u001b[32m~/github/capitalone/rubicon-ml/rubicon_ml/repository/v2/base.py:75\u001b[39m, in \u001b[36mBaseRepository.read_project_metadata\u001b[39m\u001b[34m(self, project_name)\u001b[39m\n\u001b[32m     74\u001b[39m \u001b[38;5;28;01mdef\u001b[39;00m\u001b[38;5;250m \u001b[39m\u001b[34mread_project_metadata\u001b[39m(\u001b[38;5;28mself\u001b[39m, project_name: \u001b[38;5;28mstr\u001b[39m) -> domain.Project:\n\u001b[32m---> \u001b[39m\u001b[32m75\u001b[39m     project = \u001b[38;5;28;43mself\u001b[39;49m\u001b[43m.\u001b[49m\u001b[43mread_domain\u001b[49m\u001b[43m(\u001b[49m\u001b[43mdomain\u001b[49m\u001b[43m.\u001b[49m\u001b[43mProject\u001b[49m\u001b[43m,\u001b[49m\u001b[43m \u001b[49m\u001b[43mproject_name\u001b[49m\u001b[43m)\u001b[49m\n\u001b[32m     77\u001b[39m     \u001b[38;5;28;01mreturn\u001b[39;00m project\n",
      "\u001b[36mFile \u001b[39m\u001b[32m~/github/capitalone/rubicon-ml/rubicon_ml/repository/v2/fsspec.py:98\u001b[39m, in \u001b[36mFsspecRepository.read_domain\u001b[39m\u001b[34m(self, domain_cls, project_name, artifact_id, dataframe_id, experiment_id, feature_name, metric_name, parameter_name)\u001b[39m\n\u001b[32m     96\u001b[39m     domain_file = \u001b[38;5;28mself\u001b[39m.filesystem.open(path)\n\u001b[32m     97\u001b[39m \u001b[38;5;28;01mexcept\u001b[39;00m \u001b[38;5;167;01mFileNotFoundError\u001b[39;00m:\n\u001b[32m---> \u001b[39m\u001b[32m98\u001b[39m     \u001b[38;5;28;01mraise\u001b[39;00m RubiconException(\u001b[33mf\u001b[39m\u001b[33m\"\u001b[39m\u001b[38;5;132;01m{\u001b[39;00mdomain_cls.\u001b[34m__name__\u001b[39m\u001b[38;5;132;01m}\u001b[39;00m\u001b[33m \u001b[39m\u001b[33m'\u001b[39m\u001b[38;5;132;01m{\u001b[39;00mdomain_identifier\u001b[38;5;132;01m}\u001b[39;00m\u001b[33m'\u001b[39m\u001b[33m was not found.\u001b[39m\u001b[33m\"\u001b[39m)\n\u001b[32m    100\u001b[39m \u001b[38;5;28;01mreturn\u001b[39;00m domain_cls(**json.load(domain_file))\n",
      "\u001b[31mRubiconException\u001b[39m: Project 'repo refactor' was not found."
     ]
    }
   ],
   "source": [
    "rubicon_local_v2.get_project(name=\"repo refactor\")"
   ]
  },
  {
   "cell_type": "code",
   "execution_count": 6,
   "id": "00652254-9416-4c5e-8f66-0738107f4da0",
   "metadata": {},
   "outputs": [
    {
     "data": {
      "text/plain": [
       "<rubicon_ml.client.project.Project at 0x17771b680>"
      ]
     },
     "execution_count": 6,
     "metadata": {},
     "output_type": "execute_result"
    }
   ],
   "source": [
    "project = rubicon_local_v2.create_project(name=\"repo refactor\")\n",
    "project"
   ]
  },
  {
   "cell_type": "code",
   "execution_count": 7,
   "id": "7d852733-0e7c-4540-9e77-b52c76295749",
   "metadata": {},
   "outputs": [
    {
     "ename": "RubiconException",
     "evalue": "Project 'repo refactor' already exists.",
     "output_type": "error",
     "traceback": [
      "\u001b[31m---------------------------------------------------------------------------\u001b[39m",
      "\u001b[31mRubiconException\u001b[39m                          Traceback (most recent call last)",
      "\u001b[36mCell\u001b[39m\u001b[36m \u001b[39m\u001b[32mIn[7]\u001b[39m\u001b[32m, line 1\u001b[39m\n\u001b[32m----> \u001b[39m\u001b[32m1\u001b[39m \u001b[43mrubicon_local_v2\u001b[49m\u001b[43m.\u001b[49m\u001b[43mcreate_project\u001b[49m\u001b[43m(\u001b[49m\u001b[43mname\u001b[49m\u001b[43m=\u001b[49m\u001b[33;43m\"\u001b[39;49m\u001b[33;43mrepo refactor\u001b[39;49m\u001b[33;43m\"\u001b[39;49m\u001b[43m)\u001b[49m\n",
      "\u001b[36mFile \u001b[39m\u001b[32m~/github/capitalone/rubicon-ml/rubicon_ml/client/utils/exception_handling.py:51\u001b[39m, in \u001b[36mfailsafe.<locals>.wrapper\u001b[39m\u001b[34m(*args, **kwargs)\u001b[39m\n\u001b[32m     49\u001b[39m \u001b[38;5;28;01mexcept\u001b[39;00m \u001b[38;5;167;01mException\u001b[39;00m \u001b[38;5;28;01mas\u001b[39;00m e:\n\u001b[32m     50\u001b[39m     \u001b[38;5;28;01mif\u001b[39;00m FAILURE_MODE == \u001b[33m\"\u001b[39m\u001b[33mraise\u001b[39m\u001b[33m\"\u001b[39m:\n\u001b[32m---> \u001b[39m\u001b[32m51\u001b[39m         \u001b[38;5;28;01mraise\u001b[39;00m e\n\u001b[32m     52\u001b[39m     \u001b[38;5;28;01melif\u001b[39;00m FAILURE_MODE == \u001b[33m\"\u001b[39m\u001b[33mwarn\u001b[39m\u001b[33m\"\u001b[39m:\n\u001b[32m     53\u001b[39m         warnings.warn(traceback.format_exc(limit=TRACEBACK_LIMIT, chain=TRACEBACK_CHAIN))\n",
      "\u001b[36mFile \u001b[39m\u001b[32m~/github/capitalone/rubicon-ml/rubicon_ml/client/utils/exception_handling.py:48\u001b[39m, in \u001b[36mfailsafe.<locals>.wrapper\u001b[39m\u001b[34m(*args, **kwargs)\u001b[39m\n\u001b[32m     45\u001b[39m \u001b[38;5;129m@functools\u001b[39m.wraps(func)\n\u001b[32m     46\u001b[39m \u001b[38;5;28;01mdef\u001b[39;00m\u001b[38;5;250m \u001b[39m\u001b[34mwrapper\u001b[39m(*args, **kwargs):\n\u001b[32m     47\u001b[39m     \u001b[38;5;28;01mtry\u001b[39;00m:\n\u001b[32m---> \u001b[39m\u001b[32m48\u001b[39m         \u001b[38;5;28;01mreturn\u001b[39;00m \u001b[43mfunc\u001b[49m\u001b[43m(\u001b[49m\u001b[43m*\u001b[49m\u001b[43margs\u001b[49m\u001b[43m,\u001b[49m\u001b[43m \u001b[49m\u001b[43m*\u001b[49m\u001b[43m*\u001b[49m\u001b[43mkwargs\u001b[49m\u001b[43m)\u001b[49m\n\u001b[32m     49\u001b[39m     \u001b[38;5;28;01mexcept\u001b[39;00m \u001b[38;5;167;01mException\u001b[39;00m \u001b[38;5;28;01mas\u001b[39;00m e:\n\u001b[32m     50\u001b[39m         \u001b[38;5;28;01mif\u001b[39;00m FAILURE_MODE == \u001b[33m\"\u001b[39m\u001b[33mraise\u001b[39m\u001b[33m\"\u001b[39m:\n",
      "\u001b[36mFile \u001b[39m\u001b[32m~/github/capitalone/rubicon-ml/rubicon_ml/client/rubicon.py:173\u001b[39m, in \u001b[36mRubicon.create_project\u001b[39m\u001b[34m(self, name, description, github_url, training_metadata)\u001b[39m\n\u001b[32m    171\u001b[39m project = \u001b[38;5;28mself\u001b[39m._create_project_domain(name, description, github_url, training_metadata)\n\u001b[32m    172\u001b[39m \u001b[38;5;28;01mfor\u001b[39;00m repo \u001b[38;5;129;01min\u001b[39;00m \u001b[38;5;28mself\u001b[39m.repositories:\n\u001b[32m--> \u001b[39m\u001b[32m173\u001b[39m     \u001b[43mrepo\u001b[49m\u001b[43m.\u001b[49m\u001b[43mcreate_project\u001b[49m\u001b[43m(\u001b[49m\u001b[43mproject\u001b[49m\u001b[43m)\u001b[49m\n\u001b[32m    175\u001b[39m \u001b[38;5;28;01mreturn\u001b[39;00m Project(project, \u001b[38;5;28mself\u001b[39m.configs)\n",
      "\u001b[36mFile \u001b[39m\u001b[32m~/github/capitalone/rubicon-ml/rubicon_ml/repository/v2/__init__.py:23\u001b[39m, in \u001b[36mV1CompatibilityMixin.create_project\u001b[39m\u001b[34m(self, project)\u001b[39m\n\u001b[32m     22\u001b[39m \u001b[38;5;28;01mdef\u001b[39;00m\u001b[38;5;250m \u001b[39m\u001b[34mcreate_project\u001b[39m(\u001b[38;5;28mself\u001b[39m, project: \u001b[33m\"\u001b[39m\u001b[33mdomain.Project\u001b[39m\u001b[33m\"\u001b[39m):\n\u001b[32m---> \u001b[39m\u001b[32m23\u001b[39m     \u001b[38;5;28;43mself\u001b[39;49m\u001b[43m.\u001b[49m\u001b[43mwrite_project_metadata\u001b[49m\u001b[43m(\u001b[49m\u001b[43mproject\u001b[49m\u001b[43m)\u001b[49m\n",
      "\u001b[36mFile \u001b[39m\u001b[32m~/github/capitalone/rubicon-ml/rubicon_ml/repository/v2/base.py:85\u001b[39m, in \u001b[36mBaseRepository.write_project_metadata\u001b[39m\u001b[34m(self, project)\u001b[39m\n\u001b[32m     84\u001b[39m \u001b[38;5;28;01mdef\u001b[39;00m\u001b[38;5;250m \u001b[39m\u001b[34mwrite_project_metadata\u001b[39m(\u001b[38;5;28mself\u001b[39m, project: domain.Project):\n\u001b[32m---> \u001b[39m\u001b[32m85\u001b[39m     \u001b[38;5;28;43mself\u001b[39;49m\u001b[43m.\u001b[49m\u001b[43mwrite_domain\u001b[49m\u001b[43m(\u001b[49m\u001b[43mproject\u001b[49m\u001b[43m,\u001b[49m\u001b[43m \u001b[49m\u001b[43mproject\u001b[49m\u001b[43m.\u001b[49m\u001b[43mname\u001b[49m\u001b[43m)\u001b[49m\n",
      "\u001b[36mFile \u001b[39m\u001b[32m~/github/capitalone/rubicon-ml/rubicon_ml/repository/v2/fsspec.py:163\u001b[39m, in \u001b[36mFsspecRepository.write_domain\u001b[39m\u001b[34m(self, domain, project_name, artifact_id, dataframe_id, experiment_id, feature_name, metric_name, parameter_name)\u001b[39m\n\u001b[32m    160\u001b[39m path = Path(path_root, \u001b[33m\"\u001b[39m\u001b[33mmetadata.json\u001b[39m\u001b[33m\"\u001b[39m)\n\u001b[32m    162\u001b[39m \u001b[38;5;28;01mif\u001b[39;00m \u001b[38;5;28mself\u001b[39m.filesystem.exists(path):\n\u001b[32m--> \u001b[39m\u001b[32m163\u001b[39m     \u001b[38;5;28;01mraise\u001b[39;00m RubiconException(\n\u001b[32m    164\u001b[39m         \u001b[33mf\u001b[39m\u001b[33m\"\u001b[39m\u001b[38;5;132;01m{\u001b[39;00mdomain.\u001b[34m__class__\u001b[39m.\u001b[34m__name__\u001b[39m\u001b[38;5;132;01m}\u001b[39;00m\u001b[33m \u001b[39m\u001b[33m'\u001b[39m\u001b[38;5;132;01m{\u001b[39;00mdomain_identifier\u001b[38;5;132;01m}\u001b[39;00m\u001b[33m'\u001b[39m\u001b[33m already exists.\u001b[39m\u001b[33m\"\u001b[39m\n\u001b[32m    165\u001b[39m     )\n\u001b[32m    167\u001b[39m \u001b[38;5;28;01mwith\u001b[39;00m \u001b[38;5;28mself\u001b[39m.filesystem.open(path, \u001b[33m\"\u001b[39m\u001b[33mw\u001b[39m\u001b[33m\"\u001b[39m) \u001b[38;5;28;01mas\u001b[39;00m domain_file:\n\u001b[32m    168\u001b[39m     domain_file.write(json.dumps(domain))\n",
      "\u001b[31mRubiconException\u001b[39m: Project 'repo refactor' already exists."
     ]
    }
   ],
   "source": [
    "rubicon_local_v2.create_project(name=\"repo refactor\")"
   ]
  },
  {
   "cell_type": "code",
   "execution_count": 8,
   "id": "e286f2c6-22e0-40aa-8af6-9e26f2de264e",
   "metadata": {},
   "outputs": [
    {
     "data": {
      "text/plain": [
       "<rubicon_ml.client.project.Project at 0x1772a59a0>"
      ]
     },
     "execution_count": 8,
     "metadata": {},
     "output_type": "execute_result"
    }
   ],
   "source": [
    "rubicon_local_v2.get_or_create_project(name=\"repo refactor\")"
   ]
  },
  {
   "cell_type": "code",
   "execution_count": 9,
   "id": "8d3f7946-5d32-4cdb-9281-5293048ccb8b",
   "metadata": {},
   "outputs": [
    {
     "data": {
      "text/plain": [
       "<rubicon_ml.client.project.Project at 0x16752cdd0>"
      ]
     },
     "execution_count": 9,
     "metadata": {},
     "output_type": "execute_result"
    }
   ],
   "source": [
    "rubicon_local_v2.get_project(name=\"repo refactor\")"
   ]
  },
  {
   "cell_type": "code",
   "execution_count": 10,
   "id": "beaf74af-9b02-4812-87f2-c45ce5393b76",
   "metadata": {},
   "outputs": [
    {
     "data": {
      "text/plain": [
       "[<rubicon_ml.client.project.Project at 0x1778ed970>]"
      ]
     },
     "execution_count": 10,
     "metadata": {},
     "output_type": "execute_result"
    }
   ],
   "source": [
    "rubicon_local_v2.projects()"
   ]
  },
  {
   "cell_type": "code",
   "execution_count": 11,
   "id": "8788418e-273f-4d59-8c9a-697e2d092f02",
   "metadata": {},
   "outputs": [
    {
     "data": {
      "text/plain": [
       "Project(name='repo refactor', created_at=datetime.datetime(2025, 4, 20, 23, 41, 9, 232010, tzinfo=datetime.timezone.utc), description=None, github_url=None, id='eeba831f-e628-45bb-91ac-b83e6123fa8b', training_metadata=None)"
      ]
     },
     "execution_count": 11,
     "metadata": {},
     "output_type": "execute_result"
    }
   ],
   "source": [
    "project._domain"
   ]
  },
  {
   "cell_type": "code",
   "execution_count": null,
   "id": "8f4a4329-c556-4679-b2cf-907c73fa37c9",
   "metadata": {},
   "outputs": [],
   "source": []
  },
  {
   "cell_type": "code",
   "execution_count": 12,
   "id": "7b208d12-9b03-4bae-a56c-5d01857b7320",
   "metadata": {},
   "outputs": [
    {
     "ename": "RubiconException",
     "evalue": "Experiment 'dbd08c37-eddd-4461-8402-3d4668e834b3' was not found.",
     "output_type": "error",
     "traceback": [
      "\u001b[31m---------------------------------------------------------------------------\u001b[39m",
      "\u001b[31mFileNotFoundError\u001b[39m                         Traceback (most recent call last)",
      "\u001b[36mFile \u001b[39m\u001b[32m~/github/capitalone/rubicon-ml/rubicon_ml/repository/v2/fsspec.py:96\u001b[39m, in \u001b[36mFsspecRepository.read_domain\u001b[39m\u001b[34m(self, domain_cls, project_name, artifact_id, dataframe_id, experiment_id, feature_name, metric_name, parameter_name)\u001b[39m\n\u001b[32m     95\u001b[39m \u001b[38;5;28;01mtry\u001b[39;00m:\n\u001b[32m---> \u001b[39m\u001b[32m96\u001b[39m     domain_file = \u001b[38;5;28;43mself\u001b[39;49m\u001b[43m.\u001b[49m\u001b[43mfilesystem\u001b[49m\u001b[43m.\u001b[49m\u001b[43mopen\u001b[49m\u001b[43m(\u001b[49m\u001b[43mpath\u001b[49m\u001b[43m)\u001b[49m\n\u001b[32m     97\u001b[39m \u001b[38;5;28;01mexcept\u001b[39;00m \u001b[38;5;167;01mFileNotFoundError\u001b[39;00m:\n",
      "\u001b[36mFile \u001b[39m\u001b[32m~/miniforge3/envs/rubicon-ml-dev/lib/python3.12/site-packages/fsspec/spec.py:1303\u001b[39m, in \u001b[36mAbstractFileSystem.open\u001b[39m\u001b[34m(self, path, mode, block_size, cache_options, compression, **kwargs)\u001b[39m\n\u001b[32m   1302\u001b[39m ac = kwargs.pop(\u001b[33m\"\u001b[39m\u001b[33mautocommit\u001b[39m\u001b[33m\"\u001b[39m, \u001b[38;5;129;01mnot\u001b[39;00m \u001b[38;5;28mself\u001b[39m._intrans)\n\u001b[32m-> \u001b[39m\u001b[32m1303\u001b[39m f = \u001b[38;5;28;43mself\u001b[39;49m\u001b[43m.\u001b[49m\u001b[43m_open\u001b[49m\u001b[43m(\u001b[49m\n\u001b[32m   1304\u001b[39m \u001b[43m    \u001b[49m\u001b[43mpath\u001b[49m\u001b[43m,\u001b[49m\n\u001b[32m   1305\u001b[39m \u001b[43m    \u001b[49m\u001b[43mmode\u001b[49m\u001b[43m=\u001b[49m\u001b[43mmode\u001b[49m\u001b[43m,\u001b[49m\n\u001b[32m   1306\u001b[39m \u001b[43m    \u001b[49m\u001b[43mblock_size\u001b[49m\u001b[43m=\u001b[49m\u001b[43mblock_size\u001b[49m\u001b[43m,\u001b[49m\n\u001b[32m   1307\u001b[39m \u001b[43m    \u001b[49m\u001b[43mautocommit\u001b[49m\u001b[43m=\u001b[49m\u001b[43mac\u001b[49m\u001b[43m,\u001b[49m\n\u001b[32m   1308\u001b[39m \u001b[43m    \u001b[49m\u001b[43mcache_options\u001b[49m\u001b[43m=\u001b[49m\u001b[43mcache_options\u001b[49m\u001b[43m,\u001b[49m\n\u001b[32m   1309\u001b[39m \u001b[43m    \u001b[49m\u001b[43m*\u001b[49m\u001b[43m*\u001b[49m\u001b[43mkwargs\u001b[49m\u001b[43m,\u001b[49m\n\u001b[32m   1310\u001b[39m \u001b[43m\u001b[49m\u001b[43m)\u001b[49m\n\u001b[32m   1311\u001b[39m \u001b[38;5;28;01mif\u001b[39;00m compression \u001b[38;5;129;01mis\u001b[39;00m \u001b[38;5;129;01mnot\u001b[39;00m \u001b[38;5;28;01mNone\u001b[39;00m:\n",
      "\u001b[36mFile \u001b[39m\u001b[32m~/miniforge3/envs/rubicon-ml-dev/lib/python3.12/site-packages/fsspec/implementations/local.py:195\u001b[39m, in \u001b[36mLocalFileSystem._open\u001b[39m\u001b[34m(self, path, mode, block_size, **kwargs)\u001b[39m\n\u001b[32m    194\u001b[39m     \u001b[38;5;28mself\u001b[39m.makedirs(\u001b[38;5;28mself\u001b[39m._parent(path), exist_ok=\u001b[38;5;28;01mTrue\u001b[39;00m)\n\u001b[32m--> \u001b[39m\u001b[32m195\u001b[39m \u001b[38;5;28;01mreturn\u001b[39;00m \u001b[43mLocalFileOpener\u001b[49m\u001b[43m(\u001b[49m\u001b[43mpath\u001b[49m\u001b[43m,\u001b[49m\u001b[43m \u001b[49m\u001b[43mmode\u001b[49m\u001b[43m,\u001b[49m\u001b[43m \u001b[49m\u001b[43mfs\u001b[49m\u001b[43m=\u001b[49m\u001b[38;5;28;43mself\u001b[39;49m\u001b[43m,\u001b[49m\u001b[43m \u001b[49m\u001b[43m*\u001b[49m\u001b[43m*\u001b[49m\u001b[43mkwargs\u001b[49m\u001b[43m)\u001b[49m\n",
      "\u001b[36mFile \u001b[39m\u001b[32m~/miniforge3/envs/rubicon-ml-dev/lib/python3.12/site-packages/fsspec/implementations/local.py:359\u001b[39m, in \u001b[36mLocalFileOpener.__init__\u001b[39m\u001b[34m(self, path, mode, autocommit, fs, compression, **kwargs)\u001b[39m\n\u001b[32m    358\u001b[39m \u001b[38;5;28mself\u001b[39m.blocksize = io.DEFAULT_BUFFER_SIZE\n\u001b[32m--> \u001b[39m\u001b[32m359\u001b[39m \u001b[38;5;28;43mself\u001b[39;49m\u001b[43m.\u001b[49m\u001b[43m_open\u001b[49m\u001b[43m(\u001b[49m\u001b[43m)\u001b[49m\n",
      "\u001b[36mFile \u001b[39m\u001b[32m~/miniforge3/envs/rubicon-ml-dev/lib/python3.12/site-packages/fsspec/implementations/local.py:364\u001b[39m, in \u001b[36mLocalFileOpener._open\u001b[39m\u001b[34m(self)\u001b[39m\n\u001b[32m    363\u001b[39m \u001b[38;5;28;01mif\u001b[39;00m \u001b[38;5;28mself\u001b[39m.autocommit \u001b[38;5;129;01mor\u001b[39;00m \u001b[33m\"\u001b[39m\u001b[33mw\u001b[39m\u001b[33m\"\u001b[39m \u001b[38;5;129;01mnot\u001b[39;00m \u001b[38;5;129;01min\u001b[39;00m \u001b[38;5;28mself\u001b[39m.mode:\n\u001b[32m--> \u001b[39m\u001b[32m364\u001b[39m     \u001b[38;5;28mself\u001b[39m.f = \u001b[38;5;28;43mopen\u001b[39;49m\u001b[43m(\u001b[49m\u001b[38;5;28;43mself\u001b[39;49m\u001b[43m.\u001b[49m\u001b[43mpath\u001b[49m\u001b[43m,\u001b[49m\u001b[43m \u001b[49m\u001b[43mmode\u001b[49m\u001b[43m=\u001b[49m\u001b[38;5;28;43mself\u001b[39;49m\u001b[43m.\u001b[49m\u001b[43mmode\u001b[49m\u001b[43m)\u001b[49m\n\u001b[32m    365\u001b[39m     \u001b[38;5;28;01mif\u001b[39;00m \u001b[38;5;28mself\u001b[39m.compression:\n",
      "\u001b[31mFileNotFoundError\u001b[39m: [Errno 2] No such file or directory: '/Users/nvd215/github/capitalone/rubicon-ml/notebooks/dev/rubicon-root/repo-refactor/experiments/dbd08c37-eddd-4461-8402-3d4668e834b3/metadata.json'",
      "\nDuring handling of the above exception, another exception occurred:\n",
      "\u001b[31mRubiconException\u001b[39m                          Traceback (most recent call last)",
      "\u001b[36mCell\u001b[39m\u001b[36m \u001b[39m\u001b[32mIn[12]\u001b[39m\u001b[32m, line 3\u001b[39m\n\u001b[32m      1\u001b[39m \u001b[38;5;28;01mimport\u001b[39;00m\u001b[38;5;250m \u001b[39m\u001b[34;01muuid\u001b[39;00m\n\u001b[32m----> \u001b[39m\u001b[32m3\u001b[39m \u001b[43mproject\u001b[49m\u001b[43m.\u001b[49m\u001b[43mexperiment\u001b[49m\u001b[43m(\u001b[49m\u001b[38;5;28;43mid\u001b[39;49m\u001b[43m=\u001b[49m\u001b[38;5;28;43mstr\u001b[39;49m\u001b[43m(\u001b[49m\u001b[43muuid\u001b[49m\u001b[43m.\u001b[49m\u001b[43muuid4\u001b[49m\u001b[43m(\u001b[49m\u001b[43m)\u001b[49m\u001b[43m)\u001b[49m\u001b[43m)\u001b[49m\n",
      "\u001b[36mFile \u001b[39m\u001b[32m~/github/capitalone/rubicon-ml/rubicon_ml/client/utils/exception_handling.py:51\u001b[39m, in \u001b[36mfailsafe.<locals>.wrapper\u001b[39m\u001b[34m(*args, **kwargs)\u001b[39m\n\u001b[32m     49\u001b[39m \u001b[38;5;28;01mexcept\u001b[39;00m \u001b[38;5;167;01mException\u001b[39;00m \u001b[38;5;28;01mas\u001b[39;00m e:\n\u001b[32m     50\u001b[39m     \u001b[38;5;28;01mif\u001b[39;00m FAILURE_MODE == \u001b[33m\"\u001b[39m\u001b[33mraise\u001b[39m\u001b[33m\"\u001b[39m:\n\u001b[32m---> \u001b[39m\u001b[32m51\u001b[39m         \u001b[38;5;28;01mraise\u001b[39;00m e\n\u001b[32m     52\u001b[39m     \u001b[38;5;28;01melif\u001b[39;00m FAILURE_MODE == \u001b[33m\"\u001b[39m\u001b[33mwarn\u001b[39m\u001b[33m\"\u001b[39m:\n\u001b[32m     53\u001b[39m         warnings.warn(traceback.format_exc(limit=TRACEBACK_LIMIT, chain=TRACEBACK_CHAIN))\n",
      "\u001b[36mFile \u001b[39m\u001b[32m~/github/capitalone/rubicon-ml/rubicon_ml/client/utils/exception_handling.py:48\u001b[39m, in \u001b[36mfailsafe.<locals>.wrapper\u001b[39m\u001b[34m(*args, **kwargs)\u001b[39m\n\u001b[32m     45\u001b[39m \u001b[38;5;129m@functools\u001b[39m.wraps(func)\n\u001b[32m     46\u001b[39m \u001b[38;5;28;01mdef\u001b[39;00m\u001b[38;5;250m \u001b[39m\u001b[34mwrapper\u001b[39m(*args, **kwargs):\n\u001b[32m     47\u001b[39m     \u001b[38;5;28;01mtry\u001b[39;00m:\n\u001b[32m---> \u001b[39m\u001b[32m48\u001b[39m         \u001b[38;5;28;01mreturn\u001b[39;00m \u001b[43mfunc\u001b[49m\u001b[43m(\u001b[49m\u001b[43m*\u001b[49m\u001b[43margs\u001b[49m\u001b[43m,\u001b[49m\u001b[43m \u001b[49m\u001b[43m*\u001b[49m\u001b[43m*\u001b[49m\u001b[43mkwargs\u001b[49m\u001b[43m)\u001b[49m\n\u001b[32m     49\u001b[39m     \u001b[38;5;28;01mexcept\u001b[39;00m \u001b[38;5;167;01mException\u001b[39;00m \u001b[38;5;28;01mas\u001b[39;00m e:\n\u001b[32m     50\u001b[39m         \u001b[38;5;28;01mif\u001b[39;00m FAILURE_MODE == \u001b[33m\"\u001b[39m\u001b[33mraise\u001b[39m\u001b[33m\"\u001b[39m:\n",
      "\u001b[36mFile \u001b[39m\u001b[32m~/github/capitalone/rubicon-ml/rubicon_ml/client/project.py:343\u001b[39m, in \u001b[36mProject.experiment\u001b[39m\u001b[34m(self, id, name)\u001b[39m\n\u001b[32m    340\u001b[39m     \u001b[38;5;28;01melse\u001b[39;00m:\n\u001b[32m    341\u001b[39m         \u001b[38;5;28;01mreturn\u001b[39;00m experiment\n\u001b[32m--> \u001b[39m\u001b[32m343\u001b[39m \u001b[38;5;28;43mself\u001b[39;49m\u001b[43m.\u001b[49m\u001b[43m_raise_rubicon_exception\u001b[49m\u001b[43m(\u001b[49m\u001b[43mreturn_err\u001b[49m\u001b[43m)\u001b[49m\n",
      "\u001b[36mFile \u001b[39m\u001b[32m~/github/capitalone/rubicon-ml/rubicon_ml/client/base.py:45\u001b[39m, in \u001b[36mBase._raise_rubicon_exception\u001b[39m\u001b[34m(self, exception)\u001b[39m\n\u001b[32m     43\u001b[39m     \u001b[38;5;28;01mraise\u001b[39;00m RubiconException(\u001b[33m\"\u001b[39m\u001b[33mall configured storage backends failed\u001b[39m\u001b[33m\"\u001b[39m) \u001b[38;5;28;01mfrom\u001b[39;00m\u001b[38;5;250m \u001b[39m\u001b[34;01mexception\u001b[39;00m\n\u001b[32m     44\u001b[39m \u001b[38;5;28;01melse\u001b[39;00m:\n\u001b[32m---> \u001b[39m\u001b[32m45\u001b[39m     \u001b[38;5;28;01mraise\u001b[39;00m exception\n",
      "\u001b[36mFile \u001b[39m\u001b[32m~/github/capitalone/rubicon-ml/rubicon_ml/client/project.py:337\u001b[39m, in \u001b[36mProject.experiment\u001b[39m\u001b[34m(self, id, name)\u001b[39m\n\u001b[32m    335\u001b[39m \u001b[38;5;28;01mfor\u001b[39;00m repo \u001b[38;5;129;01min\u001b[39;00m \u001b[38;5;28mself\u001b[39m.repositories:\n\u001b[32m    336\u001b[39m     \u001b[38;5;28;01mtry\u001b[39;00m:\n\u001b[32m--> \u001b[39m\u001b[32m337\u001b[39m         experiment = Experiment(\u001b[43mrepo\u001b[49m\u001b[43m.\u001b[49m\u001b[43mget_experiment\u001b[49m\u001b[43m(\u001b[49m\u001b[38;5;28;43mself\u001b[39;49m\u001b[43m.\u001b[49m\u001b[43mname\u001b[49m\u001b[43m,\u001b[49m\u001b[43m \u001b[49m\u001b[38;5;28;43mid\u001b[39;49m\u001b[43m)\u001b[49m, \u001b[38;5;28mself\u001b[39m)\n\u001b[32m    338\u001b[39m     \u001b[38;5;28;01mexcept\u001b[39;00m \u001b[38;5;167;01mException\u001b[39;00m \u001b[38;5;28;01mas\u001b[39;00m err:\n\u001b[32m    339\u001b[39m         return_err = err\n",
      "\u001b[36mFile \u001b[39m\u001b[32m~/github/capitalone/rubicon-ml/rubicon_ml/repository/v2/__init__.py:35\u001b[39m, in \u001b[36mV1CompatibilityMixin.get_experiment\u001b[39m\u001b[34m(self, project_name, experiment_id)\u001b[39m\n\u001b[32m     34\u001b[39m \u001b[38;5;28;01mdef\u001b[39;00m\u001b[38;5;250m \u001b[39m\u001b[34mget_experiment\u001b[39m(\u001b[38;5;28mself\u001b[39m, project_name: \u001b[38;5;28mstr\u001b[39m, experiment_id: \u001b[38;5;28mstr\u001b[39m) -> \u001b[33m\"\u001b[39m\u001b[33mdomain.Experiment\u001b[39m\u001b[33m\"\u001b[39m:\n\u001b[32m---> \u001b[39m\u001b[32m35\u001b[39m     \u001b[38;5;28;01mreturn\u001b[39;00m \u001b[38;5;28;43mself\u001b[39;49m\u001b[43m.\u001b[49m\u001b[43mread_experiment_metadata\u001b[49m\u001b[43m(\u001b[49m\u001b[43mproject_name\u001b[49m\u001b[43m,\u001b[49m\u001b[43m \u001b[49m\u001b[43mexperiment_id\u001b[49m\u001b[43m)\u001b[49m\n",
      "\u001b[36mFile \u001b[39m\u001b[32m~/github/capitalone/rubicon-ml/rubicon_ml/repository/v2/base.py:88\u001b[39m, in \u001b[36mBaseRepository.read_experiment_metadata\u001b[39m\u001b[34m(self, project_name, experiment_id)\u001b[39m\n\u001b[32m     87\u001b[39m \u001b[38;5;28;01mdef\u001b[39;00m\u001b[38;5;250m \u001b[39m\u001b[34mread_experiment_metadata\u001b[39m(\u001b[38;5;28mself\u001b[39m, project_name: \u001b[38;5;28mstr\u001b[39m, experiment_id: \u001b[38;5;28mstr\u001b[39m) -> domain.Experiment:\n\u001b[32m---> \u001b[39m\u001b[32m88\u001b[39m     experiment = \u001b[38;5;28;43mself\u001b[39;49m\u001b[43m.\u001b[49m\u001b[43mread_domain\u001b[49m\u001b[43m(\u001b[49m\u001b[43mdomain\u001b[49m\u001b[43m.\u001b[49m\u001b[43mExperiment\u001b[49m\u001b[43m,\u001b[49m\u001b[43m \u001b[49m\u001b[43mproject_name\u001b[49m\u001b[43m,\u001b[49m\u001b[43m \u001b[49m\u001b[43mexperiment_id\u001b[49m\u001b[43m=\u001b[49m\u001b[43mexperiment_id\u001b[49m\u001b[43m)\u001b[49m\n\u001b[32m     90\u001b[39m     \u001b[38;5;28;01mreturn\u001b[39;00m experiment\n",
      "\u001b[36mFile \u001b[39m\u001b[32m~/github/capitalone/rubicon-ml/rubicon_ml/repository/v2/fsspec.py:98\u001b[39m, in \u001b[36mFsspecRepository.read_domain\u001b[39m\u001b[34m(self, domain_cls, project_name, artifact_id, dataframe_id, experiment_id, feature_name, metric_name, parameter_name)\u001b[39m\n\u001b[32m     96\u001b[39m     domain_file = \u001b[38;5;28mself\u001b[39m.filesystem.open(path)\n\u001b[32m     97\u001b[39m \u001b[38;5;28;01mexcept\u001b[39;00m \u001b[38;5;167;01mFileNotFoundError\u001b[39;00m:\n\u001b[32m---> \u001b[39m\u001b[32m98\u001b[39m     \u001b[38;5;28;01mraise\u001b[39;00m RubiconException(\u001b[33mf\u001b[39m\u001b[33m\"\u001b[39m\u001b[38;5;132;01m{\u001b[39;00mdomain_cls.\u001b[34m__name__\u001b[39m\u001b[38;5;132;01m}\u001b[39;00m\u001b[33m \u001b[39m\u001b[33m'\u001b[39m\u001b[38;5;132;01m{\u001b[39;00mdomain_identifier\u001b[38;5;132;01m}\u001b[39;00m\u001b[33m'\u001b[39m\u001b[33m was not found.\u001b[39m\u001b[33m\"\u001b[39m)\n\u001b[32m    100\u001b[39m \u001b[38;5;28;01mreturn\u001b[39;00m domain_cls(**json.load(domain_file))\n",
      "\u001b[31mRubiconException\u001b[39m: Experiment 'dbd08c37-eddd-4461-8402-3d4668e834b3' was not found."
     ]
    }
   ],
   "source": [
    "import uuid\n",
    "\n",
    "project.experiment(id=str(uuid.uuid4()))"
   ]
  },
  {
   "cell_type": "code",
   "execution_count": 13,
   "id": "955b4a00-d61a-4b4e-8a97-d874cf4ad67d",
   "metadata": {},
   "outputs": [
    {
     "data": {
      "text/plain": [
       "<rubicon_ml.client.experiment.Experiment at 0x1778ed9a0>"
      ]
     },
     "execution_count": 13,
     "metadata": {},
     "output_type": "execute_result"
    }
   ],
   "source": [
    "experiment = project.log_experiment()\n",
    "experiment"
   ]
  },
  {
   "cell_type": "code",
   "execution_count": 14,
   "id": "26d58e9a-914f-4118-8dcb-b162ad909a32",
   "metadata": {},
   "outputs": [
    {
     "data": {
      "text/plain": [
       "<rubicon_ml.client.experiment.Experiment at 0x17797ad50>"
      ]
     },
     "execution_count": 14,
     "metadata": {},
     "output_type": "execute_result"
    }
   ],
   "source": [
    "project.experiment(id=experiment.id)"
   ]
  },
  {
   "cell_type": "code",
   "execution_count": 15,
   "id": "0bd8c625-c080-429e-ad8a-ce875ba4f4d4",
   "metadata": {},
   "outputs": [
    {
     "data": {
      "text/plain": [
       "[<rubicon_ml.client.experiment.Experiment at 0x17798e4b0>,\n",
       " <rubicon_ml.client.experiment.Experiment at 0x17798d370>,\n",
       " <rubicon_ml.client.experiment.Experiment at 0x17798dee0>]"
      ]
     },
     "execution_count": 15,
     "metadata": {},
     "output_type": "execute_result"
    }
   ],
   "source": [
    "project.log_experiment()\n",
    "project.log_experiment()\n",
    "\n",
    "project.experiments()"
   ]
  },
  {
   "cell_type": "code",
   "execution_count": 16,
   "id": "c193422b-4701-45e7-abf5-811ce901cb22",
   "metadata": {},
   "outputs": [
    {
     "data": {
      "text/plain": [
       "Experiment(project_name='repo refactor', branch_name=None, comments=[], commit_hash=None, created_at=datetime.datetime(2025, 4, 20, 23, 41, 12, 561990, tzinfo=datetime.timezone.utc), description=None, id='80e13591-7911-4414-b990-b18b367e1c70', model_name=None, name=None, tags=[], training_metadata=None)"
      ]
     },
     "execution_count": 16,
     "metadata": {},
     "output_type": "execute_result"
    }
   ],
   "source": [
    "experiment._domain"
   ]
  },
  {
   "cell_type": "code",
   "execution_count": null,
   "id": "037af919-2a49-420a-82dc-f536bd6a3358",
   "metadata": {},
   "outputs": [],
   "source": []
  },
  {
   "cell_type": "code",
   "execution_count": 17,
   "id": "5147ea42-d7b8-4f0b-b3e8-b66544d6b4f5",
   "metadata": {},
   "outputs": [
    {
     "data": {
      "text/plain": [
       "<rubicon_ml.client.artifact.Artifact at 0x1778edd60>"
      ]
     },
     "execution_count": 17,
     "metadata": {},
     "output_type": "execute_result"
    }
   ],
   "source": [
    "artifact = project.log_artifact(name=\"x\", data_bytes=b\"project data\")\n",
    "artifact"
   ]
  },
  {
   "cell_type": "code",
   "execution_count": 18,
   "id": "076bf28d-20aa-43e8-a89a-b362871694af",
   "metadata": {},
   "outputs": [
    {
     "data": {
      "text/plain": [
       "<rubicon_ml.client.artifact.Artifact at 0x17798cc80>"
      ]
     },
     "execution_count": 18,
     "metadata": {},
     "output_type": "execute_result"
    }
   ],
   "source": [
    "project.artifact(id=artifact.id)"
   ]
  },
  {
   "cell_type": "code",
   "execution_count": 19,
   "id": "a7102978-be25-4d6d-b376-b3f0adc017ae",
   "metadata": {},
   "outputs": [
    {
     "data": {
      "text/plain": [
       "[<rubicon_ml.client.artifact.Artifact at 0x17798fce0>]"
      ]
     },
     "execution_count": 19,
     "metadata": {},
     "output_type": "execute_result"
    }
   ],
   "source": [
    "project.artifacts()"
   ]
  },
  {
   "cell_type": "code",
   "execution_count": 20,
   "id": "5abc81c3-68fb-426d-8a7c-e0590201aa71",
   "metadata": {},
   "outputs": [
    {
     "data": {
      "text/plain": [
       "b'project data'"
      ]
     },
     "execution_count": 20,
     "metadata": {},
     "output_type": "execute_result"
    }
   ],
   "source": [
    "artifact.get_data()"
   ]
  },
  {
   "cell_type": "code",
   "execution_count": 21,
   "id": "8be4a80e-a22f-4428-9f4d-c1dfac4ab664",
   "metadata": {},
   "outputs": [
    {
     "data": {
      "text/plain": [
       "<rubicon_ml.client.artifact.Artifact at 0x1777284a0>"
      ]
     },
     "execution_count": 21,
     "metadata": {},
     "output_type": "execute_result"
    }
   ],
   "source": [
    "artifact = experiment.log_artifact(name=\"y\", data_bytes=b\"experiment data\")\n",
    "artifact"
   ]
  },
  {
   "cell_type": "code",
   "execution_count": 22,
   "id": "32442b05-55b0-48f9-b9dd-d677d2219ad8",
   "metadata": {},
   "outputs": [
    {
     "data": {
      "text/plain": [
       "<rubicon_ml.client.artifact.Artifact at 0x1778edfa0>"
      ]
     },
     "execution_count": 22,
     "metadata": {},
     "output_type": "execute_result"
    }
   ],
   "source": [
    "experiment.artifact(id=artifact.id)"
   ]
  },
  {
   "cell_type": "code",
   "execution_count": 23,
   "id": "d1d37382-5182-40c5-87d7-0e045bcb664e",
   "metadata": {},
   "outputs": [
    {
     "data": {
      "text/plain": [
       "[<rubicon_ml.client.artifact.Artifact at 0x17798ff20>]"
      ]
     },
     "execution_count": 23,
     "metadata": {},
     "output_type": "execute_result"
    }
   ],
   "source": [
    "experiment.artifacts()"
   ]
  },
  {
   "cell_type": "code",
   "execution_count": 24,
   "id": "0d41f407-74f9-44d1-b340-a9459db44b06",
   "metadata": {},
   "outputs": [
    {
     "data": {
      "text/plain": [
       "b'experiment data'"
      ]
     },
     "execution_count": 24,
     "metadata": {},
     "output_type": "execute_result"
    }
   ],
   "source": [
    "artifact.get_data()"
   ]
  },
  {
   "cell_type": "code",
   "execution_count": null,
   "id": "ee338f05-e5b3-4e27-b832-b8d03273a2c6",
   "metadata": {},
   "outputs": [],
   "source": []
  },
  {
   "cell_type": "code",
   "execution_count": null,
   "id": "b36c1d52-a75f-459e-a21f-b269660861c4",
   "metadata": {},
   "outputs": [],
   "source": []
  },
  {
   "cell_type": "code",
   "execution_count": null,
   "id": "9f53606b-1ddd-4c06-bd62-58b810bf5d9c",
   "metadata": {},
   "outputs": [],
   "source": []
  },
  {
   "cell_type": "code",
   "execution_count": null,
   "id": "b153782b-2d16-4cd8-aca3-8ba707caa586",
   "metadata": {},
   "outputs": [],
   "source": []
  },
  {
   "cell_type": "code",
   "execution_count": null,
   "id": "e115afd6-28af-4780-a198-610c1017835b",
   "metadata": {},
   "outputs": [],
   "source": []
  },
  {
   "cell_type": "code",
   "execution_count": null,
   "id": "2430510f-561f-4602-aeb9-35263ee96566",
   "metadata": {},
   "outputs": [],
   "source": []
  },
  {
   "cell_type": "code",
   "execution_count": null,
   "id": "974fa227-bc88-455e-9748-b9ce0541f266",
   "metadata": {},
   "outputs": [],
   "source": []
  },
  {
   "cell_type": "code",
   "execution_count": null,
   "id": "ab936564-376a-469b-82d0-b797b06f9d32",
   "metadata": {},
   "outputs": [],
   "source": []
  },
  {
   "cell_type": "code",
   "execution_count": null,
   "id": "42f3c4e6-4401-48bf-9e9a-8d8fbecb4967",
   "metadata": {},
   "outputs": [],
   "source": []
  },
  {
   "cell_type": "code",
   "execution_count": null,
   "id": "ec48c8d4-49dc-4806-9f19-989e980b1594",
   "metadata": {},
   "outputs": [],
   "source": []
  },
  {
   "cell_type": "code",
   "execution_count": null,
   "id": "f1859127-dedb-4f0f-aa18-46b3452eef50",
   "metadata": {},
   "outputs": [],
   "source": [
    "import pandas as pd\n",
    "\n",
    "project.log_dataframe(name=\"x\", df=pd.DataFrame([0]))"
   ]
  },
  {
   "cell_type": "code",
   "execution_count": null,
   "id": "39f091ac-21e8-4302-842a-3b8c0251f5da",
   "metadata": {},
   "outputs": [],
   "source": [
    "experiment.log_dataframe(name=\"y\", df=pd.DataFrame([0]))"
   ]
  },
  {
   "cell_type": "code",
   "execution_count": null,
   "id": "b0639b5a-e589-47b2-98ff-3ef09d11e9e2",
   "metadata": {},
   "outputs": [],
   "source": [
    "experiment.log_feature(name=\"a\")"
   ]
  },
  {
   "cell_type": "code",
   "execution_count": null,
   "id": "608e8c23-2844-468b-9d04-41905911105a",
   "metadata": {},
   "outputs": [],
   "source": [
    "experiment.log_metric(name=\"b\", value=0.0)"
   ]
  },
  {
   "cell_type": "code",
   "execution_count": null,
   "id": "4f79895f-df28-47ca-b106-4339f4ce4f85",
   "metadata": {},
   "outputs": [],
   "source": [
    "experiment.log_parameter(name=\"c\", value=1.0)"
   ]
  },
  {
   "cell_type": "code",
   "execution_count": null,
   "id": "ae237ed3-2297-4874-bcbb-a7be15f83b85",
   "metadata": {},
   "outputs": [],
   "source": []
  },
  {
   "cell_type": "code",
   "execution_count": null,
   "id": "0a5ba555-106d-44bb-bb6d-ab7ada6c23de",
   "metadata": {},
   "outputs": [],
   "source": [
    "# rubicon_ml.set_failure_mode(\"warn\")"
   ]
  },
  {
   "cell_type": "code",
   "execution_count": null,
   "id": "8527c3f8-c571-43bf-a630-66006882b9a0",
   "metadata": {},
   "outputs": [],
   "source": [
    "rubicon_memory_v2 = Rubicon(persistence=\"memory:v2\", root_dir=\".\")\n",
    "rubicon_memory_v2.repository"
   ]
  },
  {
   "cell_type": "code",
   "execution_count": null,
   "id": "dcc3ba7f-a20f-4362-8527-206a042234e4",
   "metadata": {},
   "outputs": [],
   "source": [
    "rubicon_memory_v2.repository._get_filesystem()"
   ]
  },
  {
   "cell_type": "code",
   "execution_count": null,
   "id": "0a25cfca-6087-4070-b5f4-d9800c38a2c4",
   "metadata": {},
   "outputs": [],
   "source": [
    "rubicon_s3_v2 = Rubicon(persistence=\"filesystem:v2\", root_dir=\"s3://.\")\n",
    "rubicon_s3_v2.repository"
   ]
  },
  {
   "cell_type": "code",
   "execution_count": null,
   "id": "019f75e1-863a-4b88-b205-aa19e73b94c0",
   "metadata": {},
   "outputs": [],
   "source": [
    "rubicon_s3_v2.repository._get_filesystem()"
   ]
  },
  {
   "cell_type": "code",
   "execution_count": null,
   "id": "8df544b2-0e29-4734-bdcb-00f3894571bc",
   "metadata": {},
   "outputs": [],
   "source": []
  },
  {
   "cell_type": "code",
   "execution_count": null,
   "id": "a8a07a22-fbd3-45fa-add1-51d1678a2312",
   "metadata": {},
   "outputs": [],
   "source": [
    "rubicon_logger_v2 = Rubicon(persistence=\"logger:v2\")\n",
    "rubicon_logger_v2.repository"
   ]
  },
  {
   "cell_type": "code",
   "execution_count": null,
   "id": "aee10ee3-8c4a-4924-bc3f-8d091c2ca920",
   "metadata": {},
   "outputs": [],
   "source": [
    "rubicon_logger_v2.repository.logger"
   ]
  },
  {
   "cell_type": "code",
   "execution_count": null,
   "id": "79407991-b1f4-4fac-9f52-0f397595b84d",
   "metadata": {},
   "outputs": [],
   "source": [
    "project = rubicon_logger_v2.create_project(name=\"repo refactor\")"
   ]
  },
  {
   "cell_type": "code",
   "execution_count": null,
   "id": "a486f539-3ea3-45f7-b687-02863b4b38cc",
   "metadata": {},
   "outputs": [],
   "source": [
    "project.log_artifact(name=\"x\", data_bytes=b\"data\")"
   ]
  },
  {
   "cell_type": "code",
   "execution_count": null,
   "id": "88b14bda-ee0e-4c7e-8341-abe0d2c5b4f7",
   "metadata": {},
   "outputs": [],
   "source": [
    "import pandas as pd\n",
    "\n",
    "project.log_dataframe(name=\"y\", df=pd.DataFrame([0]))"
   ]
  },
  {
   "cell_type": "code",
   "execution_count": null,
   "id": "c753bc9a-208a-4681-803b-5f0782dc4ffd",
   "metadata": {},
   "outputs": [],
   "source": [
    "experiment = project.log_experiment()"
   ]
  },
  {
   "cell_type": "code",
   "execution_count": null,
   "id": "041e3285-77ae-4ffc-9d72-309dd31a8054",
   "metadata": {},
   "outputs": [],
   "source": [
    "experiment.log_artifact(name=\"x\", data_bytes=b\"data\")"
   ]
  },
  {
   "cell_type": "code",
   "execution_count": null,
   "id": "44e3b159-5be0-457d-9cb3-5bcaa941e635",
   "metadata": {},
   "outputs": [],
   "source": [
    "experiment.log_dataframe(name=\"y\", df=pd.DataFrame([0]))"
   ]
  },
  {
   "cell_type": "code",
   "execution_count": null,
   "id": "4309dc69-f868-4ae9-98ad-b28824821916",
   "metadata": {},
   "outputs": [],
   "source": [
    "experiment.log_feature(name=\"a\")"
   ]
  },
  {
   "cell_type": "code",
   "execution_count": null,
   "id": "ba2167ec-6914-4350-9717-3840256ef5cb",
   "metadata": {},
   "outputs": [],
   "source": [
    "experiment.log_metric(name=\"b\", value=0)"
   ]
  },
  {
   "cell_type": "code",
   "execution_count": null,
   "id": "67133086-4d7e-4e2e-bc11-358f52ec87aa",
   "metadata": {},
   "outputs": [],
   "source": [
    "experiment.log_parameter(name=\"c\", value=1)"
   ]
  },
  {
   "cell_type": "code",
   "execution_count": null,
   "id": "8639ad11-4c39-4cb7-b034-b2aa35354952",
   "metadata": {},
   "outputs": [],
   "source": []
  }
 ],
 "metadata": {
  "kernelspec": {
   "display_name": "Python 3 (ipykernel)",
   "language": "python",
   "name": "python3"
  },
  "language_info": {
   "codemirror_mode": {
    "name": "ipython",
    "version": 3
   },
   "file_extension": ".py",
   "mimetype": "text/x-python",
   "name": "python",
   "nbconvert_exporter": "python",
   "pygments_lexer": "ipython3",
   "version": "3.12.9"
  }
 },
 "nbformat": 4,
 "nbformat_minor": 5
}
