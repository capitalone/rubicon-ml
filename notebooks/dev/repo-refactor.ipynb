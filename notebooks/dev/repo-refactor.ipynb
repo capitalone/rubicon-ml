{
 "cells": [
  {
   "cell_type": "code",
   "execution_count": 1,
   "id": "abad9ba4-9ea0-4750-9c8b-69865dc4ed57",
   "metadata": {},
   "outputs": [],
   "source": [
    "from rubicon_ml import Rubicon"
   ]
  },
  {
   "cell_type": "code",
   "execution_count": 2,
   "id": "b71474f9-cdfc-45aa-ab17-9db5b13c7bda",
   "metadata": {},
   "outputs": [],
   "source": [
    "from rubicon_ml.repository.v2.base import BaseRepository\n",
    "from rubicon_ml.repository.v2.fsspec import (\n",
    "    FsspecRepository,\n",
    "    LocalRepository,\n",
    "    MemoryRepository,\n",
    "    S3Repository,\n",
    ")"
   ]
  },
  {
   "cell_type": "code",
   "execution_count": 3,
   "id": "8527c3f8-c571-43bf-a630-66006882b9a0",
   "metadata": {},
   "outputs": [
    {
     "data": {
      "text/plain": [
       "<rubicon_ml.repository.v2.fsspec.MemoryRepositoryV2 at 0x1066b8470>"
      ]
     },
     "execution_count": 3,
     "metadata": {},
     "output_type": "execute_result"
    }
   ],
   "source": [
    "rubicon_memory_v2 = Rubicon(persistence=\"memory:v2\", root_dir=\".\")\n",
    "rubicon_memory_v2.repository"
   ]
  },
  {
   "cell_type": "code",
   "execution_count": 4,
   "id": "dcc3ba7f-a20f-4362-8527-206a042234e4",
   "metadata": {},
   "outputs": [
    {
     "data": {
      "text/plain": [
       "'memory'"
      ]
     },
     "execution_count": 4,
     "metadata": {},
     "output_type": "execute_result"
    }
   ],
   "source": [
    "rubicon_memory_v2.repository._get_filesystem()"
   ]
  },
  {
   "cell_type": "code",
   "execution_count": 5,
   "id": "be9e495f-4a09-4b87-bd6d-f555214d67f1",
   "metadata": {},
   "outputs": [
    {
     "data": {
      "text/plain": [
       "<rubicon_ml.repository.v2.fsspec.LocalRepositoryV2 at 0x127e0d610>"
      ]
     },
     "execution_count": 5,
     "metadata": {},
     "output_type": "execute_result"
    }
   ],
   "source": [
    "rubicon_local_v2 = Rubicon(persistence=\"filesystem:v2\", root_dir=\".\")\n",
    "rubicon_local_v2.repository"
   ]
  },
  {
   "cell_type": "code",
   "execution_count": 6,
   "id": "4343d573-61c9-4d4d-80a1-49634fc8a9a8",
   "metadata": {},
   "outputs": [
    {
     "data": {
      "text/plain": [
       "'file'"
      ]
     },
     "execution_count": 6,
     "metadata": {},
     "output_type": "execute_result"
    }
   ],
   "source": [
    "rubicon_local_v2.repository._get_filesystem()"
   ]
  },
  {
   "cell_type": "code",
   "execution_count": 7,
   "id": "0a25cfca-6087-4070-b5f4-d9800c38a2c4",
   "metadata": {},
   "outputs": [
    {
     "data": {
      "text/plain": [
       "<rubicon_ml.repository.v2.fsspec.S3RepositoryV2 at 0x127e0e000>"
      ]
     },
     "execution_count": 7,
     "metadata": {},
     "output_type": "execute_result"
    }
   ],
   "source": [
    "rubicon_s3_v2 = Rubicon(persistence=\"filesystem:v2\", root_dir=\"s3://.\")\n",
    "rubicon_s3_v2.repository"
   ]
  },
  {
   "cell_type": "code",
   "execution_count": 8,
   "id": "019f75e1-863a-4b88-b205-aa19e73b94c0",
   "metadata": {},
   "outputs": [
    {
     "data": {
      "text/plain": [
       "'s3'"
      ]
     },
     "execution_count": 8,
     "metadata": {},
     "output_type": "execute_result"
    }
   ],
   "source": [
    "rubicon_s3_v2.repository._get_filesystem()"
   ]
  }
 ],
 "metadata": {
  "kernelspec": {
   "display_name": "Python 3 (ipykernel)",
   "language": "python",
   "name": "python3"
  },
  "language_info": {
   "codemirror_mode": {
    "name": "ipython",
    "version": 3
   },
   "file_extension": ".py",
   "mimetype": "text/x-python",
   "name": "python",
   "nbconvert_exporter": "python",
   "pygments_lexer": "ipython3",
   "version": "3.12.9"
  }
 },
 "nbformat": 4,
 "nbformat_minor": 5
}
