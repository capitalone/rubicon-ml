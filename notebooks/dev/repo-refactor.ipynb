{
 "cells": [
  {
   "cell_type": "code",
   "execution_count": 1,
   "id": "abad9ba4-9ea0-4750-9c8b-69865dc4ed57",
   "metadata": {},
   "outputs": [],
   "source": [
    "import rubicon_ml\n",
    "from rubicon_ml import Rubicon"
   ]
  },
  {
   "cell_type": "code",
   "execution_count": 2,
   "id": "b71474f9-cdfc-45aa-ab17-9db5b13c7bda",
   "metadata": {},
   "outputs": [],
   "source": [
    "from rubicon_ml.repository.v2 import (\n",
    "    BaseRepository,\n",
    "    LocalRepository,\n",
    "    LoggerRepository,\n",
    "    MemoryRepository,\n",
    "    S3Repository,\n",
    ")\n",
    "from rubicon_ml.repository.v2.fsspec import FsspecRepository"
   ]
  },
  {
   "cell_type": "code",
   "execution_count": 3,
   "id": "0a5ba555-106d-44bb-bb6d-ab7ada6c23de",
   "metadata": {},
   "outputs": [],
   "source": [
    "# rubicon_ml.set_failure_mode(\"warn\")"
   ]
  },
  {
   "cell_type": "code",
   "execution_count": 4,
   "id": "8527c3f8-c571-43bf-a630-66006882b9a0",
   "metadata": {},
   "outputs": [
    {
     "data": {
      "text/plain": [
       "<rubicon_ml.repository.v2.MemoryRepositoryV2 at 0x128e968d0>"
      ]
     },
     "execution_count": 4,
     "metadata": {},
     "output_type": "execute_result"
    }
   ],
   "source": [
    "rubicon_memory_v2 = Rubicon(persistence=\"memory:v2\", root_dir=\".\")\n",
    "rubicon_memory_v2.repository"
   ]
  },
  {
   "cell_type": "code",
   "execution_count": 5,
   "id": "dcc3ba7f-a20f-4362-8527-206a042234e4",
   "metadata": {},
   "outputs": [
    {
     "data": {
      "text/plain": [
       "'memory'"
      ]
     },
     "execution_count": 5,
     "metadata": {},
     "output_type": "execute_result"
    }
   ],
   "source": [
    "rubicon_memory_v2.repository._get_filesystem()"
   ]
  },
  {
   "cell_type": "code",
   "execution_count": 6,
   "id": "be9e495f-4a09-4b87-bd6d-f555214d67f1",
   "metadata": {},
   "outputs": [
    {
     "data": {
      "text/plain": [
       "<rubicon_ml.repository.v2.LocalRepositoryV2 at 0x13911a360>"
      ]
     },
     "execution_count": 6,
     "metadata": {},
     "output_type": "execute_result"
    }
   ],
   "source": [
    "rubicon_local_v2 = Rubicon(persistence=\"filesystem:v2\", root_dir=\".\")\n",
    "rubicon_local_v2.repository"
   ]
  },
  {
   "cell_type": "code",
   "execution_count": 7,
   "id": "4343d573-61c9-4d4d-80a1-49634fc8a9a8",
   "metadata": {},
   "outputs": [
    {
     "data": {
      "text/plain": [
       "'file'"
      ]
     },
     "execution_count": 7,
     "metadata": {},
     "output_type": "execute_result"
    }
   ],
   "source": [
    "rubicon_local_v2.repository._get_filesystem()"
   ]
  },
  {
   "cell_type": "code",
   "execution_count": 8,
   "id": "0a25cfca-6087-4070-b5f4-d9800c38a2c4",
   "metadata": {},
   "outputs": [
    {
     "data": {
      "text/plain": [
       "<rubicon_ml.repository.v2.S3RepositoryV2 at 0x13911b020>"
      ]
     },
     "execution_count": 8,
     "metadata": {},
     "output_type": "execute_result"
    }
   ],
   "source": [
    "rubicon_s3_v2 = Rubicon(persistence=\"filesystem:v2\", root_dir=\"s3://.\")\n",
    "rubicon_s3_v2.repository"
   ]
  },
  {
   "cell_type": "code",
   "execution_count": 9,
   "id": "019f75e1-863a-4b88-b205-aa19e73b94c0",
   "metadata": {},
   "outputs": [
    {
     "data": {
      "text/plain": [
       "'s3'"
      ]
     },
     "execution_count": 9,
     "metadata": {},
     "output_type": "execute_result"
    }
   ],
   "source": [
    "rubicon_s3_v2.repository._get_filesystem()"
   ]
  },
  {
   "cell_type": "code",
   "execution_count": 10,
   "id": "a8a07a22-fbd3-45fa-add1-51d1678a2312",
   "metadata": {},
   "outputs": [
    {
     "data": {
      "text/plain": [
       "<rubicon_ml.repository.v2.LoggerRepositoryV2 at 0x13911bc80>"
      ]
     },
     "execution_count": 10,
     "metadata": {},
     "output_type": "execute_result"
    }
   ],
   "source": [
    "rubicon_logger_v2 = Rubicon(persistence=\"logger:v2\")\n",
    "rubicon_logger_v2.repository"
   ]
  },
  {
   "cell_type": "code",
   "execution_count": 11,
   "id": "aee10ee3-8c4a-4924-bc3f-8d091c2ca920",
   "metadata": {},
   "outputs": [
    {
     "data": {
      "text/plain": [
       "<Logger rubicon-ml (WARNING)>"
      ]
     },
     "execution_count": 11,
     "metadata": {},
     "output_type": "execute_result"
    }
   ],
   "source": [
    "rubicon_logger_v2.repository.logger"
   ]
  },
  {
   "cell_type": "code",
   "execution_count": 12,
   "id": "79407991-b1f4-4fac-9f52-0f397595b84d",
   "metadata": {},
   "outputs": [
    {
     "name": "stderr",
     "output_type": "stream",
     "text": [
      "rubicon-ml::project::{\"name\": \"repo refactor\", \"created_at\": {\"_type\": \"datetime\", \"value\": \"2025-04-13 21:14:34.347140\"}, \"description\": null, \"github_url\": null, \"id\": \"3a92c0e7-0698-4e71-88d4-ef8583253c3f\", \"training_metadata\": null}\n"
     ]
    }
   ],
   "source": [
    "project = rubicon_logger_v2.create_project(name=\"repo refactor\")"
   ]
  },
  {
   "cell_type": "code",
   "execution_count": 13,
   "id": "a486f539-3ea3-45f7-b687-02863b4b38cc",
   "metadata": {},
   "outputs": [
    {
     "name": "stderr",
     "output_type": "stream",
     "text": [
      "rubicon-ml::artifact::{\"name\": \"x\", \"comments\": [], \"created_at\": {\"_type\": \"datetime\", \"value\": \"2025-04-13 21:14:34.356359\"}, \"description\": null, \"id\": \"48ec8524-f63e-4b59-97b3-1cd71f97dd59\", \"parent_id\": \"3a92c0e7-0698-4e71-88d4-ef8583253c3f\", \"tags\": []}\n"
     ]
    },
    {
     "ename": "RubiconNotImplementedError",
     "evalue": "`LoggerRepositoryV2` does not support logging of binary data.",
     "output_type": "error",
     "traceback": [
      "\u001b[31m---------------------------------------------------------------------------\u001b[39m",
      "\u001b[31mRubiconNotImplementedError\u001b[39m                Traceback (most recent call last)",
      "\u001b[36mCell\u001b[39m\u001b[36m \u001b[39m\u001b[32mIn[13]\u001b[39m\u001b[32m, line 1\u001b[39m\n\u001b[32m----> \u001b[39m\u001b[32m1\u001b[39m \u001b[43mproject\u001b[49m\u001b[43m.\u001b[49m\u001b[43mlog_artifact\u001b[49m\u001b[43m(\u001b[49m\u001b[43mname\u001b[49m\u001b[43m=\u001b[49m\u001b[33;43m\"\u001b[39;49m\u001b[33;43mx\u001b[39;49m\u001b[33;43m\"\u001b[39;49m\u001b[43m,\u001b[49m\u001b[43m \u001b[49m\u001b[43mdata_bytes\u001b[49m\u001b[43m=\u001b[49m\u001b[33;43mb\u001b[39;49m\u001b[33;43m\"\u001b[39;49m\u001b[33;43mdata\u001b[39;49m\u001b[33;43m\"\u001b[39;49m\u001b[43m)\u001b[49m\n",
      "\u001b[36mFile \u001b[39m\u001b[32m~/github/capitalone/rubicon-ml/rubicon_ml/client/utils/exception_handling.py:51\u001b[39m, in \u001b[36mfailsafe.<locals>.wrapper\u001b[39m\u001b[34m(*args, **kwargs)\u001b[39m\n\u001b[32m     49\u001b[39m \u001b[38;5;28;01mexcept\u001b[39;00m \u001b[38;5;167;01mException\u001b[39;00m \u001b[38;5;28;01mas\u001b[39;00m e:\n\u001b[32m     50\u001b[39m     \u001b[38;5;28;01mif\u001b[39;00m FAILURE_MODE == \u001b[33m\"\u001b[39m\u001b[33mraise\u001b[39m\u001b[33m\"\u001b[39m:\n\u001b[32m---> \u001b[39m\u001b[32m51\u001b[39m         \u001b[38;5;28;01mraise\u001b[39;00m e\n\u001b[32m     52\u001b[39m     \u001b[38;5;28;01melif\u001b[39;00m FAILURE_MODE == \u001b[33m\"\u001b[39m\u001b[33mwarn\u001b[39m\u001b[33m\"\u001b[39m:\n\u001b[32m     53\u001b[39m         warnings.warn(traceback.format_exc(limit=TRACEBACK_LIMIT, chain=TRACEBACK_CHAIN))\n",
      "\u001b[36mFile \u001b[39m\u001b[32m~/github/capitalone/rubicon-ml/rubicon_ml/client/utils/exception_handling.py:48\u001b[39m, in \u001b[36mfailsafe.<locals>.wrapper\u001b[39m\u001b[34m(*args, **kwargs)\u001b[39m\n\u001b[32m     45\u001b[39m \u001b[38;5;129m@functools\u001b[39m.wraps(func)\n\u001b[32m     46\u001b[39m \u001b[38;5;28;01mdef\u001b[39;00m\u001b[38;5;250m \u001b[39m\u001b[34mwrapper\u001b[39m(*args, **kwargs):\n\u001b[32m     47\u001b[39m     \u001b[38;5;28;01mtry\u001b[39;00m:\n\u001b[32m---> \u001b[39m\u001b[32m48\u001b[39m         \u001b[38;5;28;01mreturn\u001b[39;00m \u001b[43mfunc\u001b[49m\u001b[43m(\u001b[49m\u001b[43m*\u001b[49m\u001b[43margs\u001b[49m\u001b[43m,\u001b[49m\u001b[43m \u001b[49m\u001b[43m*\u001b[49m\u001b[43m*\u001b[49m\u001b[43mkwargs\u001b[49m\u001b[43m)\u001b[49m\n\u001b[32m     49\u001b[39m     \u001b[38;5;28;01mexcept\u001b[39;00m \u001b[38;5;167;01mException\u001b[39;00m \u001b[38;5;28;01mas\u001b[39;00m e:\n\u001b[32m     50\u001b[39m         \u001b[38;5;28;01mif\u001b[39;00m FAILURE_MODE == \u001b[33m\"\u001b[39m\u001b[33mraise\u001b[39m\u001b[33m\"\u001b[39m:\n",
      "\u001b[36mFile \u001b[39m\u001b[32m~/github/capitalone/rubicon-ml/rubicon_ml/client/mixin.py:190\u001b[39m, in \u001b[36mArtifactMixin.log_artifact\u001b[39m\u001b[34m(self, data_bytes, data_directory, data_file, data_object, data_path, name, description, tags, comments)\u001b[39m\n\u001b[32m    188\u001b[39m project_name, experiment_id = \u001b[38;5;28mself\u001b[39m._get_identifiers()\n\u001b[32m    189\u001b[39m \u001b[38;5;28;01mfor\u001b[39;00m repo \u001b[38;5;129;01min\u001b[39;00m \u001b[38;5;28mself\u001b[39m.repositories:\n\u001b[32m--> \u001b[39m\u001b[32m190\u001b[39m     \u001b[43mrepo\u001b[49m\u001b[43m.\u001b[49m\u001b[43mcreate_artifact\u001b[49m\u001b[43m(\u001b[49m\u001b[43martifact\u001b[49m\u001b[43m,\u001b[49m\u001b[43m \u001b[49m\u001b[43mdata_bytes\u001b[49m\u001b[43m,\u001b[49m\u001b[43m \u001b[49m\u001b[43mproject_name\u001b[49m\u001b[43m,\u001b[49m\u001b[43m \u001b[49m\u001b[43mexperiment_id\u001b[49m\u001b[43m=\u001b[49m\u001b[43mexperiment_id\u001b[49m\u001b[43m)\u001b[49m\n\u001b[32m    192\u001b[39m \u001b[38;5;28;01mreturn\u001b[39;00m client.Artifact(artifact, \u001b[38;5;28mself\u001b[39m)\n",
      "\u001b[36mFile \u001b[39m\u001b[32m~/github/capitalone/rubicon-ml/rubicon_ml/repository/v2/__init__.py:51\u001b[39m, in \u001b[36mV1CompatibilityMixin.create_artifact\u001b[39m\u001b[34m(self, artifact, data, project_name, experiment_id)\u001b[39m\n\u001b[32m     43\u001b[39m \u001b[38;5;28;01mdef\u001b[39;00m\u001b[38;5;250m \u001b[39m\u001b[34mcreate_artifact\u001b[39m(\n\u001b[32m     44\u001b[39m     \u001b[38;5;28mself\u001b[39m,\n\u001b[32m     45\u001b[39m     artifact: \u001b[33m\"\u001b[39m\u001b[33mdomain.Artifact\u001b[39m\u001b[33m\"\u001b[39m,\n\u001b[32m   (...)\u001b[39m\u001b[32m     48\u001b[39m     experiment_id: Optional[\u001b[38;5;28mstr\u001b[39m] = \u001b[38;5;28;01mNone\u001b[39;00m,\n\u001b[32m     49\u001b[39m ):\n\u001b[32m     50\u001b[39m     \u001b[38;5;28mself\u001b[39m.write_artifact_metadata(artifact, project_name, experiment_id)\n\u001b[32m---> \u001b[39m\u001b[32m51\u001b[39m     \u001b[38;5;28;43mself\u001b[39;49m\u001b[43m.\u001b[49m\u001b[43mwrite_artifact_data\u001b[49m\u001b[43m(\u001b[49m\u001b[43mdata\u001b[49m\u001b[43m,\u001b[49m\u001b[43m \u001b[49m\u001b[43martifact\u001b[49m\u001b[43m.\u001b[49m\u001b[43mid\u001b[49m\u001b[43m,\u001b[49m\u001b[43m \u001b[49m\u001b[43mproject_name\u001b[49m\u001b[43m,\u001b[49m\u001b[43m \u001b[49m\u001b[43mexperiment_id\u001b[49m\u001b[43m)\u001b[49m\n",
      "\u001b[36mFile \u001b[39m\u001b[32m~/github/capitalone/rubicon-ml/rubicon_ml/repository/v2/exceptions.py:46\u001b[39m, in \u001b[36mDomainOnlyMixin.write_artifact_data\u001b[39m\u001b[34m(self, *args, **kwargs)\u001b[39m\n\u001b[32m     45\u001b[39m \u001b[38;5;28;01mdef\u001b[39;00m\u001b[38;5;250m \u001b[39m\u001b[34mwrite_artifact_data\u001b[39m(\u001b[38;5;28mself\u001b[39m, *args: Any, **kwargs: Any):\n\u001b[32m---> \u001b[39m\u001b[32m46\u001b[39m     \u001b[38;5;28;43mself\u001b[39;49m\u001b[43m.\u001b[49m\u001b[43m_raise_domain_only_exception\u001b[49m\u001b[43m(\u001b[49m\u001b[43m)\u001b[49m\n",
      "\u001b[36mFile \u001b[39m\u001b[32m~/github/capitalone/rubicon-ml/rubicon_ml/repository/v2/exceptions.py:33\u001b[39m, in \u001b[36mDomainOnlyMixin._raise_domain_only_exception\u001b[39m\u001b[34m(self)\u001b[39m\n\u001b[32m     32\u001b[39m \u001b[38;5;28;01mdef\u001b[39;00m\u001b[38;5;250m \u001b[39m\u001b[34m_raise_domain_only_exception\u001b[39m(\u001b[38;5;28mself\u001b[39m):\n\u001b[32m---> \u001b[39m\u001b[32m33\u001b[39m     \u001b[38;5;28;01mraise\u001b[39;00m RubiconNotImplementedError(\n\u001b[32m     34\u001b[39m         \u001b[33mf\u001b[39m\u001b[33m\"\u001b[39m\u001b[33m`\u001b[39m\u001b[38;5;132;01m{\u001b[39;00m\u001b[38;5;28mself\u001b[39m.\u001b[34m__class__\u001b[39m.\u001b[34m__name__\u001b[39m\u001b[38;5;132;01m}\u001b[39;00m\u001b[33m` does not support logging of binary data.\u001b[39m\u001b[33m\"\u001b[39m\n\u001b[32m     35\u001b[39m     )\n",
      "\u001b[31mRubiconNotImplementedError\u001b[39m: `LoggerRepositoryV2` does not support logging of binary data."
     ]
    }
   ],
   "source": [
    "project.log_artifact(name=\"x\", data_bytes=b\"data\")"
   ]
  },
  {
   "cell_type": "code",
   "execution_count": 14,
   "id": "88b14bda-ee0e-4c7e-8341-abe0d2c5b4f7",
   "metadata": {},
   "outputs": [
    {
     "name": "stderr",
     "output_type": "stream",
     "text": [
      "rubicon-ml::dataframe::{\"comments\": [], \"created_at\": {\"_type\": \"datetime\", \"value\": \"2025-04-13 21:15:15.271570\"}, \"description\": null, \"id\": \"b131817d-33e1-4aa4-90d8-00c5c0ad39a1\", \"name\": \"y\", \"parent_id\": \"3a92c0e7-0698-4e71-88d4-ef8583253c3f\", \"tags\": []}\n"
     ]
    },
    {
     "ename": "RubiconNotImplementedError",
     "evalue": "`LoggerRepositoryV2` does not support logging of binary data.",
     "output_type": "error",
     "traceback": [
      "\u001b[31m---------------------------------------------------------------------------\u001b[39m",
      "\u001b[31mRubiconNotImplementedError\u001b[39m                Traceback (most recent call last)",
      "\u001b[36mCell\u001b[39m\u001b[36m \u001b[39m\u001b[32mIn[14]\u001b[39m\u001b[32m, line 3\u001b[39m\n\u001b[32m      1\u001b[39m \u001b[38;5;28;01mimport\u001b[39;00m\u001b[38;5;250m \u001b[39m\u001b[34;01mpandas\u001b[39;00m\u001b[38;5;250m \u001b[39m\u001b[38;5;28;01mas\u001b[39;00m\u001b[38;5;250m \u001b[39m\u001b[34;01mpd\u001b[39;00m\n\u001b[32m----> \u001b[39m\u001b[32m3\u001b[39m \u001b[43mproject\u001b[49m\u001b[43m.\u001b[49m\u001b[43mlog_dataframe\u001b[49m\u001b[43m(\u001b[49m\u001b[43mname\u001b[49m\u001b[43m=\u001b[49m\u001b[33;43m\"\u001b[39;49m\u001b[33;43my\u001b[39;49m\u001b[33;43m\"\u001b[39;49m\u001b[43m,\u001b[49m\u001b[43m \u001b[49m\u001b[43mdf\u001b[49m\u001b[43m=\u001b[49m\u001b[43mpd\u001b[49m\u001b[43m.\u001b[49m\u001b[43mDataFrame\u001b[49m\u001b[43m(\u001b[49m\u001b[43m[\u001b[49m\u001b[32;43m0\u001b[39;49m\u001b[43m]\u001b[49m\u001b[43m)\u001b[49m\u001b[43m)\u001b[49m\n",
      "\u001b[36mFile \u001b[39m\u001b[32m~/github/capitalone/rubicon-ml/rubicon_ml/client/utils/exception_handling.py:51\u001b[39m, in \u001b[36mfailsafe.<locals>.wrapper\u001b[39m\u001b[34m(*args, **kwargs)\u001b[39m\n\u001b[32m     49\u001b[39m \u001b[38;5;28;01mexcept\u001b[39;00m \u001b[38;5;167;01mException\u001b[39;00m \u001b[38;5;28;01mas\u001b[39;00m e:\n\u001b[32m     50\u001b[39m     \u001b[38;5;28;01mif\u001b[39;00m FAILURE_MODE == \u001b[33m\"\u001b[39m\u001b[33mraise\u001b[39m\u001b[33m\"\u001b[39m:\n\u001b[32m---> \u001b[39m\u001b[32m51\u001b[39m         \u001b[38;5;28;01mraise\u001b[39;00m e\n\u001b[32m     52\u001b[39m     \u001b[38;5;28;01melif\u001b[39;00m FAILURE_MODE == \u001b[33m\"\u001b[39m\u001b[33mwarn\u001b[39m\u001b[33m\"\u001b[39m:\n\u001b[32m     53\u001b[39m         warnings.warn(traceback.format_exc(limit=TRACEBACK_LIMIT, chain=TRACEBACK_CHAIN))\n",
      "\u001b[36mFile \u001b[39m\u001b[32m~/github/capitalone/rubicon-ml/rubicon_ml/client/utils/exception_handling.py:48\u001b[39m, in \u001b[36mfailsafe.<locals>.wrapper\u001b[39m\u001b[34m(*args, **kwargs)\u001b[39m\n\u001b[32m     45\u001b[39m \u001b[38;5;129m@functools\u001b[39m.wraps(func)\n\u001b[32m     46\u001b[39m \u001b[38;5;28;01mdef\u001b[39;00m\u001b[38;5;250m \u001b[39m\u001b[34mwrapper\u001b[39m(*args, **kwargs):\n\u001b[32m     47\u001b[39m     \u001b[38;5;28;01mtry\u001b[39;00m:\n\u001b[32m---> \u001b[39m\u001b[32m48\u001b[39m         \u001b[38;5;28;01mreturn\u001b[39;00m \u001b[43mfunc\u001b[49m\u001b[43m(\u001b[49m\u001b[43m*\u001b[49m\u001b[43margs\u001b[49m\u001b[43m,\u001b[49m\u001b[43m \u001b[49m\u001b[43m*\u001b[49m\u001b[43m*\u001b[49m\u001b[43mkwargs\u001b[49m\u001b[43m)\u001b[49m\n\u001b[32m     49\u001b[39m     \u001b[38;5;28;01mexcept\u001b[39;00m \u001b[38;5;167;01mException\u001b[39;00m \u001b[38;5;28;01mas\u001b[39;00m e:\n\u001b[32m     50\u001b[39m         \u001b[38;5;28;01mif\u001b[39;00m FAILURE_MODE == \u001b[33m\"\u001b[39m\u001b[33mraise\u001b[39m\u001b[33m\"\u001b[39m:\n",
      "\u001b[36mFile \u001b[39m\u001b[32m~/github/capitalone/rubicon-ml/rubicon_ml/client/mixin.py:562\u001b[39m, in \u001b[36mDataframeMixin.log_dataframe\u001b[39m\u001b[34m(self, df, description, name, tags, comments)\u001b[39m\n\u001b[32m    560\u001b[39m project_name, experiment_id = \u001b[38;5;28mself\u001b[39m._get_identifiers()\n\u001b[32m    561\u001b[39m \u001b[38;5;28;01mfor\u001b[39;00m repo \u001b[38;5;129;01min\u001b[39;00m \u001b[38;5;28mself\u001b[39m.repositories:\n\u001b[32m--> \u001b[39m\u001b[32m562\u001b[39m     \u001b[43mrepo\u001b[49m\u001b[43m.\u001b[49m\u001b[43mcreate_dataframe\u001b[49m\u001b[43m(\u001b[49m\u001b[43mdataframe\u001b[49m\u001b[43m,\u001b[49m\u001b[43m \u001b[49m\u001b[43mdf\u001b[49m\u001b[43m,\u001b[49m\u001b[43m \u001b[49m\u001b[43mproject_name\u001b[49m\u001b[43m,\u001b[49m\u001b[43m \u001b[49m\u001b[43mexperiment_id\u001b[49m\u001b[43m=\u001b[49m\u001b[43mexperiment_id\u001b[49m\u001b[43m)\u001b[49m\n\u001b[32m    564\u001b[39m \u001b[38;5;28;01mreturn\u001b[39;00m client.Dataframe(dataframe, \u001b[38;5;28mself\u001b[39m)\n",
      "\u001b[36mFile \u001b[39m\u001b[32m~/github/capitalone/rubicon-ml/rubicon_ml/repository/v2/__init__.py:71\u001b[39m, in \u001b[36mV1CompatibilityMixin.create_dataframe\u001b[39m\u001b[34m(self, dataframe, data, project_name, experiment_id)\u001b[39m\n\u001b[32m     63\u001b[39m \u001b[38;5;28;01mdef\u001b[39;00m\u001b[38;5;250m \u001b[39m\u001b[34mcreate_dataframe\u001b[39m(\n\u001b[32m     64\u001b[39m     \u001b[38;5;28mself\u001b[39m,\n\u001b[32m     65\u001b[39m     dataframe: \u001b[33m\"\u001b[39m\u001b[33mdomain.Dataframe\u001b[39m\u001b[33m\"\u001b[39m,\n\u001b[32m   (...)\u001b[39m\u001b[32m     68\u001b[39m     experiment_id: Optional[\u001b[38;5;28mstr\u001b[39m] = \u001b[38;5;28;01mNone\u001b[39;00m,\n\u001b[32m     69\u001b[39m ):\n\u001b[32m     70\u001b[39m     \u001b[38;5;28mself\u001b[39m.write_dataframe_metadata(dataframe, project_name, experiment_id)\n\u001b[32m---> \u001b[39m\u001b[32m71\u001b[39m     \u001b[38;5;28;43mself\u001b[39;49m\u001b[43m.\u001b[49m\u001b[43mwrite_dataframe_data\u001b[49m\u001b[43m(\u001b[49m\u001b[43mdata\u001b[49m\u001b[43m,\u001b[49m\u001b[43m \u001b[49m\u001b[43mdataframe\u001b[49m\u001b[43m.\u001b[49m\u001b[43mid\u001b[49m\u001b[43m,\u001b[49m\u001b[43m \u001b[49m\u001b[43mproject_name\u001b[49m\u001b[43m,\u001b[49m\u001b[43m \u001b[49m\u001b[43mexperiment_id\u001b[49m\u001b[43m)\u001b[49m\n",
      "\u001b[36mFile \u001b[39m\u001b[32m~/github/capitalone/rubicon-ml/rubicon_ml/repository/v2/exceptions.py:52\u001b[39m, in \u001b[36mDomainOnlyMixin.write_dataframe_data\u001b[39m\u001b[34m(self, *args, **kwargs)\u001b[39m\n\u001b[32m     51\u001b[39m \u001b[38;5;28;01mdef\u001b[39;00m\u001b[38;5;250m \u001b[39m\u001b[34mwrite_dataframe_data\u001b[39m(\u001b[38;5;28mself\u001b[39m, *args: Any, **kwargs: Any):\n\u001b[32m---> \u001b[39m\u001b[32m52\u001b[39m     \u001b[38;5;28;43mself\u001b[39;49m\u001b[43m.\u001b[49m\u001b[43m_raise_domain_only_exception\u001b[49m\u001b[43m(\u001b[49m\u001b[43m)\u001b[49m\n",
      "\u001b[36mFile \u001b[39m\u001b[32m~/github/capitalone/rubicon-ml/rubicon_ml/repository/v2/exceptions.py:33\u001b[39m, in \u001b[36mDomainOnlyMixin._raise_domain_only_exception\u001b[39m\u001b[34m(self)\u001b[39m\n\u001b[32m     32\u001b[39m \u001b[38;5;28;01mdef\u001b[39;00m\u001b[38;5;250m \u001b[39m\u001b[34m_raise_domain_only_exception\u001b[39m(\u001b[38;5;28mself\u001b[39m):\n\u001b[32m---> \u001b[39m\u001b[32m33\u001b[39m     \u001b[38;5;28;01mraise\u001b[39;00m RubiconNotImplementedError(\n\u001b[32m     34\u001b[39m         \u001b[33mf\u001b[39m\u001b[33m\"\u001b[39m\u001b[33m`\u001b[39m\u001b[38;5;132;01m{\u001b[39;00m\u001b[38;5;28mself\u001b[39m.\u001b[34m__class__\u001b[39m.\u001b[34m__name__\u001b[39m\u001b[38;5;132;01m}\u001b[39;00m\u001b[33m` does not support logging of binary data.\u001b[39m\u001b[33m\"\u001b[39m\n\u001b[32m     35\u001b[39m     )\n",
      "\u001b[31mRubiconNotImplementedError\u001b[39m: `LoggerRepositoryV2` does not support logging of binary data."
     ]
    }
   ],
   "source": [
    "import pandas as pd\n",
    "\n",
    "project.log_dataframe(name=\"y\", df=pd.DataFrame([0]))"
   ]
  },
  {
   "cell_type": "code",
   "execution_count": 15,
   "id": "c753bc9a-208a-4681-803b-5f0782dc4ffd",
   "metadata": {},
   "outputs": [
    {
     "name": "stderr",
     "output_type": "stream",
     "text": [
      "rubicon-ml::experiment::{\"project_name\": \"repo refactor\", \"branch_name\": null, \"comments\": [], \"commit_hash\": null, \"created_at\": {\"_type\": \"datetime\", \"value\": \"2025-04-13 21:15:26.096985\"}, \"description\": null, \"id\": \"4d27b6a5-3eb5-42c2-9351-b6e78e38dddd\", \"model_name\": null, \"name\": null, \"tags\": [], \"training_metadata\": null}\n"
     ]
    }
   ],
   "source": [
    "experiment = project.log_experiment()"
   ]
  },
  {
   "cell_type": "code",
   "execution_count": 16,
   "id": "041e3285-77ae-4ffc-9d72-309dd31a8054",
   "metadata": {},
   "outputs": [
    {
     "name": "stderr",
     "output_type": "stream",
     "text": [
      "rubicon-ml::artifact::{\"name\": \"x\", \"comments\": [], \"created_at\": {\"_type\": \"datetime\", \"value\": \"2025-04-13 21:15:26.805666\"}, \"description\": null, \"id\": \"e34ee32b-9263-490d-9910-cbfaac319677\", \"parent_id\": \"4d27b6a5-3eb5-42c2-9351-b6e78e38dddd\", \"tags\": []}\n"
     ]
    },
    {
     "ename": "RubiconNotImplementedError",
     "evalue": "`LoggerRepositoryV2` does not support logging of binary data.",
     "output_type": "error",
     "traceback": [
      "\u001b[31m---------------------------------------------------------------------------\u001b[39m",
      "\u001b[31mRubiconNotImplementedError\u001b[39m                Traceback (most recent call last)",
      "\u001b[36mCell\u001b[39m\u001b[36m \u001b[39m\u001b[32mIn[16]\u001b[39m\u001b[32m, line 1\u001b[39m\n\u001b[32m----> \u001b[39m\u001b[32m1\u001b[39m \u001b[43mexperiment\u001b[49m\u001b[43m.\u001b[49m\u001b[43mlog_artifact\u001b[49m\u001b[43m(\u001b[49m\u001b[43mname\u001b[49m\u001b[43m=\u001b[49m\u001b[33;43m\"\u001b[39;49m\u001b[33;43mx\u001b[39;49m\u001b[33;43m\"\u001b[39;49m\u001b[43m,\u001b[49m\u001b[43m \u001b[49m\u001b[43mdata_bytes\u001b[49m\u001b[43m=\u001b[49m\u001b[33;43mb\u001b[39;49m\u001b[33;43m\"\u001b[39;49m\u001b[33;43mdata\u001b[39;49m\u001b[33;43m\"\u001b[39;49m\u001b[43m)\u001b[49m\n",
      "\u001b[36mFile \u001b[39m\u001b[32m~/github/capitalone/rubicon-ml/rubicon_ml/client/utils/exception_handling.py:51\u001b[39m, in \u001b[36mfailsafe.<locals>.wrapper\u001b[39m\u001b[34m(*args, **kwargs)\u001b[39m\n\u001b[32m     49\u001b[39m \u001b[38;5;28;01mexcept\u001b[39;00m \u001b[38;5;167;01mException\u001b[39;00m \u001b[38;5;28;01mas\u001b[39;00m e:\n\u001b[32m     50\u001b[39m     \u001b[38;5;28;01mif\u001b[39;00m FAILURE_MODE == \u001b[33m\"\u001b[39m\u001b[33mraise\u001b[39m\u001b[33m\"\u001b[39m:\n\u001b[32m---> \u001b[39m\u001b[32m51\u001b[39m         \u001b[38;5;28;01mraise\u001b[39;00m e\n\u001b[32m     52\u001b[39m     \u001b[38;5;28;01melif\u001b[39;00m FAILURE_MODE == \u001b[33m\"\u001b[39m\u001b[33mwarn\u001b[39m\u001b[33m\"\u001b[39m:\n\u001b[32m     53\u001b[39m         warnings.warn(traceback.format_exc(limit=TRACEBACK_LIMIT, chain=TRACEBACK_CHAIN))\n",
      "\u001b[36mFile \u001b[39m\u001b[32m~/github/capitalone/rubicon-ml/rubicon_ml/client/utils/exception_handling.py:48\u001b[39m, in \u001b[36mfailsafe.<locals>.wrapper\u001b[39m\u001b[34m(*args, **kwargs)\u001b[39m\n\u001b[32m     45\u001b[39m \u001b[38;5;129m@functools\u001b[39m.wraps(func)\n\u001b[32m     46\u001b[39m \u001b[38;5;28;01mdef\u001b[39;00m\u001b[38;5;250m \u001b[39m\u001b[34mwrapper\u001b[39m(*args, **kwargs):\n\u001b[32m     47\u001b[39m     \u001b[38;5;28;01mtry\u001b[39;00m:\n\u001b[32m---> \u001b[39m\u001b[32m48\u001b[39m         \u001b[38;5;28;01mreturn\u001b[39;00m \u001b[43mfunc\u001b[49m\u001b[43m(\u001b[49m\u001b[43m*\u001b[49m\u001b[43margs\u001b[49m\u001b[43m,\u001b[49m\u001b[43m \u001b[49m\u001b[43m*\u001b[49m\u001b[43m*\u001b[49m\u001b[43mkwargs\u001b[49m\u001b[43m)\u001b[49m\n\u001b[32m     49\u001b[39m     \u001b[38;5;28;01mexcept\u001b[39;00m \u001b[38;5;167;01mException\u001b[39;00m \u001b[38;5;28;01mas\u001b[39;00m e:\n\u001b[32m     50\u001b[39m         \u001b[38;5;28;01mif\u001b[39;00m FAILURE_MODE == \u001b[33m\"\u001b[39m\u001b[33mraise\u001b[39m\u001b[33m\"\u001b[39m:\n",
      "\u001b[36mFile \u001b[39m\u001b[32m~/github/capitalone/rubicon-ml/rubicon_ml/client/mixin.py:190\u001b[39m, in \u001b[36mArtifactMixin.log_artifact\u001b[39m\u001b[34m(self, data_bytes, data_directory, data_file, data_object, data_path, name, description, tags, comments)\u001b[39m\n\u001b[32m    188\u001b[39m project_name, experiment_id = \u001b[38;5;28mself\u001b[39m._get_identifiers()\n\u001b[32m    189\u001b[39m \u001b[38;5;28;01mfor\u001b[39;00m repo \u001b[38;5;129;01min\u001b[39;00m \u001b[38;5;28mself\u001b[39m.repositories:\n\u001b[32m--> \u001b[39m\u001b[32m190\u001b[39m     \u001b[43mrepo\u001b[49m\u001b[43m.\u001b[49m\u001b[43mcreate_artifact\u001b[49m\u001b[43m(\u001b[49m\u001b[43martifact\u001b[49m\u001b[43m,\u001b[49m\u001b[43m \u001b[49m\u001b[43mdata_bytes\u001b[49m\u001b[43m,\u001b[49m\u001b[43m \u001b[49m\u001b[43mproject_name\u001b[49m\u001b[43m,\u001b[49m\u001b[43m \u001b[49m\u001b[43mexperiment_id\u001b[49m\u001b[43m=\u001b[49m\u001b[43mexperiment_id\u001b[49m\u001b[43m)\u001b[49m\n\u001b[32m    192\u001b[39m \u001b[38;5;28;01mreturn\u001b[39;00m client.Artifact(artifact, \u001b[38;5;28mself\u001b[39m)\n",
      "\u001b[36mFile \u001b[39m\u001b[32m~/github/capitalone/rubicon-ml/rubicon_ml/repository/v2/__init__.py:51\u001b[39m, in \u001b[36mV1CompatibilityMixin.create_artifact\u001b[39m\u001b[34m(self, artifact, data, project_name, experiment_id)\u001b[39m\n\u001b[32m     43\u001b[39m \u001b[38;5;28;01mdef\u001b[39;00m\u001b[38;5;250m \u001b[39m\u001b[34mcreate_artifact\u001b[39m(\n\u001b[32m     44\u001b[39m     \u001b[38;5;28mself\u001b[39m,\n\u001b[32m     45\u001b[39m     artifact: \u001b[33m\"\u001b[39m\u001b[33mdomain.Artifact\u001b[39m\u001b[33m\"\u001b[39m,\n\u001b[32m   (...)\u001b[39m\u001b[32m     48\u001b[39m     experiment_id: Optional[\u001b[38;5;28mstr\u001b[39m] = \u001b[38;5;28;01mNone\u001b[39;00m,\n\u001b[32m     49\u001b[39m ):\n\u001b[32m     50\u001b[39m     \u001b[38;5;28mself\u001b[39m.write_artifact_metadata(artifact, project_name, experiment_id)\n\u001b[32m---> \u001b[39m\u001b[32m51\u001b[39m     \u001b[38;5;28;43mself\u001b[39;49m\u001b[43m.\u001b[49m\u001b[43mwrite_artifact_data\u001b[49m\u001b[43m(\u001b[49m\u001b[43mdata\u001b[49m\u001b[43m,\u001b[49m\u001b[43m \u001b[49m\u001b[43martifact\u001b[49m\u001b[43m.\u001b[49m\u001b[43mid\u001b[49m\u001b[43m,\u001b[49m\u001b[43m \u001b[49m\u001b[43mproject_name\u001b[49m\u001b[43m,\u001b[49m\u001b[43m \u001b[49m\u001b[43mexperiment_id\u001b[49m\u001b[43m)\u001b[49m\n",
      "\u001b[36mFile \u001b[39m\u001b[32m~/github/capitalone/rubicon-ml/rubicon_ml/repository/v2/exceptions.py:46\u001b[39m, in \u001b[36mDomainOnlyMixin.write_artifact_data\u001b[39m\u001b[34m(self, *args, **kwargs)\u001b[39m\n\u001b[32m     45\u001b[39m \u001b[38;5;28;01mdef\u001b[39;00m\u001b[38;5;250m \u001b[39m\u001b[34mwrite_artifact_data\u001b[39m(\u001b[38;5;28mself\u001b[39m, *args: Any, **kwargs: Any):\n\u001b[32m---> \u001b[39m\u001b[32m46\u001b[39m     \u001b[38;5;28;43mself\u001b[39;49m\u001b[43m.\u001b[49m\u001b[43m_raise_domain_only_exception\u001b[49m\u001b[43m(\u001b[49m\u001b[43m)\u001b[49m\n",
      "\u001b[36mFile \u001b[39m\u001b[32m~/github/capitalone/rubicon-ml/rubicon_ml/repository/v2/exceptions.py:33\u001b[39m, in \u001b[36mDomainOnlyMixin._raise_domain_only_exception\u001b[39m\u001b[34m(self)\u001b[39m\n\u001b[32m     32\u001b[39m \u001b[38;5;28;01mdef\u001b[39;00m\u001b[38;5;250m \u001b[39m\u001b[34m_raise_domain_only_exception\u001b[39m(\u001b[38;5;28mself\u001b[39m):\n\u001b[32m---> \u001b[39m\u001b[32m33\u001b[39m     \u001b[38;5;28;01mraise\u001b[39;00m RubiconNotImplementedError(\n\u001b[32m     34\u001b[39m         \u001b[33mf\u001b[39m\u001b[33m\"\u001b[39m\u001b[33m`\u001b[39m\u001b[38;5;132;01m{\u001b[39;00m\u001b[38;5;28mself\u001b[39m.\u001b[34m__class__\u001b[39m.\u001b[34m__name__\u001b[39m\u001b[38;5;132;01m}\u001b[39;00m\u001b[33m` does not support logging of binary data.\u001b[39m\u001b[33m\"\u001b[39m\n\u001b[32m     35\u001b[39m     )\n",
      "\u001b[31mRubiconNotImplementedError\u001b[39m: `LoggerRepositoryV2` does not support logging of binary data."
     ]
    }
   ],
   "source": [
    "experiment.log_artifact(name=\"x\", data_bytes=b\"data\")"
   ]
  },
  {
   "cell_type": "code",
   "execution_count": 17,
   "id": "44e3b159-5be0-457d-9cb3-5bcaa941e635",
   "metadata": {},
   "outputs": [
    {
     "name": "stderr",
     "output_type": "stream",
     "text": [
      "rubicon-ml::dataframe::{\"comments\": [], \"created_at\": {\"_type\": \"datetime\", \"value\": \"2025-04-13 21:15:51.020002\"}, \"description\": null, \"id\": \"26694950-0135-4691-bc1f-90ea204d0427\", \"name\": \"y\", \"parent_id\": \"4d27b6a5-3eb5-42c2-9351-b6e78e38dddd\", \"tags\": []}\n"
     ]
    },
    {
     "ename": "RubiconNotImplementedError",
     "evalue": "`LoggerRepositoryV2` does not support logging of binary data.",
     "output_type": "error",
     "traceback": [
      "\u001b[31m---------------------------------------------------------------------------\u001b[39m",
      "\u001b[31mRubiconNotImplementedError\u001b[39m                Traceback (most recent call last)",
      "\u001b[36mCell\u001b[39m\u001b[36m \u001b[39m\u001b[32mIn[17]\u001b[39m\u001b[32m, line 1\u001b[39m\n\u001b[32m----> \u001b[39m\u001b[32m1\u001b[39m \u001b[43mexperiment\u001b[49m\u001b[43m.\u001b[49m\u001b[43mlog_dataframe\u001b[49m\u001b[43m(\u001b[49m\u001b[43mname\u001b[49m\u001b[43m=\u001b[49m\u001b[33;43m\"\u001b[39;49m\u001b[33;43my\u001b[39;49m\u001b[33;43m\"\u001b[39;49m\u001b[43m,\u001b[49m\u001b[43m \u001b[49m\u001b[43mdf\u001b[49m\u001b[43m=\u001b[49m\u001b[43mpd\u001b[49m\u001b[43m.\u001b[49m\u001b[43mDataFrame\u001b[49m\u001b[43m(\u001b[49m\u001b[43m[\u001b[49m\u001b[32;43m0\u001b[39;49m\u001b[43m]\u001b[49m\u001b[43m)\u001b[49m\u001b[43m)\u001b[49m\n",
      "\u001b[36mFile \u001b[39m\u001b[32m~/github/capitalone/rubicon-ml/rubicon_ml/client/utils/exception_handling.py:51\u001b[39m, in \u001b[36mfailsafe.<locals>.wrapper\u001b[39m\u001b[34m(*args, **kwargs)\u001b[39m\n\u001b[32m     49\u001b[39m \u001b[38;5;28;01mexcept\u001b[39;00m \u001b[38;5;167;01mException\u001b[39;00m \u001b[38;5;28;01mas\u001b[39;00m e:\n\u001b[32m     50\u001b[39m     \u001b[38;5;28;01mif\u001b[39;00m FAILURE_MODE == \u001b[33m\"\u001b[39m\u001b[33mraise\u001b[39m\u001b[33m\"\u001b[39m:\n\u001b[32m---> \u001b[39m\u001b[32m51\u001b[39m         \u001b[38;5;28;01mraise\u001b[39;00m e\n\u001b[32m     52\u001b[39m     \u001b[38;5;28;01melif\u001b[39;00m FAILURE_MODE == \u001b[33m\"\u001b[39m\u001b[33mwarn\u001b[39m\u001b[33m\"\u001b[39m:\n\u001b[32m     53\u001b[39m         warnings.warn(traceback.format_exc(limit=TRACEBACK_LIMIT, chain=TRACEBACK_CHAIN))\n",
      "\u001b[36mFile \u001b[39m\u001b[32m~/github/capitalone/rubicon-ml/rubicon_ml/client/utils/exception_handling.py:48\u001b[39m, in \u001b[36mfailsafe.<locals>.wrapper\u001b[39m\u001b[34m(*args, **kwargs)\u001b[39m\n\u001b[32m     45\u001b[39m \u001b[38;5;129m@functools\u001b[39m.wraps(func)\n\u001b[32m     46\u001b[39m \u001b[38;5;28;01mdef\u001b[39;00m\u001b[38;5;250m \u001b[39m\u001b[34mwrapper\u001b[39m(*args, **kwargs):\n\u001b[32m     47\u001b[39m     \u001b[38;5;28;01mtry\u001b[39;00m:\n\u001b[32m---> \u001b[39m\u001b[32m48\u001b[39m         \u001b[38;5;28;01mreturn\u001b[39;00m \u001b[43mfunc\u001b[49m\u001b[43m(\u001b[49m\u001b[43m*\u001b[49m\u001b[43margs\u001b[49m\u001b[43m,\u001b[49m\u001b[43m \u001b[49m\u001b[43m*\u001b[49m\u001b[43m*\u001b[49m\u001b[43mkwargs\u001b[49m\u001b[43m)\u001b[49m\n\u001b[32m     49\u001b[39m     \u001b[38;5;28;01mexcept\u001b[39;00m \u001b[38;5;167;01mException\u001b[39;00m \u001b[38;5;28;01mas\u001b[39;00m e:\n\u001b[32m     50\u001b[39m         \u001b[38;5;28;01mif\u001b[39;00m FAILURE_MODE == \u001b[33m\"\u001b[39m\u001b[33mraise\u001b[39m\u001b[33m\"\u001b[39m:\n",
      "\u001b[36mFile \u001b[39m\u001b[32m~/github/capitalone/rubicon-ml/rubicon_ml/client/mixin.py:562\u001b[39m, in \u001b[36mDataframeMixin.log_dataframe\u001b[39m\u001b[34m(self, df, description, name, tags, comments)\u001b[39m\n\u001b[32m    560\u001b[39m project_name, experiment_id = \u001b[38;5;28mself\u001b[39m._get_identifiers()\n\u001b[32m    561\u001b[39m \u001b[38;5;28;01mfor\u001b[39;00m repo \u001b[38;5;129;01min\u001b[39;00m \u001b[38;5;28mself\u001b[39m.repositories:\n\u001b[32m--> \u001b[39m\u001b[32m562\u001b[39m     \u001b[43mrepo\u001b[49m\u001b[43m.\u001b[49m\u001b[43mcreate_dataframe\u001b[49m\u001b[43m(\u001b[49m\u001b[43mdataframe\u001b[49m\u001b[43m,\u001b[49m\u001b[43m \u001b[49m\u001b[43mdf\u001b[49m\u001b[43m,\u001b[49m\u001b[43m \u001b[49m\u001b[43mproject_name\u001b[49m\u001b[43m,\u001b[49m\u001b[43m \u001b[49m\u001b[43mexperiment_id\u001b[49m\u001b[43m=\u001b[49m\u001b[43mexperiment_id\u001b[49m\u001b[43m)\u001b[49m\n\u001b[32m    564\u001b[39m \u001b[38;5;28;01mreturn\u001b[39;00m client.Dataframe(dataframe, \u001b[38;5;28mself\u001b[39m)\n",
      "\u001b[36mFile \u001b[39m\u001b[32m~/github/capitalone/rubicon-ml/rubicon_ml/repository/v2/__init__.py:71\u001b[39m, in \u001b[36mV1CompatibilityMixin.create_dataframe\u001b[39m\u001b[34m(self, dataframe, data, project_name, experiment_id)\u001b[39m\n\u001b[32m     63\u001b[39m \u001b[38;5;28;01mdef\u001b[39;00m\u001b[38;5;250m \u001b[39m\u001b[34mcreate_dataframe\u001b[39m(\n\u001b[32m     64\u001b[39m     \u001b[38;5;28mself\u001b[39m,\n\u001b[32m     65\u001b[39m     dataframe: \u001b[33m\"\u001b[39m\u001b[33mdomain.Dataframe\u001b[39m\u001b[33m\"\u001b[39m,\n\u001b[32m   (...)\u001b[39m\u001b[32m     68\u001b[39m     experiment_id: Optional[\u001b[38;5;28mstr\u001b[39m] = \u001b[38;5;28;01mNone\u001b[39;00m,\n\u001b[32m     69\u001b[39m ):\n\u001b[32m     70\u001b[39m     \u001b[38;5;28mself\u001b[39m.write_dataframe_metadata(dataframe, project_name, experiment_id)\n\u001b[32m---> \u001b[39m\u001b[32m71\u001b[39m     \u001b[38;5;28;43mself\u001b[39;49m\u001b[43m.\u001b[49m\u001b[43mwrite_dataframe_data\u001b[49m\u001b[43m(\u001b[49m\u001b[43mdata\u001b[49m\u001b[43m,\u001b[49m\u001b[43m \u001b[49m\u001b[43mdataframe\u001b[49m\u001b[43m.\u001b[49m\u001b[43mid\u001b[49m\u001b[43m,\u001b[49m\u001b[43m \u001b[49m\u001b[43mproject_name\u001b[49m\u001b[43m,\u001b[49m\u001b[43m \u001b[49m\u001b[43mexperiment_id\u001b[49m\u001b[43m)\u001b[49m\n",
      "\u001b[36mFile \u001b[39m\u001b[32m~/github/capitalone/rubicon-ml/rubicon_ml/repository/v2/exceptions.py:52\u001b[39m, in \u001b[36mDomainOnlyMixin.write_dataframe_data\u001b[39m\u001b[34m(self, *args, **kwargs)\u001b[39m\n\u001b[32m     51\u001b[39m \u001b[38;5;28;01mdef\u001b[39;00m\u001b[38;5;250m \u001b[39m\u001b[34mwrite_dataframe_data\u001b[39m(\u001b[38;5;28mself\u001b[39m, *args: Any, **kwargs: Any):\n\u001b[32m---> \u001b[39m\u001b[32m52\u001b[39m     \u001b[38;5;28;43mself\u001b[39;49m\u001b[43m.\u001b[49m\u001b[43m_raise_domain_only_exception\u001b[49m\u001b[43m(\u001b[49m\u001b[43m)\u001b[49m\n",
      "\u001b[36mFile \u001b[39m\u001b[32m~/github/capitalone/rubicon-ml/rubicon_ml/repository/v2/exceptions.py:33\u001b[39m, in \u001b[36mDomainOnlyMixin._raise_domain_only_exception\u001b[39m\u001b[34m(self)\u001b[39m\n\u001b[32m     32\u001b[39m \u001b[38;5;28;01mdef\u001b[39;00m\u001b[38;5;250m \u001b[39m\u001b[34m_raise_domain_only_exception\u001b[39m(\u001b[38;5;28mself\u001b[39m):\n\u001b[32m---> \u001b[39m\u001b[32m33\u001b[39m     \u001b[38;5;28;01mraise\u001b[39;00m RubiconNotImplementedError(\n\u001b[32m     34\u001b[39m         \u001b[33mf\u001b[39m\u001b[33m\"\u001b[39m\u001b[33m`\u001b[39m\u001b[38;5;132;01m{\u001b[39;00m\u001b[38;5;28mself\u001b[39m.\u001b[34m__class__\u001b[39m.\u001b[34m__name__\u001b[39m\u001b[38;5;132;01m}\u001b[39;00m\u001b[33m` does not support logging of binary data.\u001b[39m\u001b[33m\"\u001b[39m\n\u001b[32m     35\u001b[39m     )\n",
      "\u001b[31mRubiconNotImplementedError\u001b[39m: `LoggerRepositoryV2` does not support logging of binary data."
     ]
    }
   ],
   "source": [
    "experiment.log_dataframe(name=\"y\", df=pd.DataFrame([0]))"
   ]
  },
  {
   "cell_type": "code",
   "execution_count": 18,
   "id": "4309dc69-f868-4ae9-98ad-b28824821916",
   "metadata": {},
   "outputs": [
    {
     "name": "stderr",
     "output_type": "stream",
     "text": [
      "rubicon-ml::feature::{\"name\": \"a\", \"comments\": [], \"created_at\": {\"_type\": \"datetime\", \"value\": \"2025-04-13 21:16:07.345442\"}, \"description\": null, \"id\": \"340bb6d1-d089-4d27-bfd7-bc7e4baacef5\", \"importance\": null, \"tags\": []}\n"
     ]
    },
    {
     "data": {
      "text/plain": [
       "<rubicon_ml.client.feature.Feature at 0x1385637a0>"
      ]
     },
     "execution_count": 18,
     "metadata": {},
     "output_type": "execute_result"
    }
   ],
   "source": [
    "experiment.log_feature(name=\"a\")"
   ]
  },
  {
   "cell_type": "code",
   "execution_count": 19,
   "id": "ba2167ec-6914-4350-9717-3840256ef5cb",
   "metadata": {},
   "outputs": [
    {
     "name": "stderr",
     "output_type": "stream",
     "text": [
      "rubicon-ml::metric::{\"name\": \"b\", \"value\": 0, \"comments\": [], \"created_at\": {\"_type\": \"datetime\", \"value\": \"2025-04-13 21:16:07.572303\"}, \"description\": null, \"directionality\": \"score\", \"id\": \"15e136d8-313c-4ea2-8f0e-472521c30663\", \"tags\": []}\n"
     ]
    },
    {
     "data": {
      "text/plain": [
       "<rubicon_ml.client.metric.Metric at 0x1393d82c0>"
      ]
     },
     "execution_count": 19,
     "metadata": {},
     "output_type": "execute_result"
    }
   ],
   "source": [
    "experiment.log_metric(name=\"b\", value=0)"
   ]
  },
  {
   "cell_type": "code",
   "execution_count": 20,
   "id": "67133086-4d7e-4e2e-bc11-358f52ec87aa",
   "metadata": {},
   "outputs": [
    {
     "name": "stderr",
     "output_type": "stream",
     "text": [
      "rubicon-ml::parameter::{\"name\": \"c\", \"value\": 1, \"comments\": [], \"created_at\": {\"_type\": \"datetime\", \"value\": \"2025-04-13 21:16:07.964518\"}, \"description\": null, \"id\": \"f9e8825b-5788-4f3c-8352-5e222cd827b0\", \"tags\": []}\n"
     ]
    },
    {
     "data": {
      "text/plain": [
       "<rubicon_ml.client.parameter.Parameter at 0x1393d8950>"
      ]
     },
     "execution_count": 20,
     "metadata": {},
     "output_type": "execute_result"
    }
   ],
   "source": [
    "experiment.log_parameter(name=\"c\", value=1)"
   ]
  },
  {
   "cell_type": "code",
   "execution_count": null,
   "id": "3b9927bf-f07c-48a2-ae6e-5e8108a34fed",
   "metadata": {},
   "outputs": [],
   "source": []
  }
 ],
 "metadata": {
  "kernelspec": {
   "display_name": "Python 3 (ipykernel)",
   "language": "python",
   "name": "python3"
  },
  "language_info": {
   "codemirror_mode": {
    "name": "ipython",
    "version": 3
   },
   "file_extension": ".py",
   "mimetype": "text/x-python",
   "name": "python",
   "nbconvert_exporter": "python",
   "pygments_lexer": "ipython3",
   "version": "3.12.9"
  }
 },
 "nbformat": 4,
 "nbformat_minor": 5
}
