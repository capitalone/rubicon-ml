{
 "cells": [
  {
   "cell_type": "markdown",
   "id": "0e744da5-7521-4230-ba40-aed696a73014",
   "metadata": {},
   "source": [
    "# JSONPath proof-of-concept\n",
    "\n",
    "exploring a potential JSONPath-like interface for retrieving rubicon logs\n",
    "\n",
    "### filesystem directory structure\n",
    "\n",
    "```\n",
    "|- project_a\n",
    "|  |- artifacts\n",
    "|  |  |- id_a\n",
    "|  |  |  |- data\n",
    "|  |  |  |_ metadata.json\n",
    "|  |  |_ ...\n",
    "|  |- dataframes\n",
    "|  |  |- id_a\n",
    "|  |  |  |- data\n",
    "|  |  |  |_ metadata.json\n",
    "|  |  |_ ...\n",
    "|  |- experiments\n",
    "|     |- id_a\n",
    "|     |  |- artifacts\n",
    "|     |  |  |- id_a\n",
    "|     |  |  |  |- data\n",
    "|     |  |  |  |_ metadata.json\n",
    "|     |  |  |_ ...\n",
    "|     |  |- dataframes\n",
    "|     |  |  |- id_a\n",
    "|     |  |  |  |- data\n",
    "|     |  |  |  |_ metadata.json\n",
    "|     |  |  |_ ...\n",
    "|     |  |- features\n",
    "|     |  |  |- name_a\n",
    "|     |  |  |  |_ metadata.json\n",
    "|     |  |  |_ ...\n",
    "|     |  |- metrics\n",
    "|     |  |  |- name_a\n",
    "|     |  |  |  |_ metadata.json\n",
    "|     |  |  |_ ...\n",
    "|     |  |- parameters\n",
    "|     |  |  |- name_a\n",
    "|     |  |  |  |_ metadata.json\n",
    "|     |  |  |_ ...\n",
    "|     |  |_ metadata.json\n",
    "|     |- id_b\n",
    "|     |  |_ ...\n",
    "|     |_ ...\n",
    "|- project_b\n",
    "|  |_ ...\n",
    "|_ ...\n",
    "```"
   ]
  },
  {
   "cell_type": "code",
   "execution_count": 1,
   "id": "8a236a61-7695-495c-8721-ca01c55d6436",
   "metadata": {},
   "outputs": [
    {
     "data": {
      "text/plain": [
       "{'project': [{'name': 'classifying penguins',\n",
       "   'id': 'c9674165-07bb-439f-b5c4-ea85d5bb3729',\n",
       "   'description': None,\n",
       "   'github_url': 'https://github.com/capitalone/rubicon-ml.git',\n",
       "   'training_metadata': None,\n",
       "   'created_at': datetime.datetime(2022, 9, 7, 18, 35, 56, 138561)}]}"
      ]
     },
     "execution_count": 1,
     "metadata": {},
     "output_type": "execute_result"
    }
   ],
   "source": [
    "from rubicon_ml import Rubicon\n",
    "\n",
    "rb = Rubicon(persistence=\"filesystem\", root_dir=\"../quick-look/rubicon-root\")\n",
    "pr = rb.get_project(name=\"classifying penguins\")\n",
    "\n",
    "project_json = {\"project\": [pr._domain.__dict__]}\n",
    "project_json"
   ]
  },
  {
   "cell_type": "code",
   "execution_count": 2,
   "id": "2bfb2be1-631a-41b6-9c83-f4a5792a13b5",
   "metadata": {},
   "outputs": [],
   "source": [
    "NUM_EXPERIMENTS = 4\n",
    "\n",
    "project_json[\"project\"][0][\"experiment\"] = []\n",
    "for i, e in enumerate(pr.experiments()):\n",
    "    if i >= NUM_EXPERIMENTS:\n",
    "        break\n",
    "\n",
    "    experiment_json = e._domain.__dict__\n",
    "\n",
    "    experiment_json[\"feature\"] = []\n",
    "    for f in e.features():\n",
    "        experiment_json[\"feature\"].append(f._domain.__dict__)\n",
    "\n",
    "    experiment_json[\"parameter\"] = []\n",
    "    for p in e.parameters():\n",
    "        experiment_json[\"parameter\"].append(p._domain.__dict__)\n",
    "\n",
    "    experiment_json[\"metric\"] = []\n",
    "    for m in e.metrics():\n",
    "        experiment_json[\"metric\"].append(m._domain.__dict__)\n",
    "\n",
    "    project_json[\"project\"][0][\"experiment\"].append(experiment_json)"
   ]
  },
  {
   "cell_type": "code",
   "execution_count": null,
   "id": "9182a926-8abc-432c-831c-c6b93e289140",
   "metadata": {},
   "outputs": [],
   "source": [
    "project_json"
   ]
  },
  {
   "cell_type": "markdown",
   "id": "ee17fa24-2a30-4720-af5d-3d552c63f81d",
   "metadata": {},
   "source": [
    "### equivalent JSON\n",
    "\n",
    "constructed from the domain level dictionaries that represent each rubicon object\n",
    "\n",
    "```json\n",
    "{'project': [{'created_at': datetime.datetime(2022, 9, 7),\n",
    "              'description': None,\n",
    "              'experiment': [{'branch_name': 'main',\n",
    "                              'commit_hash': '4b357a46f8dee744f384130766abf5c2372b1320',\n",
    "                              'created_at': datetime.datetime(2022, 9, 7),\n",
    "                              'description': None,\n",
    "                              'feature': [{'created_at': datetime.datetime(2022, 9, 7),\n",
    "                                           'description': None,\n",
    "                                           'id': 'b5254f32-3bf0-48e8-9b89-630f10f29e5f',\n",
    "                                           'importance': None,\n",
    "                                           'name': 'island'},\n",
    "                                          {'created_at': datetime.datetime(2022, 9, 7),\n",
    "                                           'description': None,\n",
    "                                           'id': '41ea3125-a20c-4ab0-a6dc-d5d7057c690c',\n",
    "                                           'importance': None,\n",
    "                                           'name': 'bill_length_mm'},\n",
    "                                          {'created_at': datetime.datetime(2022, 9, 7),\n",
    "                                           'description': None,\n",
    "                                           'id': '64edb25b-a57d-4d02-93dc-fdbbf5a401b9',\n",
    "                                           'importance': None,\n",
    "                                           'name': 'bill_depth_mm'},\n",
    "                                          {'created_at': datetime.datetime(2022, 9, 7),\n",
    "                                           'description': None,\n",
    "                                           'id': 'bc2698d2-4733-436c-aeaf-2ce23db8347a',\n",
    "                                           'importance': None,\n",
    "                                           'name': 'flipper_length_mm'},\n",
    "                                          {'created_at': datetime.datetime(2022, 9, 7),\n",
    "                                           'description': None,\n",
    "                                           'id': '9a40be69-a574-48f7-a8c8-2319474fd2b8',\n",
    "                                           'importance': None,\n",
    "                                           'name': 'body_mass_g'},\n",
    "                                          {'created_at': datetime.datetime(2022, 9, 7),\n",
    "                                           'description': None,\n",
    "                                           'id': 'b7b5ee92-12c4-44eb-8af9-0f4edb004c18',\n",
    "                                           'importance': None,\n",
    "                                           'name': 'sex'},\n",
    "                                          {'created_at': datetime.datetime(2022, 9, 7),\n",
    "                                           'description': None,\n",
    "                                           'id': '6538676e-28f7-4e53-b9b7-ff2c961fd3c4',\n",
    "                                           'importance': None,\n",
    "                                           'name': 'year'}],\n",
    "                              'id': '61feebc5-c75f-45bc-8db4-31355f657164',\n",
    "                              'metric': [{'created_at': datetime.datetime(2022, 9, 7),\n",
    "                                          'description': None,\n",
    "                                          'directionality': 'score',\n",
    "                                          'id': '2bcffdd9-2a11-479b-a439-70bad24d1805',\n",
    "                                          'name': 'accuracy',\n",
    "                                          'value': 0.7403846153846154}],\n",
    "                              'model_name': None,\n",
    "                              'name': None,\n",
    "                              'parameter': [{'created_at': datetime.datetime(2022, 9, 7),\n",
    "                                             'description': None,\n",
    "                                             'id': 'a3650f88-86a5-4c53-bf22-ced84ef5bdd5',\n",
    "                                             'name': 'strategy',\n",
    "                                             'value': 'mean'},\n",
    "                                            {'created_at': datetime.datetime(2022, 9, 7),\n",
    "                                             'description': None,\n",
    "                                             'id': '6b5ca832-fa09-4924-92bf-5909a148d57b',\n",
    "                                             'name': 'n_neighbors',\n",
    "                                             'value': 5}],\n",
    "                              'project_name': 'classifying penguins',\n",
    "                              'tags': [],\n",
    "                              'training_metadata': None}\n",
    "                             ],\n",
    "              'github_url': 'https://github.com/capitalone/rubicon-ml.git',\n",
    "              'id': 'c9674165-07bb-439f-b5c4-ea85d5bb3729',\n",
    "              'name': 'classifying penguins',\n",
    "              'training_metadata': None}]}\n",
    "```"
   ]
  },
  {
   "cell_type": "markdown",
   "id": "a6dab0cb-62ae-4a87-8141-8d1017a92009",
   "metadata": {},
   "source": [
    "### `jsonpath_ng`\n",
    "\n",
    "this seems to be the most recommended Python implementation - not active tho\n",
    "> https://github.com/h2non/jsonpath-ng\n",
    "\n",
    "#### get all metrics from each experiment"
   ]
  },
  {
   "cell_type": "code",
   "execution_count": 3,
   "id": "05ef3bed-7c75-44a6-9652-9255aca8681b",
   "metadata": {},
   "outputs": [
    {
     "name": "stdout",
     "output_type": "stream",
     "text": [
      "4\n",
      "[{'name': 'accuracy', 'value': 0.7403846153846154, 'id': '2bcffdd9-2a11-479b-a439-70bad24d1805', 'description': None, 'directionality': 'score', 'created_at': datetime.datetime(2022, 9, 7, 18, 35, 56, 250355)}]\n",
      "[{'name': 'accuracy', 'value': 0.7403846153846154, 'id': '2afd29f2-268c-4875-bca4-5e5031547ef4', 'description': None, 'directionality': 'score', 'created_at': datetime.datetime(2022, 9, 7, 18, 41, 22, 380741)}]\n",
      "[{'name': 'accuracy', 'value': 0.7211538461538461, 'id': '5387eed6-6e9b-402d-9a0a-d88d85b74ee4', 'description': None, 'directionality': 'score', 'created_at': datetime.datetime(2022, 9, 7, 18, 41, 22, 549001)}]\n",
      "[{'name': 'accuracy', 'value': 0.6923076923076923, 'id': '5fe10610-f999-4b36-9259-4154541a0757', 'description': None, 'directionality': 'score', 'created_at': datetime.datetime(2022, 9, 7, 18, 41, 22, 721612)}]\n"
     ]
    }
   ],
   "source": [
    "from jsonpath_ng.ext import parse\n",
    "\n",
    "expr = parse(\"$..experiment[*].metric\")\n",
    "res = expr.find(project_json)\n",
    "\n",
    "print(len(res))\n",
    "for match in res:\n",
    "    print(match.value)"
   ]
  },
  {
   "cell_type": "markdown",
   "id": "dfef9a43-1392-4256-93ef-5d066c3dcb18",
   "metadata": {},
   "source": [
    "#### get all metrics named 'accuracy' with a value greater than 0.7 from each experiment"
   ]
  },
  {
   "cell_type": "code",
   "execution_count": 4,
   "id": "cd3659d5-2e92-4f88-9e23-796589c976c2",
   "metadata": {},
   "outputs": [
    {
     "name": "stdout",
     "output_type": "stream",
     "text": [
      "3\n",
      "{'name': 'accuracy', 'value': 0.7403846153846154, 'id': '2bcffdd9-2a11-479b-a439-70bad24d1805', 'description': None, 'directionality': 'score', 'created_at': datetime.datetime(2022, 9, 7, 18, 35, 56, 250355)}\n",
      "{'name': 'accuracy', 'value': 0.7403846153846154, 'id': '2afd29f2-268c-4875-bca4-5e5031547ef4', 'description': None, 'directionality': 'score', 'created_at': datetime.datetime(2022, 9, 7, 18, 41, 22, 380741)}\n",
      "{'name': 'accuracy', 'value': 0.7211538461538461, 'id': '5387eed6-6e9b-402d-9a0a-d88d85b74ee4', 'description': None, 'directionality': 'score', 'created_at': datetime.datetime(2022, 9, 7, 18, 41, 22, 549001)}\n"
     ]
    }
   ],
   "source": [
    "expr = parse(\"$..experiment[*].metric[?(@.name=='accuracy' & @.value>=0.7)]\")\n",
    "res = expr.find(project_json)\n",
    "\n",
    "print(len(res))\n",
    "for match in res:\n",
    "    print(match.value)"
   ]
  },
  {
   "cell_type": "markdown",
   "id": "7c99bb80-f018-4a63-b1a0-230119f69a8b",
   "metadata": {},
   "source": [
    "#### get all experiments that contian a metric named 'accuracy' with a value greater than 0.7"
   ]
  },
  {
   "cell_type": "code",
   "execution_count": 5,
   "id": "c1c11a47-bbf6-433f-be4b-063555f92ecd",
   "metadata": {},
   "outputs": [
    {
     "name": "stdout",
     "output_type": "stream",
     "text": [
      "3\n",
      "{'project_name': 'classifying penguins', 'id': '61feebc5-c75f-45bc-8db4-31355f657164', 'name': None, 'description': None, 'model_name': None, 'branch_name': 'main', 'commit_hash': '4b357a46f8dee744f384130766abf5c2372b1320', 'training_metadata': None, 'tags': [], 'created_at': datetime.datetime(2022, 9, 7, 18, 35, 56, 234328), 'feature': [{'name': 'island', 'id': 'b5254f32-3bf0-48e8-9b89-630f10f29e5f', 'description': None, 'importance': None, 'created_at': datetime.datetime(2022, 9, 7, 18, 35, 56, 237973)}, {'name': 'bill_length_mm', 'id': '41ea3125-a20c-4ab0-a6dc-d5d7057c690c', 'description': None, 'importance': None, 'created_at': datetime.datetime(2022, 9, 7, 18, 35, 56, 239872)}, {'name': 'bill_depth_mm', 'id': '64edb25b-a57d-4d02-93dc-fdbbf5a401b9', 'description': None, 'importance': None, 'created_at': datetime.datetime(2022, 9, 7, 18, 35, 56, 240975)}, {'name': 'flipper_length_mm', 'id': 'bc2698d2-4733-436c-aeaf-2ce23db8347a', 'description': None, 'importance': None, 'created_at': datetime.datetime(2022, 9, 7, 18, 35, 56, 242047)}, {'name': 'body_mass_g', 'id': '9a40be69-a574-48f7-a8c8-2319474fd2b8', 'description': None, 'importance': None, 'created_at': datetime.datetime(2022, 9, 7, 18, 35, 56, 243147)}, {'name': 'sex', 'id': 'b7b5ee92-12c4-44eb-8af9-0f4edb004c18', 'description': None, 'importance': None, 'created_at': datetime.datetime(2022, 9, 7, 18, 35, 56, 244238)}, {'name': 'year', 'id': '6538676e-28f7-4e53-b9b7-ff2c961fd3c4', 'description': None, 'importance': None, 'created_at': datetime.datetime(2022, 9, 7, 18, 35, 56, 245388)}], 'parameter': [{'name': 'strategy', 'id': 'a3650f88-86a5-4c53-bf22-ced84ef5bdd5', 'value': 'mean', 'description': None, 'created_at': datetime.datetime(2022, 9, 7, 18, 35, 56, 247014)}, {'name': 'n_neighbors', 'id': '6b5ca832-fa09-4924-92bf-5909a148d57b', 'value': 5, 'description': None, 'created_at': datetime.datetime(2022, 9, 7, 18, 35, 56, 248926)}], 'metric': [{'name': 'accuracy', 'value': 0.7403846153846154, 'id': '2bcffdd9-2a11-479b-a439-70bad24d1805', 'description': None, 'directionality': 'score', 'created_at': datetime.datetime(2022, 9, 7, 18, 35, 56, 250355)}]}\n",
      "{'project_name': 'classifying penguins', 'id': '5d567565-a401-498a-846d-d27433fa64a9', 'name': None, 'description': None, 'model_name': None, 'branch_name': 'main', 'commit_hash': '4b357a46f8dee744f384130766abf5c2372b1320', 'training_metadata': None, 'tags': ['parameter search'], 'created_at': datetime.datetime(2022, 9, 7, 18, 41, 22, 361089), 'feature': [{'name': 'island', 'id': '3af51d65-98a5-4203-a68d-beaa57b28ed8', 'description': None, 'importance': None, 'created_at': datetime.datetime(2022, 9, 7, 18, 41, 22, 364787)}, {'name': 'bill_length_mm', 'id': '25bd26f4-e576-40bf-9039-387e25b27e04', 'description': None, 'importance': None, 'created_at': datetime.datetime(2022, 9, 7, 18, 41, 22, 366885)}, {'name': 'bill_depth_mm', 'id': '98006936-5fef-4dad-b132-3d61b7699ab0', 'description': None, 'importance': None, 'created_at': datetime.datetime(2022, 9, 7, 18, 41, 22, 368395)}, {'name': 'flipper_length_mm', 'id': 'c99521d2-909e-4c4f-9144-757ef74dccd8', 'description': None, 'importance': None, 'created_at': datetime.datetime(2022, 9, 7, 18, 41, 22, 370306)}, {'name': 'body_mass_g', 'id': '5e2ed630-3926-4ca2-a1f4-7e20cf355562', 'description': None, 'importance': None, 'created_at': datetime.datetime(2022, 9, 7, 18, 41, 22, 371949)}, {'name': 'sex', 'id': 'e7ebf3f4-89de-4b49-b226-8b353ae3da6b', 'description': None, 'importance': None, 'created_at': datetime.datetime(2022, 9, 7, 18, 41, 22, 373317)}, {'name': 'year', 'id': '742c0b63-9490-4b1a-b011-e555634473c2', 'description': None, 'importance': None, 'created_at': datetime.datetime(2022, 9, 7, 18, 41, 22, 374947)}], 'parameter': [{'name': 'strategy', 'id': 'de55783f-355c-4e40-b4f6-589e22b52b52', 'value': 'mean', 'description': None, 'created_at': datetime.datetime(2022, 9, 7, 18, 41, 22, 376941)}, {'name': 'n_neighbors', 'id': 'd5d3ee10-99df-43aa-a3c0-d6856c074fe8', 'value': 5, 'description': None, 'created_at': datetime.datetime(2022, 9, 7, 18, 41, 22, 378958)}], 'metric': [{'name': 'accuracy', 'value': 0.7403846153846154, 'id': '2afd29f2-268c-4875-bca4-5e5031547ef4', 'description': None, 'directionality': 'score', 'created_at': datetime.datetime(2022, 9, 7, 18, 41, 22, 380741)}]}\n",
      "{'project_name': 'classifying penguins', 'id': 'c0e79347-c77f-4b61-8e55-69942c5629da', 'name': None, 'description': None, 'model_name': None, 'branch_name': 'main', 'commit_hash': '4b357a46f8dee744f384130766abf5c2372b1320', 'training_metadata': None, 'tags': ['parameter search'], 'created_at': datetime.datetime(2022, 9, 7, 18, 41, 22, 510449), 'feature': [{'name': 'island', 'id': 'cae58fed-c870-48d5-8185-2fa7ced20bf4', 'description': None, 'importance': None, 'created_at': datetime.datetime(2022, 9, 7, 18, 41, 22, 515713)}, {'name': 'bill_length_mm', 'id': '7cced794-be73-42dc-8e55-f28e042c039e', 'description': None, 'importance': None, 'created_at': datetime.datetime(2022, 9, 7, 18, 41, 22, 522410)}, {'name': 'bill_depth_mm', 'id': 'a29d7b86-1710-408e-b6c0-312056d8c5ba', 'description': None, 'importance': None, 'created_at': datetime.datetime(2022, 9, 7, 18, 41, 22, 528296)}, {'name': 'flipper_length_mm', 'id': 'ce5dc8fa-8fe1-40f3-a7e4-6edb71c043c4', 'description': None, 'importance': None, 'created_at': datetime.datetime(2022, 9, 7, 18, 41, 22, 537703)}, {'name': 'body_mass_g', 'id': 'c00cf8af-c31e-4eef-9064-12d0d69a1325', 'description': None, 'importance': None, 'created_at': datetime.datetime(2022, 9, 7, 18, 41, 22, 539920)}, {'name': 'sex', 'id': '6306691d-59e9-4349-8a9b-5ae973894ae4', 'description': None, 'importance': None, 'created_at': datetime.datetime(2022, 9, 7, 18, 41, 22, 541803)}, {'name': 'year', 'id': 'db5fd648-4a7b-4119-bfb3-b9983950ef05', 'description': None, 'importance': None, 'created_at': datetime.datetime(2022, 9, 7, 18, 41, 22, 543581)}], 'parameter': [{'name': 'strategy', 'id': '7c231b72-63e0-46bb-9e00-01707d307d5b', 'value': 'mean', 'description': None, 'created_at': datetime.datetime(2022, 9, 7, 18, 41, 22, 545340)}, {'name': 'n_neighbors', 'id': 'dd4d5e43-63e8-4ef6-b84a-edce4d4c033f', 'value': 10, 'description': None, 'created_at': datetime.datetime(2022, 9, 7, 18, 41, 22, 547058)}], 'metric': [{'name': 'accuracy', 'value': 0.7211538461538461, 'id': '5387eed6-6e9b-402d-9a0a-d88d85b74ee4', 'description': None, 'directionality': 'score', 'created_at': datetime.datetime(2022, 9, 7, 18, 41, 22, 549001)}]}\n"
     ]
    }
   ],
   "source": [
    "expr = parse(\"$..experiment[?(@..metric[*].name=='accuracy' & @..metric[*].value>=0.7)]\")\n",
    "res = expr.find(project_json)\n",
    "\n",
    "print(len(res))\n",
    "for match in res:\n",
    "    print(match.value)"
   ]
  },
  {
   "cell_type": "markdown",
   "id": "9a181e65-bb45-4e21-968c-6c7dc68b3536",
   "metadata": {},
   "source": [
    "#### returning `rubicon_ml` objects"
   ]
  },
  {
   "cell_type": "code",
   "execution_count": 6,
   "id": "8c3ebe5b-0061-4f86-ae98-72dd076a8994",
   "metadata": {},
   "outputs": [
    {
     "data": {
      "text/plain": [
       "[<rubicon_ml.client.metric.Metric at 0x16975b220>,\n",
       " <rubicon_ml.client.metric.Metric at 0x1697c6950>,\n",
       " <rubicon_ml.client.metric.Metric at 0x1697c6c20>,\n",
       " <rubicon_ml.client.metric.Metric at 0x1697c7010>]"
      ]
     },
     "execution_count": 6,
     "metadata": {},
     "output_type": "execute_result"
    }
   ],
   "source": [
    "from rubicon_ml.domain import Metric as DomainMetric\n",
    "from rubicon_ml.client import Metric\n",
    "\n",
    "expr = parse(\"$..experiment[*].metric\")\n",
    "res = expr.find(project_json)\n",
    "\n",
    "metrics = []\n",
    "for match in res:\n",
    "    for val in match.value:\n",
    "        metrics.append(Metric(DomainMetric(**val)))\n",
    "        \n",
    "metrics"
   ]
  },
  {
   "cell_type": "code",
   "execution_count": 7,
   "id": "4a4e6f95-37d6-4b3d-829b-74109ac85509",
   "metadata": {},
   "outputs": [
    {
     "name": "stdout",
     "output_type": "stream",
     "text": [
      "accuracy\n",
      "0.7403846153846154\n"
     ]
    }
   ],
   "source": [
    "print(metrics[0].name)\n",
    "print(metrics[0].value)"
   ]
  }
 ],
 "metadata": {
  "kernelspec": {
   "display_name": "Python 3 (ipykernel)",
   "language": "python",
   "name": "python3"
  },
  "language_info": {
   "codemirror_mode": {
    "name": "ipython",
    "version": 3
   },
   "file_extension": ".py",
   "mimetype": "text/x-python",
   "name": "python",
   "nbconvert_exporter": "python",
   "pygments_lexer": "ipython3",
   "version": "3.10.6"
  }
 },
 "nbformat": 4,
 "nbformat_minor": 5
}
