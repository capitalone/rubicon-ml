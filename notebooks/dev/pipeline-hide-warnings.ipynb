{
 "cells": [
  {
   "cell_type": "code",
   "execution_count": 1,
   "id": "7acb4bb8",
   "metadata": {},
   "outputs": [
    {
     "data": {
      "text/plain": [
       "((240, 7), (240,), (104, 7), (104,))"
      ]
     },
     "execution_count": 1,
     "metadata": {},
     "output_type": "execute_result"
    }
   ],
   "source": [
    "from palmerpenguins import load_penguins\n",
    "from sklearn.preprocessing import LabelEncoder\n",
    "from sklearn.model_selection import train_test_split\n",
    "\n",
    "\n",
    "penguins_df = load_penguins()\n",
    "target_values = penguins_df['species'].unique()\n",
    "\n",
    "for column in [\"species\", \"island\", \"sex\"]:\n",
    "    penguins_df[column] = LabelEncoder().fit_transform(penguins_df[column])\n",
    "    \n",
    "train_penguins_df, test_penguins_df = train_test_split(penguins_df, test_size=.30)\n",
    "\n",
    "target_name = \"species\"\n",
    "feature_names = [c for c in train_penguins_df.columns if c != target_name]\n",
    "\n",
    "X_train, y_train = train_penguins_df[feature_names], train_penguins_df[target_name]\n",
    "X_test, y_test = test_penguins_df[feature_names], test_penguins_df[target_name]\n",
    "\n",
    "X_train.shape, y_train.shape, X_test.shape, y_test.shape\n"
   ]
  },
  {
   "cell_type": "code",
   "execution_count": 2,
   "id": "a0542704",
   "metadata": {},
   "outputs": [
    {
     "data": {
      "text/html": [
       "<style>#sk-container-id-1 {color: black;background-color: white;}#sk-container-id-1 pre{padding: 0;}#sk-container-id-1 div.sk-toggleable {background-color: white;}#sk-container-id-1 label.sk-toggleable__label {cursor: pointer;display: block;width: 100%;margin-bottom: 0;padding: 0.3em;box-sizing: border-box;text-align: center;}#sk-container-id-1 label.sk-toggleable__label-arrow:before {content: \"▸\";float: left;margin-right: 0.25em;color: #696969;}#sk-container-id-1 label.sk-toggleable__label-arrow:hover:before {color: black;}#sk-container-id-1 div.sk-estimator:hover label.sk-toggleable__label-arrow:before {color: black;}#sk-container-id-1 div.sk-toggleable__content {max-height: 0;max-width: 0;overflow: hidden;text-align: left;background-color: #f0f8ff;}#sk-container-id-1 div.sk-toggleable__content pre {margin: 0.2em;color: black;border-radius: 0.25em;background-color: #f0f8ff;}#sk-container-id-1 input.sk-toggleable__control:checked~div.sk-toggleable__content {max-height: 200px;max-width: 100%;overflow: auto;}#sk-container-id-1 input.sk-toggleable__control:checked~label.sk-toggleable__label-arrow:before {content: \"▾\";}#sk-container-id-1 div.sk-estimator input.sk-toggleable__control:checked~label.sk-toggleable__label {background-color: #d4ebff;}#sk-container-id-1 div.sk-label input.sk-toggleable__control:checked~label.sk-toggleable__label {background-color: #d4ebff;}#sk-container-id-1 input.sk-hidden--visually {border: 0;clip: rect(1px 1px 1px 1px);clip: rect(1px, 1px, 1px, 1px);height: 1px;margin: -1px;overflow: hidden;padding: 0;position: absolute;width: 1px;}#sk-container-id-1 div.sk-estimator {font-family: monospace;background-color: #f0f8ff;border: 1px dotted black;border-radius: 0.25em;box-sizing: border-box;margin-bottom: 0.5em;}#sk-container-id-1 div.sk-estimator:hover {background-color: #d4ebff;}#sk-container-id-1 div.sk-parallel-item::after {content: \"\";width: 100%;border-bottom: 1px solid gray;flex-grow: 1;}#sk-container-id-1 div.sk-label:hover label.sk-toggleable__label {background-color: #d4ebff;}#sk-container-id-1 div.sk-serial::before {content: \"\";position: absolute;border-left: 1px solid gray;box-sizing: border-box;top: 0;bottom: 0;left: 50%;z-index: 0;}#sk-container-id-1 div.sk-serial {display: flex;flex-direction: column;align-items: center;background-color: white;padding-right: 0.2em;padding-left: 0.2em;position: relative;}#sk-container-id-1 div.sk-item {position: relative;z-index: 1;}#sk-container-id-1 div.sk-parallel {display: flex;align-items: stretch;justify-content: center;background-color: white;position: relative;}#sk-container-id-1 div.sk-item::before, #sk-container-id-1 div.sk-parallel-item::before {content: \"\";position: absolute;border-left: 1px solid gray;box-sizing: border-box;top: 0;bottom: 0;left: 50%;z-index: -1;}#sk-container-id-1 div.sk-parallel-item {display: flex;flex-direction: column;z-index: 1;position: relative;background-color: white;}#sk-container-id-1 div.sk-parallel-item:first-child::after {align-self: flex-end;width: 50%;}#sk-container-id-1 div.sk-parallel-item:last-child::after {align-self: flex-start;width: 50%;}#sk-container-id-1 div.sk-parallel-item:only-child::after {width: 0;}#sk-container-id-1 div.sk-dashed-wrapped {border: 1px dashed gray;margin: 0 0.4em 0.5em 0.4em;box-sizing: border-box;padding-bottom: 0.4em;background-color: white;}#sk-container-id-1 div.sk-label label {font-family: monospace;font-weight: bold;display: inline-block;line-height: 1.2em;}#sk-container-id-1 div.sk-label-container {text-align: center;}#sk-container-id-1 div.sk-container {/* jupyter's `normalize.less` sets `[hidden] { display: none; }` but bootstrap.min.css set `[hidden] { display: none !important; }` so we also need the `!important` here to be able to override the default hidden behavior on the sphinx rendered scikit-learn.org. See: https://github.com/scikit-learn/scikit-learn/issues/21755 */display: inline-block !important;position: relative;}#sk-container-id-1 div.sk-text-repr-fallback {display: none;}</style><div id=\"sk-container-id-1\" class=\"sk-top-container\"><div class=\"sk-text-repr-fallback\"><pre>RubiconPipeline(ignore_warnings=True,\n",
       "                project=&lt;rubicon_ml.client.project.Project object at 0x105efee90&gt;,\n",
       "                steps=[(&#x27;impute_island&#x27;,\n",
       "                        DistributionImputation(colname=&#x27;island&#x27;)),\n",
       "                       (&#x27;impute_bill_length_mm&#x27;,\n",
       "                        DistributionImputation(colname=&#x27;bill_length_mm&#x27;)),\n",
       "                       (&#x27;impute_bill_depth_mm&#x27;,\n",
       "                        DistributionImputation(colname=&#x27;bill_depth_mm&#x27;)),\n",
       "                       (&#x27;impute_flipper_length_mm&#x27;,\n",
       "                        DistributionImputation(colname=&#x27;flipper_length_mm&#x27;)),\n",
       "                       (&#x27;impute_body_mass_g&#x27;,\n",
       "                        DistributionImputation(colname=&#x27;body_mass_g&#x27;)),\n",
       "                       (&#x27;impute_sex&#x27;, DistributionImputation(colname=&#x27;sex&#x27;)),\n",
       "                       (&#x27;impute_year&#x27;, DistributionImputation(colname=&#x27;year&#x27;)),\n",
       "                       (&#x27;kn&#x27;, KNeighborsClassifier())])</pre><b>In a Jupyter environment, please rerun this cell to show the HTML representation or trust the notebook. <br />On GitHub, the HTML representation is unable to render, please try loading this page with nbviewer.org.</b></div><div class=\"sk-container\" hidden><div class=\"sk-item sk-dashed-wrapped\"><div class=\"sk-label-container\"><div class=\"sk-label sk-toggleable\"><input class=\"sk-toggleable__control sk-hidden--visually\" id=\"sk-estimator-id-1\" type=\"checkbox\" ><label for=\"sk-estimator-id-1\" class=\"sk-toggleable__label sk-toggleable__label-arrow\">RubiconPipeline</label><div class=\"sk-toggleable__content\"><pre>RubiconPipeline(ignore_warnings=True,\n",
       "                project=&lt;rubicon_ml.client.project.Project object at 0x105efee90&gt;,\n",
       "                steps=[(&#x27;impute_island&#x27;,\n",
       "                        DistributionImputation(colname=&#x27;island&#x27;)),\n",
       "                       (&#x27;impute_bill_length_mm&#x27;,\n",
       "                        DistributionImputation(colname=&#x27;bill_length_mm&#x27;)),\n",
       "                       (&#x27;impute_bill_depth_mm&#x27;,\n",
       "                        DistributionImputation(colname=&#x27;bill_depth_mm&#x27;)),\n",
       "                       (&#x27;impute_flipper_length_mm&#x27;,\n",
       "                        DistributionImputation(colname=&#x27;flipper_length_mm&#x27;)),\n",
       "                       (&#x27;impute_body_mass_g&#x27;,\n",
       "                        DistributionImputation(colname=&#x27;body_mass_g&#x27;)),\n",
       "                       (&#x27;impute_sex&#x27;, DistributionImputation(colname=&#x27;sex&#x27;)),\n",
       "                       (&#x27;impute_year&#x27;, DistributionImputation(colname=&#x27;year&#x27;)),\n",
       "                       (&#x27;kn&#x27;, KNeighborsClassifier())])</pre></div></div></div><div class=\"sk-serial\"><div class=\"sk-item\"><div class=\"sk-estimator sk-toggleable\"><input class=\"sk-toggleable__control sk-hidden--visually\" id=\"sk-estimator-id-2\" type=\"checkbox\" ><label for=\"sk-estimator-id-2\" class=\"sk-toggleable__label sk-toggleable__label-arrow\">DistributionImputation</label><div class=\"sk-toggleable__content\"><pre>{&#x27;task&#x27;: &#x27;DistributionImputation&#x27;, &#x27;args&#x27;: [], &#x27;kwargs&#x27;: {&#x27;colname&#x27;: &#x27;island&#x27;, &#x27;imputation_type&#x27;: &#x27;mean&#x27;}, &#x27;attr&#x27;: {&#x27;_imputation_type&#x27;: &#x27;mean&#x27;, &#x27;imputation_value&#x27;: None, &#x27;_fit&#x27;: False}, &#x27;name&#x27;: &#x27;DistributionImputation on island&#x27;}</pre></div></div></div><div class=\"sk-item\"><div class=\"sk-estimator sk-toggleable\"><input class=\"sk-toggleable__control sk-hidden--visually\" id=\"sk-estimator-id-3\" type=\"checkbox\" ><label for=\"sk-estimator-id-3\" class=\"sk-toggleable__label sk-toggleable__label-arrow\">DistributionImputation</label><div class=\"sk-toggleable__content\"><pre>{&#x27;task&#x27;: &#x27;DistributionImputation&#x27;, &#x27;args&#x27;: [], &#x27;kwargs&#x27;: {&#x27;colname&#x27;: &#x27;bill_length_mm&#x27;, &#x27;imputation_type&#x27;: &#x27;mean&#x27;}, &#x27;attr&#x27;: {&#x27;_imputation_type&#x27;: &#x27;mean&#x27;, &#x27;imputation_value&#x27;: None, &#x27;_fit&#x27;: False}, &#x27;name&#x27;: &#x27;DistributionImputation on bill_length_mm&#x27;}</pre></div></div></div><div class=\"sk-item\"><div class=\"sk-estimator sk-toggleable\"><input class=\"sk-toggleable__control sk-hidden--visually\" id=\"sk-estimator-id-4\" type=\"checkbox\" ><label for=\"sk-estimator-id-4\" class=\"sk-toggleable__label sk-toggleable__label-arrow\">DistributionImputation</label><div class=\"sk-toggleable__content\"><pre>{&#x27;task&#x27;: &#x27;DistributionImputation&#x27;, &#x27;args&#x27;: [], &#x27;kwargs&#x27;: {&#x27;colname&#x27;: &#x27;bill_depth_mm&#x27;, &#x27;imputation_type&#x27;: &#x27;mean&#x27;}, &#x27;attr&#x27;: {&#x27;_imputation_type&#x27;: &#x27;mean&#x27;, &#x27;imputation_value&#x27;: None, &#x27;_fit&#x27;: False}, &#x27;name&#x27;: &#x27;DistributionImputation on bill_depth_mm&#x27;}</pre></div></div></div><div class=\"sk-item\"><div class=\"sk-estimator sk-toggleable\"><input class=\"sk-toggleable__control sk-hidden--visually\" id=\"sk-estimator-id-5\" type=\"checkbox\" ><label for=\"sk-estimator-id-5\" class=\"sk-toggleable__label sk-toggleable__label-arrow\">DistributionImputation</label><div class=\"sk-toggleable__content\"><pre>{&#x27;task&#x27;: &#x27;DistributionImputation&#x27;, &#x27;args&#x27;: [], &#x27;kwargs&#x27;: {&#x27;colname&#x27;: &#x27;flipper_length_mm&#x27;, &#x27;imputation_type&#x27;: &#x27;mean&#x27;}, &#x27;attr&#x27;: {&#x27;_imputation_type&#x27;: &#x27;mean&#x27;, &#x27;imputation_value&#x27;: None, &#x27;_fit&#x27;: False}, &#x27;name&#x27;: &#x27;DistributionImputation on flipper_length_mm&#x27;}</pre></div></div></div><div class=\"sk-item\"><div class=\"sk-estimator sk-toggleable\"><input class=\"sk-toggleable__control sk-hidden--visually\" id=\"sk-estimator-id-6\" type=\"checkbox\" ><label for=\"sk-estimator-id-6\" class=\"sk-toggleable__label sk-toggleable__label-arrow\">DistributionImputation</label><div class=\"sk-toggleable__content\"><pre>{&#x27;task&#x27;: &#x27;DistributionImputation&#x27;, &#x27;args&#x27;: [], &#x27;kwargs&#x27;: {&#x27;colname&#x27;: &#x27;body_mass_g&#x27;, &#x27;imputation_type&#x27;: &#x27;mean&#x27;}, &#x27;attr&#x27;: {&#x27;_imputation_type&#x27;: &#x27;mean&#x27;, &#x27;imputation_value&#x27;: None, &#x27;_fit&#x27;: False}, &#x27;name&#x27;: &#x27;DistributionImputation on body_mass_g&#x27;}</pre></div></div></div><div class=\"sk-item\"><div class=\"sk-estimator sk-toggleable\"><input class=\"sk-toggleable__control sk-hidden--visually\" id=\"sk-estimator-id-7\" type=\"checkbox\" ><label for=\"sk-estimator-id-7\" class=\"sk-toggleable__label sk-toggleable__label-arrow\">DistributionImputation</label><div class=\"sk-toggleable__content\"><pre>{&#x27;task&#x27;: &#x27;DistributionImputation&#x27;, &#x27;args&#x27;: [], &#x27;kwargs&#x27;: {&#x27;colname&#x27;: &#x27;sex&#x27;, &#x27;imputation_type&#x27;: &#x27;mean&#x27;}, &#x27;attr&#x27;: {&#x27;_imputation_type&#x27;: &#x27;mean&#x27;, &#x27;imputation_value&#x27;: None, &#x27;_fit&#x27;: False}, &#x27;name&#x27;: &#x27;DistributionImputation on sex&#x27;}</pre></div></div></div><div class=\"sk-item\"><div class=\"sk-estimator sk-toggleable\"><input class=\"sk-toggleable__control sk-hidden--visually\" id=\"sk-estimator-id-8\" type=\"checkbox\" ><label for=\"sk-estimator-id-8\" class=\"sk-toggleable__label sk-toggleable__label-arrow\">DistributionImputation</label><div class=\"sk-toggleable__content\"><pre>{&#x27;task&#x27;: &#x27;DistributionImputation&#x27;, &#x27;args&#x27;: [], &#x27;kwargs&#x27;: {&#x27;colname&#x27;: &#x27;year&#x27;, &#x27;imputation_type&#x27;: &#x27;mean&#x27;}, &#x27;attr&#x27;: {&#x27;_imputation_type&#x27;: &#x27;mean&#x27;, &#x27;imputation_value&#x27;: None, &#x27;_fit&#x27;: False}, &#x27;name&#x27;: &#x27;DistributionImputation on year&#x27;}</pre></div></div></div><div class=\"sk-item\"><div class=\"sk-estimator sk-toggleable\"><input class=\"sk-toggleable__control sk-hidden--visually\" id=\"sk-estimator-id-9\" type=\"checkbox\" ><label for=\"sk-estimator-id-9\" class=\"sk-toggleable__label sk-toggleable__label-arrow\">KNeighborsClassifier</label><div class=\"sk-toggleable__content\"><pre>KNeighborsClassifier()</pre></div></div></div></div></div></div></div>"
      ],
      "text/plain": [
       "RubiconPipeline(ignore_warnings=True,\n",
       "                project=<rubicon_ml.client.project.Project object at 0x105efee90>,\n",
       "                steps=[('impute_island',\n",
       "                        DistributionImputation(colname='island')),\n",
       "                       ('impute_bill_length_mm',\n",
       "                        DistributionImputation(colname='bill_length_mm')),\n",
       "                       ('impute_bill_depth_mm',\n",
       "                        DistributionImputation(colname='bill_depth_mm')),\n",
       "                       ('impute_flipper_length_mm',\n",
       "                        DistributionImputation(colname='flipper_length_mm')),\n",
       "                       ('impute_body_mass_g',\n",
       "                        DistributionImputation(colname='body_mass_g')),\n",
       "                       ('impute_sex', DistributionImputation(colname='sex')),\n",
       "                       ('impute_year', DistributionImputation(colname='year')),\n",
       "                       ('kn', KNeighborsClassifier())])"
      ]
     },
     "execution_count": 2,
     "metadata": {},
     "output_type": "execute_result"
    }
   ],
   "source": [
    "from rubicon_ml import Rubicon\n",
    "from rubicon_ml.sklearn import RubiconPipeline\n",
    "from joy.imputation import DistributionImputation\n",
    "from sklearn.neighbors import KNeighborsClassifier\n",
    "\n",
    "\n",
    "rubicon = Rubicon(persistence=\"memory\")\n",
    "project = rubicon.get_or_create_project(\"Rubicon Pipeline Example\")\n",
    "\n",
    "imputer_strategy = \"mean\"\n",
    "classifier_n_neighbors = 5\n",
    "\n",
    "imputation_steps = []\n",
    "for feature in feature_names:\n",
    "    imputation_steps.append((\"impute_{0}\".format(feature), DistributionImputation(feature)))\n",
    "\n",
    "\n",
    "pipe = RubiconPipeline(project, imputation_steps + [(\"kn\", KNeighborsClassifier(n_neighbors=classifier_n_neighbors))], ignore_warnings=True)\n",
    "pipe\n"
   ]
  },
  {
   "cell_type": "code",
   "execution_count": 3,
   "id": "7ea74c90",
   "metadata": {},
   "outputs": [
    {
     "data": {
      "text/html": [
       "<style>#sk-container-id-2 {color: black;background-color: white;}#sk-container-id-2 pre{padding: 0;}#sk-container-id-2 div.sk-toggleable {background-color: white;}#sk-container-id-2 label.sk-toggleable__label {cursor: pointer;display: block;width: 100%;margin-bottom: 0;padding: 0.3em;box-sizing: border-box;text-align: center;}#sk-container-id-2 label.sk-toggleable__label-arrow:before {content: \"▸\";float: left;margin-right: 0.25em;color: #696969;}#sk-container-id-2 label.sk-toggleable__label-arrow:hover:before {color: black;}#sk-container-id-2 div.sk-estimator:hover label.sk-toggleable__label-arrow:before {color: black;}#sk-container-id-2 div.sk-toggleable__content {max-height: 0;max-width: 0;overflow: hidden;text-align: left;background-color: #f0f8ff;}#sk-container-id-2 div.sk-toggleable__content pre {margin: 0.2em;color: black;border-radius: 0.25em;background-color: #f0f8ff;}#sk-container-id-2 input.sk-toggleable__control:checked~div.sk-toggleable__content {max-height: 200px;max-width: 100%;overflow: auto;}#sk-container-id-2 input.sk-toggleable__control:checked~label.sk-toggleable__label-arrow:before {content: \"▾\";}#sk-container-id-2 div.sk-estimator input.sk-toggleable__control:checked~label.sk-toggleable__label {background-color: #d4ebff;}#sk-container-id-2 div.sk-label input.sk-toggleable__control:checked~label.sk-toggleable__label {background-color: #d4ebff;}#sk-container-id-2 input.sk-hidden--visually {border: 0;clip: rect(1px 1px 1px 1px);clip: rect(1px, 1px, 1px, 1px);height: 1px;margin: -1px;overflow: hidden;padding: 0;position: absolute;width: 1px;}#sk-container-id-2 div.sk-estimator {font-family: monospace;background-color: #f0f8ff;border: 1px dotted black;border-radius: 0.25em;box-sizing: border-box;margin-bottom: 0.5em;}#sk-container-id-2 div.sk-estimator:hover {background-color: #d4ebff;}#sk-container-id-2 div.sk-parallel-item::after {content: \"\";width: 100%;border-bottom: 1px solid gray;flex-grow: 1;}#sk-container-id-2 div.sk-label:hover label.sk-toggleable__label {background-color: #d4ebff;}#sk-container-id-2 div.sk-serial::before {content: \"\";position: absolute;border-left: 1px solid gray;box-sizing: border-box;top: 0;bottom: 0;left: 50%;z-index: 0;}#sk-container-id-2 div.sk-serial {display: flex;flex-direction: column;align-items: center;background-color: white;padding-right: 0.2em;padding-left: 0.2em;position: relative;}#sk-container-id-2 div.sk-item {position: relative;z-index: 1;}#sk-container-id-2 div.sk-parallel {display: flex;align-items: stretch;justify-content: center;background-color: white;position: relative;}#sk-container-id-2 div.sk-item::before, #sk-container-id-2 div.sk-parallel-item::before {content: \"\";position: absolute;border-left: 1px solid gray;box-sizing: border-box;top: 0;bottom: 0;left: 50%;z-index: -1;}#sk-container-id-2 div.sk-parallel-item {display: flex;flex-direction: column;z-index: 1;position: relative;background-color: white;}#sk-container-id-2 div.sk-parallel-item:first-child::after {align-self: flex-end;width: 50%;}#sk-container-id-2 div.sk-parallel-item:last-child::after {align-self: flex-start;width: 50%;}#sk-container-id-2 div.sk-parallel-item:only-child::after {width: 0;}#sk-container-id-2 div.sk-dashed-wrapped {border: 1px dashed gray;margin: 0 0.4em 0.5em 0.4em;box-sizing: border-box;padding-bottom: 0.4em;background-color: white;}#sk-container-id-2 div.sk-label label {font-family: monospace;font-weight: bold;display: inline-block;line-height: 1.2em;}#sk-container-id-2 div.sk-label-container {text-align: center;}#sk-container-id-2 div.sk-container {/* jupyter's `normalize.less` sets `[hidden] { display: none; }` but bootstrap.min.css set `[hidden] { display: none !important; }` so we also need the `!important` here to be able to override the default hidden behavior on the sphinx rendered scikit-learn.org. See: https://github.com/scikit-learn/scikit-learn/issues/21755 */display: inline-block !important;position: relative;}#sk-container-id-2 div.sk-text-repr-fallback {display: none;}</style><div id=\"sk-container-id-2\" class=\"sk-top-container\"><div class=\"sk-text-repr-fallback\"><pre>RubiconPipeline(ignore_warnings=True,\n",
       "                project=&lt;rubicon_ml.client.project.Project object at 0x105efee90&gt;,\n",
       "                steps=[(&#x27;impute_island&#x27;,\n",
       "                        DistributionImputation(colname=&#x27;island&#x27;)),\n",
       "                       (&#x27;impute_bill_length_mm&#x27;,\n",
       "                        DistributionImputation(colname=&#x27;bill_length_mm&#x27;)),\n",
       "                       (&#x27;impute_bill_depth_mm&#x27;,\n",
       "                        DistributionImputation(colname=&#x27;bill_depth_mm&#x27;)),\n",
       "                       (&#x27;impute_flipper_length_mm&#x27;,\n",
       "                        DistributionImputation(colname=&#x27;flipper_length_mm&#x27;)),\n",
       "                       (&#x27;impute_body_mass_g&#x27;,\n",
       "                        DistributionImputation(colname=&#x27;body_mass_g&#x27;)),\n",
       "                       (&#x27;impute_sex&#x27;, DistributionImputation(colname=&#x27;sex&#x27;)),\n",
       "                       (&#x27;impute_year&#x27;, DistributionImputation(colname=&#x27;year&#x27;)),\n",
       "                       (&#x27;kn&#x27;, KNeighborsClassifier())])</pre><b>In a Jupyter environment, please rerun this cell to show the HTML representation or trust the notebook. <br />On GitHub, the HTML representation is unable to render, please try loading this page with nbviewer.org.</b></div><div class=\"sk-container\" hidden><div class=\"sk-item sk-dashed-wrapped\"><div class=\"sk-label-container\"><div class=\"sk-label sk-toggleable\"><input class=\"sk-toggleable__control sk-hidden--visually\" id=\"sk-estimator-id-10\" type=\"checkbox\" ><label for=\"sk-estimator-id-10\" class=\"sk-toggleable__label sk-toggleable__label-arrow\">RubiconPipeline</label><div class=\"sk-toggleable__content\"><pre>RubiconPipeline(ignore_warnings=True,\n",
       "                project=&lt;rubicon_ml.client.project.Project object at 0x105efee90&gt;,\n",
       "                steps=[(&#x27;impute_island&#x27;,\n",
       "                        DistributionImputation(colname=&#x27;island&#x27;)),\n",
       "                       (&#x27;impute_bill_length_mm&#x27;,\n",
       "                        DistributionImputation(colname=&#x27;bill_length_mm&#x27;)),\n",
       "                       (&#x27;impute_bill_depth_mm&#x27;,\n",
       "                        DistributionImputation(colname=&#x27;bill_depth_mm&#x27;)),\n",
       "                       (&#x27;impute_flipper_length_mm&#x27;,\n",
       "                        DistributionImputation(colname=&#x27;flipper_length_mm&#x27;)),\n",
       "                       (&#x27;impute_body_mass_g&#x27;,\n",
       "                        DistributionImputation(colname=&#x27;body_mass_g&#x27;)),\n",
       "                       (&#x27;impute_sex&#x27;, DistributionImputation(colname=&#x27;sex&#x27;)),\n",
       "                       (&#x27;impute_year&#x27;, DistributionImputation(colname=&#x27;year&#x27;)),\n",
       "                       (&#x27;kn&#x27;, KNeighborsClassifier())])</pre></div></div></div><div class=\"sk-serial\"><div class=\"sk-item\"><div class=\"sk-estimator sk-toggleable\"><input class=\"sk-toggleable__control sk-hidden--visually\" id=\"sk-estimator-id-11\" type=\"checkbox\" ><label for=\"sk-estimator-id-11\" class=\"sk-toggleable__label sk-toggleable__label-arrow\">DistributionImputation</label><div class=\"sk-toggleable__content\"><pre>{&#x27;task&#x27;: &#x27;DistributionImputation&#x27;, &#x27;args&#x27;: [], &#x27;kwargs&#x27;: {&#x27;colname&#x27;: &#x27;island&#x27;, &#x27;imputation_type&#x27;: &#x27;mean&#x27;}, &#x27;attr&#x27;: {&#x27;_imputation_type&#x27;: &#x27;mean&#x27;, &#x27;imputation_value&#x27;: 0.6625, &#x27;_fit&#x27;: True}, &#x27;name&#x27;: &#x27;DistributionImputation on island&#x27;}</pre></div></div></div><div class=\"sk-item\"><div class=\"sk-estimator sk-toggleable\"><input class=\"sk-toggleable__control sk-hidden--visually\" id=\"sk-estimator-id-12\" type=\"checkbox\" ><label for=\"sk-estimator-id-12\" class=\"sk-toggleable__label sk-toggleable__label-arrow\">DistributionImputation</label><div class=\"sk-toggleable__content\"><pre>{&#x27;task&#x27;: &#x27;DistributionImputation&#x27;, &#x27;args&#x27;: [], &#x27;kwargs&#x27;: {&#x27;colname&#x27;: &#x27;bill_length_mm&#x27;, &#x27;imputation_type&#x27;: &#x27;mean&#x27;}, &#x27;attr&#x27;: {&#x27;_imputation_type&#x27;: &#x27;mean&#x27;, &#x27;imputation_value&#x27;: 43.960084033613455, &#x27;_fit&#x27;: True}, &#x27;name&#x27;: &#x27;DistributionImputation on bill_length_mm&#x27;}</pre></div></div></div><div class=\"sk-item\"><div class=\"sk-estimator sk-toggleable\"><input class=\"sk-toggleable__control sk-hidden--visually\" id=\"sk-estimator-id-13\" type=\"checkbox\" ><label for=\"sk-estimator-id-13\" class=\"sk-toggleable__label sk-toggleable__label-arrow\">DistributionImputation</label><div class=\"sk-toggleable__content\"><pre>{&#x27;task&#x27;: &#x27;DistributionImputation&#x27;, &#x27;args&#x27;: [], &#x27;kwargs&#x27;: {&#x27;colname&#x27;: &#x27;bill_depth_mm&#x27;, &#x27;imputation_type&#x27;: &#x27;mean&#x27;}, &#x27;attr&#x27;: {&#x27;_imputation_type&#x27;: &#x27;mean&#x27;, &#x27;imputation_value&#x27;: 17.06764705882353, &#x27;_fit&#x27;: True}, &#x27;name&#x27;: &#x27;DistributionImputation on bill_depth_mm&#x27;}</pre></div></div></div><div class=\"sk-item\"><div class=\"sk-estimator sk-toggleable\"><input class=\"sk-toggleable__control sk-hidden--visually\" id=\"sk-estimator-id-14\" type=\"checkbox\" ><label for=\"sk-estimator-id-14\" class=\"sk-toggleable__label sk-toggleable__label-arrow\">DistributionImputation</label><div class=\"sk-toggleable__content\"><pre>{&#x27;task&#x27;: &#x27;DistributionImputation&#x27;, &#x27;args&#x27;: [], &#x27;kwargs&#x27;: {&#x27;colname&#x27;: &#x27;flipper_length_mm&#x27;, &#x27;imputation_type&#x27;: &#x27;mean&#x27;}, &#x27;attr&#x27;: {&#x27;_imputation_type&#x27;: &#x27;mean&#x27;, &#x27;imputation_value&#x27;: 201.64285714285714, &#x27;_fit&#x27;: True}, &#x27;name&#x27;: &#x27;DistributionImputation on flipper_length_mm&#x27;}</pre></div></div></div><div class=\"sk-item\"><div class=\"sk-estimator sk-toggleable\"><input class=\"sk-toggleable__control sk-hidden--visually\" id=\"sk-estimator-id-15\" type=\"checkbox\" ><label for=\"sk-estimator-id-15\" class=\"sk-toggleable__label sk-toggleable__label-arrow\">DistributionImputation</label><div class=\"sk-toggleable__content\"><pre>{&#x27;task&#x27;: &#x27;DistributionImputation&#x27;, &#x27;args&#x27;: [], &#x27;kwargs&#x27;: {&#x27;colname&#x27;: &#x27;body_mass_g&#x27;, &#x27;imputation_type&#x27;: &#x27;mean&#x27;}, &#x27;attr&#x27;: {&#x27;_imputation_type&#x27;: &#x27;mean&#x27;, &#x27;imputation_value&#x27;: 4253.781512605042, &#x27;_fit&#x27;: True}, &#x27;name&#x27;: &#x27;DistributionImputation on body_mass_g&#x27;}</pre></div></div></div><div class=\"sk-item\"><div class=\"sk-estimator sk-toggleable\"><input class=\"sk-toggleable__control sk-hidden--visually\" id=\"sk-estimator-id-16\" type=\"checkbox\" ><label for=\"sk-estimator-id-16\" class=\"sk-toggleable__label sk-toggleable__label-arrow\">DistributionImputation</label><div class=\"sk-toggleable__content\"><pre>{&#x27;task&#x27;: &#x27;DistributionImputation&#x27;, &#x27;args&#x27;: [], &#x27;kwargs&#x27;: {&#x27;colname&#x27;: &#x27;sex&#x27;, &#x27;imputation_type&#x27;: &#x27;mean&#x27;}, &#x27;attr&#x27;: {&#x27;_imputation_type&#x27;: &#x27;mean&#x27;, &#x27;imputation_value&#x27;: 0.5666666666666667, &#x27;_fit&#x27;: True}, &#x27;name&#x27;: &#x27;DistributionImputation on sex&#x27;}</pre></div></div></div><div class=\"sk-item\"><div class=\"sk-estimator sk-toggleable\"><input class=\"sk-toggleable__control sk-hidden--visually\" id=\"sk-estimator-id-17\" type=\"checkbox\" ><label for=\"sk-estimator-id-17\" class=\"sk-toggleable__label sk-toggleable__label-arrow\">DistributionImputation</label><div class=\"sk-toggleable__content\"><pre>{&#x27;task&#x27;: &#x27;DistributionImputation&#x27;, &#x27;args&#x27;: [], &#x27;kwargs&#x27;: {&#x27;colname&#x27;: &#x27;year&#x27;, &#x27;imputation_type&#x27;: &#x27;mean&#x27;}, &#x27;attr&#x27;: {&#x27;_imputation_type&#x27;: &#x27;mean&#x27;, &#x27;imputation_value&#x27;: 2008.0, &#x27;_fit&#x27;: True}, &#x27;name&#x27;: &#x27;DistributionImputation on year&#x27;}</pre></div></div></div><div class=\"sk-item\"><div class=\"sk-estimator sk-toggleable\"><input class=\"sk-toggleable__control sk-hidden--visually\" id=\"sk-estimator-id-18\" type=\"checkbox\" ><label for=\"sk-estimator-id-18\" class=\"sk-toggleable__label sk-toggleable__label-arrow\">KNeighborsClassifier</label><div class=\"sk-toggleable__content\"><pre>KNeighborsClassifier()</pre></div></div></div></div></div></div></div>"
      ],
      "text/plain": [
       "RubiconPipeline(ignore_warnings=True,\n",
       "                project=<rubicon_ml.client.project.Project object at 0x105efee90>,\n",
       "                steps=[('impute_island',\n",
       "                        DistributionImputation(colname='island')),\n",
       "                       ('impute_bill_length_mm',\n",
       "                        DistributionImputation(colname='bill_length_mm')),\n",
       "                       ('impute_bill_depth_mm',\n",
       "                        DistributionImputation(colname='bill_depth_mm')),\n",
       "                       ('impute_flipper_length_mm',\n",
       "                        DistributionImputation(colname='flipper_length_mm')),\n",
       "                       ('impute_body_mass_g',\n",
       "                        DistributionImputation(colname='body_mass_g')),\n",
       "                       ('impute_sex', DistributionImputation(colname='sex')),\n",
       "                       ('impute_year', DistributionImputation(colname='year')),\n",
       "                       ('kn', KNeighborsClassifier())])"
      ]
     },
     "execution_count": 3,
     "metadata": {},
     "output_type": "execute_result"
    }
   ],
   "source": [
    "pipe.fit(X_train, y_train)"
   ]
  },
  {
   "cell_type": "code",
   "execution_count": 4,
   "id": "3ea24a47",
   "metadata": {},
   "outputs": [
    {
     "data": {
      "text/plain": [
       "0.7596153846153846"
      ]
     },
     "execution_count": 4,
     "metadata": {},
     "output_type": "execute_result"
    }
   ],
   "source": [
    "pipe.score(X_test, y_test)"
   ]
  },
  {
   "cell_type": "markdown",
   "id": "eb781acd",
   "metadata": {},
   "source": [
    "#### Hiding Warnings in RubiconPipeline\n",
    "\n",
    "`RubiconPipeline` has an `ignore_warnings` attribute that when set to __True__ (default=__False__) will hide warnings generated by `RubiconPipeline.fit()`, `RubiconPipeline.score()`, and `RubiconPipeline.score_samples()` when . If you wish to see warnings again in future fits and scores, simply set `RubiconPipeline.ignore_warnings = False`.\n",
    "\n",
    "Here we are instantiating a pipeline that ignores warnings until told otherwise.\n"
   ]
  },
  {
   "cell_type": "code",
   "execution_count": null,
   "id": "46379135",
   "metadata": {},
   "outputs": [],
   "source": [
    "pipe_toggle_warnings = RubiconPipeline(\n",
    "    project,\n",
    "    [('scaler', StandardScaler()), ('svc', SVC())], ignore_warnings=True\n",
    ")"
   ]
  }
 ],
 "metadata": {
  "kernelspec": {
   "display_name": "Python 3 (ipykernel)",
   "language": "python",
   "name": "python3"
  },
  "language_info": {
   "codemirror_mode": {
    "name": "ipython",
    "version": 3
   },
   "file_extension": ".py",
   "mimetype": "text/x-python",
   "name": "python",
   "nbconvert_exporter": "python",
   "pygments_lexer": "ipython3",
   "version": "3.10.6"
  }
 },
 "nbformat": 4,
 "nbformat_minor": 5
}
