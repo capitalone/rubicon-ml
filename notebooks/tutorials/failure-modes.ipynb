{
 "cells": [
  {
   "cell_type": "markdown",
   "id": "7de3eb73-75e0-43b3-887e-329773a72bf0",
   "metadata": {},
   "source": [
    "# Failure Modes"
   ]
  },
  {
   "cell_type": "code",
   "execution_count": 1,
   "id": "682ab147-2963-413c-9e5b-5caf52198229",
   "metadata": {},
   "outputs": [],
   "source": [
    "from rubicon_ml import Rubicon"
   ]
  },
  {
   "cell_type": "code",
   "execution_count": 2,
   "id": "3c67e5ab-ed7b-4daa-957f-7b32d71a7c46",
   "metadata": {},
   "outputs": [
    {
     "data": {
      "text/plain": [
       "<rubicon_ml.client.project.Project at 0x1589a9f90>"
      ]
     },
     "execution_count": 2,
     "metadata": {},
     "output_type": "execute_result"
    }
   ],
   "source": [
    "rb = Rubicon(persistence=\"memory\")\n",
    "pr = rb.get_or_create_project(name=\"failure modes\")\n",
    "pr"
   ]
  },
  {
   "cell_type": "code",
   "execution_count": 3,
   "id": "c68859a1-2a23-4fc4-8e04-37476ad78e59",
   "metadata": {},
   "outputs": [
    {
     "data": {
      "text/plain": [
       "Experiment(project_name='failure modes', id='00cf6134-6b54-46f4-9ba6-6ae3d4c2d2db', name=None, description=None, model_name=None, branch_name=None, commit_hash=None, training_metadata=None, tags=[], created_at=datetime.datetime(2022, 11, 10, 21, 35, 55, 898051))"
      ]
     },
     "execution_count": 3,
     "metadata": {},
     "output_type": "execute_result"
    }
   ],
   "source": [
    "ex = pr.log_experiment()\n",
    "ex._domain"
   ]
  },
  {
   "cell_type": "code",
   "execution_count": 4,
   "id": "c9829b85-bd13-4875-baf9-d312f5396439",
   "metadata": {},
   "outputs": [
    {
     "data": {
      "text/plain": [
       "<rubicon_ml.client.experiment.Experiment at 0x1589ab460>"
      ]
     },
     "execution_count": 4,
     "metadata": {},
     "output_type": "execute_result"
    }
   ],
   "source": [
    "pr.log_experiment(tags=[\"a\", \"b\"])"
   ]
  },
  {
   "cell_type": "code",
   "execution_count": 5,
   "id": "24e1170f-603d-49c1-8914-bc7fbc5a0bb5",
   "metadata": {},
   "outputs": [
    {
     "ename": "TypeError",
     "evalue": "Project.log_experiment() got an unexpected keyword argument 'bad_arg'",
     "output_type": "error",
     "traceback": [
      "\u001b[0;31m---------------------------------------------------------------------------\u001b[0m",
      "\u001b[0;31mTypeError\u001b[0m                                 Traceback (most recent call last)",
      "Cell \u001b[0;32mIn [5], line 1\u001b[0m\n\u001b[0;32m----> 1\u001b[0m \u001b[43mpr\u001b[49m\u001b[38;5;241;43m.\u001b[39;49m\u001b[43mlog_experiment\u001b[49m\u001b[43m(\u001b[49m\u001b[43mbad_arg\u001b[49m\u001b[38;5;241;43m=\u001b[39;49m\u001b[38;5;28;43;01mNone\u001b[39;49;00m\u001b[43m)\u001b[49m\n",
      "File \u001b[0;32m~/github/capitalone/rubicon-ml/rubicon_ml/client/utils/exception_handling.py:21\u001b[0m, in \u001b[0;36mfailsafe.<locals>.wrapper\u001b[0;34m(*args, **kwargs)\u001b[0m\n\u001b[1;32m     19\u001b[0m \u001b[38;5;28;01mexcept\u001b[39;00m \u001b[38;5;167;01mException\u001b[39;00m \u001b[38;5;28;01mas\u001b[39;00m e:\n\u001b[1;32m     20\u001b[0m     \u001b[38;5;28;01mif\u001b[39;00m FAILURE_MODE \u001b[38;5;241m==\u001b[39m \u001b[38;5;124m\"\u001b[39m\u001b[38;5;124mraise\u001b[39m\u001b[38;5;124m\"\u001b[39m:\n\u001b[0;32m---> 21\u001b[0m         \u001b[38;5;28;01mraise\u001b[39;00m(e)\n\u001b[1;32m     22\u001b[0m     \u001b[38;5;28;01melif\u001b[39;00m FAILURE_MODE \u001b[38;5;241m==\u001b[39m \u001b[38;5;124m\"\u001b[39m\u001b[38;5;124mwarn\u001b[39m\u001b[38;5;124m\"\u001b[39m:\n\u001b[1;32m     23\u001b[0m         warnings\u001b[38;5;241m.\u001b[39mwarn(\u001b[38;5;28mrepr\u001b[39m(e))\n",
      "File \u001b[0;32m~/github/capitalone/rubicon-ml/rubicon_ml/client/utils/exception_handling.py:18\u001b[0m, in \u001b[0;36mfailsafe.<locals>.wrapper\u001b[0;34m(*args, **kwargs)\u001b[0m\n\u001b[1;32m     16\u001b[0m \u001b[38;5;28;01mdef\u001b[39;00m \u001b[38;5;21mwrapper\u001b[39m(\u001b[38;5;241m*\u001b[39margs, \u001b[38;5;241m*\u001b[39m\u001b[38;5;241m*\u001b[39mkwargs):\n\u001b[1;32m     17\u001b[0m     \u001b[38;5;28;01mtry\u001b[39;00m:\n\u001b[0;32m---> 18\u001b[0m         \u001b[38;5;28;01mreturn\u001b[39;00m \u001b[43mfunc\u001b[49m\u001b[43m(\u001b[49m\u001b[38;5;241;43m*\u001b[39;49m\u001b[43margs\u001b[49m\u001b[43m,\u001b[49m\u001b[43m \u001b[49m\u001b[38;5;241;43m*\u001b[39;49m\u001b[38;5;241;43m*\u001b[39;49m\u001b[43mkwargs\u001b[49m\u001b[43m)\u001b[49m\n\u001b[1;32m     19\u001b[0m     \u001b[38;5;28;01mexcept\u001b[39;00m \u001b[38;5;167;01mException\u001b[39;00m \u001b[38;5;28;01mas\u001b[39;00m e:\n\u001b[1;32m     20\u001b[0m         \u001b[38;5;28;01mif\u001b[39;00m FAILURE_MODE \u001b[38;5;241m==\u001b[39m \u001b[38;5;124m\"\u001b[39m\u001b[38;5;124mraise\u001b[39m\u001b[38;5;124m\"\u001b[39m:\n",
      "\u001b[0;31mTypeError\u001b[0m: Project.log_experiment() got an unexpected keyword argument 'bad_arg'"
     ]
    }
   ],
   "source": [
    "pr.log_experiment(bad_arg=None)"
   ]
  },
  {
   "cell_type": "code",
   "execution_count": 6,
   "id": "b05c2dee-8d25-4478-8027-c385f23d73f7",
   "metadata": {},
   "outputs": [],
   "source": [
    "from rubicon_ml.client.utils.exception_handling import set_failure_mode"
   ]
  },
  {
   "cell_type": "code",
   "execution_count": 7,
   "id": "52e59ec9-6ae7-4f6c-9d87-dc4e1948b6f1",
   "metadata": {},
   "outputs": [
    {
     "name": "stderr",
     "output_type": "stream",
     "text": [
      "/Users/nvd215/github/capitalone/rubicon-ml/rubicon_ml/client/utils/exception_handling.py:23: UserWarning: TypeError(\"Project.log_experiment() got an unexpected keyword argument 'bad_arg'\")\n",
      "  warnings.warn(repr(e))\n"
     ]
    }
   ],
   "source": [
    "set_failure_mode(\"warn\")\n",
    "\n",
    "pr.log_experiment(bad_arg=None)"
   ]
  },
  {
   "cell_type": "code",
   "execution_count": 8,
   "id": "bf6f22cf-e61e-4c80-86e9-b5a49b4dfb24",
   "metadata": {},
   "outputs": [
    {
     "name": "stderr",
     "output_type": "stream",
     "text": [
      "ERROR:root:TypeError(\"Project.log_experiment() got an unexpected keyword argument 'bad_arg'\")\n"
     ]
    }
   ],
   "source": [
    "set_failure_mode(\"log\")\n",
    "\n",
    "pr.log_experiment(bad_arg=None)"
   ]
  },
  {
   "cell_type": "code",
   "execution_count": 9,
   "id": "191b15c8-0497-4b36-87cd-893c36cf6252",
   "metadata": {},
   "outputs": [
    {
     "ename": "ValueError",
     "evalue": "`failure_mode` must be one of ['log', 'raise', 'warn']",
     "output_type": "error",
     "traceback": [
      "\u001b[0;31m---------------------------------------------------------------------------\u001b[0m",
      "\u001b[0;31mValueError\u001b[0m                                Traceback (most recent call last)",
      "Cell \u001b[0;32mIn [9], line 1\u001b[0m\n\u001b[0;32m----> 1\u001b[0m \u001b[43mset_failure_mode\u001b[49m\u001b[43m(\u001b[49m\u001b[38;5;124;43m\"\u001b[39;49m\u001b[38;5;124;43mfail\u001b[39;49m\u001b[38;5;124;43m\"\u001b[39;49m\u001b[43m)\u001b[49m\n\u001b[1;32m      3\u001b[0m pr\u001b[38;5;241m.\u001b[39mlog_experiment(bad_arg\u001b[38;5;241m=\u001b[39m\u001b[38;5;28;01mNone\u001b[39;00m)\n",
      "File \u001b[0;32m~/github/capitalone/rubicon-ml/rubicon_ml/client/utils/exception_handling.py:11\u001b[0m, in \u001b[0;36mset_failure_mode\u001b[0;34m(failure_mode)\u001b[0m\n\u001b[1;32m      8\u001b[0m \u001b[38;5;28;01mglobal\u001b[39;00m FAILURE_MODE\n\u001b[1;32m     10\u001b[0m \u001b[38;5;28;01mif\u001b[39;00m failure_mode \u001b[38;5;129;01mnot\u001b[39;00m \u001b[38;5;129;01min\u001b[39;00m FAILURE_MODES:\n\u001b[0;32m---> 11\u001b[0m     \u001b[38;5;28;01mraise\u001b[39;00m \u001b[38;5;167;01mValueError\u001b[39;00m(\u001b[38;5;124mf\u001b[39m\u001b[38;5;124m\"\u001b[39m\u001b[38;5;124m`failure_mode` must be one of \u001b[39m\u001b[38;5;132;01m{\u001b[39;00mFAILURE_MODES\u001b[38;5;132;01m}\u001b[39;00m\u001b[38;5;124m\"\u001b[39m)\n\u001b[1;32m     13\u001b[0m FAILURE_MODE \u001b[38;5;241m=\u001b[39m failure_mode\n",
      "\u001b[0;31mValueError\u001b[0m: `failure_mode` must be one of ['log', 'raise', 'warn']"
     ]
    }
   ],
   "source": [
    "set_failure_mode(\"fail\")\n",
    "\n",
    "pr.log_experiment(bad_arg=None)"
   ]
  },
  {
   "cell_type": "code",
   "execution_count": 10,
   "id": "23ab6659-812e-4246-a4cf-48743af5c9e4",
   "metadata": {},
   "outputs": [
    {
     "ename": "ValueError",
     "evalue": "`failure_mode` must be one of ['log', 'raise', 'warn']",
     "output_type": "error",
     "traceback": [
      "\u001b[0;31m---------------------------------------------------------------------------\u001b[0m",
      "\u001b[0;31mValueError\u001b[0m                                Traceback (most recent call last)",
      "Cell \u001b[0;32mIn [10], line 1\u001b[0m\n\u001b[0;32m----> 1\u001b[0m \u001b[43mset_failure_mode\u001b[49m\u001b[43m(\u001b[49m\u001b[38;5;28;43;01mNone\u001b[39;49;00m\u001b[43m)\u001b[49m\n",
      "File \u001b[0;32m~/github/capitalone/rubicon-ml/rubicon_ml/client/utils/exception_handling.py:11\u001b[0m, in \u001b[0;36mset_failure_mode\u001b[0;34m(failure_mode)\u001b[0m\n\u001b[1;32m      8\u001b[0m \u001b[38;5;28;01mglobal\u001b[39;00m FAILURE_MODE\n\u001b[1;32m     10\u001b[0m \u001b[38;5;28;01mif\u001b[39;00m failure_mode \u001b[38;5;129;01mnot\u001b[39;00m \u001b[38;5;129;01min\u001b[39;00m FAILURE_MODES:\n\u001b[0;32m---> 11\u001b[0m     \u001b[38;5;28;01mraise\u001b[39;00m \u001b[38;5;167;01mValueError\u001b[39;00m(\u001b[38;5;124mf\u001b[39m\u001b[38;5;124m\"\u001b[39m\u001b[38;5;124m`failure_mode` must be one of \u001b[39m\u001b[38;5;132;01m{\u001b[39;00mFAILURE_MODES\u001b[38;5;132;01m}\u001b[39;00m\u001b[38;5;124m\"\u001b[39m)\n\u001b[1;32m     13\u001b[0m FAILURE_MODE \u001b[38;5;241m=\u001b[39m failure_mode\n",
      "\u001b[0;31mValueError\u001b[0m: `failure_mode` must be one of ['log', 'raise', 'warn']"
     ]
    }
   ],
   "source": [
    "set_failure_mode(None)"
   ]
  }
 ],
 "metadata": {
  "kernelspec": {
   "display_name": "Python 3 (ipykernel)",
   "language": "python",
   "name": "python3"
  },
  "language_info": {
   "codemirror_mode": {
    "name": "ipython",
    "version": 3
   },
   "file_extension": ".py",
   "mimetype": "text/x-python",
   "name": "python",
   "nbconvert_exporter": "python",
   "pygments_lexer": "ipython3",
   "version": "3.10.6"
  }
 },
 "nbformat": 4,
 "nbformat_minor": 5
}
