{
 "cells": [
  {
   "cell_type": "markdown",
   "id": "overall-windsor",
   "metadata": {},
   "source": [
    "# `rubicon` - `sklearn` Integration\n",
    "\n",
    "Integrate `rubicon` into your Scikit Learn pipelines without the need to add logger statements all over your code."
   ]
  },
  {
   "cell_type": "markdown",
   "id": "certified-ready",
   "metadata": {},
   "source": [
    "## Simple pipeline run\n",
    "\n",
    "We'll setup a simple pipeline and use the `rubicon`'s sklearn integration to automatically log parameters and metrics as we fit and score the model."
   ]
  },
  {
   "cell_type": "code",
   "execution_count": null,
   "id": "inside-moore",
   "metadata": {},
   "outputs": [],
   "source": [
    "from sklearn.svm import SVC\n",
    "from sklearn.preprocessing import StandardScaler\n",
    "from sklearn.datasets import make_classification\n",
    "from sklearn.model_selection import train_test_split\n",
    "from sklearn.pipeline import Pipeline\n",
    "\n",
    "from rubicon import Rubicon\n",
    "from rubicon.sklearn import RubiconPipeline\n",
    "\n",
    "rubicon = Rubicon(persistence=\"memory\", root_dir=\"root\")\n",
    "project = rubicon.get_or_create_project(\"Rubicon Pipeline Example\")\n",
    "\n",
    "X, y = make_classification(random_state=0)\n",
    "X_train, X_test, y_train, y_test = train_test_split(X, y, random_state=0)\n",
    "\n",
    "pipe = RubiconPipeline([('scaler', StandardScaler()), ('svc', SVC())], project)\n",
    "pipe"
   ]
  },
  {
   "cell_type": "code",
   "execution_count": null,
   "id": "excellent-tuesday",
   "metadata": {},
   "outputs": [],
   "source": [
    "pipe.fit(X_train, y_train)"
   ]
  },
  {
   "cell_type": "code",
   "execution_count": null,
   "id": "characteristic-malawi",
   "metadata": {},
   "outputs": [],
   "source": [
    "pipe.score(X_test, y_test)"
   ]
  },
  {
   "cell_type": "markdown",
   "id": "tutorial-bulletin",
   "metadata": {},
   "source": [
    "### Fetch the results from Rubicon\n",
    "\n",
    "During the pipeline run, an experiment was automatically created and the corresponding parameters and metrics logged to it. We can use the `rubicon` library to pull these experiments back or view them on the dashboard."
   ]
  },
  {
   "cell_type": "code",
   "execution_count": null,
   "id": "genuine-triangle",
   "metadata": {},
   "outputs": [],
   "source": [
    "experiments = project.experiments()\n",
    "print(f\"{len(experiments)} experiment(s)\")\n",
    "experiment = experiments[0]\n",
    "experiment"
   ]
  },
  {
   "cell_type": "code",
   "execution_count": null,
   "id": "south-registrar",
   "metadata": {},
   "outputs": [],
   "source": [
    "for param in experiment.parameters():\n",
    "    print(f\"{param.name}: {param.value}\")"
   ]
  },
  {
   "cell_type": "code",
   "execution_count": null,
   "id": "mounted-decision",
   "metadata": {},
   "outputs": [],
   "source": [
    "for metric in experiment.metrics():\n",
    "    print(f\"{metric.name}: {metric.value}\")"
   ]
  },
  {
   "cell_type": "markdown",
   "id": "finite-rescue",
   "metadata": {},
   "source": [
    "## Use GridSearch\n",
    "\n",
    "`GridSearch` is commonly used to test many different parameters across an estimator or pipeline. \n",
    "Each set of parameters tried in the grid search will be logged as an individual experiment."
   ]
  },
  {
   "cell_type": "code",
   "execution_count": null,
   "id": "sapphire-standing",
   "metadata": {},
   "outputs": [],
   "source": [
    "from sklearn.datasets import fetch_20newsgroups\n",
    "from sklearn.feature_extraction.text import CountVectorizer\n",
    "from sklearn.feature_extraction.text import TfidfTransformer\n",
    "from sklearn.linear_model import SGDClassifier\n",
    "from sklearn.model_selection import GridSearchCV"
   ]
  },
  {
   "cell_type": "code",
   "execution_count": null,
   "id": "handy-relative",
   "metadata": {},
   "outputs": [],
   "source": [
    "categories = [\"alt.atheism\", \"talk.religion.misc\"]\n",
    "\n",
    "print(\"Loading 20 newsgroups dataset for categories:\")\n",
    "print(categories)\n",
    "\n",
    "data = fetch_20newsgroups(subset='train', categories=categories)\n",
    "print(\"%d documents\" % len(data.filenames))\n",
    "print(\"%d categories\" % len(data.target_names))"
   ]
  },
  {
   "cell_type": "code",
   "execution_count": null,
   "id": "regulation-active",
   "metadata": {},
   "outputs": [],
   "source": [
    "! rm -r ./rubicon-root"
   ]
  },
  {
   "cell_type": "code",
   "execution_count": null,
   "id": "physical-radio",
   "metadata": {},
   "outputs": [],
   "source": [
    "from rubicon import Rubicon\n",
    "from rubicon.sklearn import FilterLogger, RubiconPipeline\n",
    "\n",
    "\n",
    "rubicon = Rubicon(persistence=\"filesystem\", root_dir=\"./rubicon-root\")\n",
    "project = rubicon.get_or_create_project(\"Rubicon Grid Search Example\")\n",
    "\n",
    "pipeline = RubiconPipeline(\n",
    "    project,\n",
    "    [\n",
    "        (\"vect\", CountVectorizer()),\n",
    "        (\"tfidf\", TfidfTransformer()),\n",
    "        (\"clf\", SGDClassifier()),\n",
    "    ],\n",
    "    user_defined_loggers = {\n",
    "        \"vect\": FilterLogger(ignore=[\"dtype\"]),\n",
    "        \"tfidf\": FilterLogger(ignore_all=True),\n",
    "        \"clf\": FilterLogger(select=[\"max_iter\", \"alpha\", \"penalty\"]),\n",
    "    }\n",
    ")"
   ]
  },
  {
   "cell_type": "code",
   "execution_count": null,
   "id": "agricultural-ratio",
   "metadata": {},
   "outputs": [],
   "source": [
    "parameters = {\n",
    "    \"vect__max_df\": (0.5, 0.75, 1.0),\n",
    "    \"vect__ngram_range\": ((1, 1), (1, 2)),\n",
    "    \"clf__max_iter\": (20,),\n",
    "    \"clf__alpha\": (0.00001, 0.000001),\n",
    "    \"clf__penalty\": (\"l2\", \"elasticnet\"),\n",
    "}\n",
    "\n",
    "grid_search = GridSearchCV(pipeline, parameters, cv=2, n_jobs=-1, verbose=1)\n",
    "\n",
    "print(\"Performing grid search...\")\n",
    "print(\"RubiconPipeline:\", [name for name, *_ in pipeline.steps])\n",
    "\n",
    "grid_search.fit(data.data, data.target, tags=[\"gridsearch\", \"param set 1\"])"
   ]
  },
  {
   "cell_type": "markdown",
   "id": "honest-breach",
   "metadata": {},
   "source": [
    "Fetching just the best parameters from the `GridSearchCV` object involves digging into the objects properties."
   ]
  },
  {
   "cell_type": "code",
   "execution_count": null,
   "id": "green-locking",
   "metadata": {},
   "outputs": [],
   "source": [
    "print(\"Best score: %0.3f\" % grid_search.best_score_)\n",
    "print(\"Best parameters set:\")\n",
    "best_parameters = grid_search.best_estimator_.get_params()\n",
    "for param_name in sorted(parameters.keys()):\n",
    "    print(\"\\t%s: %r\" % (param_name, best_parameters[param_name]))"
   ]
  },
  {
   "cell_type": "markdown",
   "id": "greater-gross",
   "metadata": {},
   "source": [
    "### Fetch the results from Rubicon\n",
    "\n",
    "But with `rubicon`, we can inspect the details of each pipeline run with only a few lines of code!"
   ]
  },
  {
   "cell_type": "code",
   "execution_count": null,
   "id": "worthy-kinase",
   "metadata": {},
   "outputs": [],
   "source": [
    "experiments = project.experiments()\n",
    "\n",
    "num_experiments = len(experiments)\n",
    "num_parameters_each = len(experiments[0].parameters())\n",
    "\n",
    "print(f\"{num_experiments} experiments logged with {num_parameters_each} parameters each\")"
   ]
  },
  {
   "cell_type": "code",
   "execution_count": null,
   "id": "apart-consequence",
   "metadata": {},
   "outputs": [],
   "source": [
    "from rubicon.ui import Dashboard\n",
    "\n",
    "Dashboard(persistence=\"filesystem\", root_dir=\"./rubicon-root\").run_server()"
   ]
  },
  {
   "cell_type": "markdown",
   "id": "psychological-supervision",
   "metadata": {},
   "source": [
    "## What's Next?\n",
    "\n",
    "user-defined loggers"
   ]
  },
  {
   "cell_type": "code",
   "execution_count": null,
   "id": "monthly-murray",
   "metadata": {},
   "outputs": [],
   "source": [
    "from my_lib import MyLogger, MyOtherLogger\n",
    "\n",
    "pipeline = RubiconPipeline(\n",
    "    [\n",
    "        (\"vect\", CountVectorizer(), MyLogger),\n",
    "        (\"tfidf\", TfidfTransformer(), MyOtherLogger),\n",
    "        (\"clf\", SGDClassifier()),\n",
    "    ],\n",
    "    project,\n",
    ")"
   ]
  },
  {
   "cell_type": "markdown",
   "id": "attempted-allergy",
   "metadata": {},
   "source": [
    "re-construct `RubiconPipeline`s from experiments"
   ]
  },
  {
   "cell_type": "code",
   "execution_count": null,
   "id": "unlikely-lithuania",
   "metadata": {},
   "outputs": [],
   "source": [
    "project = rubicon.get_or_create_project(\"Rubicon Grid Search Example\")\n",
    "experiment = project.experiments()[0]\n",
    "\n",
    "pipeline = experiment.reconstruct_pipeline()\n",
    "pipeline.score(my_data)"
   ]
  }
 ],
 "metadata": {
  "kernelspec": {
   "display_name": "Python 3",
   "language": "python",
   "name": "python3"
  },
  "language_info": {
   "codemirror_mode": {
    "name": "ipython",
    "version": 3
   },
   "file_extension": ".py",
   "mimetype": "text/x-python",
   "name": "python",
   "nbconvert_exporter": "python",
   "pygments_lexer": "ipython3",
   "version": "3.8.8"
  }
 },
 "nbformat": 4,
 "nbformat_minor": 5
}
