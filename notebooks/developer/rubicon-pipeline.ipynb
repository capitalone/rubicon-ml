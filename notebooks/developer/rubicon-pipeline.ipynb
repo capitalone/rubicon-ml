{
 "cells": [
  {
   "cell_type": "markdown",
   "id": "certified-ready",
   "metadata": {},
   "source": [
    "## Simple pipeline run\n",
    "\n",
    "We'll setup a simple pipeline and use the `rubicon`'s sklearn integration to automatically log parameters and metrics as we fit and score the model."
   ]
  },
  {
   "cell_type": "code",
   "execution_count": null,
   "id": "inside-moore",
   "metadata": {},
   "outputs": [],
   "source": [
    "from sklearn.svm import SVC\n",
    "from sklearn.preprocessing import StandardScaler\n",
    "from sklearn.datasets import make_classification\n",
    "from sklearn.model_selection import train_test_split\n",
    "from sklearn.pipeline import Pipeline\n",
    "\n",
    "from rubicon import Rubicon\n",
    "from rubicon.sklearn import RubiconPipeline\n",
    "\n",
    "rubicon = Rubicon(persistence=\"filesystem\", root_dir=\"./rubicon-root\")\n",
    "project = rubicon.get_or_create_project(\"Rubicon Pipeline Example\")\n",
    "\n",
    "X, y = make_classification(random_state=0)\n",
    "X_train, X_test, y_train, y_test = train_test_split(X, y, random_state=0)\n",
    "\n",
    "pipe = RubiconPipeline([('scaler', StandardScaler()), ('svc', SVC())], project)\n",
    "pipe"
   ]
  },
  {
   "cell_type": "code",
   "execution_count": null,
   "id": "informal-forum",
   "metadata": {},
   "outputs": [],
   "source": [
    "pipe.fit(X_train, y_train)"
   ]
  },
  {
   "cell_type": "code",
   "execution_count": null,
   "id": "pleasant-reflection",
   "metadata": {},
   "outputs": [],
   "source": [
    "pipe.score(X_test, y_test)"
   ]
  },
  {
   "cell_type": "markdown",
   "id": "running-sessions",
   "metadata": {},
   "source": [
    "### Fetch the results from Rubicon\n",
    "\n",
    "During the pipeline run, an experiment was automatically created and the corresponding parameters and metrics logged to it. We can use the `rubicon` library to pull these experiments back or view them on the dashboard."
   ]
  },
  {
   "cell_type": "code",
   "execution_count": null,
   "id": "genuine-triangle",
   "metadata": {},
   "outputs": [],
   "source": [
    "experiments = project.experiments()\n",
    "print(f\"{len(experiments)} experiment(s)\")\n",
    "experiment = experiments[0]\n",
    "experiment"
   ]
  },
  {
   "cell_type": "code",
   "execution_count": null,
   "id": "south-registrar",
   "metadata": {},
   "outputs": [],
   "source": [
    "for param in experiment.parameters():\n",
    "    print(f\"{param.name}: {param.value}\")"
   ]
  },
  {
   "cell_type": "code",
   "execution_count": null,
   "id": "mounted-decision",
   "metadata": {},
   "outputs": [],
   "source": [
    "for metric in experiment.metrics():\n",
    "    print(f\"{metric.name}: {metric.value}\")"
   ]
  },
  {
   "cell_type": "code",
   "execution_count": null,
   "id": "immediate-example",
   "metadata": {},
   "outputs": [],
   "source": [
    "! rubicon ui --root-dir \"./rubicon-root\""
   ]
  }
 ],
 "metadata": {
  "kernelspec": {
   "display_name": "Python 3",
   "language": "python",
   "name": "python3"
  },
  "language_info": {
   "codemirror_mode": {
    "name": "ipython",
    "version": 3
   },
   "file_extension": ".py",
   "mimetype": "text/x-python",
   "name": "python",
   "nbconvert_exporter": "python",
   "pygments_lexer": "ipython3",
   "version": "3.9.2"
  }
 },
 "nbformat": 4,
 "nbformat_minor": 5
}
