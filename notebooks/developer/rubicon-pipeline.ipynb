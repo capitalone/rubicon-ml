{
 "cells": [
  {
   "cell_type": "markdown",
   "id": "certified-ready",
   "metadata": {},
   "source": [
    "## Simple pipeline run\n",
    "\n",
    "We'll setup a simple pipeline and use the `rubicon`'s sklearn integration to automatically log parameters and metrics as we fit and score the model."
   ]
  },
  {
   "cell_type": "code",
   "execution_count": null,
   "id": "inside-moore",
   "metadata": {},
   "outputs": [],
   "source": [
    "from sklearn.svm import SVC\n",
    "from sklearn.preprocessing import StandardScaler\n",
    "from sklearn.datasets import make_classification\n",
    "from sklearn.model_selection import train_test_split\n",
    "from sklearn.pipeline import Pipeline\n",
    "\n",
    "from rubicon import Rubicon\n",
    "from rubicon.sklearn import RubiconPipeline\n",
    "\n",
    "rubicon = Rubicon(persistence=\"filesystem\", root_dir=\"./rubicon-root\")\n",
    "project = rubicon.get_or_create_project(\"Rubicon Pipeline Example\")\n",
    "\n",
    "X, y = make_classification(random_state=0)\n",
    "X_train, X_test, y_train, y_test = train_test_split(X, y, random_state=0)\n",
    "\n",
    "pipe = RubiconPipeline([('scaler', StandardScaler()), ('svc', SVC())], project)\n",
    "pipe"
   ]
  },
  {
   "cell_type": "code",
   "execution_count": null,
   "id": "excellent-tuesday",
   "metadata": {},
   "outputs": [],
   "source": [
    "pipe.fit(X_train, y_train)"
   ]
  },
  {
   "cell_type": "code",
   "execution_count": null,
   "id": "characteristic-malawi",
   "metadata": {},
   "outputs": [],
   "source": [
    "pipe.score(X_test, y_test)"
   ]
  },
  {
   "cell_type": "markdown",
   "id": "tutorial-bulletin",
   "metadata": {},
   "source": [
    "### Fetch the results from Rubicon\n",
    "\n",
    "During the pipeline run, an experiment was automatically created and the corresponding parameters and metrics logged to it. We can use the `rubicon` library to pull these experiments back or view them on the dashboard."
   ]
  },
  {
   "cell_type": "code",
   "execution_count": null,
   "id": "genuine-triangle",
   "metadata": {},
   "outputs": [],
   "source": [
    "experiments = project.experiments()\n",
    "print(f\"{len(experiments)} experiment(s)\")\n",
    "experiment = experiments[0]\n",
    "experiment"
   ]
  },
  {
   "cell_type": "code",
   "execution_count": null,
   "id": "south-registrar",
   "metadata": {},
   "outputs": [],
   "source": [
    "for param in experiment.parameters():\n",
    "    print(f\"{param.name}: {param.value}\")"
   ]
  },
  {
   "cell_type": "code",
   "execution_count": null,
   "id": "mounted-decision",
   "metadata": {},
   "outputs": [],
   "source": [
    "for metric in experiment.metrics():\n",
    "    print(f\"{metric.name}: {metric.value}\")"
   ]
  },
  {
   "cell_type": "code",
   "execution_count": null,
   "id": "immediate-example",
   "metadata": {},
   "outputs": [],
   "source": [
    "! rubicon ui --root-dir \"./rubicon-root\""
   ]
  },
  {
   "cell_type": "markdown",
   "id": "finite-rescue",
   "metadata": {},
   "source": [
    "## Use GridSearch"
   ]
  },
  {
   "cell_type": "code",
   "execution_count": null,
   "id": "physical-spring",
   "metadata": {},
   "outputs": [],
   "source": [
    "from pprint import pprint\n",
    "from time import time\n",
    "from sklearn.svm import SVC\n",
    "from sklearn.preprocessing import StandardScaler\n",
    "from sklearn.datasets import make_classification\n",
    "from sklearn.model_selection import train_test_split\n",
    "from sklearn.pipeline import Pipeline\n",
    "from sklearn.model_selection import GridSearchCV\n",
    "\n",
    "from rubicon import Rubicon\n",
    "from rubicon.sklearn import RubiconPipeline\n",
    "\n",
    "rubicon = Rubicon(persistence=\"filesystem\", root_dir=\"./rubicon-root\")\n",
    "project = rubicon.get_or_create_project(\"Rubicon Grid Search Example\")\n",
    "\n",
    "X, y = make_classification(random_state=0)\n",
    "X_train, X_test, y_train, y_test = train_test_split(X, y, random_state=0)\n",
    "\n",
    "pipeline = RubiconPipeline([('scaler', StandardScaler()), ('svc', SVC())], project)\n",
    "pipeline"
   ]
  },
  {
   "cell_type": "code",
   "execution_count": null,
   "id": "fifteen-muscle",
   "metadata": {},
   "outputs": [],
   "source": [
    "parameters = {\n",
    "    'scaler__with_mean': (True, False),\n",
    "    'svc__kernel': ('linear', 'poly')\n",
    "}\n",
    "\n",
    "grid_search = GridSearchCV(pipeline, parameters)\n",
    "\n",
    "print(\"pipeline:\", [name for name, _ in pipeline.steps])\n",
    "print(\"parameters:\")\n",
    "pprint(parameters)\n",
    "t0 = time()\n",
    "\n",
    "grid_search.fit(X_train, y_train)\n",
    "print(\"done in %0.3fs\" % (time() - t0))\n",
    "print()\n",
    "\n",
    "print(\"Best score: %0.3f\" % grid_search.best_score_)\n",
    "print(\"Best parameters set:\")\n",
    "best_parameters = grid_search.best_estimator_.get_params()\n",
    "for param_name in sorted(parameters.keys()):\n",
    "    print(\"\\t%s: %r\" % (param_name, best_parameters[param_name]))"
   ]
  },
  {
   "cell_type": "code",
   "execution_count": null,
   "id": "bigger-encoding",
   "metadata": {},
   "outputs": [],
   "source": [
    "experiments = project.experiments()\n",
    "print(f\"{len(experiments)} experiments logged\")\n",
    "\n",
    "for e in experiments:\n",
    "    print(e.parameters())"
   ]
  },
  {
   "cell_type": "code",
   "execution_count": null,
   "id": "integral-billy",
   "metadata": {},
   "outputs": [],
   "source": [
    "! rubicon ui --root-dir \"./rubicon-root\""
   ]
  },
  {
   "cell_type": "code",
   "execution_count": null,
   "id": "matched-staff",
   "metadata": {},
   "outputs": [],
   "source": []
  }
 ],
 "metadata": {
  "kernelspec": {
   "display_name": "Python 3",
   "language": "python",
   "name": "python3"
  },
  "language_info": {
   "codemirror_mode": {
    "name": "ipython",
    "version": 3
   },
   "file_extension": ".py",
   "mimetype": "text/x-python",
   "name": "python",
   "nbconvert_exporter": "python",
   "pygments_lexer": "ipython3",
   "version": "3.9.2"
  }
 },
 "nbformat": 4,
 "nbformat_minor": 5
}
