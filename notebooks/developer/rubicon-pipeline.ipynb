{
 "cells": [
  {
   "cell_type": "code",
   "execution_count": null,
   "id": "known-cooling",
   "metadata": {},
   "outputs": [],
   "source": [
    "from sklearn.datasets import fetch_20newsgroups\n",
    "from sklearn.feature_extraction.text import CountVectorizer\n",
    "from sklearn.feature_extraction.text import TfidfTransformer\n",
    "from sklearn.linear_model import SGDClassifier\n",
    "\n",
    "from rubicon import Rubicon\n",
    "from rubicon.sklearn import RubiconPipeline"
   ]
  },
  {
   "cell_type": "code",
   "execution_count": null,
   "id": "embedded-crisis",
   "metadata": {},
   "outputs": [],
   "source": [
    "categories = [\"alt.atheism\", \"talk.religion.misc\"]\n",
    "data = fetch_20newsgroups(subset='train', categories=categories)"
   ]
  },
  {
   "cell_type": "code",
   "execution_count": null,
   "id": "elementary-atlanta",
   "metadata": {},
   "outputs": [],
   "source": [
    "rubicon = Rubicon(persistence=\"memory\")\n",
    "project = rubicon.get_or_create_project(\"Rubicon Pipeline Example\")\n",
    "\n",
    "pipeline = RubiconPipeline(\n",
    "    [\n",
    "        ('vect', CountVectorizer()),\n",
    "        ('tfidf', TfidfTransformer()),\n",
    "        ('clf', SGDClassifier()),\n",
    "    ],\n",
    "    project,\n",
    ")\n",
    "\n",
    "pipeline.fit(data.data, data.target)"
   ]
  },
  {
   "cell_type": "code",
   "execution_count": null,
   "id": "vertical-egyptian",
   "metadata": {},
   "outputs": [],
   "source": [
    "pipeline.__dict__"
   ]
  },
  {
   "cell_type": "code",
   "execution_count": null,
   "id": "guided-upset",
   "metadata": {},
   "outputs": [],
   "source": [
    "pipeline[\"clf\"].__dict__"
   ]
  },
  {
   "cell_type": "code",
   "execution_count": null,
   "id": "accredited-store",
   "metadata": {},
   "outputs": [],
   "source": []
  },
  {
   "cell_type": "code",
   "execution_count": null,
   "id": "every-meter",
   "metadata": {},
   "outputs": [],
   "source": [
    "from rubicon.sklearn import get_logger"
   ]
  },
  {
   "cell_type": "code",
   "execution_count": null,
   "id": "right-things",
   "metadata": {},
   "outputs": [],
   "source": [
    "base_logger = get_logger(\"there aren't any yet\")"
   ]
  },
  {
   "cell_type": "code",
   "execution_count": null,
   "id": "athletic-robin",
   "metadata": {},
   "outputs": [],
   "source": [
    "base_logger()"
   ]
  },
  {
   "cell_type": "markdown",
   "id": "certified-ready",
   "metadata": {},
   "source": [
    "## Simple pipeline with fit and score"
   ]
  },
  {
   "cell_type": "code",
   "execution_count": null,
   "id": "inside-moore",
   "metadata": {},
   "outputs": [],
   "source": [
    "from sklearn.svm import SVC\n",
    "from sklearn.preprocessing import StandardScaler\n",
    "from sklearn.datasets import make_classification\n",
    "from sklearn.model_selection import train_test_split\n",
    "from sklearn.pipeline import Pipeline\n",
    "\n",
    "from rubicon import Rubicon\n",
    "from rubicon.sklearn import RubiconPipeline\n",
    "\n",
    "rubicon = Rubicon(persistence=\"memory\")\n",
    "project = rubicon.get_or_create_project(\"Rubicon Pipeline Example\")\n",
    "\n",
    "X, y = make_classification(random_state=0)\n",
    "X_train, X_test, y_train, y_test = train_test_split(X, y, random_state=0)\n",
    "\n",
    "pipe = RubiconPipeline([('scaler', StandardScaler()), ('svc', SVC())], project)\n",
    "\n",
    "# The pipeline can be used as any other estimator\n",
    "# and avoids leaking the test set into the train set\n",
    "pipe.fit(X_train, y_train)\n",
    "\n",
    "pipe.score(X_test, y_test)"
   ]
  },
  {
   "cell_type": "code",
   "execution_count": null,
   "id": "genuine-triangle",
   "metadata": {},
   "outputs": [],
   "source": [
    "experiment = project.experiments()[0]"
   ]
  },
  {
   "cell_type": "code",
   "execution_count": null,
   "id": "south-registrar",
   "metadata": {},
   "outputs": [],
   "source": [
    "for param in experiment.parameters():\n",
    "    print(f\"{param.name}: {param.value}\")"
   ]
  },
  {
   "cell_type": "code",
   "execution_count": null,
   "id": "mounted-decision",
   "metadata": {},
   "outputs": [],
   "source": [
    "for metric in experiment.metrics():\n",
    "    print(f\"{metric.name}: {metric.value}\")"
   ]
  },
  {
   "cell_type": "code",
   "execution_count": null,
   "id": "immediate-example",
   "metadata": {},
   "outputs": [],
   "source": []
  },
  {
   "cell_type": "code",
   "execution_count": null,
   "id": "adolescent-clarity",
   "metadata": {},
   "outputs": [],
   "source": []
  }
 ],
 "metadata": {
  "kernelspec": {
   "display_name": "Python 3",
   "language": "python",
   "name": "python3"
  },
  "language_info": {
   "codemirror_mode": {
    "name": "ipython",
    "version": 3
   },
   "file_extension": ".py",
   "mimetype": "text/x-python",
   "name": "python",
   "nbconvert_exporter": "python",
   "pygments_lexer": "ipython3",
   "version": "3.9.2"
  }
 },
 "nbformat": 4,
 "nbformat_minor": 5
}
