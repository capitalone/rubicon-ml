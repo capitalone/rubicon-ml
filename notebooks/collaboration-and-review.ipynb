{
 "cells": [
  {
   "cell_type": "markdown",
   "metadata": {},
   "source": [
    "# Collaboration and Review\n",
    "\n",
    "We can use `rubicon` to share experiment results with teammates and collaborators by `publishing` experiments.\n",
    "\n",
    "After we've run a few experiments in the *Iris Classifier* example, let's publishing those experiments for sharing with collaborators or reviewers."
   ]
  },
  {
   "cell_type": "code",
   "execution_count": null,
   "metadata": {},
   "outputs": [],
   "source": [
    "from rubicon import Rubicon\n",
    "\n",
    "root_dir = \"./rubicon-root\"\n",
    "rubicon = Rubicon(persistence=\"filesystem\", root_dir=root_dir)\n",
    "\n",
    "help(rubicon.publish)"
   ]
  },
  {
   "cell_type": "code",
   "execution_count": null,
   "metadata": {},
   "outputs": [],
   "source": [
    "catalog_yml = rubicon.publish(\"Iris Model\")\n",
    "print(catalog_yml)"
   ]
  },
  {
   "cell_type": "markdown",
   "metadata": {},
   "source": [
    "**Catalogs** are simply YAML files that the `rubicon` Intake driver can read and convert back to native `rubicon` objects. **The publishing process does not copy or move any data from the source it was originally logged to.** **Catalogs** point to the source data and tell the `rubicon` Intake driver how to read it. \n",
    "\n",
    "*Access controls should be properly defined on the underlying storage layer such that experimenters and reviewers can read and write as appropriate.*\n",
    "\n",
    "___\n",
    "\n",
    "In the above **catalog**, we published all of the *Iris Model* project's experiments. We can use the experiments' IDs to publish a subset of them. The next one only contains the *Iris Model* project's first experiment."
   ]
  },
  {
   "cell_type": "code",
   "execution_count": null,
   "metadata": {},
   "outputs": [],
   "source": [
    "project = rubicon.get_project(\"Iris Model\")\n",
    "first_experiment = project.experiments()[0]\n",
    "\n",
    "catalog_yml = rubicon.publish(\"Iris Model\", experiment_ids=[first_experiment.id])\n",
    "print(catalog_yml)"
   ]
  },
  {
   "cell_type": "markdown",
   "metadata": {},
   "source": [
    "We can also use the experiments' tags to select which ones we want to publish. Let's make a **catalog** with all our successful experiments."
   ]
  },
  {
   "cell_type": "code",
   "execution_count": null,
   "metadata": {},
   "outputs": [],
   "source": [
    "catalog_yml = rubicon.publish(\"Iris Model\", experiment_tags=[\"success\"])\n",
    "print(catalog_yml)"
   ]
  },
  {
   "cell_type": "markdown",
   "metadata": {},
   "source": [
    "At this point, sharing our published experiments is a copy/paste away! We can share the YAML with whoever we want to use it, and they can use `rubicon` to load the referenced experiments. If we'd rather send a file, we can write one by specifying the `output_filepath` parameter."
   ]
  },
  {
   "cell_type": "code",
   "execution_count": null,
   "metadata": {},
   "outputs": [],
   "source": [
    "rubicon.publish(\"Iris Model\", experiment_tags=[\"success\"], output_filepath=\"./catalog.yml\")\n",
    "\n",
    "! ls -l catalog.yml\n",
    "! cat catalog.yml"
   ]
  },
  {
   "cell_type": "markdown",
   "metadata": {},
   "source": [
    "___\n",
    "\n",
    "Now that we've published experiments to a file ( `./catalog.yml` ), we could have collaborators or reviewers import them! Let's see how:"
   ]
  },
  {
   "cell_type": "code",
   "execution_count": null,
   "metadata": {},
   "outputs": [],
   "source": [
    "import intake\n",
    "\n",
    "catalog_path = \"./catalog.yml\"\n",
    "catalog = intake.open_catalog(catalog_path)\n",
    "\n",
    "list(catalog)"
   ]
  },
  {
   "cell_type": "markdown",
   "metadata": {},
   "source": [
    "Above, we listed each of the **sources** within the catalog we loaded. Each **source** represents a project or experiment."
   ]
  },
  {
   "cell_type": "code",
   "execution_count": null,
   "metadata": {},
   "outputs": [],
   "source": [
    "source_name = [\n",
    "    name for name in list(catalog) if \"experiment\" in name\n",
    "][0]\n",
    "source = catalog[source_name]\n",
    "\n",
    "print(source)"
   ]
  },
  {
   "cell_type": "markdown",
   "metadata": {},
   "source": [
    "We can call discover on a source to show its metadata, and read to load the full experiment into memory. Until we call one of those, Intake won't reach out to the underlying storage layer or load the source data. At no point will the source data be physically copied to the local filesystem. read returns native rubicon projects and experiments, so once we've got them we can do anything we normally could."
   ]
  },
  {
   "cell_type": "code",
   "execution_count": null,
   "metadata": {},
   "outputs": [],
   "source": [
    "from pprint import pprint\n",
    "pprint(source.discover())\n",
    "\n",
    "experiment = source.read()\n",
    "print(experiment)"
   ]
  },
  {
   "cell_type": "markdown",
   "metadata": {},
   "source": [
    "Let's see how this experiment was trained and how well it performed."
   ]
  },
  {
   "cell_type": "code",
   "execution_count": null,
   "metadata": {},
   "outputs": [],
   "source": [
    "for parameter in experiment.parameters():\n",
    "    print(parameter.name, parameter.value)\n",
    "print()\n",
    "\n",
    "for feature in experiment.features():\n",
    "    print(feature.name, feature.importance)\n",
    "print()\n",
    "    \n",
    "for metric in experiment.metrics():\n",
    "    print(metric.name, metric.value)"
   ]
  },
  {
   "cell_type": "markdown",
   "metadata": {},
   "source": [
    "The catalog we've been given to review may only contain experiments the experimenter wanted to highlight, like ones with an accuracy above a certain threshold. We can still load all the experiments they logged to their project because catalogs generated by rubicon.publish contain a source for the parent project as well."
   ]
  },
  {
   "cell_type": "code",
   "execution_count": null,
   "metadata": {},
   "outputs": [],
   "source": [
    "project_source_name = [\n",
    "    name for name in list(catalog) if \"project\" in name\n",
    "][0]\n",
    "source = catalog[project_source_name]\n",
    "\n",
    "pprint(source.discover())"
   ]
  },
  {
   "cell_type": "code",
   "execution_count": null,
   "metadata": {},
   "outputs": [],
   "source": [
    "project = source.read()\n",
    "experiments = project.experiments()\n",
    "\n",
    "print(len(experiments), \"total experiments\")\n",
    "print(experiments)"
   ]
  },
  {
   "cell_type": "markdown",
   "metadata": {},
   "source": [
    "Now we can dive into each experiment like we did the one above."
   ]
  }
 ],
 "metadata": {
  "kernelspec": {
   "display_name": "Python 3",
   "language": "python",
   "name": "python3"
  },
  "language_info": {
   "codemirror_mode": {
    "name": "ipython",
    "version": 3
   },
   "file_extension": ".py",
   "mimetype": "text/x-python",
   "name": "python",
   "nbconvert_exporter": "python",
   "pygments_lexer": "ipython3",
   "version": "3.7.8"
  }
 },
 "nbformat": 4,
 "nbformat_minor": 4
}
