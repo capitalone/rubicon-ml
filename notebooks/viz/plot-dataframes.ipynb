{
 "cells": [
  {
   "cell_type": "code",
   "execution_count": null,
   "id": "712796d5-81d6-4382-8844-b523d5812c9d",
   "metadata": {},
   "outputs": [],
   "source": [
    "import random\n",
    "\n",
    "import numpy as np\n",
    "import pandas as pd\n",
    "import plotly.express as px\n",
    "\n",
    "from rubicon_ml import Rubicon\n",
    "from rubicon_ml.viz import DataframePlot"
   ]
  },
  {
   "cell_type": "code",
   "execution_count": null,
   "id": "59ef9397-23ae-4aec-a0a7-9532ea07d41a",
   "metadata": {},
   "outputs": [],
   "source": [
    "DISPLAY_DFS = False\n",
    "\n",
    "rubicon = Rubicon(persistence=\"memory\", auto_git_enabled=True)\n",
    "project = rubicon.get_or_create_project(\"plot comparison\")\n",
    "\n",
    "num_experiments_to_log = 6\n",
    "data_ranges = [(random.randint(0, 15000), random.randint(0, 15000)) for _ in range(num_experiments_to_log)]\n",
    "dates = pd.date_range(start=\"1/1/2010\", end=\"12/1/2020\", freq=\"MS\")\n",
    "\n",
    "for start, stop in data_ranges:\n",
    "    data = np.array([list(dates), np.linspace(start, stop, len(dates))])\n",
    "    data_df = pd.DataFrame.from_records(data.T, columns=[\"calendar month\", \"open accounts\"])\n",
    "\n",
    "    dataframe = project.log_experiment().log_dataframe(data_df, name=\"open accounts\")\n",
    "    \n",
    "    if DISPLAY_DFS:\n",
    "        print(f\"dataframe {dataframe.id}\")\n",
    "        display(data_df.head())"
   ]
  },
  {
   "cell_type": "code",
   "execution_count": null,
   "id": "0790c5b6-7398-4bf4-a923-8252cc8cd033",
   "metadata": {},
   "outputs": [],
   "source": [
    "DataframePlot(\n",
    "    experiments=project.experiments(),\n",
    "    dataframe_name=\"open accounts\",\n",
    "    x=\"calendar month\",\n",
    "    y=\"open accounts\",\n",
    ").show(\n",
    "    run_server_kwargs={\"port\": 8056},\n",
    ")"
   ]
  },
  {
   "cell_type": "code",
   "execution_count": null,
   "id": "7d81276d-de55-46f9-b08b-47769a007280",
   "metadata": {},
   "outputs": [],
   "source": [
    "dp = DataframePlot(\n",
    "    dataframe_name=\"open accounts\",\n",
    "    plotting_func=px.bar,\n",
    ")\n",
    "dp.experiments = project.experiments()\n",
    "dp.serve()"
   ]
  }
 ],
 "metadata": {
  "kernelspec": {
   "display_name": "Python 3 (ipykernel)",
   "language": "python",
   "name": "python3"
  },
  "language_info": {
   "codemirror_mode": {
    "name": "ipython",
    "version": 3
   },
   "file_extension": ".py",
   "mimetype": "text/x-python",
   "name": "python",
   "nbconvert_exporter": "python",
   "pygments_lexer": "ipython3",
   "version": "3.9.7"
  }
 },
 "nbformat": 4,
 "nbformat_minor": 5
}
