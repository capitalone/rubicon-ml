{
 "cells": [
  {
   "cell_type": "code",
   "execution_count": null,
   "id": "b0b35758-483e-463a-b955-13a3f8ab5129",
   "metadata": {},
   "outputs": [],
   "source": [
    "import random\n",
    "\n",
    "from rubicon_ml import Rubicon\n",
    "from rubicon_ml.viz import plot_metric_correlation"
   ]
  },
  {
   "cell_type": "code",
   "execution_count": null,
   "id": "0a4bcd49-999f-48ff-9dea-955f1ea1881d",
   "metadata": {},
   "outputs": [],
   "source": [
    "rubicon = Rubicon(persistence=\"memory\", auto_git_enabled=True)\n",
    "project = rubicon.get_or_create_project(\"metric correlation plot\")\n",
    "\n",
    "for i in range(0, 100):\n",
    "    experiment = project.log_experiment()\n",
    "\n",
    "    experiment.log_parameter(name=\"is_standardized\", value=random.choice([True, False]))\n",
    "    experiment.log_parameter(name=\"n_estimators\", value=random.randrange(2, 10, 2))\n",
    "    experiment.log_parameter(name=\"sample\", value=random.choice([\"A\", \"B\", \"C\", \"D\", \"E\"]))\n",
    "\n",
    "    experiment.log_metric(name=\"accuracy\", value=random.random())\n",
    "    experiment.log_metric(name=\"confidence\", value=random.random())"
   ]
  },
  {
   "cell_type": "code",
   "execution_count": null,
   "id": "0c1bbd4e-7783-467b-8831-3a3dbfa932c7",
   "metadata": {},
   "outputs": [],
   "source": [
    "plot_metric_correlation(\n",
    "    project.experiments(),\n",
    "    selected_metric=\"accuracy\",\n",
    ")"
   ]
  }
 ],
 "metadata": {
  "kernelspec": {
   "display_name": "Python 3 (ipykernel)",
   "language": "python",
   "name": "python3"
  },
  "language_info": {
   "codemirror_mode": {
    "name": "ipython",
    "version": 3
   },
   "file_extension": ".py",
   "mimetype": "text/x-python",
   "name": "python",
   "nbconvert_exporter": "python",
   "pygments_lexer": "ipython3",
   "version": "3.9.7"
  }
 },
 "nbformat": 4,
 "nbformat_minor": 5
}
