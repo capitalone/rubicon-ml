{
 "cells": [
  {
   "cell_type": "markdown",
   "id": "52f72cbb-f373-4c4a-89b0-e73a3cdba306",
   "metadata": {
    "tags": []
   },
   "source": [
    "# Experiments Table"
   ]
  },
  {
   "cell_type": "code",
   "execution_count": 1,
   "id": "39fc471a-c80b-491b-9802-3e6db4f09546",
   "metadata": {},
   "outputs": [],
   "source": [
    "import random\n",
    "\n",
    "from rubicon_ml import Rubicon\n",
    "from rubicon_ml.viz import ExperimentsTable"
   ]
  },
  {
   "cell_type": "code",
   "execution_count": 2,
   "id": "367350e6-7071-433e-86e9-fd03e72a5151",
   "metadata": {},
   "outputs": [],
   "source": [
    "rubicon = Rubicon(persistence=\"memory\", auto_git_enabled=True)\n",
    "project = rubicon.get_or_create_project(\"experiment table\")\n",
    "\n",
    "for i in range(0, 24):\n",
    "    experiment = project.log_experiment()\n",
    "    experiment.log_parameter(name=\"max_depth\", value=random.randrange(5, 25, 5))\n",
    "    experiment.log_parameter(name=\"n_estimators\", value=random.randrange(2, 12, 2))\n",
    "    experiment.log_metric(name=\"accuracy\", value=random.random())"
   ]
  },
  {
   "cell_type": "code",
   "execution_count": 3,
   "id": "8cb7d191-2b60-4984-80ba-dbb2b310c4bf",
   "metadata": {},
   "outputs": [
    {
     "name": "stdout",
     "output_type": "stream",
     "text": [
      "Dash is running on http://127.0.0.1:8050/\n",
      "\n",
      " * Serving Flask app 'rubicon_ml.viz.base' (lazy loading)\n",
      " * Environment: production\n",
      "\u001b[31m   WARNING: This is a development server. Do not use it in a production deployment.\u001b[0m\n",
      "\u001b[2m   Use a production WSGI server instead.\u001b[0m\n",
      " * Debug mode: off\n"
     ]
    }
   ],
   "source": [
    "ExperimentsTable(\n",
    "    experiments=project.experiments(),\n",
    ").show()"
   ]
  },
  {
   "cell_type": "markdown",
   "id": "7487389b-c6b2-4dc5-ac05-3b5bc68f957d",
   "metadata": {},
   "source": [
    "![experiments-table](experiments-table.png \"experiments table\")"
   ]
  }
 ],
 "metadata": {
  "kernelspec": {
   "display_name": "Python 3 (ipykernel)",
   "language": "python",
   "name": "python3"
  },
  "language_info": {
   "codemirror_mode": {
    "name": "ipython",
    "version": 3
   },
   "file_extension": ".py",
   "mimetype": "text/x-python",
   "name": "python",
   "nbconvert_exporter": "python",
   "pygments_lexer": "ipython3",
   "version": "3.9.7"
  }
 },
 "nbformat": 4,
 "nbformat_minor": 5
}
