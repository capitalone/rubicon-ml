{
 "cells": [
  {
   "cell_type": "code",
   "execution_count": null,
   "id": "8aad3d90-949e-4efa-a648-ac31689bdfb0",
   "metadata": {},
   "outputs": [],
   "source": [
    "import random\n",
    "\n",
    "from rubicon_ml import Rubicon\n",
    "from rubicon_ml.viz import compare_metric_lists"
   ]
  },
  {
   "cell_type": "code",
   "execution_count": null,
   "id": "51c7e3fc-ac37-4766-be79-21057199aeee",
   "metadata": {},
   "outputs": [],
   "source": [
    "rubicon = Rubicon(persistence=\"memory\", auto_git_enabled=True)\n",
    "project = rubicon.get_or_create_project(\"list metric comparison\")\n",
    "\n",
    "for i in range(0, 10):\n",
    "    experiment = project.log_experiment()\n",
    "    experiment.log_metric(name=\"coefficients\", value=[random.random() for _ in range(0, 25)])\n",
    "    experiment.log_metric(name=\"p-values\", value=[random.random() for _ in range(0, 25)])\n",
    "    experiment.log_metric(name=\"stderr\", value=[random.random() for _ in range(0, 25)])"
   ]
  },
  {
   "cell_type": "code",
   "execution_count": null,
   "id": "68c4321a-6e41-4597-98b6-4921dcedd3aa",
   "metadata": {},
   "outputs": [],
   "source": [
    "compare_metric_lists(\n",
    "    project.experiments(),\n",
    "    selected_metric=\"coefficients\",\n",
    "    column_names=[\"intercept\"] + [f\"var_{i:03}\" for i in range(1, 25)],\n",
    ")"
   ]
  }
 ],
 "metadata": {
  "kernelspec": {
   "display_name": "Python 3 (ipykernel)",
   "language": "python",
   "name": "python3"
  },
  "language_info": {
   "codemirror_mode": {
    "name": "ipython",
    "version": 3
   },
   "file_extension": ".py",
   "mimetype": "text/x-python",
   "name": "python",
   "nbconvert_exporter": "python",
   "pygments_lexer": "ipython3",
   "version": "3.9.7"
  }
 },
 "nbformat": 4,
 "nbformat_minor": 5
}
