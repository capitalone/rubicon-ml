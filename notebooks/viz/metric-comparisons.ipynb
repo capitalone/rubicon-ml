{
 "cells": [
  {
   "cell_type": "code",
   "execution_count": null,
   "id": "8aad3d90-949e-4efa-a648-ac31689bdfb0",
   "metadata": {
    "tags": []
   },
   "outputs": [],
   "source": [
    "import random\n",
    "\n",
    "from rubicon_ml import Rubicon\n",
    "from rubicon_ml.viz import MetricListsComparison"
   ]
  },
  {
   "cell_type": "code",
   "execution_count": null,
   "id": "51c7e3fc-ac37-4766-be79-21057199aeee",
   "metadata": {},
   "outputs": [],
   "source": [
    "rubicon = Rubicon(persistence=\"memory\", auto_git_enabled=True)\n",
    "project = rubicon.get_or_create_project(\"list metric comparison\")\n",
    "\n",
    "for i in range(0, 10):\n",
    "    experiment = project.log_experiment()\n",
    "    experiment.log_metric(name=\"coefficients\", value=[random.random() for _ in range(0, 25)])\n",
    "    experiment.log_metric(name=\"p-values\", value=[random.random() for _ in range(0, 25)])\n",
    "    experiment.log_metric(name=\"stderr\", value=[random.random() for _ in range(0, 25)])"
   ]
  },
  {
   "cell_type": "code",
   "execution_count": null,
   "id": "68c4321a-6e41-4597-98b6-4921dcedd3aa",
   "metadata": {},
   "outputs": [],
   "source": [
    "MetricListsComparison(\n",
    "    experiments=project.experiments(),\n",
    "    column_names=[\"intercept\"] + [f\"var_{i:03}\" for i in range(1, 25)],\n",
    ").show(\n",
    "    run_server_kwargs={\"port\": 8054},\n",
    ")"
   ]
  },
  {
   "cell_type": "code",
   "execution_count": null,
   "id": "9a8361da-8d4e-4a07-9c76-320c6bc33cc0",
   "metadata": {},
   "outputs": [],
   "source": [
    "mlc = MetricListsComparison(\n",
    "    selected_metric=\"stderr\",\n",
    "    column_names=[\"intercept\"] + [f\"var_{i:03}\" for i in range(1, 25)],\n",
    ")\n",
    "mlc.experiments = project.experiments()\n",
    "mlc.serve()"
   ]
  }
 ],
 "metadata": {
  "kernelspec": {
   "display_name": "Python 3 (ipykernel)",
   "language": "python",
   "name": "python3"
  },
  "language_info": {
   "codemirror_mode": {
    "name": "ipython",
    "version": 3
   },
   "file_extension": ".py",
   "mimetype": "text/x-python",
   "name": "python",
   "nbconvert_exporter": "python",
   "pygments_lexer": "ipython3",
   "version": "3.9.7"
  }
 },
 "nbformat": 4,
 "nbformat_minor": 5
}
