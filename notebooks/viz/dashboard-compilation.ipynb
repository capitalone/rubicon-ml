{
 "cells": [
  {
   "cell_type": "code",
   "execution_count": null,
   "id": "5be9ae89-279f-4c3c-87e8-ab5ff2de34c6",
   "metadata": {},
   "outputs": [],
   "source": [
    "import random\n",
    "\n",
    "import dash_bootstrap_components as dbc\n",
    "import numpy as np\n",
    "import pandas as pd\n",
    "import plotly.express as px\n",
    "\n",
    "from rubicon_ml import Rubicon\n",
    "from rubicon_ml.viz.base import VizBase\n",
    "from rubicon_ml.viz.dataframe_plot import DataframePlot, _register_callbacks as _df_register_callbacks\n",
    "from rubicon_ml.viz.metric_lists_comparison import CompareMetricLists, _register_callbacks as _m_register_callbacks"
   ]
  },
  {
   "cell_type": "code",
   "execution_count": null,
   "id": "67543ed2-4066-45f9-8945-ccb046df1495",
   "metadata": {},
   "outputs": [],
   "source": [
    "rubicon = Rubicon(persistence=\"memory\", auto_git_enabled=True)\n",
    "project = rubicon.get_or_create_project(\"list metric comparison\")\n",
    "\n",
    "num_experiments_to_log = 5\n",
    "\n",
    "data_ranges = [(random.randint(0, 15000), random.randint(0, 15000)) for _ in range(num_experiments_to_log)]\n",
    "dates = pd.date_range(start=\"1/1/2010\", end=\"12/1/2020\", freq=\"MS\")\n",
    "\n",
    "for i in range(num_experiments_to_log):\n",
    "    experiment = project.log_experiment()\n",
    "    experiment.log_metric(name=\"coefficients\", value=[random.random() for _ in range(0, 25)])\n",
    "    experiment.log_metric(name=\"p-values\", value=[random.random() for _ in range(0, 25)])\n",
    "    experiment.log_metric(name=\"stderr\", value=[random.random() for _ in range(0, 25)])\n",
    "    \n",
    "    start, stop = data_ranges[i]\n",
    "    data = np.array([list(dates), np.linspace(start, stop, len(dates))])\n",
    "    data_df = pd.DataFrame.from_records(data.T, columns=[\"calendar month\", \"open accounts\"])\n",
    "\n",
    "    dataframe = experiment.log_dataframe(data_df, tags=[\"open accounts\"])"
   ]
  },
  {
   "cell_type": "code",
   "execution_count": null,
   "id": "0a116692-1738-4bb1-a3a3-4b4995e77a83",
   "metadata": {},
   "outputs": [],
   "source": [
    "dashboard_container = VizBase(dash_title=\"rubicon-ml dashboard\")\n",
    "\n",
    "compare_metric_lists = CompareMetricLists(\n",
    "    project.experiments(),\n",
    "    selected_metric=\"coefficients\",\n",
    "    column_names=[\"intercept\"] + [f\"var_{i:03}\" for i in range(1, 25)],\n",
    ")\n",
    "_m_register_callbacks(dashboard_container.app)\n",
    "\n",
    "dataframe_plot = DataframePlot(\n",
    "    project.experiments(),\n",
    "    px.line,\n",
    "    [\"open accounts\"],\n",
    "    \"calendar month\",\n",
    "    \"open accounts\",\n",
    ")\n",
    "_df_register_callbacks(dashboard_container.app)"
   ]
  },
  {
   "cell_type": "code",
   "execution_count": null,
   "id": "8af43ee2-eaf7-46b8-8fc2-8e4a9796d034",
   "metadata": {},
   "outputs": [],
   "source": [
    "dashboard_container.app = compare_metric_lists.app\n",
    "dashboard_container.app.layout = dashboard_container._build_frame(\n",
    "    [\n",
    "        dbc.Col(dataframe_plot._build_layout(), width=6),\n",
    "        dbc.Col(compare_metric_lists._build_layout(), width=6),\n",
    "    ],\n",
    ")\n",
    "dashboard_container.run_server_inline(i_frame_kwargs={\"height\": \"600px\"})"
   ]
  }
 ],
 "metadata": {
  "kernelspec": {
   "display_name": "Python 3 (ipykernel)",
   "language": "python",
   "name": "python3"
  },
  "language_info": {
   "codemirror_mode": {
    "name": "ipython",
    "version": 3
   },
   "file_extension": ".py",
   "mimetype": "text/x-python",
   "name": "python",
   "nbconvert_exporter": "python",
   "pygments_lexer": "ipython3",
   "version": "3.9.7"
  }
 },
 "nbformat": 4,
 "nbformat_minor": 5
}
