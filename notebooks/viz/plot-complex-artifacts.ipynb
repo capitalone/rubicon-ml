{
 "cells": [
  {
   "cell_type": "code",
   "execution_count": null,
   "id": "712796d5-81d6-4382-8844-b523d5812c9d",
   "metadata": {},
   "outputs": [],
   "source": [
    "import pickle\n",
    "import random\n",
    "\n",
    "import numpy as np\n",
    "import pandas as pd\n",
    "import plotly.express as px\n",
    "from plotly.subplots import make_subplots\n",
    "\n",
    "from rubicon_ml import Rubicon\n",
    "from rubicon_ml.viz import plot_artifacts"
   ]
  },
  {
   "cell_type": "code",
   "execution_count": null,
   "id": "3e644612-c0ba-4d56-a20b-956feda833e1",
   "metadata": {},
   "outputs": [],
   "source": [
    "rubicon = Rubicon(persistence=\"memory\", auto_git_enabled=True)\n",
    "project = rubicon.get_or_create_project(\"plot comparison\")\n",
    "\n",
    "num_experiments_to_log = 2\n",
    "data_ranges = [(random.randint(-100, 100), random.randint(-100, 100)) for _ in range(num_experiments_to_log)]\n",
    "dates = pd.date_range(start=\"1/1/2000\", end=\"12/1/2010\", freq=\"MS\")\n",
    "\n",
    "for start, stop in data_ranges:\n",
    "    data = np.array([list(dates), np.linspace(start, stop, len(dates))])\n",
    "    data_df = pd.DataFrame.from_records(data.T, columns=[\"calendar month\", \"open accounts\"])\n",
    "\n",
    "    next_line_plot = px.line(\n",
    "        data_df,\n",
    "        x=\"calendar month\",\n",
    "        y=\"open accounts\",\n",
    "        color_discrete_sequence=[\n",
    "            f\"rgb({random.randint(0, 256)}, {random.randint(0, 256)}, {random.randint(-0, 256)})\"\n",
    "        ],\n",
    "    )\n",
    "    \n",
    "    next_bar_plot = px.bar(\n",
    "        data_df,\n",
    "        x=\"calendar month\",\n",
    "        y=\"open accounts\",\n",
    "        color_discrete_sequence=[\n",
    "            f\"rgb({random.randint(0, 256)}, {random.randint(0, 256)}, {random.randint(-0, 256)})\"\n",
    "        ],\n",
    "    )\n",
    "    \n",
    "    composed_plot = make_subplots(rows=2, cols=1)\n",
    "    composed_plot.add_trace(next_bar_plot.data[0], row=1, col=1)\n",
    "    composed_plot.add_trace(next_line_plot.data[0], row=2, col=1)\n",
    "    \n",
    "    artifact = project.log_experiment().log_artifact(\n",
    "        data_bytes=pickle.dumps(composed_plot),\n",
    "        name=\"open accounts\",\n",
    "    )\n",
    "    \n",
    "    print(f\"artifact {artifact.id}: '{artifact.name}'\")\n",
    "    display(composed_plot)"
   ]
  },
  {
   "cell_type": "markdown",
   "id": "50d8f20c-2d5e-4807-bfaa-0b9c1d7ed025",
   "metadata": {},
   "source": [
    "the plots below in the rubicon widget should look like the ones individually rendered above"
   ]
  },
  {
   "cell_type": "code",
   "execution_count": null,
   "id": "bdf8434d-e6e0-4237-a0e8-ed83eda16edd",
   "metadata": {},
   "outputs": [],
   "source": [
    "plot_artifacts(\n",
    "    project.experiments(),\n",
    "    \"open accounts\",\n",
    "    \"calendar month\",\n",
    "    \"open accounts\",\n",
    ")"
   ]
  }
 ],
 "metadata": {
  "kernelspec": {
   "display_name": "Python 3 (ipykernel)",
   "language": "python",
   "name": "python3"
  },
  "language_info": {
   "codemirror_mode": {
    "name": "ipython",
    "version": 3
   },
   "file_extension": ".py",
   "mimetype": "text/x-python",
   "name": "python",
   "nbconvert_exporter": "python",
   "pygments_lexer": "ipython3",
   "version": "3.9.7"
  }
 },
 "nbformat": 4,
 "nbformat_minor": 5
}
