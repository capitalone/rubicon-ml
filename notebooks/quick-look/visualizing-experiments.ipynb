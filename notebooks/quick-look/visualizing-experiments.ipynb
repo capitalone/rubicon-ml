{
 "cells": [
  {
   "cell_type": "markdown",
   "id": "ffc55deb-dc28-4d36-be12-c375ca24e5d3",
   "metadata": {},
   "source": [
    "# Visualizing Experiments\n",
    "\n",
    "new quick look part 3 - visualizing"
   ]
  },
  {
   "cell_type": "code",
   "execution_count": null,
   "id": "61971f2b-ee91-4066-afbf-e7e040689267",
   "metadata": {},
   "outputs": [],
   "source": [
    "import intake\n",
    "import rubicon_ml\n",
    "\n",
    "catalog = intake.open_catalog(\"./penguin_catalog.yml\")\n",
    "\n",
    "for source in catalog:\n",
    "    catalog[source].discover()\n",
    "    \n",
    "experiments = [catalog[source].read() for source in catalog]"
   ]
  },
  {
   "cell_type": "code",
   "execution_count": null,
   "id": "aa0b1c12-36c1-476c-8fa0-46b8f05cab54",
   "metadata": {},
   "outputs": [],
   "source": [
    "from rubicon_ml.viz import ExperimentsTable\n",
    "\n",
    "ExperimentsTable(experiments=experiments).show()"
   ]
  },
  {
   "cell_type": "code",
   "execution_count": null,
   "id": "5afddf6f-094c-438a-975d-8b9c4a873364",
   "metadata": {},
   "outputs": [],
   "source": [
    "from rubicon_ml.viz import Dashboard\n",
    "\n",
    "Dashboard(experiments=experiments).serve()"
   ]
  }
 ],
 "metadata": {
  "kernelspec": {
   "display_name": "Python 3 (ipykernel)",
   "language": "python",
   "name": "python3"
  },
  "language_info": {
   "codemirror_mode": {
    "name": "ipython",
    "version": 3
   },
   "file_extension": ".py",
   "mimetype": "text/x-python",
   "name": "python",
   "nbconvert_exporter": "python",
   "pygments_lexer": "ipython3",
   "version": "3.10.5"
  }
 },
 "nbformat": 4,
 "nbformat_minor": 5
}
