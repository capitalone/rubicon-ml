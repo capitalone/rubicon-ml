{
 "cells": [
  {
   "cell_type": "markdown",
   "id": "ffc55deb-dc28-4d36-be12-c375ca24e5d3",
   "metadata": {},
   "source": [
    "# Sharing Experiments\n",
    "\n",
    "In the [first part](https://capitalone.github.io/rubicon-ml/quick-look/logging-experiments.html)\n",
    "of the quick look, we learned how to log ``rubicon_ml`` experiments in the context of a\n",
    "simple classification problem. We also performed a small hyperparameter search to show how ``rubicon_ml``\n",
    "can be used to compare the results of multiple model fits.\n",
    "\n",
    "Inspecting our model fit results in the same session that we trained the model is certainly useful, but\n",
    "sharing experiments can help us collaborate with teammates and compare new model training results to old\n",
    "experiments.\n",
    "\n",
    "First, we'll create a ``rubicon_ml`` entry point and get the project we logged in the first part of the\n",
    "quick look."
   ]
  },
  {
   "cell_type": "code",
   "execution_count": 1,
   "id": "c66ddf15-dc7e-4a5e-8ce9-b8770c6e6177",
   "metadata": {},
   "outputs": [
    {
     "data": {
      "text/plain": [
       "<rubicon_ml.client.project.Project at 0x16f06d030>"
      ]
     },
     "execution_count": 1,
     "metadata": {},
     "output_type": "execute_result"
    }
   ],
   "source": [
    "from rubicon_ml import Rubicon\n",
    "\n",
    "rubicon = Rubicon(persistence=\"filesystem\", root_dir=\"./rubicon-root\")\n",
    "project = rubicon.get_project(name=\"classifying penguins\")\n",
    "project"
   ]
  },
  {
   "cell_type": "markdown",
   "id": "3e7c81be-8e5f-456a-8a4d-364001571acb",
   "metadata": {},
   "source": [
    "Let's say we want to share the results of our hyperparmeter search with another teammate so they can evaluate the results.\n",
    "``rubicon_ml``'s ``publish`` function takes a list of experiments as an input and  uses ``intake`` to generate a catalog\n",
    "containing the bare-minimum amount of metadata needed to retrieve an experiment, like its ID and filepath. More on ``intake``\n",
    "can be found [in their docs](https://intake.readthedocs.io/en/latest/).\n",
    "\n",
    "Hyperparameter searches can span thousands of combos, so sharing every single file ``rubicon_ml`` logs during the training\n",
    "process can be a lot. That's why we use ``intake`` via our ``publish`` function to only share what needs to be shared in a\n",
    "single YAML file. Then, later, users can use said YAML file to retrieve the experiments shared within it.\n",
    "\n",
    "**Note**: Sharing experiments relys on both the sharer and the recipient having access to the same underlying data source.\n",
    "In this example, we're using a local filesystem - so these experiments couldn't actually be shared with anyone other than \n",
    "people on this same physical machine. To get the most out of sharing, log your experiments to an S3 bucket that all teammates\n",
    "have access to."
   ]
  },
  {
   "cell_type": "code",
   "execution_count": 2,
   "id": "3696915b-e7d4-4760-a7f9-720cd2c8c781",
   "metadata": {},
   "outputs": [
    {
     "name": "stdout",
     "output_type": "stream",
     "text": [
      "sources:\n",
      "  experiment_08625083_d5ec_4303_aeb1_8fd3b695a79a:\n",
      "    args:\n",
      "      experiment_id: 08625083-d5ec-4303-aeb1-8fd3b695a79a\n",
      "      project_name: classifying penguins\n",
      "      urlpath: ./rubicon-root\n",
      "    driver: rubicon_ml_experiment\n"
     ]
    }
   ],
   "source": [
    "from rubicon_ml import publish\n",
    "\n",
    "publish(\n",
    "    project.experiments(tags=[\"parameter search\"]),\n",
    "    output_filepath=\"./penguin_catalog.yml\",\n",
    ")\n",
    "\n",
    "!head -7 penguin_catalog.yml"
   ]
  },
  {
   "cell_type": "markdown",
   "id": "74b2175a-4644-479b-9ff6-f01305f8d568",
   "metadata": {},
   "source": [
    "Each catalog contains a \"source\" for each ``rubicon_ml`` experiment. These sources contain the minimum metadata needed\n",
    "to retrieve the associated experiment - the ``experiment_id``, ``project_name`` and ``urlpath`` to the root of the \n",
    "``rubicon_ml`` repository used as an entry point. The ``rubicon_ml_experiment`` driver can be found \n",
    "[within our library](https://github.com/capitalone/rubicon-ml/blob/main/rubicon_ml/intake_rubicon/experiment.py)\n",
    "and leverages the metadata in the YAML catalog to return the experiment objects associated to it.\n",
    "\n",
    "Provided the recipient of the shared YAML catalog has read access to the filesystem represented by ``urlpath``,\n",
    "they can now use ``intake`` directly to read the catalog and load in the shared ``rubicon_ml`` expierments\n",
    "for their own inspection."
   ]
  },
  {
   "cell_type": "code",
   "execution_count": 10,
   "id": "7aafdde6-e660-4567-a183-dfd926ee2ddb",
   "metadata": {},
   "outputs": [
    {
     "name": "stdout",
     "output_type": "stream",
     "text": [
      "shared experiments:\n",
      "\tid: 08625083-d5ec-4303-aeb1-8fd3b695a79a, parameters: [('strategy', 'mean'), ('n_neighbors', 15)], metrics: [('accuracy', 0.7403846153846154)]\n",
      "\tid: 0a9b624d-705f-4fa4-9238-7948ca38cf5c, parameters: [('strategy', 'mean'), ('n_neighbors', 10)], metrics: [('accuracy', 0.7403846153846154)]\n",
      "\tid: 0cd1373b-b7a3-4b12-9a2d-8a054c1034b9, parameters: [('strategy', 'mean'), ('n_neighbors', 5)], metrics: [('accuracy', 0.7211538461538461)]\n",
      "\tid: 165c8123-aee4-4830-b7e8-6cbab7ae4586, parameters: [('strategy', 'median'), ('n_neighbors', 5)], metrics: [('accuracy', 0.8365384615384616)]\n",
      "\tid: 1a692338-9131-4763-b7df-c5cca8df88ae, parameters: [('strategy', 'median'), ('n_neighbors', 5)], metrics: [('accuracy', 0.7115384615384616)]\n",
      "\tid: 1c740872-aab5-4b88-92f2-e6287b2425a6, parameters: [('strategy', 'most_frequent'), ('n_neighbors', 10)], metrics: [('accuracy', 0.7884615384615384)]\n",
      "\tid: 252ecbbd-8a8c-4ede-b457-d0332530a06c, parameters: [('strategy', 'most_frequent'), ('n_neighbors', 5)], metrics: [('accuracy', 0.7307692307692307)]\n",
      "\tid: 26d9cd98-4e00-445b-a9e1-e24c9297df86, parameters: [('strategy', 'most_frequent'), ('n_neighbors', 10)], metrics: [('accuracy', 0.7403846153846154)]\n",
      "\tid: 3004f3a5-0f24-454f-a806-964e215a84e8, parameters: [('strategy', 'most_frequent'), ('n_neighbors', 15)], metrics: [('accuracy', 0.7115384615384616)]\n",
      "\tid: 35098c4a-3732-4f63-93d0-458d0d2b9a06, parameters: [('strategy', 'most_frequent'), ('n_neighbors', 20)], metrics: [('accuracy', 0.7211538461538461)]\n",
      "\tid: 36d08161-02f5-4675-a8cc-ebc861b101cc, parameters: [('strategy', 'most_frequent'), ('n_neighbors', 15)], metrics: [('accuracy', 0.7403846153846154)]\n",
      "\tid: 3a787fed-af26-4a9f-887f-7069e04ecc50, parameters: [('strategy', 'most_frequent'), ('n_neighbors', 10)], metrics: [('accuracy', 0.75)]\n",
      "\tid: 3afdfe33-e897-42ac-94e4-9b0c98a909c1, parameters: [('strategy', 'most_frequent'), ('n_neighbors', 10)], metrics: [('accuracy', 0.7596153846153846)]\n",
      "\tid: 3bfab3f7-5dc8-493d-ac4c-7bec56e1159a, parameters: [('strategy', 'median'), ('n_neighbors', 10)], metrics: [('accuracy', 0.7596153846153846)]\n",
      "\tid: 3d2ad6e5-4b9c-431e-a81a-b533358e76db, parameters: [('strategy', 'most_frequent'), ('n_neighbors', 15)], metrics: [('accuracy', 0.75)]\n",
      "\tid: 41d08411-a224-493a-a59a-41eba48393df, parameters: [('strategy', 'mean'), ('n_neighbors', 5)], metrics: [('accuracy', 0.8461538461538461)]\n",
      "\tid: 4744aa94-14fd-4063-96ad-67899d0fe62a, parameters: [('strategy', 'mean'), ('n_neighbors', 10)], metrics: [('accuracy', 0.7692307692307693)]\n",
      "\tid: 4768d240-7b73-4a11-afd8-fd70e82dae2e, parameters: [('strategy', 'mean'), ('n_neighbors', 15)], metrics: [('accuracy', 0.75)]\n",
      "\tid: 48e81c74-267b-4e31-99d1-eda558792ae0, parameters: [('strategy', 'mean'), ('n_neighbors', 20)], metrics: [('accuracy', 0.7211538461538461)]\n",
      "\tid: 4e0bcc7d-4094-455d-8244-bbdb8d505789, parameters: [('strategy', 'mean'), ('n_neighbors', 10)], metrics: [('accuracy', 0.7596153846153846)]\n",
      "\tid: 52a5d4ca-3acd-4559-9f6d-3b0f89107cb2, parameters: [('strategy', 'median'), ('n_neighbors', 5)], metrics: [('accuracy', 0.7596153846153846)]\n",
      "\tid: 54e8a9bf-a8f4-4d76-b9b9-7b1c54a4cc79, parameters: [('strategy', 'most_frequent'), ('n_neighbors', 10)], metrics: [('accuracy', 0.7596153846153846)]\n",
      "\tid: 575f8410-6e54-4fea-a986-a587f7a9277a, parameters: [('strategy', 'most_frequent'), ('n_neighbors', 15)], metrics: [('accuracy', 0.7307692307692307)]\n",
      "\tid: 5fecdbbe-e1e9-471d-b728-f25e17c48815, parameters: [('strategy', 'median'), ('n_neighbors', 5)], metrics: [('accuracy', 0.7980769230769231)]\n",
      "\tid: 6706527a-961b-4cc8-8316-dd1fc9dc926c, parameters: [('strategy', 'most_frequent'), ('n_neighbors', 5)], metrics: [('accuracy', 0.7788461538461539)]\n",
      "\tid: 6897e445-b25f-4c05-a3af-d08030586e45, parameters: [('strategy', 'median'), ('n_neighbors', 15)], metrics: [('accuracy', 0.7403846153846154)]\n",
      "\tid: 68da0cd3-a370-4daf-84bf-7bc525bb9350, parameters: [('strategy', 'median'), ('n_neighbors', 15)], metrics: [('accuracy', 0.7115384615384616)]\n",
      "\tid: 6b2a24b9-0e0c-4235-af12-a6c19be98e22, parameters: [('strategy', 'mean'), ('n_neighbors', 20)], metrics: [('accuracy', 0.7211538461538461)]\n",
      "\tid: 709a86cc-8f2b-4488-84e1-0800f9ea03b2, parameters: [('strategy', 'most_frequent'), ('n_neighbors', 20)], metrics: [('accuracy', 0.7403846153846154)]\n",
      "\tid: 713dd52b-6f86-41ce-8789-4659bbe61e43, parameters: [('strategy', 'median'), ('n_neighbors', 20)], metrics: [('accuracy', 0.6923076923076923)]\n",
      "\tid: 73669a1d-ba3a-4791-9603-303b51374cd8, parameters: [('strategy', 'mean'), ('n_neighbors', 20)], metrics: [('accuracy', 0.6923076923076923)]\n",
      "\tid: 7418ac5e-4792-4ced-9a9f-c13991b4c6ac, parameters: [('strategy', 'most_frequent'), ('n_neighbors', 20)], metrics: [('accuracy', 0.75)]\n",
      "\tid: 8070c39a-149d-4928-bb89-0bf8ecdc55df, parameters: [('strategy', 'median'), ('n_neighbors', 20)], metrics: [('accuracy', 0.7211538461538461)]\n",
      "\tid: 863c0cfc-4ceb-4561-b158-2c1cdd1dcf2c, parameters: [('strategy', 'most_frequent'), ('n_neighbors', 5)], metrics: [('accuracy', 0.75)]\n",
      "\tid: 8ab5ed6d-a7e0-44a2-ae6f-4d4fd7a84cf4, parameters: [('strategy', 'median'), ('n_neighbors', 20)], metrics: [('accuracy', 0.7307692307692307)]\n",
      "\tid: 8bf0a122-963a-473c-b634-efbba0054ec8, parameters: [('strategy', 'median'), ('n_neighbors', 5)], metrics: [('accuracy', 0.7884615384615384)]\n",
      "\tid: 9776f0a2-bbb9-426d-8985-d98da91d3a66, parameters: [('strategy', 'median'), ('n_neighbors', 15)], metrics: [('accuracy', 0.75)]\n",
      "\tid: 9b268329-883b-4583-b3fb-9fec16240818, parameters: [('strategy', 'mean'), ('n_neighbors', 5)], metrics: [('accuracy', 0.7980769230769231)]\n",
      "\tid: 9b480dde-fe18-4194-8bc2-b2daa1cec696, parameters: [('strategy', 'median'), ('n_neighbors', 10)], metrics: [('accuracy', 0.7403846153846154)]\n",
      "\tid: a1135785-ebcd-4adc-9e17-636987703992, parameters: [('strategy', 'most_frequent'), ('n_neighbors', 20)], metrics: [('accuracy', 0.7211538461538461)]\n",
      "\tid: a118b39e-4e97-4d9c-ada5-fce10da7f305, parameters: [('strategy', 'mean'), ('n_neighbors', 15)], metrics: [('accuracy', 0.75)]\n",
      "\tid: a2724a2d-c247-4fe1-8c56-0ba3c0eebdae, parameters: [('strategy', 'mean'), ('n_neighbors', 15)], metrics: [('accuracy', 0.7307692307692307)]\n",
      "\tid: ab6b2405-3721-4e24-a3cb-91bf50f140a2, parameters: [('strategy', 'mean'), ('n_neighbors', 20)], metrics: [('accuracy', 0.7307692307692307)]\n",
      "\tid: b0ba2fa6-454f-4018-a3d5-ce443615252a, parameters: [('strategy', 'most_frequent'), ('n_neighbors', 15)], metrics: [('accuracy', 0.7307692307692307)]\n",
      "\tid: b1dd1e38-1892-482c-980a-979925b837de, parameters: [('strategy', 'most_frequent'), ('n_neighbors', 20)], metrics: [('accuracy', 0.6923076923076923)]\n",
      "\tid: c0c4fee5-34f8-4baf-b219-42344c845eb2, parameters: [('strategy', 'median'), ('n_neighbors', 20)], metrics: [('accuracy', 0.7211538461538461)]\n",
      "\tid: c58dcbf4-4dc7-495a-9610-2ed4346e5945, parameters: [('strategy', 'mean'), ('n_neighbors', 5)], metrics: [('accuracy', 0.7403846153846154)]\n",
      "\tid: cf4ae2bf-b41c-4e27-91d8-8d52ec5814f7, parameters: [('strategy', 'median'), ('n_neighbors', 10)], metrics: [('accuracy', 0.7596153846153846)]\n",
      "\tid: d0e0a262-2486-40bc-8176-af6706891d05, parameters: [('strategy', 'median'), ('n_neighbors', 20)], metrics: [('accuracy', 0.7307692307692307)]\n",
      "\tid: d422edef-d15f-4055-98ed-9b372f260f4b, parameters: [('strategy', 'most_frequent'), ('n_neighbors', 5)], metrics: [('accuracy', 0.7980769230769231)]\n",
      "\tid: d9a73cc9-6e30-431d-873f-3479100171a6, parameters: [('strategy', 'median'), ('n_neighbors', 15)], metrics: [('accuracy', 0.7307692307692307)]\n",
      "\tid: db5c2ce6-fb45-4243-b9f5-dce84bec385d, parameters: [('strategy', 'mean'), ('n_neighbors', 15)], metrics: [('accuracy', 0.7115384615384616)]\n",
      "\tid: e99644d5-2c0a-4304-bc8f-ab4b5e63b046, parameters: [('strategy', 'most_frequent'), ('n_neighbors', 5)], metrics: [('accuracy', 0.8365384615384616)]\n",
      "\tid: ec4e87bd-6c46-400e-bddd-db3a2a6b56b9, parameters: [('strategy', 'mean'), ('n_neighbors', 10)], metrics: [('accuracy', 0.7596153846153846)]\n",
      "\tid: f30e42ff-29e9-4d4f-b56d-4399bfd9157e, parameters: [('strategy', 'median'), ('n_neighbors', 10)], metrics: [('accuracy', 0.7884615384615384)]\n",
      "\tid: f3b37e05-cc59-4592-adca-8efa77d4b118, parameters: [('strategy', 'median'), ('n_neighbors', 15)], metrics: [('accuracy', 0.75)]\n",
      "\tid: f4dadefd-eb65-49d9-a0ff-84c2a11b087a, parameters: [('strategy', 'mean'), ('n_neighbors', 5)], metrics: [('accuracy', 0.7788461538461539)]\n",
      "\tid: fb7991d1-5b7f-4e45-99f0-83228705d872, parameters: [('strategy', 'mean'), ('n_neighbors', 10)], metrics: [('accuracy', 0.75)]\n",
      "\tid: fdfcb348-188e-4ca4-b6f4-aff5be39c271, parameters: [('strategy', 'median'), ('n_neighbors', 10)], metrics: [('accuracy', 0.7596153846153846)]\n",
      "\tid: ff52b4e5-046e-472e-9c92-ecb24bf2a9db, parameters: [('strategy', 'mean'), ('n_neighbors', 20)], metrics: [('accuracy', 0.7307692307692307)]\n"
     ]
    }
   ],
   "source": [
    "import intake\n",
    "\n",
    "catalog = intake.open_catalog(\"./penguin_catalog.yml\")\n",
    "\n",
    "for source in catalog:\n",
    "    catalog[source].discover()\n",
    "    \n",
    "shared_experiments = [catalog[source].read() for source in catalog]\n",
    "\n",
    "print(\"shared experiments:\")\n",
    "for experiment in shared_experiments:\n",
    "    print(\n",
    "        f\"\\tid: {experiment.id}, \"\n",
    "        f\"parameters: {[(p.name, p.value) for p in experiment.parameters()]}, \"\n",
    "        f\"metrics: {[(m.name, m.value) for m in experiment.metrics()]}\"\n",
    "    )"
   ]
  },
  {
   "cell_type": "markdown",
   "id": "c4b2733d-6687-4883-a122-893d836c0e80",
   "metadata": {},
   "source": [
    "Suppose we have a new `intake catalog` and would like to update and append to the same catalog file. To do this, we leverage an optional argument in the `publish` function as seen below."
   ]
  },
  {
   "cell_type": "code",
   "execution_count": 21,
   "id": "55d1021b-e003-4914-ae72-b30dcc52b6d3",
   "metadata": {},
   "outputs": [
    {
     "name": "stdout",
     "output_type": "stream",
     "text": [
      "sources:\n",
      "  experiment_08625083_d5ec_4303_aeb1_8fd3b695a79a:\n",
      "    args:\n",
      "      experiment_id: 08625083-d5ec-4303-aeb1-8fd3b695a79a\n",
      "      project_name: classifying penguins\n",
      "      urlpath: ./rubicon-root\n",
      "    driver: rubicon_ml_experiment\n",
      "  experiment_0a9b624d_705f_4fa4_9238_7948ca38cf5c:\n",
      "    args:\n",
      "      experiment_id: 0a9b624d-705f-4fa4-9238-7948ca38cf5c\n",
      "      project_name: classifying penguins\n",
      "      urlpath: ./rubicon-root\n",
      "    driver: rubicon_ml_experiment\n",
      "  experiment_0cd1373b_b7a3_4b12_9a2d_8a054c1034b9:\n",
      "    args:\n",
      "      experiment_id: 0cd1373b-b7a3-4b12-9a2d-8a054c1034b9\n",
      "      project_name: classifying penguins\n",
      "      urlpath: ./rubicon-root\n",
      "    driver: rubicon_ml_experiment\n"
     ]
    }
   ],
   "source": [
    "\n",
    "#reading and saving a random experiment from the classifying penguins catalog\n",
    "penguin_catalog = intake.open_catalog(\"./penguin_catalog.yml\")\n",
    "for source in catalog:\n",
    "    penguin_catalog[source].discover()\n",
    "    \n",
    "shared_experiments = [penguin_catalog[source].read() for source in penguin_catalog]\n",
    "\n",
    "#choose experiment with id: 0a9b624d-705f-4fa4-9238-7948ca38cf5c which does not exist in the `update_catalog_test.yml` catalog\n",
    "random_new_experiment = [shared_experiments[1]]\n",
    "\n",
    "\n",
    "#updating new catalog file without discovering and reading contents\n",
    "new_catalog = publish(catalog_filepath=\"./update_catalog_test.yml\", experiments = random_new_experiment)\n",
    "\n",
    "\n",
    "\n",
    "!head -100 update_catalog_test.yml\n",
    "\n",
    "\n"
   ]
  },
  {
   "cell_type": "code",
   "execution_count": null,
   "id": "baf4318c-8268-4188-98ca-4ad7843fc69c",
   "metadata": {},
   "outputs": [],
   "source": []
  }
 ],
 "metadata": {
  "kernelspec": {
   "display_name": "Python 3.9.13 64-bit ('3.9.13')",
   "language": "python",
   "name": "python3"
  },
  "language_info": {
   "codemirror_mode": {
    "name": "ipython",
    "version": 3
   },
   "file_extension": ".py",
   "mimetype": "text/x-python",
   "name": "python",
   "nbconvert_exporter": "python",
   "pygments_lexer": "ipython3",
   "version": "3.9.13"
  },
  "vscode": {
   "interpreter": {
    "hash": "25b1e4c5b858c72efcaa777acfbbe2a6a9238d41ae968ff19668f7de97f00b4c"
   }
  }
 },
 "nbformat": 4,
 "nbformat_minor": 5
}
