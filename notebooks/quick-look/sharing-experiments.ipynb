{
 "cells": [
  {
   "cell_type": "markdown",
   "id": "ffc55deb-dc28-4d36-be12-c375ca24e5d3",
   "metadata": {},
   "source": [
    "# Sharing Experiments\n",
    "\n",
    "In the [first part](https://capitalone.github.io/rubicon-ml/quick-look/logging-experiments.html)\n",
    "of the quick look, we learned how to log ``rubicon_ml`` experiments in the context of a\n",
    "simple classification problem. We also performed a small hyperparameter search to show how ``rubicon_ml``\n",
    "can be used to compare the results of multiple model fits.\n",
    "\n",
    "Inspecting our model fit results in the same session that we trained the model is certainly useful, but\n",
    "sharing experiments can help us collaborate with teammates and compare new model training results to old\n",
    "experiments.\n",
    "\n",
    "First, we'll create a ``rubicon_ml`` entry point and get the project we logged in the first part of the\n",
    "quick look."
   ]
  },
  {
   "cell_type": "code",
   "execution_count": 1,
   "id": "c66ddf15-dc7e-4a5e-8ce9-b8770c6e6177",
   "metadata": {},
   "outputs": [
    {
     "data": {
      "text/plain": [
       "<rubicon_ml.client.project.Project at 0x168bda800>"
      ]
     },
     "execution_count": 1,
     "metadata": {},
     "output_type": "execute_result"
    }
   ],
   "source": [
    "from rubicon_ml import Rubicon\n",
    "\n",
    "rubicon = Rubicon(persistence=\"filesystem\", root_dir=\"./rubicon-root\")\n",
    "project = rubicon.get_project(name=\"classifying penguins\")\n",
    "project"
   ]
  },
  {
   "cell_type": "markdown",
   "id": "3e7c81be-8e5f-456a-8a4d-364001571acb",
   "metadata": {},
   "source": [
    "Let's say we want to share the results of our hyperparmeter search with another teammate so they can evaluate the results.\n",
    "``rubicon_ml``'s ``publish`` function takes a list of experiments as an input and  uses ``intake`` to generate a catalog\n",
    "containing the bare-minimum amount of metadata needed to retrieve an experiment, like its ID and filepath. More on ``intake``\n",
    "can be found [in their docs](https://intake.readthedocs.io/en/latest/).\n",
    "\n",
    "Hyperparameter searches can span thousands of combos, so sharing every single file ``rubicon_ml`` logs during the training\n",
    "process can be a lot. That's why we use ``intake`` via our ``publish`` function to only share what needs to be shared in a\n",
    "single YAML file. Then, later, users can use said YAML file to retrieve the experiments shared within it.\n",
    "\n",
    "**Note**: Sharing experiments relys on both the sharer and the recipient having access to the same underlying data source.\n",
    "In this example, we're using a local filesystem - so these experiments couldn't actually be shared with anyone other than \n",
    "people on this same physical machine. To get the most out of sharing, log your experiments to an S3 bucket that all teammates\n",
    "have access to."
   ]
  },
  {
   "cell_type": "code",
   "execution_count": 2,
   "id": "3696915b-e7d4-4760-a7f9-720cd2c8c781",
   "metadata": {},
   "outputs": [
    {
     "name": "stderr",
     "output_type": "stream",
     "text": [
      "/Users/IEA779/Desktop/Github/Github-Public/rubicon-ml/rubicon_ml/repository/base.py:57: UserWarning: /Users/IEA779/Desktop/Github/Github-Public/rubicon-ml/notebooks/quick-look/./rubicon-root/classifying-penguins/experiments/.ipynb_checkpoints/metadata.json not found. Was this file unintentionally created?\n",
      "  warnings.warn(warning)\n"
     ]
    },
    {
     "name": "stdout",
     "output_type": "stream",
     "text": [
      "sources:\n",
      "  experiment_03b024c3_b228_451e_a1f6_9fcff2a14024:\n",
      "    args:\n",
      "      experiment_id: 03b024c3-b228-451e-a1f6-9fcff2a14024\n",
      "      project_name: classifying penguins\n",
      "      urlpath: ./rubicon-root\n",
      "    driver: rubicon_ml_experiment\n"
     ]
    }
   ],
   "source": [
    "from rubicon_ml import publish\n",
    "\n",
    "catalog = publish(\n",
    "    project.experiments(tags=[\"parameter search\"]),\n",
    "    output_filepath=\"./penguin_catalog.yml\",\n",
    ")\n",
    "\n",
    "!head -7 penguin_catalog.yml"
   ]
  },
  {
   "cell_type": "markdown",
   "id": "74b2175a-4644-479b-9ff6-f01305f8d568",
   "metadata": {},
   "source": [
    "Each catalog contains a \"source\" for each ``rubicon_ml`` experiment. These sources contain the minimum metadata needed\n",
    "to retrieve the associated experiment - the ``experiment_id``, ``project_name`` and ``urlpath`` to the root of the \n",
    "``rubicon_ml`` repository used as an entry point. The ``rubicon_ml_experiment`` driver can be found \n",
    "[within our library](https://github.com/capitalone/rubicon-ml/blob/main/rubicon_ml/intake_rubicon/experiment.py)\n",
    "and leverages the metadata in the YAML catalog to return the experiment objects associated to it.\n",
    "\n",
    "Provided the recipient of the shared YAML catalog has read access to the filesystem represented by ``urlpath``,\n",
    "they can now use ``intake`` directly to read the catalog and load in the shared ``rubicon_ml`` expierments\n",
    "for their own inspection."
   ]
  },
  {
   "cell_type": "code",
   "execution_count": 3,
   "id": "7aafdde6-e660-4567-a183-dfd926ee2ddb",
   "metadata": {},
   "outputs": [
    {
     "name": "stdout",
     "output_type": "stream",
     "text": [
      "shared experiments:\n",
      "\tid: 03b024c3-b228-451e-a1f6-9fcff2a14024, parameters: [('strategy', 'most_frequent'), ('n_neighbors', 20)], metrics: [('accuracy', 0.7980769230769231)]\n",
      "\tid: 08625083-d5ec-4303-aeb1-8fd3b695a79a, parameters: [('strategy', 'mean'), ('n_neighbors', 15)], metrics: [('accuracy', 0.7403846153846154)]\n",
      "\tid: 0cc6ccee-c386-49be-a17a-c147c9526bcb, parameters: [('strategy', 'median'), ('n_neighbors', 10)], metrics: [('accuracy', 0.8653846153846154)]\n",
      "\tid: 0cd1373b-b7a3-4b12-9a2d-8a054c1034b9, parameters: [('strategy', 'mean'), ('n_neighbors', 5)], metrics: [('accuracy', 0.7211538461538461)]\n",
      "\tid: 1648cd28-2ded-4dae-9768-c5e650987ee1, parameters: [('strategy', 'median'), ('n_neighbors', 20)], metrics: [('accuracy', 0.7596153846153846)]\n",
      "\tid: 165c8123-aee4-4830-b7e8-6cbab7ae4586, parameters: [('strategy', 'median'), ('n_neighbors', 5)], metrics: [('accuracy', 0.8365384615384616)]\n",
      "\tid: 1a692338-9131-4763-b7df-c5cca8df88ae, parameters: [('strategy', 'median'), ('n_neighbors', 5)], metrics: [('accuracy', 0.7115384615384616)]\n",
      "\tid: 1c3284e0-bea4-40b6-9405-d0b81d04a043, parameters: [('strategy', 'mean'), ('n_neighbors', 5)], metrics: [('accuracy', 0.7211538461538461)]\n",
      "\tid: 1c740872-aab5-4b88-92f2-e6287b2425a6, parameters: [('strategy', 'most_frequent'), ('n_neighbors', 10)], metrics: [('accuracy', 0.7884615384615384)]\n",
      "\tid: 2202a0bc-60a1-4235-8844-ad180e15a83c, parameters: [('strategy', 'median'), ('n_neighbors', 10)], metrics: [('accuracy', 0.8269230769230769)]\n",
      "\tid: 252ecbbd-8a8c-4ede-b457-d0332530a06c, parameters: [('strategy', 'most_frequent'), ('n_neighbors', 5)], metrics: [('accuracy', 0.7307692307692307)]\n",
      "\tid: 2d98b50f-ad22-4bec-aefa-a24915760827, parameters: [('strategy', 'most_frequent'), ('n_neighbors', 15)], metrics: [('accuracy', 0.8076923076923077)]\n",
      "\tid: 3004f3a5-0f24-454f-a806-964e215a84e8, parameters: [('strategy', 'most_frequent'), ('n_neighbors', 15)], metrics: [('accuracy', 0.7115384615384616)]\n",
      "\tid: 35098c4a-3732-4f63-93d0-458d0d2b9a06, parameters: [('strategy', 'most_frequent'), ('n_neighbors', 20)], metrics: [('accuracy', 0.7211538461538461)]\n",
      "\tid: 36d08161-02f5-4675-a8cc-ebc861b101cc, parameters: [('strategy', 'most_frequent'), ('n_neighbors', 15)], metrics: [('accuracy', 0.7403846153846154)]\n",
      "\tid: 3803f98a-a221-48b3-8468-da60a764a630, parameters: [('strategy', 'median'), ('n_neighbors', 15)], metrics: [('accuracy', 0.7980769230769231)]\n",
      "\tid: 3a787fed-af26-4a9f-887f-7069e04ecc50, parameters: [('strategy', 'most_frequent'), ('n_neighbors', 10)], metrics: [('accuracy', 0.75)]\n",
      "\tid: 3afdfe33-e897-42ac-94e4-9b0c98a909c1, parameters: [('strategy', 'most_frequent'), ('n_neighbors', 10)], metrics: [('accuracy', 0.7596153846153846)]\n",
      "\tid: 3bfab3f7-5dc8-493d-ac4c-7bec56e1159a, parameters: [('strategy', 'median'), ('n_neighbors', 10)], metrics: [('accuracy', 0.7596153846153846)]\n",
      "\tid: 3ea6d04a-0556-4fbf-ba38-5cb7020b5db0, parameters: [('strategy', 'mean'), ('n_neighbors', 10)], metrics: [('accuracy', 0.7307692307692307)]\n",
      "\tid: 41d08411-a224-493a-a59a-41eba48393df, parameters: [('strategy', 'mean'), ('n_neighbors', 5)], metrics: [('accuracy', 0.8461538461538461)]\n",
      "\tid: 4744aa94-14fd-4063-96ad-67899d0fe62a, parameters: [('strategy', 'mean'), ('n_neighbors', 10)], metrics: [('accuracy', 0.7692307692307693)]\n",
      "\tid: 49392d0f-76fd-4af0-8865-66a0e360ef47, parameters: [('strategy', 'most_frequent'), ('n_neighbors', 5)], metrics: [('accuracy', 0.7211538461538461)]\n",
      "\tid: 4c35ef78-ef4c-4ed9-a967-9f5afa452334, parameters: [('strategy', 'mean'), ('n_neighbors', 10)], metrics: [('accuracy', 0.8173076923076923)]\n",
      "\tid: 4e0bcc7d-4094-455d-8244-bbdb8d505789, parameters: [('strategy', 'mean'), ('n_neighbors', 10)], metrics: [('accuracy', 0.7596153846153846)]\n",
      "\tid: 52a5d4ca-3acd-4559-9f6d-3b0f89107cb2, parameters: [('strategy', 'median'), ('n_neighbors', 5)], metrics: [('accuracy', 0.7596153846153846)]\n",
      "\tid: 54e8a9bf-a8f4-4d76-b9b9-7b1c54a4cc79, parameters: [('strategy', 'most_frequent'), ('n_neighbors', 10)], metrics: [('accuracy', 0.7596153846153846)]\n",
      "\tid: 575f8410-6e54-4fea-a986-a587f7a9277a, parameters: [('strategy', 'most_frequent'), ('n_neighbors', 15)], metrics: [('accuracy', 0.7307692307692307)]\n",
      "\tid: 596456a5-9acb-4e38-b457-fec4a0097a4d, parameters: [('strategy', 'most_frequent'), ('n_neighbors', 20)], metrics: [('accuracy', 0.7980769230769231)]\n",
      "\tid: 60cc3102-0f83-4625-bb2e-70e4eb268fd5, parameters: [('strategy', 'most_frequent'), ('n_neighbors', 5)], metrics: [('accuracy', 0.8846153846153846)]\n",
      "\tid: 62ecb5ef-da06-4aca-a5f4-53c3189e642b, parameters: [('strategy', 'median'), ('n_neighbors', 15)], metrics: [('accuracy', 0.7788461538461539)]\n",
      "\tid: 6706527a-961b-4cc8-8316-dd1fc9dc926c, parameters: [('strategy', 'most_frequent'), ('n_neighbors', 5)], metrics: [('accuracy', 0.7788461538461539)]\n",
      "\tid: 68da0cd3-a370-4daf-84bf-7bc525bb9350, parameters: [('strategy', 'median'), ('n_neighbors', 15)], metrics: [('accuracy', 0.7115384615384616)]\n",
      "\tid: 69f71897-7077-47b3-9d05-90d85ec6f6d2, parameters: [('strategy', 'mean'), ('n_neighbors', 5)], metrics: [('accuracy', 0.7307692307692307)]\n",
      "\tid: 6b2a24b9-0e0c-4235-af12-a6c19be98e22, parameters: [('strategy', 'mean'), ('n_neighbors', 20)], metrics: [('accuracy', 0.7211538461538461)]\n",
      "\tid: 709a86cc-8f2b-4488-84e1-0800f9ea03b2, parameters: [('strategy', 'most_frequent'), ('n_neighbors', 20)], metrics: [('accuracy', 0.7403846153846154)]\n",
      "\tid: 713dd52b-6f86-41ce-8789-4659bbe61e43, parameters: [('strategy', 'median'), ('n_neighbors', 20)], metrics: [('accuracy', 0.6923076923076923)]\n",
      "\tid: 72c6e238-461d-40e8-9936-1b7bc7a93261, parameters: [('strategy', 'mean'), ('n_neighbors', 10)], metrics: [('accuracy', 0.8653846153846154)]\n",
      "\tid: 73669a1d-ba3a-4791-9603-303b51374cd8, parameters: [('strategy', 'mean'), ('n_neighbors', 20)], metrics: [('accuracy', 0.6923076923076923)]\n",
      "\tid: 7418ac5e-4792-4ced-9a9f-c13991b4c6ac, parameters: [('strategy', 'most_frequent'), ('n_neighbors', 20)], metrics: [('accuracy', 0.75)]\n",
      "\tid: 8070c39a-149d-4928-bb89-0bf8ecdc55df, parameters: [('strategy', 'median'), ('n_neighbors', 20)], metrics: [('accuracy', 0.7211538461538461)]\n",
      "\tid: 81335eac-c7ec-4a11-8f71-9febd2db3c72, parameters: [('strategy', 'most_frequent'), ('n_neighbors', 20)], metrics: [('accuracy', 0.7596153846153846)]\n",
      "\tid: 863c0cfc-4ceb-4561-b158-2c1cdd1dcf2c, parameters: [('strategy', 'most_frequent'), ('n_neighbors', 5)], metrics: [('accuracy', 0.75)]\n",
      "\tid: 89734d0d-5a24-45b9-98e7-f22183409cb7, parameters: [('strategy', 'most_frequent'), ('n_neighbors', 5)], metrics: [('accuracy', 0.7403846153846154)]\n",
      "\tid: 8ab5ed6d-a7e0-44a2-ae6f-4d4fd7a84cf4, parameters: [('strategy', 'median'), ('n_neighbors', 20)], metrics: [('accuracy', 0.7307692307692307)]\n",
      "\tid: 8bf0a122-963a-473c-b634-efbba0054ec8, parameters: [('strategy', 'median'), ('n_neighbors', 5)], metrics: [('accuracy', 0.7884615384615384)]\n",
      "\tid: 9776f0a2-bbb9-426d-8985-d98da91d3a66, parameters: [('strategy', 'median'), ('n_neighbors', 15)], metrics: [('accuracy', 0.75)]\n",
      "\tid: 9a1cdae6-9e15-40fb-8fcc-4c2539d770c6, parameters: [('strategy', 'most_frequent'), ('n_neighbors', 15)], metrics: [('accuracy', 0.7980769230769231)]\n",
      "\tid: a118b39e-4e97-4d9c-ada5-fce10da7f305, parameters: [('strategy', 'mean'), ('n_neighbors', 15)], metrics: [('accuracy', 0.75)]\n",
      "\tid: a2724a2d-c247-4fe1-8c56-0ba3c0eebdae, parameters: [('strategy', 'mean'), ('n_neighbors', 15)], metrics: [('accuracy', 0.7307692307692307)]\n",
      "\tid: a86eca40-77ec-41d7-acec-b45d4e41b762, parameters: [('strategy', 'most_frequent'), ('n_neighbors', 10)], metrics: [('accuracy', 0.8173076923076923)]\n",
      "\tid: aa416e58-21ed-4f5e-b832-29da91653aab, parameters: [('strategy', 'median'), ('n_neighbors', 20)], metrics: [('accuracy', 0.7692307692307693)]\n",
      "\tid: ab6b2405-3721-4e24-a3cb-91bf50f140a2, parameters: [('strategy', 'mean'), ('n_neighbors', 20)], metrics: [('accuracy', 0.7307692307692307)]\n",
      "\tid: abd573a9-0e67-45f8-bb3e-0b1b63da2483, parameters: [('strategy', 'median'), ('n_neighbors', 5)], metrics: [('accuracy', 0.7403846153846154)]\n",
      "\tid: ae1eb4b5-b380-43fe-ad42-0f4a51f5de4c, parameters: [('strategy', 'median'), ('n_neighbors', 20)], metrics: [('accuracy', 0.7980769230769231)]\n",
      "\tid: b0ba2fa6-454f-4018-a3d5-ce443615252a, parameters: [('strategy', 'most_frequent'), ('n_neighbors', 15)], metrics: [('accuracy', 0.7307692307692307)]\n",
      "\tid: b18d7152-3915-4907-9044-6d9378229cfc, parameters: [('strategy', 'mean'), ('n_neighbors', 20)], metrics: [('accuracy', 0.7596153846153846)]\n",
      "\tid: b1dd1e38-1892-482c-980a-979925b837de, parameters: [('strategy', 'most_frequent'), ('n_neighbors', 20)], metrics: [('accuracy', 0.6923076923076923)]\n",
      "\tid: c41a6278-711f-4d67-b024-b321c0936bf3, parameters: [('strategy', 'median'), ('n_neighbors', 5)], metrics: [('accuracy', 0.7211538461538461)]\n",
      "\tid: c48d3a9a-f80b-4e38-885d-ac4ca1e0b4d6, parameters: [('strategy', 'mean'), ('n_neighbors', 15)], metrics: [('accuracy', 0.7884615384615384)]\n",
      "\tid: c58dcbf4-4dc7-495a-9610-2ed4346e5945, parameters: [('strategy', 'mean'), ('n_neighbors', 5)], metrics: [('accuracy', 0.7403846153846154)]\n",
      "\tid: c5ba3925-ccbd-4d7c-b88d-3ace2a7b59f3, parameters: [('strategy', 'mean'), ('n_neighbors', 5)], metrics: [('accuracy', 0.875)]\n",
      "\tid: cbaed53f-d4fc-4df2-9ad7-6d589438ed35, parameters: [('strategy', 'mean'), ('n_neighbors', 15)], metrics: [('accuracy', 0.7980769230769231)]\n",
      "\tid: cf4ae2bf-b41c-4e27-91d8-8d52ec5814f7, parameters: [('strategy', 'median'), ('n_neighbors', 10)], metrics: [('accuracy', 0.7596153846153846)]\n",
      "\tid: d0e0a262-2486-40bc-8176-af6706891d05, parameters: [('strategy', 'median'), ('n_neighbors', 20)], metrics: [('accuracy', 0.7307692307692307)]\n",
      "\tid: d9a73cc9-6e30-431d-873f-3479100171a6, parameters: [('strategy', 'median'), ('n_neighbors', 15)], metrics: [('accuracy', 0.7307692307692307)]\n",
      "\tid: dafdf433-ed00-4e0b-aa37-b1027285153d, parameters: [('strategy', 'median'), ('n_neighbors', 15)], metrics: [('accuracy', 0.8076923076923077)]\n",
      "\tid: db5c2ce6-fb45-4243-b9f5-dce84bec385d, parameters: [('strategy', 'mean'), ('n_neighbors', 15)], metrics: [('accuracy', 0.7115384615384616)]\n",
      "\tid: dc6bb242-2afe-46ad-b9e9-94015f09e7dc, parameters: [('strategy', 'most_frequent'), ('n_neighbors', 10)], metrics: [('accuracy', 0.8653846153846154)]\n",
      "\tid: e3c39d6e-7c63-4693-b239-d76deb8611c3, parameters: [('strategy', 'most_frequent'), ('n_neighbors', 10)], metrics: [('accuracy', 0.7307692307692307)]\n",
      "\tid: e747741f-8bac-4770-b24f-4304ffdd74bc, parameters: [('strategy', 'mean'), ('n_neighbors', 15)], metrics: [('accuracy', 0.8076923076923077)]\n",
      "\tid: e99644d5-2c0a-4304-bc8f-ab4b5e63b046, parameters: [('strategy', 'most_frequent'), ('n_neighbors', 5)], metrics: [('accuracy', 0.8365384615384616)]\n",
      "\tid: e9c0c75d-bd47-4dc2-aa94-848277939fcb, parameters: [('strategy', 'median'), ('n_neighbors', 10)], metrics: [('accuracy', 0.7403846153846154)]\n",
      "\tid: ec4e87bd-6c46-400e-bddd-db3a2a6b56b9, parameters: [('strategy', 'mean'), ('n_neighbors', 10)], metrics: [('accuracy', 0.7596153846153846)]\n",
      "\tid: ec764a0f-7c46-44b1-b011-e6d8df5c3172, parameters: [('strategy', 'most_frequent'), ('n_neighbors', 15)], metrics: [('accuracy', 0.7884615384615384)]\n",
      "\tid: f30e42ff-29e9-4d4f-b56d-4399bfd9157e, parameters: [('strategy', 'median'), ('n_neighbors', 10)], metrics: [('accuracy', 0.7884615384615384)]\n",
      "\tid: f3724aa9-411c-4bee-a521-f010845f897f, parameters: [('strategy', 'mean'), ('n_neighbors', 20)], metrics: [('accuracy', 0.7980769230769231)]\n",
      "\tid: f3b37e05-cc59-4592-adca-8efa77d4b118, parameters: [('strategy', 'median'), ('n_neighbors', 15)], metrics: [('accuracy', 0.75)]\n",
      "\tid: f4dadefd-eb65-49d9-a0ff-84c2a11b087a, parameters: [('strategy', 'mean'), ('n_neighbors', 5)], metrics: [('accuracy', 0.7788461538461539)]\n",
      "\tid: f7291f2f-a87c-4a22-837b-baa5b6d46b08, parameters: [('strategy', 'median'), ('n_neighbors', 5)], metrics: [('accuracy', 0.8942307692307693)]\n",
      "\tid: fb7991d1-5b7f-4e45-99f0-83228705d872, parameters: [('strategy', 'mean'), ('n_neighbors', 10)], metrics: [('accuracy', 0.75)]\n",
      "\tid: fdfcb348-188e-4ca4-b6f4-aff5be39c271, parameters: [('strategy', 'median'), ('n_neighbors', 10)], metrics: [('accuracy', 0.7596153846153846)]\n",
      "\tid: fe38c731-b9f1-42b5-9aa1-7b81b00ea9d8, parameters: [('strategy', 'mean'), ('n_neighbors', 20)], metrics: [('accuracy', 0.7692307692307693)]\n",
      "\tid: ff52b4e5-046e-472e-9c92-ecb24bf2a9db, parameters: [('strategy', 'mean'), ('n_neighbors', 20)], metrics: [('accuracy', 0.7307692307692307)]\n"
     ]
    }
   ],
   "source": [
    "import intake\n",
    "\n",
    "catalog = intake.open_catalog(\"./penguin_catalog.yml\")\n",
    "\n",
    "for source in catalog:\n",
    "    catalog[source].discover()\n",
    "    \n",
    "shared_experiments = [catalog[source].read() for source in catalog]\n",
    "\n",
    "print(\"shared experiments:\")\n",
    "for experiment in shared_experiments:\n",
    "    print(\n",
    "        f\"\\tid: {experiment.id}, \"\n",
    "        f\"parameters: {[(p.name, p.value) for p in experiment.parameters()]}, \"\n",
    "        f\"metrics: {[(m.name, m.value) for m in experiment.metrics()]}\"\n",
    "    )"
   ]
  },
  {
   "cell_type": "markdown",
   "id": "07eee8ad",
   "metadata": {},
   "source": [
    "## Updating Existing Catalogs"
   ]
  },
  {
   "cell_type": "markdown",
   "id": "c4b2733d-6687-4883-a122-893d836c0e80",
   "metadata": {},
   "source": [
    "Suppose we have an existing `intake catalog` and would like to update and append experiments to that the same catalog file. To do this, let's create a project with 2 random experiments Next, in order to update an exisiting catalog file with new experiments, we can utilize the `penguin_catalog` and then directly update it with our new experiments. To do this, we leverage an optional argument in the `publish` function called `base_catalog_filepath` as seen below. The result shows the new experiments added to the `penguin catalog`. We can verify this by noticing the different project name that the new experiments fall under.\n"
   ]
  },
  {
   "cell_type": "code",
   "execution_count": 4,
   "id": "55d1021b-e003-4914-ae72-b30dcc52b6d3",
   "metadata": {},
   "outputs": [
    {
     "name": "stdout",
     "output_type": "stream",
     "text": [
      "sources:\n",
      "  experiment_03b024c3_b228_451e_a1f6_9fcff2a14024:\n",
      "    args:\n",
      "      experiment_id: 03b024c3-b228-451e-a1f6-9fcff2a14024\n",
      "      project_name: classifying penguins\n",
      "      urlpath: ./rubicon-root\n",
      "    driver: rubicon_ml_experiment\n"
     ]
    }
   ],
   "source": [
    "import intake\n",
    "\n",
    "#Create new rubicon project and generate 2 experiments\n",
    "\n",
    "new_project = rubicon.get_or_create_project(name=\"update catalog example\")\n",
    "new_experiments = [new_project.log_experiment() for _ in range(2)]\n",
    "\n",
    "#publish\n",
    "updated_catalog = publish(\n",
    "    base_catalog_filepath=\"./penguin_catalog.yml\",\n",
    "    experiments = new_experiments,\n",
    ")\n",
    "\n",
    "!head -7 penguin_catalog.yml\n",
    "\n",
    "\n"
   ]
  }
 ],
 "metadata": {
  "kernelspec": {
   "display_name": "Python 3 (ipykernel)",
   "language": "python",
   "name": "python3"
  },
  "language_info": {
   "codemirror_mode": {
    "name": "ipython",
    "version": 3
   },
   "file_extension": ".py",
   "mimetype": "text/x-python",
   "name": "python",
   "nbconvert_exporter": "python",
   "pygments_lexer": "ipython3",
   "version": "3.10.6"
  },
  "vscode": {
   "interpreter": {
    "hash": "25b1e4c5b858c72efcaa777acfbbe2a6a9238d41ae968ff19668f7de97f00b4c"
   }
  }
 },
 "nbformat": 4,
 "nbformat_minor": 5
}
