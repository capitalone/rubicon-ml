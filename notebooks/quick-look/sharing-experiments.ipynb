{
 "cells": [
  {
   "cell_type": "markdown",
   "id": "ffc55deb-dc28-4d36-be12-c375ca24e5d3",
   "metadata": {},
   "source": [
    "# Sharing Experiments\n",
    "\n",
    "new quick look part 2 - sharing"
   ]
  },
  {
   "cell_type": "code",
   "execution_count": null,
   "id": "c66ddf15-dc7e-4a5e-8ce9-b8770c6e6177",
   "metadata": {},
   "outputs": [],
   "source": [
    "from rubicon_ml import Rubicon\n",
    "\n",
    "rubicon = Rubicon(persistence=\"filesystem\", root_dir=\"./rubicon-root\")\n",
    "project = rubicon.get_project(name=\"classifying penguins\")\n",
    "project"
   ]
  },
  {
   "cell_type": "code",
   "execution_count": null,
   "id": "3696915b-e7d4-4760-a7f9-720cd2c8c781",
   "metadata": {},
   "outputs": [],
   "source": [
    "from rubicon_ml import publish\n",
    "\n",
    "publish(\n",
    "    project.experiments(tags=[\"parameter search\"]),\n",
    "    output_filepath=\"./penguin_catalog.yml\",\n",
    ")\n",
    "\n",
    "!head -7 penguin_catalog.yml"
   ]
  },
  {
   "cell_type": "code",
   "execution_count": null,
   "id": "e90d02f1-1cda-40ea-acbb-052100e1029c",
   "metadata": {},
   "outputs": [],
   "source": [
    "import intake\n",
    "\n",
    "catalog = intake.open_catalog(\"./penguin_catalog.yml\")\n",
    "\n",
    "for source in catalog:\n",
    "    catalog[source].discover()\n",
    "    \n",
    "shared_experiments = [catalog[source].read() for source in catalog]\n",
    "\n",
    "print(\"shared experiments:\")\n",
    "for experiment in shared_experiments:\n",
    "    print(\n",
    "        f\"\\tid: {experiment.id}, \"\n",
    "        f\"parameters: {[(p.name, p.value) for p in experiment.parameters()]}, \"\n",
    "        f\"metrics: {[(m.name, m.value) for m in experiment.metrics()]}\"\n",
    "    )"
   ]
  }
 ],
 "metadata": {
  "kernelspec": {
   "display_name": "Python 3 (ipykernel)",
   "language": "python",
   "name": "python3"
  },
  "language_info": {
   "codemirror_mode": {
    "name": "ipython",
    "version": 3
   },
   "file_extension": ".py",
   "mimetype": "text/x-python",
   "name": "python",
   "nbconvert_exporter": "python",
   "pygments_lexer": "ipython3",
   "version": "3.10.5"
  }
 },
 "nbformat": 4,
 "nbformat_minor": 5
}
