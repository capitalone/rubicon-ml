{
 "cells": [
  {
   "cell_type": "markdown",
   "id": "ffc55deb-dc28-4d36-be12-c375ca24e5d3",
   "metadata": {},
   "source": [
    "# Sharing Experiments\n",
    "\n",
    "new quick look part 2 - sharing"
   ]
  },
  {
   "cell_type": "code",
   "execution_count": 1,
   "id": "c66ddf15-dc7e-4a5e-8ce9-b8770c6e6177",
   "metadata": {},
   "outputs": [
    {
     "data": {
      "text/plain": [
       "<rubicon_ml.client.project.Project at 0x16b54f400>"
      ]
     },
     "execution_count": 1,
     "metadata": {},
     "output_type": "execute_result"
    }
   ],
   "source": [
    "from rubicon_ml import Rubicon\n",
    "\n",
    "rubicon = Rubicon(persistence=\"filesystem\", root_dir=\"./rubicon-root\")\n",
    "project = rubicon.get_project(name=\"classifying penguins\")\n",
    "project"
   ]
  },
  {
   "cell_type": "code",
   "execution_count": 2,
   "id": "3696915b-e7d4-4760-a7f9-720cd2c8c781",
   "metadata": {},
   "outputs": [
    {
     "name": "stdout",
     "output_type": "stream",
     "text": [
      "sources:\n",
      "  experiment_1d3ec0ec_4013_46bb_88b7_598db3816c16:\n",
      "    args:\n",
      "      experiment_id: 1d3ec0ec-4013-46bb-88b7-598db3816c16\n",
      "      project_name: classifying penguins\n",
      "      urlpath: ./rubicon-root\n",
      "    driver: rubicon_ml_experiment\n"
     ]
    }
   ],
   "source": [
    "from rubicon_ml import publish\n",
    "\n",
    "publish(\n",
    "    project.experiments(tags=[\"parameter search\"]),\n",
    "    output_filepath=\"./penguin_catalog.yml\",\n",
    ")\n",
    "\n",
    "!head -7 penguin_catalog.yml"
   ]
  },
  {
   "cell_type": "code",
   "execution_count": 3,
   "id": "e90d02f1-1cda-40ea-acbb-052100e1029c",
   "metadata": {},
   "outputs": [
    {
     "name": "stdout",
     "output_type": "stream",
     "text": [
      "shared experiments:\n",
      "\tid: 1d3ec0ec-4013-46bb-88b7-598db3816c16, parameters: [('strategy', 'median'), ('n_neighbors', 5)], metrics: [('accuracy', 0.8269230769230769)]\n",
      "\tid: 44963bd2-5e13-4d2c-8b64-cf26017a6871, parameters: [('strategy', 'median'), ('n_neighbors', 15)], metrics: [('accuracy', 0.75)]\n",
      "\tid: 45c5a25f-2120-438c-a947-38f512b9c861, parameters: [('strategy', 'mean'), ('n_neighbors', 10)], metrics: [('accuracy', 0.7788461538461539)]\n",
      "\tid: 61c8e495-aea8-4160-af39-82038326bc24, parameters: [('strategy', 'mean'), ('n_neighbors', 15)], metrics: [('accuracy', 0.75)]\n",
      "\tid: 6a22eb7d-e28d-4e1b-95e5-fa35fb40fc57, parameters: [('strategy', 'median'), ('n_neighbors', 20)], metrics: [('accuracy', 0.7596153846153846)]\n",
      "\tid: 6deb07c3-d1bd-43ec-9fa8-52228cf07bfa, parameters: [('strategy', 'most_frequent'), ('n_neighbors', 5)], metrics: [('accuracy', 0.8269230769230769)]\n",
      "\tid: 76c9d99f-f398-4f25-b4c0-99d81377f026, parameters: [('strategy', 'mean'), ('n_neighbors', 5)], metrics: [('accuracy', 0.8365384615384616)]\n",
      "\tid: a9791635-27c7-4eb4-9bda-9e03533134a7, parameters: [('strategy', 'mean'), ('n_neighbors', 20)], metrics: [('accuracy', 0.7596153846153846)]\n",
      "\tid: af73c213-b53c-452f-8886-49cda6b94939, parameters: [('strategy', 'most_frequent'), ('n_neighbors', 15)], metrics: [('accuracy', 0.75)]\n",
      "\tid: dbb79df6-8747-45a4-813b-83020247978e, parameters: [('strategy', 'most_frequent'), ('n_neighbors', 20)], metrics: [('accuracy', 0.7596153846153846)]\n",
      "\tid: f3c62c55-349b-467f-9eb1-4756bbe36409, parameters: [('strategy', 'median'), ('n_neighbors', 10)], metrics: [('accuracy', 0.7788461538461539)]\n",
      "\tid: f6592799-9313-4fc3-8646-e27e18b77425, parameters: [('strategy', 'most_frequent'), ('n_neighbors', 10)], metrics: [('accuracy', 0.7788461538461539)]\n"
     ]
    }
   ],
   "source": [
    "import intake\n",
    "\n",
    "catalog = intake.open_catalog(\"./penguin_catalog.yml\")\n",
    "\n",
    "for source in catalog:\n",
    "    catalog[source].discover()\n",
    "    \n",
    "shared_experiments = [catalog[source].read() for source in catalog]\n",
    "\n",
    "print(\"shared experiments:\")\n",
    "for experiment in shared_experiments:\n",
    "    print(\n",
    "        f\"\\tid: {experiment.id}, \"\n",
    "        f\"parameters: {[(p.name, p.value) for p in experiment.parameters()]}, \"\n",
    "        f\"metrics: {[(m.name, m.value) for m in experiment.metrics()]}\"\n",
    "    )"
   ]
  }
 ],
 "metadata": {
  "kernelspec": {
   "display_name": "Python 3 (ipykernel)",
   "language": "python",
   "name": "python3"
  },
  "language_info": {
   "codemirror_mode": {
    "name": "ipython",
    "version": 3
   },
   "file_extension": ".py",
   "mimetype": "text/x-python",
   "name": "python",
   "nbconvert_exporter": "python",
   "pygments_lexer": "ipython3",
   "version": "3.10.5"
  }
 },
 "nbformat": 4,
 "nbformat_minor": 5
}
