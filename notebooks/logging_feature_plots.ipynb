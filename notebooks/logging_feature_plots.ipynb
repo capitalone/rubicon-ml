{
 "cells": [
  {
   "cell_type": "markdown",
   "id": "b45defa6",
   "metadata": {},
   "source": [
    "`Rubicon_ml` makes it easy to log plots with features and artifacts. In this example we'll walk through creating a feature dependency plot using the `shap` package and saving it to an artifact."
   ]
  },
  {
   "cell_type": "markdown",
   "id": "0e6c4ba0",
   "metadata": {},
   "source": [
    "First lets create a Rubicon `project` and fit a `pipeline`."
   ]
  },
  {
   "cell_type": "code",
   "execution_count": null,
   "id": "932d5223",
   "metadata": {},
   "outputs": [],
   "source": [
    "import shap\n",
    "import sklearn\n",
    "from sklearn.datasets import load_wine\n",
    "from rubicon_ml import Rubicon\n",
    "\n",
    "from sklearn.preprocessing import StandardScaler\n",
    "from sklearn.ensemble import GradientBoostingRegressor\n",
    "from rubicon_ml.sklearn import make_pipeline\n",
    "\n",
    "rubicon = Rubicon(persistence=\"memory\")\n",
    "project = rubicon.get_or_create_project(\"Logging Feature Plots\")\n",
    "\n",
    "X, y = load_wine(return_X_y=True)\n",
    "\n",
    "reg =  GradientBoostingRegressor(random_state=1)\n",
    "pipeline=make_pipeline(project, reg)\n",
    "\n",
    "pipeline.fit(X, y)"
   ]
  },
  {
   "cell_type": "markdown",
   "id": "ef941fa1",
   "metadata": {},
   "source": [
    "## Generating Data\n",
    "Using `shap.Explainer` we can generate `shap` values to later plot."
   ]
  },
  {
   "cell_type": "code",
   "execution_count": null,
   "id": "b158cb8c",
   "metadata": {},
   "outputs": [],
   "source": [
    "explainer = shap.Explainer(reg)\n",
    "shap_values = explainer.shap_values(X)"
   ]
  },
  {
   "cell_type": "markdown",
   "id": "596f75d3",
   "metadata": {},
   "source": [
    "## Plotting"
   ]
  },
  {
   "cell_type": "code",
   "execution_count": null,
   "id": "264fcf97",
   "metadata": {},
   "outputs": [],
   "source": [
    "import matplotlib.pyplot as pl\n",
    "import io"
   ]
  },
  {
   "cell_type": "code",
   "execution_count": null,
   "id": "94c6c4b4",
   "metadata": {},
   "outputs": [],
   "source": [
    "buff_data = dict()\n",
    "for x in range(reg.n_features_in_):\n",
    "    feature_name=\"feature \"+str(x)\n",
    "    buf = io.BytesIO()\n",
    "    exp=project.log_experiment()\n",
    "    exp.log_feature(feature_name)\n",
    "    shap.dependence_plot(x, shap_values, X, interaction_index=None)\n",
    "    fig = pl.gcf()\n",
    "    fig.savefig(buf, format=\"png\")\n",
    "    buf.seek(0)\n",
    "    buff_data[feature_name] = buf.read()\n",
    "    buf.close()\n",
    "    exp.log_artifact(data_bytes=buff_data[feature_name],name=feature_name+\" dependency plot\")\n",
    "    exp.add_tags([feature_name])\n",
    "    \n",
    "\n"
   ]
  },
  {
   "cell_type": "code",
   "execution_count": null,
   "id": "8d6fb1d4",
   "metadata": {},
   "outputs": [],
   "source": [
    "import io\n",
    "from PIL import Image\n",
    "\n",
    "exp=project.experiments(tags=[\"feature 6\"])[0]\n",
    "artifact_plot=exp.artifact(\"feature 6 dependency plot\")\n",
    "imageScatterPlotStream = io.BytesIO(artifact_plot.data)\n",
    "scatter_plot_image = Image.open(imageScatterPlotStream)\n",
    "display(scatter_plot_image)"
   ]
  },
  {
   "cell_type": "code",
   "execution_count": null,
   "id": "9f79d83b",
   "metadata": {},
   "outputs": [],
   "source": []
  }
 ],
 "metadata": {
  "kernelspec": {
   "display_name": "Python 3 (ipykernel)",
   "language": "python",
   "name": "python3"
  },
  "language_info": {
   "codemirror_mode": {
    "name": "ipython",
    "version": 3
   },
   "file_extension": ".py",
   "mimetype": "text/x-python",
   "name": "python",
   "nbconvert_exporter": "python",
   "pygments_lexer": "ipython3",
   "version": "3.10.2"
  }
 },
 "nbformat": 4,
 "nbformat_minor": 5
}
