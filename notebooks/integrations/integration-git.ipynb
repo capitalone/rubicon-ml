{
 "cells": [
  {
   "cell_type": "markdown",
   "metadata": {},
   "source": [
    "# Git\n",
    "\n",
    "Rubicon's ``git`` integration allows you to automatically track relevant version control\n",
    "information like branches and commits during your model iteration process. \n",
    "Use this integration when you are developing within a ``git`` repository to seamlessly tie\n",
    "your Rubicon experiments directly to the model code that produced them - an audit and\n",
    "governance must have!\n",
    "\n",
    "To enable this feature, instantiate the ``Rubicon`` object with ``auto_git_enabled=True``."
   ]
  },
  {
   "cell_type": "code",
   "execution_count": 1,
   "metadata": {},
   "outputs": [],
   "source": [
    "from rubicon import Rubicon\n",
    "\n",
    "\n",
    "rubicon = Rubicon(persistence=\"memory\", auto_git_enabled=True)"
   ]
  },
  {
   "cell_type": "markdown",
   "metadata": {},
   "source": [
    "Any **project** created with this client will have the URL of the GitHub repo's origin\n",
    "automatically populated in the `github_url` property."
   ]
  },
  {
   "cell_type": "code",
   "execution_count": 2,
   "metadata": {},
   "outputs": [
    {
     "data": {
      "text/plain": [
       "'https://github.com/capitalone/rubicon.git'"
      ]
     },
     "execution_count": 2,
     "metadata": {},
     "output_type": "execute_result"
    }
   ],
   "source": [
    "project = rubicon.create_project(\"Automatic Git Integration\")\n",
    "\n",
    "project.github_url"
   ]
  },
  {
   "cell_type": "markdown",
   "metadata": {},
   "source": [
    "**Experiments** will have the current active branch name and last commit hash populated in\n",
    "the ``branch_name`` and ``commit_hash`` fields, respectively."
   ]
  },
  {
   "cell_type": "code",
   "execution_count": 3,
   "metadata": {},
   "outputs": [
    {
     "data": {
      "text/plain": [
       "('73-revisit-examples', '608f29ea59858d3bfd08649fd2a86bb11a397078')"
      ]
     },
     "execution_count": 3,
     "metadata": {},
     "output_type": "execute_result"
    }
   ],
   "source": [
    "experiment = project.log_experiment(model_name=\"GitHub Model\")\n",
    "\n",
    "experiment.branch_name, experiment.commit_hash"
   ]
  },
  {
   "cell_type": "markdown",
   "metadata": {},
   "source": [
    "These properties can help easily associate **projects** and **experiments** with the exact\n",
    "branches and commits they were run against so we can go back and reference the code later."
   ]
  },
  {
   "cell_type": "code",
   "execution_count": 4,
   "metadata": {},
   "outputs": [
    {
     "name": "stderr",
     "output_type": "stream",
     "text": [
      " * Running on http://127.0.0.1:8050/ (Press CTRL+C to quit)\n",
      "127.0.0.1 - - [16/Apr/2021 10:59:23] \"\u001b[37mGET /_alive_bec47650-b0c8-449a-beed-56d8e9dee966 HTTP/1.1\u001b[0m\" 200 -\n"
     ]
    },
    {
     "name": "stdout",
     "output_type": "stream",
     "text": [
      "Dash app running on http://127.0.0.1:8050/\n"
     ]
    }
   ],
   "source": [
    "from rubicon.ui import Dashboard\n",
    "\n",
    "\n",
    "Dashboard(persistence=\"memory\").run_server()"
   ]
  },
  {
   "cell_type": "markdown",
   "metadata": {},
   "source": [
    "Within the Rubicon dashboard, your experiments will be grouped by\n",
    "commit hash, which will link directly to the commit on GitHub.\n",
    "\n",
    "![dashboard](integration-git-dashboard.png \"dashboard\")"
   ]
  }
 ],
 "metadata": {
  "kernelspec": {
   "display_name": "Python 3",
   "language": "python",
   "name": "python3"
  },
  "language_info": {
   "codemirror_mode": {
    "name": "ipython",
    "version": 3
   },
   "file_extension": ".py",
   "mimetype": "text/x-python",
   "name": "python",
   "nbconvert_exporter": "python",
   "pygments_lexer": "ipython3",
   "version": "3.9.2"
  }
 },
 "nbformat": 4,
 "nbformat_minor": 4
}
