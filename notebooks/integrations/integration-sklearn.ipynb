{
 "cells": [
  {
   "cell_type": "markdown",
   "id": "overall-windsor",
   "metadata": {},
   "source": [
    "# Integrate with Scikit-learn\n",
    "\n",
    "This example shows how you can integrate ``rubicon_ml`` into your Scikit-learn pipelines\n",
    "to enable automatic logging of **parameters** and **metrics** as you fit and score your models!\n",
    "\n",
    "### Simple pipeline run\n",
    "\n",
    "Using the ``RubiconPipeline`` class, you can set up a enhanced Scikit-learn\n",
    "pipeline with automated logging."
   ]
  },
  {
   "cell_type": "code",
   "execution_count": 1,
   "id": "inside-moore",
   "metadata": {},
   "outputs": [
    {
     "data": {
      "text/plain": [
       "RubiconPipeline(project=<rubicon_ml.client.project.Project object at 0x1072fd420>,\n",
       "                steps=[('scaler', StandardScaler()), ('svc', SVC())])"
      ]
     },
     "execution_count": 1,
     "metadata": {},
     "output_type": "execute_result"
    }
   ],
   "source": [
    "from sklearn.svm import SVC\n",
    "from sklearn.preprocessing import StandardScaler\n",
    "from sklearn.datasets import make_classification\n",
    "from sklearn.model_selection import train_test_split\n",
    "from sklearn.pipeline import Pipeline\n",
    "\n",
    "from rubicon_ml import Rubicon\n",
    "from rubicon_ml.sklearn import RubiconPipeline\n",
    "\n",
    "\n",
    "rubicon = Rubicon(persistence=\"memory\")\n",
    "project = rubicon.get_or_create_project(\"Rubicon Pipeline Example\")\n",
    "\n",
    "X, y = make_classification(random_state=0)\n",
    "X_train, X_test, y_train, y_test = train_test_split(X, y, random_state=0)\n",
    "\n",
    "pipe = RubiconPipeline(\n",
    "    project,\n",
    "    [('scaler', StandardScaler()), ('svc', SVC())],\n",
    ")\n",
    "pipe"
   ]
  },
  {
   "cell_type": "code",
   "execution_count": 2,
   "id": "excellent-tuesday",
   "metadata": {},
   "outputs": [
    {
     "data": {
      "text/plain": [
       "RubiconPipeline(project=<rubicon_ml.client.project.Project object at 0x1072fd420>,\n",
       "                steps=[('scaler', StandardScaler()), ('svc', SVC())])"
      ]
     },
     "execution_count": 2,
     "metadata": {},
     "output_type": "execute_result"
    }
   ],
   "source": [
    "pipe.fit(X_train, y_train)"
   ]
  },
  {
   "cell_type": "code",
   "execution_count": 3,
   "id": "characteristic-malawi",
   "metadata": {},
   "outputs": [
    {
     "data": {
      "text/plain": [
       "0.88"
      ]
     },
     "execution_count": 3,
     "metadata": {},
     "output_type": "execute_result"
    }
   ],
   "source": [
    "pipe.score(X_test, y_test)"
   ]
  },
  {
   "cell_type": "markdown",
   "id": "tutorial-bulletin",
   "metadata": {},
   "source": [
    "During the pipeline run, an **experiment** was automatically created and the corresponding\n",
    "**parameters** and **metrics** logged to it. Afterwards, you can use the ``rubicon_ml`` library\n",
    "to pull these experiments back or view them by running the dashboard."
   ]
  },
  {
   "cell_type": "code",
   "execution_count": 4,
   "id": "3562b1b5-aa58-4880-9fd6-190cd00c3a9d",
   "metadata": {},
   "outputs": [
    {
     "name": "stdout",
     "output_type": "stream",
     "text": [
      "experiment 454519b2-78a1-46b2-bb31-7d4d32ae144f\n",
      "parameters: [('scaler__copy', True), ('scaler__with_mean', True), ('scaler__with_std', True), ('svc__C', 1.0), ('svc__break_ties', False), ('svc__cache_size', 200), ('svc__class_weight', None), ('svc__coef0', 0.0), ('svc__decision_function_shape', 'ovr'), ('svc__degree', 3), ('svc__gamma', 'scale'), ('svc__kernel', 'rbf'), ('svc__max_iter', -1), ('svc__probability', False), ('svc__random_state', None), ('svc__shrinking', True), ('svc__tol', 0.001), ('svc__verbose', False)]\n",
      "metrics: [('score', 0.88)]\n"
     ]
    }
   ],
   "source": [
    "for experiment in project.experiments():\n",
    "    parameters = [(p.name, p.value) for p in experiment.parameters()]\n",
    "    metrics = [(m.name, m.value) for m in experiment.metrics()]\n",
    "\n",
    "    print(\n",
    "        f\"experiment {experiment.id}\\n\"\n",
    "        f\"parameters: {parameters}\\nmetrics: {metrics}\"\n",
    "    )"
   ]
  },
  {
   "cell_type": "markdown",
   "id": "finite-rescue",
   "metadata": {},
   "source": [
    "By default, ``rubicon_ml``'s logging is very verbose. It captures each **parameter** passed\n",
    "to each stage of your pipeline. In the next example we'll see how to target our logging\n",
    "a bit more.\n",
    "\n",
    "### A more realistic example using GridSearch\n",
    "\n",
    "``GridSearch`` is commonly used to test many different parameters across an estimator or\n",
    "pipeline in the hopes of finding the optimal parameter set. The ``RubiconPipeline`` fits the\n",
    "Scikit-learn estimator specificaion, so it can be passed to Scikit-learn's ``GridSearchCV``\n",
    "to automatically log each set of parameters tried in the grid search to an individual\n",
    "experiment. Then, all of these experiments can be explored with the dashboard!\n",
    "\n",
    "This example is adapted from \n",
    "[this Scikit-learn example](https://scikit-learn.org/stable/auto_examples/model_selection/grid_search_text_feature_extraction.html#sphx-glr-auto-examples-model-selection-grid-search-text-feature-extraction-py)."
   ]
  },
  {
   "cell_type": "code",
   "execution_count": 5,
   "id": "sapphire-standing",
   "metadata": {},
   "outputs": [],
   "source": [
    "from sklearn.datasets import fetch_20newsgroups\n",
    "from sklearn.feature_extraction.text import CountVectorizer\n",
    "from sklearn.feature_extraction.text import TfidfTransformer\n",
    "from sklearn.linear_model import SGDClassifier\n",
    "from sklearn.model_selection import GridSearchCV\n",
    "\n",
    "\n",
    "categories = [\"alt.atheism\", \"talk.religion.misc\"]\n",
    "data = fetch_20newsgroups(subset='train', categories=categories)"
   ]
  },
  {
   "cell_type": "markdown",
   "id": "fatal-heritage",
   "metadata": {},
   "source": [
    "You can pass user-defined loggers to the ``RubiconPipeline`` to have more control over exactly which\n",
    "parameters are logged for specific estimators. For example, you can use the ``FilteredLogger`` class\n",
    "to select or ignore parameters on any estimator."
   ]
  },
  {
   "cell_type": "code",
   "execution_count": 6,
   "id": "physical-radio",
   "metadata": {},
   "outputs": [],
   "source": [
    "import os\n",
    "\n",
    "from rubicon_ml import Rubicon\n",
    "from rubicon_ml.sklearn import FilterEstimatorLogger, RubiconPipeline\n",
    "\n",
    "\n",
    "root_dir = os.environ.get(\"RUBICON_ROOT\", \"rubicon-root\")\n",
    "root_path = f\"{os.path.dirname(os.getcwd())}/{root_dir}\"\n",
    "\n",
    "rubicon = Rubicon(persistence=\"filesystem\", root_dir=root_path)\n",
    "project = rubicon.get_or_create_project(\"Grid Search\")\n",
    "\n",
    "pipeline = RubiconPipeline(\n",
    "    project,\n",
    "    [\n",
    "        (\"vect\", CountVectorizer()),\n",
    "        (\"tfidf\", TfidfTransformer()),\n",
    "        (\"clf\", SGDClassifier()),\n",
    "    ],\n",
    "    user_defined_loggers = {\n",
    "        \"vect\": FilterEstimatorLogger(select=[\"max_df\"]),\n",
    "        \"tfidf\": FilterEstimatorLogger(ignore_all=True),\n",
    "        \"clf\": FilterEstimatorLogger(select=[\"max_iter\", \"alpha\", \"penalty\"]),\n",
    "    },\n",
    "    experiment_kwargs={\n",
    "        \"name\": \"logged from a RubiconPipeline\",\n",
    "        \"model_name\": SGDClassifier.__name__,\n",
    "    },\n",
    ")"
   ]
  },
  {
   "cell_type": "markdown",
   "id": "2e24c5cd-b0ba-4378-82b0-2a4428659086",
   "metadata": {},
   "source": [
    "Let's define a parameter grid and run some experiments!"
   ]
  },
  {
   "cell_type": "code",
   "execution_count": 7,
   "id": "agricultural-ratio",
   "metadata": {},
   "outputs": [
    {
     "name": "stderr",
     "output_type": "stream",
     "text": [
      "/opt/miniconda3/envs/rubicon-ml-dev/lib/python3.10/site-packages/sklearn/linear_model/_stochastic_gradient.py:705: ConvergenceWarning: Maximum number of iteration reached before convergence. Consider increasing max_iter to improve the fit.\n",
      "  warnings.warn(\n",
      "/opt/miniconda3/envs/rubicon-ml-dev/lib/python3.10/site-packages/sklearn/linear_model/_stochastic_gradient.py:705: ConvergenceWarning: Maximum number of iteration reached before convergence. Consider increasing max_iter to improve the fit.\n",
      "  warnings.warn(\n",
      "/opt/miniconda3/envs/rubicon-ml-dev/lib/python3.10/site-packages/sklearn/linear_model/_stochastic_gradient.py:705: ConvergenceWarning: Maximum number of iteration reached before convergence. Consider increasing max_iter to improve the fit.\n",
      "  warnings.warn(\n",
      "/opt/miniconda3/envs/rubicon-ml-dev/lib/python3.10/site-packages/sklearn/linear_model/_stochastic_gradient.py:705: ConvergenceWarning: Maximum number of iteration reached before convergence. Consider increasing max_iter to improve the fit.\n",
      "  warnings.warn(\n",
      "/opt/miniconda3/envs/rubicon-ml-dev/lib/python3.10/site-packages/sklearn/linear_model/_stochastic_gradient.py:705: ConvergenceWarning: Maximum number of iteration reached before convergence. Consider increasing max_iter to improve the fit.\n",
      "  warnings.warn(\n",
      "/opt/miniconda3/envs/rubicon-ml-dev/lib/python3.10/site-packages/sklearn/linear_model/_stochastic_gradient.py:705: ConvergenceWarning: Maximum number of iteration reached before convergence. Consider increasing max_iter to improve the fit.\n",
      "  warnings.warn(\n",
      "/opt/miniconda3/envs/rubicon-ml-dev/lib/python3.10/site-packages/sklearn/linear_model/_stochastic_gradient.py:705: ConvergenceWarning: Maximum number of iteration reached before convergence. Consider increasing max_iter to improve the fit.\n",
      "  warnings.warn(\n",
      "/opt/miniconda3/envs/rubicon-ml-dev/lib/python3.10/site-packages/sklearn/linear_model/_stochastic_gradient.py:705: ConvergenceWarning: Maximum number of iteration reached before convergence. Consider increasing max_iter to improve the fit.\n",
      "  warnings.warn(\n",
      "/opt/miniconda3/envs/rubicon-ml-dev/lib/python3.10/site-packages/sklearn/linear_model/_stochastic_gradient.py:705: ConvergenceWarning: Maximum number of iteration reached before convergence. Consider increasing max_iter to improve the fit.\n",
      "  warnings.warn(\n",
      "/opt/miniconda3/envs/rubicon-ml-dev/lib/python3.10/site-packages/sklearn/linear_model/_stochastic_gradient.py:705: ConvergenceWarning: Maximum number of iteration reached before convergence. Consider increasing max_iter to improve the fit.\n",
      "  warnings.warn(\n",
      "/opt/miniconda3/envs/rubicon-ml-dev/lib/python3.10/site-packages/sklearn/linear_model/_stochastic_gradient.py:705: ConvergenceWarning: Maximum number of iteration reached before convergence. Consider increasing max_iter to improve the fit.\n",
      "  warnings.warn(\n",
      "/opt/miniconda3/envs/rubicon-ml-dev/lib/python3.10/site-packages/sklearn/linear_model/_stochastic_gradient.py:705: ConvergenceWarning: Maximum number of iteration reached before convergence. Consider increasing max_iter to improve the fit.\n",
      "  warnings.warn(\n",
      "/opt/miniconda3/envs/rubicon-ml-dev/lib/python3.10/site-packages/sklearn/linear_model/_stochastic_gradient.py:705: ConvergenceWarning: Maximum number of iteration reached before convergence. Consider increasing max_iter to improve the fit.\n",
      "  warnings.warn(\n",
      "/opt/miniconda3/envs/rubicon-ml-dev/lib/python3.10/site-packages/sklearn/linear_model/_stochastic_gradient.py:705: ConvergenceWarning: Maximum number of iteration reached before convergence. Consider increasing max_iter to improve the fit.\n",
      "  warnings.warn(\n",
      "/opt/miniconda3/envs/rubicon-ml-dev/lib/python3.10/site-packages/sklearn/linear_model/_stochastic_gradient.py:705: ConvergenceWarning: Maximum number of iteration reached before convergence. Consider increasing max_iter to improve the fit.\n",
      "  warnings.warn(\n",
      "/opt/miniconda3/envs/rubicon-ml-dev/lib/python3.10/site-packages/sklearn/linear_model/_stochastic_gradient.py:705: ConvergenceWarning: Maximum number of iteration reached before convergence. Consider increasing max_iter to improve the fit.\n",
      "  warnings.warn(\n",
      "/opt/miniconda3/envs/rubicon-ml-dev/lib/python3.10/site-packages/sklearn/linear_model/_stochastic_gradient.py:705: ConvergenceWarning: Maximum number of iteration reached before convergence. Consider increasing max_iter to improve the fit.\n",
      "  warnings.warn(\n",
      "/opt/miniconda3/envs/rubicon-ml-dev/lib/python3.10/site-packages/sklearn/linear_model/_stochastic_gradient.py:705: ConvergenceWarning: Maximum number of iteration reached before convergence. Consider increasing max_iter to improve the fit.\n",
      "  warnings.warn(\n",
      "/opt/miniconda3/envs/rubicon-ml-dev/lib/python3.10/site-packages/sklearn/linear_model/_stochastic_gradient.py:705: ConvergenceWarning: Maximum number of iteration reached before convergence. Consider increasing max_iter to improve the fit.\n",
      "  warnings.warn(\n",
      "/opt/miniconda3/envs/rubicon-ml-dev/lib/python3.10/site-packages/sklearn/linear_model/_stochastic_gradient.py:705: ConvergenceWarning: Maximum number of iteration reached before convergence. Consider increasing max_iter to improve the fit.\n",
      "  warnings.warn(\n",
      "/opt/miniconda3/envs/rubicon-ml-dev/lib/python3.10/site-packages/sklearn/linear_model/_stochastic_gradient.py:705: ConvergenceWarning: Maximum number of iteration reached before convergence. Consider increasing max_iter to improve the fit.\n",
      "  warnings.warn(\n",
      "/opt/miniconda3/envs/rubicon-ml-dev/lib/python3.10/site-packages/sklearn/linear_model/_stochastic_gradient.py:705: ConvergenceWarning: Maximum number of iteration reached before convergence. Consider increasing max_iter to improve the fit.\n",
      "  warnings.warn(\n",
      "/opt/miniconda3/envs/rubicon-ml-dev/lib/python3.10/site-packages/sklearn/linear_model/_stochastic_gradient.py:705: ConvergenceWarning: Maximum number of iteration reached before convergence. Consider increasing max_iter to improve the fit.\n",
      "  warnings.warn(\n",
      "/opt/miniconda3/envs/rubicon-ml-dev/lib/python3.10/site-packages/sklearn/linear_model/_stochastic_gradient.py:705: ConvergenceWarning: Maximum number of iteration reached before convergence. Consider increasing max_iter to improve the fit.\n",
      "  warnings.warn(\n",
      "/opt/miniconda3/envs/rubicon-ml-dev/lib/python3.10/site-packages/sklearn/linear_model/_stochastic_gradient.py:705: ConvergenceWarning: Maximum number of iteration reached before convergence. Consider increasing max_iter to improve the fit.\n",
      "  warnings.warn(\n",
      "/opt/miniconda3/envs/rubicon-ml-dev/lib/python3.10/site-packages/sklearn/linear_model/_stochastic_gradient.py:705: ConvergenceWarning: Maximum number of iteration reached before convergence. Consider increasing max_iter to improve the fit.\n",
      "  warnings.warn(\n",
      "/opt/miniconda3/envs/rubicon-ml-dev/lib/python3.10/site-packages/sklearn/linear_model/_stochastic_gradient.py:705: ConvergenceWarning: Maximum number of iteration reached before convergence. Consider increasing max_iter to improve the fit.\n",
      "  warnings.warn(\n",
      "/opt/miniconda3/envs/rubicon-ml-dev/lib/python3.10/site-packages/sklearn/linear_model/_stochastic_gradient.py:705: ConvergenceWarning: Maximum number of iteration reached before convergence. Consider increasing max_iter to improve the fit.\n",
      "  warnings.warn(\n",
      "/opt/miniconda3/envs/rubicon-ml-dev/lib/python3.10/site-packages/sklearn/linear_model/_stochastic_gradient.py:705: ConvergenceWarning: Maximum number of iteration reached before convergence. Consider increasing max_iter to improve the fit.\n",
      "  warnings.warn(\n"
     ]
    },
    {
     "data": {
      "text/html": [
       "<style>#sk-container-id-3 {color: black;background-color: white;}#sk-container-id-3 pre{padding: 0;}#sk-container-id-3 div.sk-toggleable {background-color: white;}#sk-container-id-3 label.sk-toggleable__label {cursor: pointer;display: block;width: 100%;margin-bottom: 0;padding: 0.3em;box-sizing: border-box;text-align: center;}#sk-container-id-3 label.sk-toggleable__label-arrow:before {content: \"▸\";float: left;margin-right: 0.25em;color: #696969;}#sk-container-id-3 label.sk-toggleable__label-arrow:hover:before {color: black;}#sk-container-id-3 div.sk-estimator:hover label.sk-toggleable__label-arrow:before {color: black;}#sk-container-id-3 div.sk-toggleable__content {max-height: 0;max-width: 0;overflow: hidden;text-align: left;background-color: #f0f8ff;}#sk-container-id-3 div.sk-toggleable__content pre {margin: 0.2em;color: black;border-radius: 0.25em;background-color: #f0f8ff;}#sk-container-id-3 input.sk-toggleable__control:checked~div.sk-toggleable__content {max-height: 200px;max-width: 100%;overflow: auto;}#sk-container-id-3 input.sk-toggleable__control:checked~label.sk-toggleable__label-arrow:before {content: \"▾\";}#sk-container-id-3 div.sk-estimator input.sk-toggleable__control:checked~label.sk-toggleable__label {background-color: #d4ebff;}#sk-container-id-3 div.sk-label input.sk-toggleable__control:checked~label.sk-toggleable__label {background-color: #d4ebff;}#sk-container-id-3 input.sk-hidden--visually {border: 0;clip: rect(1px 1px 1px 1px);clip: rect(1px, 1px, 1px, 1px);height: 1px;margin: -1px;overflow: hidden;padding: 0;position: absolute;width: 1px;}#sk-container-id-3 div.sk-estimator {font-family: monospace;background-color: #f0f8ff;border: 1px dotted black;border-radius: 0.25em;box-sizing: border-box;margin-bottom: 0.5em;}#sk-container-id-3 div.sk-estimator:hover {background-color: #d4ebff;}#sk-container-id-3 div.sk-parallel-item::after {content: \"\";width: 100%;border-bottom: 1px solid gray;flex-grow: 1;}#sk-container-id-3 div.sk-label:hover label.sk-toggleable__label {background-color: #d4ebff;}#sk-container-id-3 div.sk-serial::before {content: \"\";position: absolute;border-left: 1px solid gray;box-sizing: border-box;top: 0;bottom: 0;left: 50%;z-index: 0;}#sk-container-id-3 div.sk-serial {display: flex;flex-direction: column;align-items: center;background-color: white;padding-right: 0.2em;padding-left: 0.2em;position: relative;}#sk-container-id-3 div.sk-item {position: relative;z-index: 1;}#sk-container-id-3 div.sk-parallel {display: flex;align-items: stretch;justify-content: center;background-color: white;position: relative;}#sk-container-id-3 div.sk-item::before, #sk-container-id-3 div.sk-parallel-item::before {content: \"\";position: absolute;border-left: 1px solid gray;box-sizing: border-box;top: 0;bottom: 0;left: 50%;z-index: -1;}#sk-container-id-3 div.sk-parallel-item {display: flex;flex-direction: column;z-index: 1;position: relative;background-color: white;}#sk-container-id-3 div.sk-parallel-item:first-child::after {align-self: flex-end;width: 50%;}#sk-container-id-3 div.sk-parallel-item:last-child::after {align-self: flex-start;width: 50%;}#sk-container-id-3 div.sk-parallel-item:only-child::after {width: 0;}#sk-container-id-3 div.sk-dashed-wrapped {border: 1px dashed gray;margin: 0 0.4em 0.5em 0.4em;box-sizing: border-box;padding-bottom: 0.4em;background-color: white;}#sk-container-id-3 div.sk-label label {font-family: monospace;font-weight: bold;display: inline-block;line-height: 1.2em;}#sk-container-id-3 div.sk-label-container {text-align: center;}#sk-container-id-3 div.sk-container {/* jupyter's `normalize.less` sets `[hidden] { display: none; }` but bootstrap.min.css set `[hidden] { display: none !important; }` so we also need the `!important` here to be able to override the default hidden behavior on the sphinx rendered scikit-learn.org. See: https://github.com/scikit-learn/scikit-learn/issues/21755 */display: inline-block !important;position: relative;}#sk-container-id-3 div.sk-text-repr-fallback {display: none;}</style><div id=\"sk-container-id-3\" class=\"sk-top-container\"><div class=\"sk-text-repr-fallback\"><pre>GridSearchCV(cv=2,\n",
       "             estimator=RubiconPipeline(experiment_kwargs={&#x27;model_name&#x27;: &#x27;SGDClassifier&#x27;,\n",
       "                                                          &#x27;name&#x27;: &#x27;logged from &#x27;\n",
       "                                                                  &#x27;a &#x27;\n",
       "                                                                  &#x27;RubiconPipeline&#x27;},\n",
       "                                       project=&lt;rubicon_ml.client.project.Project object at 0x17c43be50&gt;,\n",
       "                                       steps=[(&#x27;vect&#x27;, CountVectorizer()),\n",
       "                                              (&#x27;tfidf&#x27;, TfidfTransformer()),\n",
       "                                              (&#x27;clf&#x27;, SGDClassifier())],\n",
       "                                       user_defined_loggers={&#x27;clf&#x27;: &lt;rubicon_ml.sklearn.filter_estimator_l...\n",
       "                                                             &#x27;tfidf&#x27;: &lt;rubicon_ml.sklearn.filter_estimator_logger.FilterEstimatorLogger object at 0x17c439660&gt;,\n",
       "                                                             &#x27;vect&#x27;: &lt;rubicon_ml.sklearn.filter_estimator_logger.FilterEstimatorLogger object at 0x17c439690&gt;}),\n",
       "             n_jobs=-1,\n",
       "             param_grid={&#x27;clf__alpha&#x27;: (1e-05, 1e-06),\n",
       "                         &#x27;clf__max_iter&#x27;: (10, 20),\n",
       "                         &#x27;clf__penalty&#x27;: (&#x27;l2&#x27;, &#x27;elasticnet&#x27;),\n",
       "                         &#x27;vect__max_df&#x27;: (0.5, 0.75, 1.0),\n",
       "                         &#x27;vect__ngram_range&#x27;: ((1, 1), (1, 2))},\n",
       "             refit=False)</pre><b>In a Jupyter environment, please rerun this cell to show the HTML representation or trust the notebook. <br />On GitHub, the HTML representation is unable to render, please try loading this page with nbviewer.org.</b></div><div class=\"sk-container\" hidden><div class=\"sk-item sk-dashed-wrapped\"><div class=\"sk-label-container\"><div class=\"sk-label sk-toggleable\"><input class=\"sk-toggleable__control sk-hidden--visually\" id=\"sk-estimator-id-7\" type=\"checkbox\" ><label for=\"sk-estimator-id-7\" class=\"sk-toggleable__label sk-toggleable__label-arrow\">GridSearchCV</label><div class=\"sk-toggleable__content\"><pre>GridSearchCV(cv=2,\n",
       "             estimator=RubiconPipeline(experiment_kwargs={&#x27;model_name&#x27;: &#x27;SGDClassifier&#x27;,\n",
       "                                                          &#x27;name&#x27;: &#x27;logged from &#x27;\n",
       "                                                                  &#x27;a &#x27;\n",
       "                                                                  &#x27;RubiconPipeline&#x27;},\n",
       "                                       project=&lt;rubicon_ml.client.project.Project object at 0x17c43be50&gt;,\n",
       "                                       steps=[(&#x27;vect&#x27;, CountVectorizer()),\n",
       "                                              (&#x27;tfidf&#x27;, TfidfTransformer()),\n",
       "                                              (&#x27;clf&#x27;, SGDClassifier())],\n",
       "                                       user_defined_loggers={&#x27;clf&#x27;: &lt;rubicon_ml.sklearn.filter_estimator_l...\n",
       "                                                             &#x27;tfidf&#x27;: &lt;rubicon_ml.sklearn.filter_estimator_logger.FilterEstimatorLogger object at 0x17c439660&gt;,\n",
       "                                                             &#x27;vect&#x27;: &lt;rubicon_ml.sklearn.filter_estimator_logger.FilterEstimatorLogger object at 0x17c439690&gt;}),\n",
       "             n_jobs=-1,\n",
       "             param_grid={&#x27;clf__alpha&#x27;: (1e-05, 1e-06),\n",
       "                         &#x27;clf__max_iter&#x27;: (10, 20),\n",
       "                         &#x27;clf__penalty&#x27;: (&#x27;l2&#x27;, &#x27;elasticnet&#x27;),\n",
       "                         &#x27;vect__max_df&#x27;: (0.5, 0.75, 1.0),\n",
       "                         &#x27;vect__ngram_range&#x27;: ((1, 1), (1, 2))},\n",
       "             refit=False)</pre></div></div></div><div class=\"sk-parallel\"><div class=\"sk-parallel-item\"><div class=\"sk-item\"><div class=\"sk-label-container\"><div class=\"sk-label sk-toggleable\"><input class=\"sk-toggleable__control sk-hidden--visually\" id=\"sk-estimator-id-8\" type=\"checkbox\" ><label for=\"sk-estimator-id-8\" class=\"sk-toggleable__label sk-toggleable__label-arrow\">estimator: RubiconPipeline</label><div class=\"sk-toggleable__content\"><pre>RubiconPipeline(experiment_kwargs={&#x27;model_name&#x27;: &#x27;SGDClassifier&#x27;,\n",
       "                                   &#x27;name&#x27;: &#x27;logged from a RubiconPipeline&#x27;},\n",
       "                project=&lt;rubicon_ml.client.project.Project object at 0x17c43be50&gt;,\n",
       "                steps=[(&#x27;vect&#x27;, CountVectorizer()),\n",
       "                       (&#x27;tfidf&#x27;, TfidfTransformer()),\n",
       "                       (&#x27;clf&#x27;, SGDClassifier())],\n",
       "                user_defined_loggers={&#x27;clf&#x27;: &lt;rubicon_ml.sklearn.filter_estimator_logger.FilterEstimatorLogger object at 0x17c439c60&gt;,\n",
       "                                      &#x27;tfidf&#x27;: &lt;rubicon_ml.sklearn.filter_estimator_logger.FilterEstimatorLogger object at 0x17c439660&gt;,\n",
       "                                      &#x27;vect&#x27;: &lt;rubicon_ml.sklearn.filter_estimator_logger.FilterEstimatorLogger object at 0x17c439690&gt;})</pre></div></div></div><div class=\"sk-serial\"><div class=\"sk-item\"><div class=\"sk-serial\"><div class=\"sk-item\"><div class=\"sk-estimator sk-toggleable\"><input class=\"sk-toggleable__control sk-hidden--visually\" id=\"sk-estimator-id-9\" type=\"checkbox\" ><label for=\"sk-estimator-id-9\" class=\"sk-toggleable__label sk-toggleable__label-arrow\">CountVectorizer</label><div class=\"sk-toggleable__content\"><pre>CountVectorizer()</pre></div></div></div><div class=\"sk-item\"><div class=\"sk-estimator sk-toggleable\"><input class=\"sk-toggleable__control sk-hidden--visually\" id=\"sk-estimator-id-10\" type=\"checkbox\" ><label for=\"sk-estimator-id-10\" class=\"sk-toggleable__label sk-toggleable__label-arrow\">TfidfTransformer</label><div class=\"sk-toggleable__content\"><pre>TfidfTransformer()</pre></div></div></div><div class=\"sk-item\"><div class=\"sk-estimator sk-toggleable\"><input class=\"sk-toggleable__control sk-hidden--visually\" id=\"sk-estimator-id-11\" type=\"checkbox\" ><label for=\"sk-estimator-id-11\" class=\"sk-toggleable__label sk-toggleable__label-arrow\">SGDClassifier</label><div class=\"sk-toggleable__content\"><pre>SGDClassifier()</pre></div></div></div></div></div></div></div></div></div></div></div></div>"
      ],
      "text/plain": [
       "GridSearchCV(cv=2,\n",
       "             estimator=RubiconPipeline(experiment_kwargs={'model_name': 'SGDClassifier',\n",
       "                                                          'name': 'logged from '\n",
       "                                                                  'a '\n",
       "                                                                  'RubiconPipeline'},\n",
       "                                       project=<rubicon_ml.client.project.Project object at 0x17c43be50>,\n",
       "                                       steps=[('vect', CountVectorizer()),\n",
       "                                              ('tfidf', TfidfTransformer()),\n",
       "                                              ('clf', SGDClassifier())],\n",
       "                                       user_defined_loggers={'clf': <rubicon_ml.sklearn.filter_estimator_l...\n",
       "                                                             'tfidf': <rubicon_ml.sklearn.filter_estimator_logger.FilterEstimatorLogger object at 0x17c439660>,\n",
       "                                                             'vect': <rubicon_ml.sklearn.filter_estimator_logger.FilterEstimatorLogger object at 0x17c439690>}),\n",
       "             n_jobs=-1,\n",
       "             param_grid={'clf__alpha': (1e-05, 1e-06),\n",
       "                         'clf__max_iter': (10, 20),\n",
       "                         'clf__penalty': ('l2', 'elasticnet'),\n",
       "                         'vect__max_df': (0.5, 0.75, 1.0),\n",
       "                         'vect__ngram_range': ((1, 1), (1, 2))},\n",
       "             refit=False)"
      ]
     },
     "execution_count": 7,
     "metadata": {},
     "output_type": "execute_result"
    }
   ],
   "source": [
    "parameters = {\n",
    "    \"vect__max_df\": (0.5, 0.75, 1.0),\n",
    "    \"vect__ngram_range\": ((1, 1), (1, 2)),\n",
    "    \"clf__max_iter\": (10, 20),\n",
    "    \"clf__alpha\": (0.00001, 0.000001),\n",
    "    \"clf__penalty\": (\"l2\", \"elasticnet\"),\n",
    "}\n",
    "\n",
    "grid_search = GridSearchCV(pipeline, parameters, cv=2, n_jobs=-1, refit=False)\n",
    "grid_search.fit(data.data, data.target)"
   ]
  },
  {
   "cell_type": "markdown",
   "id": "honest-breach",
   "metadata": {},
   "source": [
    "Fetching the best parameters from the ``GridSearchCV`` object involves digging into the\n",
    "object's properties and doesn't easily paint a full picture of our of the experimentation."
   ]
  },
  {
   "cell_type": "code",
   "execution_count": 8,
   "id": "green-locking",
   "metadata": {},
   "outputs": [
    {
     "name": "stdout",
     "output_type": "stream",
     "text": [
      "Best score: 0.9311619066291963\n"
     ]
    }
   ],
   "source": [
    "print(f\"Best score: {grid_search.best_score_}\")\n",
    "full_results = grid_search.cv_results_"
   ]
  },
  {
   "cell_type": "markdown",
   "id": "greater-gross",
   "metadata": {},
   "source": [
    "With ``rubicon_ml``'s dashboard, we can view all of the experiments and easily compare them!"
   ]
  },
  {
   "cell_type": "code",
   "execution_count": 9,
   "id": "apart-consequence",
   "metadata": {},
   "outputs": [
    {
     "name": "stdout",
     "output_type": "stream",
     "text": [
      "Dash is running on http://127.0.0.1:8050/\n",
      "\n",
      " * Serving Flask app 'rubicon_ml.viz.base'\n",
      " * Debug mode: off\n"
     ]
    },
    {
     "data": {
      "text/html": [
       "\n",
       "        <iframe\n",
       "            width=\"100%\"\n",
       "            height=\"600px\"\n",
       "            src=\"http://localhost:8050/\"\n",
       "            frameborder=\"0\"\n",
       "            allowfullscreen\n",
       "            \n",
       "        ></iframe>\n",
       "        "
      ],
      "text/plain": [
       "<IPython.lib.display.IFrame at 0x29a3e06d0>"
      ]
     },
     "execution_count": 9,
     "metadata": {},
     "output_type": "execute_result"
    }
   ],
   "source": [
    "from rubicon_ml.viz import Dashboard\n",
    "\n",
    "\n",
    "Dashboard(project.experiments()).show()"
   ]
  },
  {
   "cell_type": "markdown",
   "id": "a1b8c92d",
   "metadata": {},
   "source": [
    "#### Hiding Warnings in RubiconPipeline\n",
    "\n",
    "`RubiconPipeline` has an `ignore_warnings` attribute that when set to __True__ (default=__False__) will hide warnings generated by its `fit()`, `score()`, and `score_samples()` methods. If you wish to see warnings again in future fits and scores, simply set the `ignore_warnings` attribute back to __False__.\n",
    "\n",
    "Here we are instantiating a pipeline that ignores warnings until told otherwise."
   ]
  },
  {
   "cell_type": "code",
   "execution_count": 10,
   "id": "5b0578ca",
   "metadata": {},
   "outputs": [],
   "source": [
    "#ignoring warnings\n",
    "pipe_toggle_warnings = RubiconPipeline(\n",
    "    project,\n",
    "    [('scaler', StandardScaler()), ('svc', SVC())], ignore_warnings=True\n",
    ")\n",
    "\n",
    "#turning warnings back on\n",
    "pipe_toggle_warnings.ignore_warnings = False"
   ]
  }
 ],
 "metadata": {
  "kernelspec": {
   "display_name": "Python 3 (ipykernel)",
   "language": "python",
   "name": "python3"
  },
  "language_info": {
   "codemirror_mode": {
    "name": "ipython",
    "version": 3
   },
   "file_extension": ".py",
   "mimetype": "text/x-python",
   "name": "python",
   "nbconvert_exporter": "python",
   "pygments_lexer": "ipython3",
   "version": "3.10.6"
  }
 },
 "nbformat": 4,
 "nbformat_minor": 5
}
