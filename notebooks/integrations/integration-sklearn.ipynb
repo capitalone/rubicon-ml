{
 "cells": [
  {
   "cell_type": "markdown",
   "id": "overall-windsor",
   "metadata": {},
   "source": [
    "# Scikit-learn\n",
    "\n",
    "This example shows how you can integrate `rubicon` into your Scikit Learn pipelines to enable automatic logging of parameters and metrics as you fit and score the model!"
   ]
  },
  {
   "cell_type": "markdown",
   "id": "certified-ready",
   "metadata": {},
   "source": [
    "## Simple pipeline run\n",
    "\n",
    "Using `rubicon`'s `RubiconPipeline` class, you can set up a enhanced sklearn pipeline with automated logging:"
   ]
  },
  {
   "cell_type": "code",
   "execution_count": null,
   "id": "inside-moore",
   "metadata": {},
   "outputs": [],
   "source": [
    "from sklearn.svm import SVC\n",
    "from sklearn.preprocessing import StandardScaler\n",
    "from sklearn.datasets import make_classification\n",
    "from sklearn.model_selection import train_test_split\n",
    "from sklearn.pipeline import Pipeline\n",
    "\n",
    "from rubicon import Rubicon\n",
    "from rubicon.sklearn import RubiconPipeline\n",
    "\n",
    "rubicon = Rubicon(persistence=\"memory\", root_dir=\"root\")\n",
    "project = rubicon.get_or_create_project(\"Rubicon Pipeline Example\")\n",
    "\n",
    "X, y = make_classification(random_state=0)\n",
    "X_train, X_test, y_train, y_test = train_test_split(X, y, random_state=0)\n",
    "\n",
    "pipe = RubiconPipeline(project, [('scaler', StandardScaler()), ('svc', SVC())])\n",
    "pipe"
   ]
  },
  {
   "cell_type": "code",
   "execution_count": null,
   "id": "excellent-tuesday",
   "metadata": {},
   "outputs": [],
   "source": [
    "pipe.fit(X_train, y_train)"
   ]
  },
  {
   "cell_type": "code",
   "execution_count": null,
   "id": "characteristic-malawi",
   "metadata": {},
   "outputs": [],
   "source": [
    "pipe.score(X_test, y_test)"
   ]
  },
  {
   "cell_type": "markdown",
   "id": "tutorial-bulletin",
   "metadata": {},
   "source": [
    "### Fetch the results from Rubicon\n",
    "\n",
    "During the pipeline run, an experiment was automatically created and the corresponding parameters and metrics logged to it. Afterwards, you can use the `rubicon` library to pull these experiments back or view them by running the dashboard."
   ]
  },
  {
   "cell_type": "code",
   "execution_count": null,
   "id": "genuine-triangle",
   "metadata": {},
   "outputs": [],
   "source": [
    "experiments = project.experiments()\n",
    "print(f\"{len(experiments)} experiment(s)\")\n",
    "experiment = experiments[0]\n",
    "experiment"
   ]
  },
  {
   "cell_type": "code",
   "execution_count": null,
   "id": "south-registrar",
   "metadata": {},
   "outputs": [],
   "source": [
    "for param in experiment.parameters():\n",
    "    print(f\"{param.name}: {param.value}\")"
   ]
  },
  {
   "cell_type": "code",
   "execution_count": null,
   "id": "mounted-decision",
   "metadata": {},
   "outputs": [],
   "source": [
    "for metric in experiment.metrics():\n",
    "    print(f\"{metric.name}: {metric.value}\")"
   ]
  },
  {
   "cell_type": "markdown",
   "id": "finite-rescue",
   "metadata": {},
   "source": [
    "## A more realistic example using GridSearch\n",
    "\n",
    "`GridSearch` is commonly used to test many different parameters across an estimator or pipeline in the hopes of finding the optimal param set. `RubiconPipeline` can be passed to sklearn's `GridSearchCV` to automatically log each set of parameters tried in the grid search as an individual experiment. Then, all of these experiments can be explored (and filtered/sorted) within the dashboard."
   ]
  },
  {
   "cell_type": "code",
   "execution_count": null,
   "id": "sapphire-standing",
   "metadata": {},
   "outputs": [],
   "source": [
    "from sklearn.datasets import fetch_20newsgroups\n",
    "from sklearn.feature_extraction.text import CountVectorizer\n",
    "from sklearn.feature_extraction.text import TfidfTransformer\n",
    "from sklearn.linear_model import SGDClassifier\n",
    "from sklearn.model_selection import GridSearchCV"
   ]
  },
  {
   "cell_type": "code",
   "execution_count": null,
   "id": "handy-relative",
   "metadata": {},
   "outputs": [],
   "source": [
    "categories = [\"alt.atheism\", \"talk.religion.misc\"]\n",
    "\n",
    "print(\"Loading 20 newsgroups dataset for categories:\")\n",
    "print(categories)\n",
    "\n",
    "data = fetch_20newsgroups(subset='train', categories=categories)\n",
    "print(\"%d documents\" % len(data.filenames))\n",
    "print(\"%d categories\" % len(data.target_names))"
   ]
  },
  {
   "cell_type": "markdown",
   "id": "fatal-heritage",
   "metadata": {},
   "source": [
    "Optionally, pass the `user_defined_loggers` argument to the `RubiconPipeline` to have more control over exactly which parameters are logged for specific estimators. For example, you can use the `FilteredLogger` class to select or ignore parameters on any estimator. Here we'll use a combo of select and ignore so that we log only the relavant params."
   ]
  },
  {
   "cell_type": "code",
   "execution_count": null,
   "id": "physical-radio",
   "metadata": {},
   "outputs": [],
   "source": [
    "from rubicon import Rubicon\n",
    "from rubicon.sklearn import FilterEstimatorLogger, RubiconPipeline\n",
    "\n",
    "\n",
    "rubicon = Rubicon(persistence=\"filesystem\", root_dir=\"./rubicon-root\")\n",
    "project = rubicon.get_or_create_project(\"Rubicon Grid Search Example\")\n",
    "\n",
    "pipeline = RubiconPipeline(\n",
    "    project,\n",
    "    [\n",
    "        (\"vect\", CountVectorizer()),\n",
    "        (\"tfidf\", TfidfTransformer()),\n",
    "        (\"clf\", SGDClassifier()),\n",
    "    ],\n",
    "    user_defined_loggers = {\n",
    "        \"vect\": FilterEstimatorLogger(select=[\"input\", \"decode_error\", \"max_df\", \"lowercase\", \"ngram_range\"]),\n",
    "        \"tfidf\": FilterEstimatorLogger(ignore_all=True),\n",
    "        \"clf\": FilterEstimatorLogger(select=[\"max_iter\", \"alpha\", \"penalty\"]),\n",
    "    },\n",
    "    experiment_kwargs={\"name\": \"RubiconPipeline experiment\", \"tags\": [\"gridsearch\"], \"model_name\": \"myModel\"}\n",
    ")"
   ]
  },
  {
   "cell_type": "code",
   "execution_count": null,
   "id": "agricultural-ratio",
   "metadata": {},
   "outputs": [],
   "source": [
    "parameters = {\n",
    "    \"vect__max_df\": (0.5, 0.75, 1.0),\n",
    "    \"vect__ngram_range\": ((1, 1), (1, 2)),\n",
    "    \"clf__max_iter\": (20,),\n",
    "    \"clf__alpha\": (0.00001, 0.000001),\n",
    "    \"clf__penalty\": (\"l2\", \"elasticnet\"),\n",
    "}\n",
    "\n",
    "grid_search = GridSearchCV(pipeline, parameters, cv=2, n_jobs=-1, refit=False, verbose=1)\n",
    "\n",
    "print(\"Performing grid search...\")\n",
    "print(\"RubiconPipeline:\", [name for name, *_ in pipeline.steps])\n",
    "\n",
    "grid_search.fit(data.data, data.target, tags=[\"param set 1\"])"
   ]
  },
  {
   "cell_type": "markdown",
   "id": "honest-breach",
   "metadata": {},
   "source": [
    "### Fetching results\n",
    "\n",
    "Fetching the best parameters from the `GridSearchCV` object involves digging into the objects properties but doesn't paint the full picture of the rest of the experimentation:"
   ]
  },
  {
   "cell_type": "code",
   "execution_count": null,
   "id": "green-locking",
   "metadata": {},
   "outputs": [],
   "source": [
    "print(\"Best score: %0.3f\" % grid_search.best_score_)\n",
    "print(\"Best parameters set:\")\n",
    "best_parameters = grid_search.best_estimator_.get_params()\n",
    "for param_name in sorted(parameters.keys()):\n",
    "    print(\"\\t%s: %r\" % (param_name, best_parameters[param_name]))"
   ]
  },
  {
   "cell_type": "markdown",
   "id": "greater-gross",
   "metadata": {},
   "source": [
    "With `rubicon`, we can view all of the experiments and easily see how they trend towards the optimal solution:"
   ]
  },
  {
   "cell_type": "code",
   "execution_count": null,
   "id": "apart-consequence",
   "metadata": {},
   "outputs": [],
   "source": [
    "from rubicon.ui import Dashboard\n",
    "\n",
    "# could also be run using the CLI\n",
    "Dashboard(persistence=\"filesystem\", root_dir=\"./rubicon-root\").run_server()"
   ]
  }
 ],
 "metadata": {
  "kernelspec": {
   "display_name": "Python 3",
   "language": "python",
   "name": "python3"
  },
  "language_info": {
   "codemirror_mode": {
    "name": "ipython",
    "version": 3
   },
   "file_extension": ".py",
   "mimetype": "text/x-python",
   "name": "python",
   "nbconvert_exporter": "python",
   "pygments_lexer": "ipython3",
   "version": "3.9.2"
  }
 },
 "nbformat": 4,
 "nbformat_minor": 5
}
