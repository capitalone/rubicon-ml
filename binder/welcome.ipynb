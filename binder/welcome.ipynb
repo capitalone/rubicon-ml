{
 "cells": [
  {
   "cell_type": "markdown",
   "id": "a8906e25",
   "metadata": {},
   "source": [
    "<div style=\"padding:1em;\">\n",
    "     <img src=\"../docs/source/_static/images/rubicon_ml_logo_light.svg\" width=\"50%\" align=\"right\">\n",
    "</div>\n",
    "\n",
    "# Welcome to the `rubicon_ml` examples!\n",
    "\n",
    "Here you'll find some interactive examples so you can try out `rubicon_ml` for yourself\n",
    "without any setup required. If you'd like to learn more about `rubicon_ml` before getting\n",
    "started, check out the [documentation on GitHub](https://capitalone.github.io/rubicon-ml/)."
   ]
  },
  {
   "cell_type": "markdown",
   "id": "ff483f5a",
   "metadata": {},
   "source": [
    "## Exploring an existing `rubicon_ml` project\n",
    "\n",
    "Below we'll explore a `rubicon_ml` project using the dashboard to inspect and analyze some previous model runs.\n",
    "\n",
    "[This GitHub repository](https://github.com/ryanSoley/experimenting-with-rubicon) contains\n",
    "a simple classification model in `my_model/my_model.py`. Over three commits, three\n",
    "different types of models were used to classify species of penguins by\n",
    "some physical characteristics. During each model run, `rubicon_ml` was used to log the results.\n",
    "\n",
    "The `rubicon_ml` logs from that project have been copied locally into this Binder session. In a more realistic use case, you may be reading shared `rubicon_ml` logs from S3.\n",
    "\n",
    "Launch the dashboard by running the cell below! And once the dashboard renders, select the **Classifying\n",
    "Penguins** project from the sidebar. \n",
    "\n",
    "By using the dashboard, there are a number of questions you'll be able to answer:\n",
    "* What were the input parameters and output metrics of each model run?\n",
    "* What type of model did each run use?\n",
    "* Where is the source code that was used to generate each model run's logs?\n",
    "* Which model and input parameters produced the best results?"
   ]
  },
  {
   "cell_type": "code",
   "execution_count": null,
   "id": "84fa6aae",
   "metadata": {},
   "outputs": [],
   "source": [
    "import os\n",
    "from rubicon_ml.ui.dashboard import Dashboard\n",
    "\n",
    "port = 8050\n",
    "default_server_url = \"https://hub.gke2.mybinder.org/\"\n",
    "proxy = f\"http://127.0.0.1:{port}::https://hub.gke2.mybinder.org/\"\n",
    "requests_pathname_prefix = f\"{os.environ['JUPYTERHUB_SERVICE_PREFIX']}/proxy/{port}/\"\n",
    "\n",
    "dash_options = {\n",
    "   \"requests_pathname_prefix\": requests_pathname_prefix\n",
    "}\n",
    "\n",
    "Dashboard(\n",
    "   persistence=\"filesystem\",\n",
    "   root_dir=f\"{os.getcwd()}/rubicon-root\",\n",
    "   dash_options=dash_options\n",
    ").run_server_inline(port=port, proxy=proxy)"
   ]
  },
  {
   "cell_type": "markdown",
   "id": "d4429895",
   "metadata": {},
   "source": [
    "## Running Other `rubicon_ml` Examples\n",
    "\n",
    "You can also run the [**Quick Look**](https://capitalone.github.io/rubicon-ml/quick-look.html)\n",
    "and the examples found in the [**Examples**](https://capitalone.github.io/rubicon-ml/examples.html)\n",
    "and [**Integrations**](https://capitalone.github.io/rubicon-ml/integrations.html)\n",
    "sections of our documentation in this session! These examples will show how to log\n",
    "your own projects and experiments. Run the cell below to generate the links to these\n",
    "examples for the current Binder session.\n",
    "\n",
    "**Note:** This cell won't work if you haven't run the rest of this notebook."
   ]
  },
  {
   "cell_type": "code",
   "execution_count": null,
   "id": "fa80f31e",
   "metadata": {},
   "outputs": [],
   "source": [
    "session_base_url = os.path.dirname(os.path.dirname(os.path.dirname((\n",
    "    default_server_url + requests_pathname_prefix\n",
    "))))\n",
    "\n",
    "print(f\"Quick Look: {session_base_url}/tree/notebooks/quick-look.ipynb\")\n",
    "print(f\"Examples: {session_base_url}/tree/notebooks/logging-examples\")\n",
    "print(f\"Integrations: {session_base_url}/tree/notebooks/integrations\")"
   ]
  }
 ],
 "metadata": {
  "kernelspec": {
   "display_name": "Python 3 (ipykernel)",
   "language": "python",
   "name": "python3"
  },
  "language_info": {
   "codemirror_mode": {
    "name": "ipython",
    "version": 3
   },
   "file_extension": ".py",
   "mimetype": "text/x-python",
   "name": "python",
   "nbconvert_exporter": "python",
   "pygments_lexer": "ipython3",
   "version": "3.9.6"
  }
 },
 "nbformat": 4,
 "nbformat_minor": 5
}
